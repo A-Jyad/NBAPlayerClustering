{
  "cells": [
    {
      "metadata": {
        "trusted": true,
        "tags": []
      },
      "cell_type": "code",
      "source": [
        "import pandas as pd\n",
        "pd.set_option('display.max_columns', None)\n",
        "import numpy as np\n",
        "from utils import Principle_Component_Analysis"
      ],
      "execution_count": 1,
      "outputs": [
        {
          "output_type": "stream",
          "name": "stdout",
          "text": [
            "done\n"
          ]
        }
      ]
    },
    {
      "metadata": {
        "trusted": true
      },
      "cell_type": "code",
      "source": [
        "# Import Dimension Reduced Data\n",
        "stats_data = pd.read_csv('Data/Regular-Advanced.csv')\n",
        "defense_data = pd.read_csv('Data/Defensive.csv')\n",
        "hustle_data = pd.read_csv('Data/Hustle.csv')\n",
        "shooting_data = pd.read_csv('Data/Shooting.csv')\n",
        "play_type_data = pd.read_csv('Data/Play_Type.csv')\n",
        "passing_data = pd.read_csv('Data/Passing.csv')"
      ],
      "execution_count": 2,
      "outputs": []
    },
    {
      "cell_type": "code",
      "execution_count": 3,
      "metadata": {},
      "outputs": [
        {
          "output_type": "stream",
          "name": "stdout",
          "text": [
            "(388, 86)\n"
          ]
        },
        {
          "output_type": "execute_result",
          "data": {
            "text/plain": [
              "                  PLAYER TEAM POSITION   PTS   FG%   3P%  OREB  DREB  AST  \\\n",
              "0           James Harden  HOU        G  36.1  44.2  36.8   0.8   5.8  7.5   \n",
              "1            Paul George  OKC        F  28.0  43.8  38.6   1.4   6.8  4.1   \n",
              "2  Giannis Antetokounmpo  MIL        F  27.7  57.8  25.6   2.2  10.3  5.9   \n",
              "3            Joel Embiid  PHI      F-C  27.5  48.4  30.0   2.5  11.1  3.7   \n",
              "4           LeBron James  LAL        F  27.4  51.0  33.9   1.0   7.4  8.3   \n",
              "\n",
              "   STL  BLK  +/-  AST%  AST/TO  OREB%  DREB%  TO RATIO   TS%  USG%   PIE  \\\n",
              "0  2.0  0.7  4.6  39.4    1.51    2.3   15.7      12.0  61.6  39.6  20.1   \n",
              "1  2.2  0.4  6.4  17.3    1.55    3.3   17.3       8.7  58.3  28.5  16.1   \n",
              "2  1.3  1.5  9.1  29.4    1.58    6.6   27.3      12.0  64.4  31.4  21.8   \n",
              "3  0.7  1.9  5.8  18.5    1.04    7.5   29.2      11.6  59.3  32.7  19.6   \n",
              "4  1.3  0.6  2.1  37.6    2.30    2.9   19.3      10.2  58.8  31.1  18.8   \n",
              "\n",
              "   <6_DIF_FREQ  <6_DFGM  <6_DIFF%  6-9_DIF_FREQ  6-9_DFGM  6-9_DIFF%  \\\n",
              "0         30.9      2.5       3.9          14.6       0.5      -24.9   \n",
              "1         33.7      2.6       1.0           7.3       0.3      -18.5   \n",
              "2         34.1      2.0      -9.9           9.0       0.3      -22.9   \n",
              "3         49.5      4.8      -9.4          10.2       0.6      -20.6   \n",
              "4         32.5      2.0      -0.2           9.9       0.4      -12.3   \n",
              "\n",
              "   10-15_DIF_FREQ  10-15_DFGM  10-15_DIFF%  16-3PT_DIF_FREQ  16-3PT_DFGM  \\\n",
              "0             8.1         0.5          3.7              9.8          0.4   \n",
              "1             6.5         0.3         -5.4              8.1          0.5   \n",
              "2             5.4         0.3          3.4              9.0          0.4   \n",
              "3             7.5         0.7         -1.4             12.4          0.9   \n",
              "4             5.9         0.3          5.2              9.9          0.2   \n",
              "\n",
              "   16-3PT_DIFF%  3PT_DIF_FREQ  3PT_DFGM  3PT_DIFF%  SCREEN ASSISTS  \\\n",
              "0          -3.7          36.8       1.6       -0.9             0.3   \n",
              "1          12.1          44.0       1.8       -1.7             0.5   \n",
              "2           3.5          42.1       1.5       -1.8             2.0   \n",
              "3           1.7          20.5       1.4        2.9             3.9   \n",
              "4         -17.4          41.8       1.5       -0.6             0.7   \n",
              "\n",
              "   DEFLECTIONS  LOOSE BALLS RECOVERED  CHARGES DRAWN  CONTESTED 2PT SHOTS  \\\n",
              "0          3.5                    1.5           0.08                  4.4   \n",
              "1          3.8                    2.1           0.06                  4.3   \n",
              "2          2.1                    1.6           0.01                  5.5   \n",
              "3          1.2                    1.4           0.02                 10.4   \n",
              "4          1.8                    1.5           0.11                  3.2   \n",
              "\n",
              "   CONTESTED 3PT SHOTS  FGM_<5  FG%_<5  FGM_5-9  FG%_5-9  FGM_10-14  \\\n",
              "0                  2.4     4.2    56.2      1.2     49.2        0.4   \n",
              "1                  4.2     3.0    59.0      0.5     37.9        0.7   \n",
              "2                  4.1     8.1    72.6      0.4     30.7        0.3   \n",
              "3                  2.7     5.4    66.0      0.9     41.5        0.8   \n",
              "4                  2.5     6.2    69.0      0.3     25.7        0.6   \n",
              "\n",
              "   FG%_10-14  FGM_15-19  FG%_15-19  FGM_20-24  FG%_20-24  FGM_25-29  \\\n",
              "0       46.5        0.2       36.4        0.9       34.4        3.9   \n",
              "1       40.7        0.9       39.3        1.7       42.1        2.3   \n",
              "2       41.8        0.4       40.0        0.2       26.8        0.6   \n",
              "3       38.0        0.6       35.7        0.2       28.8        1.1   \n",
              "4       47.9        0.6       34.4        0.9       42.3        1.5   \n",
              "\n",
              "   FG%_25-29  ISOLATION_FREQ  ISOLATION_FGM  ISOLATION_FG%  PNR_HANDLER_FREQ  \\\n",
              "0       37.7           0.487            7.9          0.401             0.221   \n",
              "1       37.2           0.134            1.9          0.368             0.245   \n",
              "2       25.7           0.155            1.7          0.429             0.076   \n",
              "3       30.6           0.064            0.8          0.384             0.030   \n",
              "4       34.1           0.175            2.3          0.412             0.281   \n",
              "\n",
              "   PNR_HANDLER_FGM  PNR_HANDLER_FG%  PNR_ROLL_FREQ  PNR_ROLL_FGM  \\\n",
              "0              2.7            0.477          0.000           0.0   \n",
              "1              2.7            0.449          0.014           0.3   \n",
              "2              0.5            0.622          0.050           0.3   \n",
              "3              0.3            0.474          0.076           1.0   \n",
              "4              3.2            0.454          0.023           0.2   \n",
              "\n",
              "   PNR_ROLL_FG%  TRANSITION_FREQ  TRANSITION_FGM  TRANSITION_FG%  \\\n",
              "0         0.000            0.133             1.3           0.534   \n",
              "1         0.241            0.206             2.3           0.482   \n",
              "2         0.720            0.256             1.4           0.640   \n",
              "3         0.436            0.100             1.0           0.504   \n",
              "4         0.667            0.214             1.3           0.649   \n",
              "\n",
              "   POST_UP_FREQ  POST_UP_FGM  POST_UP_FG%  SPOT_UP_FREQ  SPOT_UP_FGM  \\\n",
              "0         0.009          0.1        0.647         0.032          0.6   \n",
              "1         0.036          0.3        0.556         0.117          1.5   \n",
              "2         0.120          0.9        0.558         0.114          1.1   \n",
              "3         0.299          2.6        0.501         0.155          1.9   \n",
              "4         0.082          0.8        0.532         0.059          0.9   \n",
              "\n",
              "   SPOT_UP_FG%  HANDOFF_FREQ  HANDOFF_FGM  HANDOFF_FG%  CUT_FREQ  CUT_FGM  \\\n",
              "0        0.449         0.036          0.4        0.478     0.014      0.1   \n",
              "1        0.465         0.054          0.7        0.404     0.019      0.1   \n",
              "2        0.471         0.018          0.2        0.593     0.080      0.4   \n",
              "3        0.410         0.009          0.1        0.222     0.088      0.6   \n",
              "4        0.388         0.014          0.1        0.632     0.037      0.3   \n",
              "\n",
              "   CUT_FG%  OFF_SCREEN_FREQ  OFF_SCREEN_FGM  OFF_SCREEN_FG%  PUTBACK_FREQ  \\\n",
              "0    0.682            0.009             0.2           0.316         0.017   \n",
              "1    0.720            0.098             1.3           0.419         0.000   \n",
              "2    0.737            0.023             0.3           0.371         0.064   \n",
              "3    0.670            0.027             0.5           0.310         0.082   \n",
              "4    0.708            0.020             0.3           0.296         0.026   \n",
              "\n",
              "   PUTBACK_FGM  PUTBACK_FG%  PASSES MADE  SECONDARY AST  AST TO PASS% ADJ  \n",
              "0          0.1        0.591         49.5            0.9              17.8  \n",
              "1          0.0        0.000         31.1            0.3              15.0  \n",
              "2          0.5        0.678         54.3            0.6              12.2  \n",
              "3          0.6        0.597         58.0            0.4               7.0  \n",
              "4          0.2        0.730         54.8            0.7              17.2  "
            ],
            "text/html": "<div>\n<style scoped>\n    .dataframe tbody tr th:only-of-type {\n        vertical-align: middle;\n    }\n\n    .dataframe tbody tr th {\n        vertical-align: top;\n    }\n\n    .dataframe thead th {\n        text-align: right;\n    }\n</style>\n<table border=\"1\" class=\"dataframe\">\n  <thead>\n    <tr style=\"text-align: right;\">\n      <th></th>\n      <th>PLAYER</th>\n      <th>TEAM</th>\n      <th>POSITION</th>\n      <th>PTS</th>\n      <th>FG%</th>\n      <th>3P%</th>\n      <th>OREB</th>\n      <th>DREB</th>\n      <th>AST</th>\n      <th>STL</th>\n      <th>BLK</th>\n      <th>+/-</th>\n      <th>AST%</th>\n      <th>AST/TO</th>\n      <th>OREB%</th>\n      <th>DREB%</th>\n      <th>TO RATIO</th>\n      <th>TS%</th>\n      <th>USG%</th>\n      <th>PIE</th>\n      <th>&lt;6_DIF_FREQ</th>\n      <th>&lt;6_DFGM</th>\n      <th>&lt;6_DIFF%</th>\n      <th>6-9_DIF_FREQ</th>\n      <th>6-9_DFGM</th>\n      <th>6-9_DIFF%</th>\n      <th>10-15_DIF_FREQ</th>\n      <th>10-15_DFGM</th>\n      <th>10-15_DIFF%</th>\n      <th>16-3PT_DIF_FREQ</th>\n      <th>16-3PT_DFGM</th>\n      <th>16-3PT_DIFF%</th>\n      <th>3PT_DIF_FREQ</th>\n      <th>3PT_DFGM</th>\n      <th>3PT_DIFF%</th>\n      <th>SCREEN ASSISTS</th>\n      <th>DEFLECTIONS</th>\n      <th>LOOSE BALLS RECOVERED</th>\n      <th>CHARGES DRAWN</th>\n      <th>CONTESTED 2PT SHOTS</th>\n      <th>CONTESTED 3PT SHOTS</th>\n      <th>FGM_&lt;5</th>\n      <th>FG%_&lt;5</th>\n      <th>FGM_5-9</th>\n      <th>FG%_5-9</th>\n      <th>FGM_10-14</th>\n      <th>FG%_10-14</th>\n      <th>FGM_15-19</th>\n      <th>FG%_15-19</th>\n      <th>FGM_20-24</th>\n      <th>FG%_20-24</th>\n      <th>FGM_25-29</th>\n      <th>FG%_25-29</th>\n      <th>ISOLATION_FREQ</th>\n      <th>ISOLATION_FGM</th>\n      <th>ISOLATION_FG%</th>\n      <th>PNR_HANDLER_FREQ</th>\n      <th>PNR_HANDLER_FGM</th>\n      <th>PNR_HANDLER_FG%</th>\n      <th>PNR_ROLL_FREQ</th>\n      <th>PNR_ROLL_FGM</th>\n      <th>PNR_ROLL_FG%</th>\n      <th>TRANSITION_FREQ</th>\n      <th>TRANSITION_FGM</th>\n      <th>TRANSITION_FG%</th>\n      <th>POST_UP_FREQ</th>\n      <th>POST_UP_FGM</th>\n      <th>POST_UP_FG%</th>\n      <th>SPOT_UP_FREQ</th>\n      <th>SPOT_UP_FGM</th>\n      <th>SPOT_UP_FG%</th>\n      <th>HANDOFF_FREQ</th>\n      <th>HANDOFF_FGM</th>\n      <th>HANDOFF_FG%</th>\n      <th>CUT_FREQ</th>\n      <th>CUT_FGM</th>\n      <th>CUT_FG%</th>\n      <th>OFF_SCREEN_FREQ</th>\n      <th>OFF_SCREEN_FGM</th>\n      <th>OFF_SCREEN_FG%</th>\n      <th>PUTBACK_FREQ</th>\n      <th>PUTBACK_FGM</th>\n      <th>PUTBACK_FG%</th>\n      <th>PASSES MADE</th>\n      <th>SECONDARY AST</th>\n      <th>AST TO PASS% ADJ</th>\n    </tr>\n  </thead>\n  <tbody>\n    <tr>\n      <th>0</th>\n      <td>James Harden</td>\n      <td>HOU</td>\n      <td>G</td>\n      <td>36.1</td>\n      <td>44.2</td>\n      <td>36.8</td>\n      <td>0.8</td>\n      <td>5.8</td>\n      <td>7.5</td>\n      <td>2.0</td>\n      <td>0.7</td>\n      <td>4.6</td>\n      <td>39.4</td>\n      <td>1.51</td>\n      <td>2.3</td>\n      <td>15.7</td>\n      <td>12.0</td>\n      <td>61.6</td>\n      <td>39.6</td>\n      <td>20.1</td>\n      <td>30.9</td>\n      <td>2.5</td>\n      <td>3.9</td>\n      <td>14.6</td>\n      <td>0.5</td>\n      <td>-24.9</td>\n      <td>8.1</td>\n      <td>0.5</td>\n      <td>3.7</td>\n      <td>9.8</td>\n      <td>0.4</td>\n      <td>-3.7</td>\n      <td>36.8</td>\n      <td>1.6</td>\n      <td>-0.9</td>\n      <td>0.3</td>\n      <td>3.5</td>\n      <td>1.5</td>\n      <td>0.08</td>\n      <td>4.4</td>\n      <td>2.4</td>\n      <td>4.2</td>\n      <td>56.2</td>\n      <td>1.2</td>\n      <td>49.2</td>\n      <td>0.4</td>\n      <td>46.5</td>\n      <td>0.2</td>\n      <td>36.4</td>\n      <td>0.9</td>\n      <td>34.4</td>\n      <td>3.9</td>\n      <td>37.7</td>\n      <td>0.487</td>\n      <td>7.9</td>\n      <td>0.401</td>\n      <td>0.221</td>\n      <td>2.7</td>\n      <td>0.477</td>\n      <td>0.000</td>\n      <td>0.0</td>\n      <td>0.000</td>\n      <td>0.133</td>\n      <td>1.3</td>\n      <td>0.534</td>\n      <td>0.009</td>\n      <td>0.1</td>\n      <td>0.647</td>\n      <td>0.032</td>\n      <td>0.6</td>\n      <td>0.449</td>\n      <td>0.036</td>\n      <td>0.4</td>\n      <td>0.478</td>\n      <td>0.014</td>\n      <td>0.1</td>\n      <td>0.682</td>\n      <td>0.009</td>\n      <td>0.2</td>\n      <td>0.316</td>\n      <td>0.017</td>\n      <td>0.1</td>\n      <td>0.591</td>\n      <td>49.5</td>\n      <td>0.9</td>\n      <td>17.8</td>\n    </tr>\n    <tr>\n      <th>1</th>\n      <td>Paul George</td>\n      <td>OKC</td>\n      <td>F</td>\n      <td>28.0</td>\n      <td>43.8</td>\n      <td>38.6</td>\n      <td>1.4</td>\n      <td>6.8</td>\n      <td>4.1</td>\n      <td>2.2</td>\n      <td>0.4</td>\n      <td>6.4</td>\n      <td>17.3</td>\n      <td>1.55</td>\n      <td>3.3</td>\n      <td>17.3</td>\n      <td>8.7</td>\n      <td>58.3</td>\n      <td>28.5</td>\n      <td>16.1</td>\n      <td>33.7</td>\n      <td>2.6</td>\n      <td>1.0</td>\n      <td>7.3</td>\n      <td>0.3</td>\n      <td>-18.5</td>\n      <td>6.5</td>\n      <td>0.3</td>\n      <td>-5.4</td>\n      <td>8.1</td>\n      <td>0.5</td>\n      <td>12.1</td>\n      <td>44.0</td>\n      <td>1.8</td>\n      <td>-1.7</td>\n      <td>0.5</td>\n      <td>3.8</td>\n      <td>2.1</td>\n      <td>0.06</td>\n      <td>4.3</td>\n      <td>4.2</td>\n      <td>3.0</td>\n      <td>59.0</td>\n      <td>0.5</td>\n      <td>37.9</td>\n      <td>0.7</td>\n      <td>40.7</td>\n      <td>0.9</td>\n      <td>39.3</td>\n      <td>1.7</td>\n      <td>42.1</td>\n      <td>2.3</td>\n      <td>37.2</td>\n      <td>0.134</td>\n      <td>1.9</td>\n      <td>0.368</td>\n      <td>0.245</td>\n      <td>2.7</td>\n      <td>0.449</td>\n      <td>0.014</td>\n      <td>0.3</td>\n      <td>0.241</td>\n      <td>0.206</td>\n      <td>2.3</td>\n      <td>0.482</td>\n      <td>0.036</td>\n      <td>0.3</td>\n      <td>0.556</td>\n      <td>0.117</td>\n      <td>1.5</td>\n      <td>0.465</td>\n      <td>0.054</td>\n      <td>0.7</td>\n      <td>0.404</td>\n      <td>0.019</td>\n      <td>0.1</td>\n      <td>0.720</td>\n      <td>0.098</td>\n      <td>1.3</td>\n      <td>0.419</td>\n      <td>0.000</td>\n      <td>0.0</td>\n      <td>0.000</td>\n      <td>31.1</td>\n      <td>0.3</td>\n      <td>15.0</td>\n    </tr>\n    <tr>\n      <th>2</th>\n      <td>Giannis Antetokounmpo</td>\n      <td>MIL</td>\n      <td>F</td>\n      <td>27.7</td>\n      <td>57.8</td>\n      <td>25.6</td>\n      <td>2.2</td>\n      <td>10.3</td>\n      <td>5.9</td>\n      <td>1.3</td>\n      <td>1.5</td>\n      <td>9.1</td>\n      <td>29.4</td>\n      <td>1.58</td>\n      <td>6.6</td>\n      <td>27.3</td>\n      <td>12.0</td>\n      <td>64.4</td>\n      <td>31.4</td>\n      <td>21.8</td>\n      <td>34.1</td>\n      <td>2.0</td>\n      <td>-9.9</td>\n      <td>9.0</td>\n      <td>0.3</td>\n      <td>-22.9</td>\n      <td>5.4</td>\n      <td>0.3</td>\n      <td>3.4</td>\n      <td>9.0</td>\n      <td>0.4</td>\n      <td>3.5</td>\n      <td>42.1</td>\n      <td>1.5</td>\n      <td>-1.8</td>\n      <td>2.0</td>\n      <td>2.1</td>\n      <td>1.6</td>\n      <td>0.01</td>\n      <td>5.5</td>\n      <td>4.1</td>\n      <td>8.1</td>\n      <td>72.6</td>\n      <td>0.4</td>\n      <td>30.7</td>\n      <td>0.3</td>\n      <td>41.8</td>\n      <td>0.4</td>\n      <td>40.0</td>\n      <td>0.2</td>\n      <td>26.8</td>\n      <td>0.6</td>\n      <td>25.7</td>\n      <td>0.155</td>\n      <td>1.7</td>\n      <td>0.429</td>\n      <td>0.076</td>\n      <td>0.5</td>\n      <td>0.622</td>\n      <td>0.050</td>\n      <td>0.3</td>\n      <td>0.720</td>\n      <td>0.256</td>\n      <td>1.4</td>\n      <td>0.640</td>\n      <td>0.120</td>\n      <td>0.9</td>\n      <td>0.558</td>\n      <td>0.114</td>\n      <td>1.1</td>\n      <td>0.471</td>\n      <td>0.018</td>\n      <td>0.2</td>\n      <td>0.593</td>\n      <td>0.080</td>\n      <td>0.4</td>\n      <td>0.737</td>\n      <td>0.023</td>\n      <td>0.3</td>\n      <td>0.371</td>\n      <td>0.064</td>\n      <td>0.5</td>\n      <td>0.678</td>\n      <td>54.3</td>\n      <td>0.6</td>\n      <td>12.2</td>\n    </tr>\n    <tr>\n      <th>3</th>\n      <td>Joel Embiid</td>\n      <td>PHI</td>\n      <td>F-C</td>\n      <td>27.5</td>\n      <td>48.4</td>\n      <td>30.0</td>\n      <td>2.5</td>\n      <td>11.1</td>\n      <td>3.7</td>\n      <td>0.7</td>\n      <td>1.9</td>\n      <td>5.8</td>\n      <td>18.5</td>\n      <td>1.04</td>\n      <td>7.5</td>\n      <td>29.2</td>\n      <td>11.6</td>\n      <td>59.3</td>\n      <td>32.7</td>\n      <td>19.6</td>\n      <td>49.5</td>\n      <td>4.8</td>\n      <td>-9.4</td>\n      <td>10.2</td>\n      <td>0.6</td>\n      <td>-20.6</td>\n      <td>7.5</td>\n      <td>0.7</td>\n      <td>-1.4</td>\n      <td>12.4</td>\n      <td>0.9</td>\n      <td>1.7</td>\n      <td>20.5</td>\n      <td>1.4</td>\n      <td>2.9</td>\n      <td>3.9</td>\n      <td>1.2</td>\n      <td>1.4</td>\n      <td>0.02</td>\n      <td>10.4</td>\n      <td>2.7</td>\n      <td>5.4</td>\n      <td>66.0</td>\n      <td>0.9</td>\n      <td>41.5</td>\n      <td>0.8</td>\n      <td>38.0</td>\n      <td>0.6</td>\n      <td>35.7</td>\n      <td>0.2</td>\n      <td>28.8</td>\n      <td>1.1</td>\n      <td>30.6</td>\n      <td>0.064</td>\n      <td>0.8</td>\n      <td>0.384</td>\n      <td>0.030</td>\n      <td>0.3</td>\n      <td>0.474</td>\n      <td>0.076</td>\n      <td>1.0</td>\n      <td>0.436</td>\n      <td>0.100</td>\n      <td>1.0</td>\n      <td>0.504</td>\n      <td>0.299</td>\n      <td>2.6</td>\n      <td>0.501</td>\n      <td>0.155</td>\n      <td>1.9</td>\n      <td>0.410</td>\n      <td>0.009</td>\n      <td>0.1</td>\n      <td>0.222</td>\n      <td>0.088</td>\n      <td>0.6</td>\n      <td>0.670</td>\n      <td>0.027</td>\n      <td>0.5</td>\n      <td>0.310</td>\n      <td>0.082</td>\n      <td>0.6</td>\n      <td>0.597</td>\n      <td>58.0</td>\n      <td>0.4</td>\n      <td>7.0</td>\n    </tr>\n    <tr>\n      <th>4</th>\n      <td>LeBron James</td>\n      <td>LAL</td>\n      <td>F</td>\n      <td>27.4</td>\n      <td>51.0</td>\n      <td>33.9</td>\n      <td>1.0</td>\n      <td>7.4</td>\n      <td>8.3</td>\n      <td>1.3</td>\n      <td>0.6</td>\n      <td>2.1</td>\n      <td>37.6</td>\n      <td>2.30</td>\n      <td>2.9</td>\n      <td>19.3</td>\n      <td>10.2</td>\n      <td>58.8</td>\n      <td>31.1</td>\n      <td>18.8</td>\n      <td>32.5</td>\n      <td>2.0</td>\n      <td>-0.2</td>\n      <td>9.9</td>\n      <td>0.4</td>\n      <td>-12.3</td>\n      <td>5.9</td>\n      <td>0.3</td>\n      <td>5.2</td>\n      <td>9.9</td>\n      <td>0.2</td>\n      <td>-17.4</td>\n      <td>41.8</td>\n      <td>1.5</td>\n      <td>-0.6</td>\n      <td>0.7</td>\n      <td>1.8</td>\n      <td>1.5</td>\n      <td>0.11</td>\n      <td>3.2</td>\n      <td>2.5</td>\n      <td>6.2</td>\n      <td>69.0</td>\n      <td>0.3</td>\n      <td>25.7</td>\n      <td>0.6</td>\n      <td>47.9</td>\n      <td>0.6</td>\n      <td>34.4</td>\n      <td>0.9</td>\n      <td>42.3</td>\n      <td>1.5</td>\n      <td>34.1</td>\n      <td>0.175</td>\n      <td>2.3</td>\n      <td>0.412</td>\n      <td>0.281</td>\n      <td>3.2</td>\n      <td>0.454</td>\n      <td>0.023</td>\n      <td>0.2</td>\n      <td>0.667</td>\n      <td>0.214</td>\n      <td>1.3</td>\n      <td>0.649</td>\n      <td>0.082</td>\n      <td>0.8</td>\n      <td>0.532</td>\n      <td>0.059</td>\n      <td>0.9</td>\n      <td>0.388</td>\n      <td>0.014</td>\n      <td>0.1</td>\n      <td>0.632</td>\n      <td>0.037</td>\n      <td>0.3</td>\n      <td>0.708</td>\n      <td>0.020</td>\n      <td>0.3</td>\n      <td>0.296</td>\n      <td>0.026</td>\n      <td>0.2</td>\n      <td>0.730</td>\n      <td>54.8</td>\n      <td>0.7</td>\n      <td>17.2</td>\n    </tr>\n  </tbody>\n</table>\n</div>"
          },
          "metadata": {},
          "execution_count": 3
        }
      ],
      "source": [
        "# Merge all features for PCA\n",
        "all_data = stats_data.merge(defense_data)\n",
        "all_data = all_data.merge(hustle_data)\n",
        "all_data = all_data.merge(shooting_data)\n",
        "all_data = all_data.merge(play_type_data)\n",
        "all_data = all_data.merge(passing_data)\n",
        "print(all_data.shape)\n",
        "all_data.head()"
      ]
    },
    {
      "cell_type": "code",
      "execution_count": 4,
      "metadata": {},
      "outputs": [],
      "source": [
        "# Create PCA object\n",
        "pca = Principle_Component_Analysis(all_data, .75)"
      ]
    },
    {
      "source": [
        "# Varince Explanied"
      ],
      "cell_type": "markdown",
      "metadata": {}
    },
    {
      "cell_type": "code",
      "execution_count": 5,
      "metadata": {},
      "outputs": [
        {
          "output_type": "execute_result",
          "data": {
            "text/plain": [
              "      Variance Explained  Percentage of Variance Explained  \\\n",
              "PC1            20.799200                              25.0   \n",
              "PC2            15.397525                              19.0   \n",
              "PC3             5.033836                               6.0   \n",
              "PC4             2.965264                               4.0   \n",
              "PC5             2.948295                               4.0   \n",
              "PC6             2.651697                               3.0   \n",
              "PC7             2.130522                               3.0   \n",
              "PC8             1.887024                               2.0   \n",
              "PC9             1.551563                               2.0   \n",
              "PC10            1.513770                               2.0   \n",
              "PC11            1.486147                               2.0   \n",
              "PC12            1.307488                               2.0   \n",
              "PC13            1.221924                               1.0   \n",
              "PC14            1.195609                               1.0   \n",
              "PC15            1.118858                               1.0   \n",
              "\n",
              "      Cumulative Percentage of Variance Explained  \n",
              "PC1                                          25.0  \n",
              "PC2                                          44.0  \n",
              "PC3                                          50.0  \n",
              "PC4                                          54.0  \n",
              "PC5                                          58.0  \n",
              "PC6                                          61.0  \n",
              "PC7                                          64.0  \n",
              "PC8                                          66.0  \n",
              "PC9                                          68.0  \n",
              "PC10                                         70.0  \n",
              "PC11                                         72.0  \n",
              "PC12                                         74.0  \n",
              "PC13                                         75.0  \n",
              "PC14                                         76.0  \n",
              "PC15                                         77.0  "
            ],
            "text/html": "<div>\n<style scoped>\n    .dataframe tbody tr th:only-of-type {\n        vertical-align: middle;\n    }\n\n    .dataframe tbody tr th {\n        vertical-align: top;\n    }\n\n    .dataframe thead th {\n        text-align: right;\n    }\n</style>\n<table border=\"1\" class=\"dataframe\">\n  <thead>\n    <tr style=\"text-align: right;\">\n      <th></th>\n      <th>Variance Explained</th>\n      <th>Percentage of Variance Explained</th>\n      <th>Cumulative Percentage of Variance Explained</th>\n    </tr>\n  </thead>\n  <tbody>\n    <tr>\n      <th>PC1</th>\n      <td>20.799200</td>\n      <td>25.0</td>\n      <td>25.0</td>\n    </tr>\n    <tr>\n      <th>PC2</th>\n      <td>15.397525</td>\n      <td>19.0</td>\n      <td>44.0</td>\n    </tr>\n    <tr>\n      <th>PC3</th>\n      <td>5.033836</td>\n      <td>6.0</td>\n      <td>50.0</td>\n    </tr>\n    <tr>\n      <th>PC4</th>\n      <td>2.965264</td>\n      <td>4.0</td>\n      <td>54.0</td>\n    </tr>\n    <tr>\n      <th>PC5</th>\n      <td>2.948295</td>\n      <td>4.0</td>\n      <td>58.0</td>\n    </tr>\n    <tr>\n      <th>PC6</th>\n      <td>2.651697</td>\n      <td>3.0</td>\n      <td>61.0</td>\n    </tr>\n    <tr>\n      <th>PC7</th>\n      <td>2.130522</td>\n      <td>3.0</td>\n      <td>64.0</td>\n    </tr>\n    <tr>\n      <th>PC8</th>\n      <td>1.887024</td>\n      <td>2.0</td>\n      <td>66.0</td>\n    </tr>\n    <tr>\n      <th>PC9</th>\n      <td>1.551563</td>\n      <td>2.0</td>\n      <td>68.0</td>\n    </tr>\n    <tr>\n      <th>PC10</th>\n      <td>1.513770</td>\n      <td>2.0</td>\n      <td>70.0</td>\n    </tr>\n    <tr>\n      <th>PC11</th>\n      <td>1.486147</td>\n      <td>2.0</td>\n      <td>72.0</td>\n    </tr>\n    <tr>\n      <th>PC12</th>\n      <td>1.307488</td>\n      <td>2.0</td>\n      <td>74.0</td>\n    </tr>\n    <tr>\n      <th>PC13</th>\n      <td>1.221924</td>\n      <td>1.0</td>\n      <td>75.0</td>\n    </tr>\n    <tr>\n      <th>PC14</th>\n      <td>1.195609</td>\n      <td>1.0</td>\n      <td>76.0</td>\n    </tr>\n    <tr>\n      <th>PC15</th>\n      <td>1.118858</td>\n      <td>1.0</td>\n      <td>77.0</td>\n    </tr>\n  </tbody>\n</table>\n</div>"
          },
          "metadata": {},
          "execution_count": 5
        }
      ],
      "source": [
        "pca.PCA_variance()"
      ]
    },
    {
      "cell_type": "code",
      "execution_count": 6,
      "metadata": {},
      "outputs": [],
      "source": [
        "# Create dataset with 6 Principle Components\n",
        "pca_df = pca.PCA_transform(6)"
      ]
    },
    {
      "source": [
        "## PC1"
      ],
      "cell_type": "markdown",
      "metadata": {}
    },
    {
      "cell_type": "code",
      "execution_count": 7,
      "metadata": {},
      "outputs": [
        {
          "output_type": "execute_result",
          "data": {
            "text/plain": [
              "OREB%                  0.197592\n",
              "SCREEN ASSISTS         0.191080\n",
              "3PT_DIF_FREQ          -0.186602\n",
              "PNR_ROLL_FREQ          0.186350\n",
              "<6_DIF_FREQ            0.186266\n",
              "OREB                   0.177581\n",
              "CUT_FREQ               0.173639\n",
              "PNR_ROLL_FG%           0.173373\n",
              "CONTESTED 2PT SHOTS    0.170080\n",
              "DREB%                  0.167850\n",
              "PNR_ROLL_FGM           0.165518\n",
              "CUT_FGM                0.161946\n",
              "PNR_HANDLER_FG%       -0.156130\n",
              "PNR_HANDLER_FREQ      -0.154839\n",
              "FG%                    0.152740\n",
              "<6_DFGM                0.148458\n",
              "<6_DIFF%              -0.147174\n",
              "BLK                    0.145913\n",
              "HANDOFF_FG%           -0.141014\n",
              "AST TO PASS% ADJ      -0.139719\n",
              "Name: PC1, dtype: float64"
            ]
          },
          "metadata": {},
          "execution_count": 7
        }
      ],
      "source": [
        "pca.PCA_sorted_eigen('PC1')[:20]"
      ]
    },
    {
      "cell_type": "code",
      "execution_count": 8,
      "metadata": {},
      "outputs": [
        {
          "output_type": "execute_result",
          "data": {
            "text/plain": [
              "           PC1       PC2       PC3       PC4       PC5       PC6  \\\n",
              "67   14.249606  5.000594 -1.074717 -3.657935  1.777759  3.423773   \n",
              "58   13.072730  4.514734 -0.939064 -4.610623  0.355975  3.479539   \n",
              "50   12.505245  6.229176 -0.606841 -1.786734 -1.899912  1.771759   \n",
              "145  11.954843  1.252299 -1.169913 -2.371905  1.932416  4.054224   \n",
              "91   11.595691  4.742111 -1.723362 -2.532327  0.186205  3.118970   \n",
              "62   11.288797  6.062883 -0.892372  0.583854  0.989179  0.442747   \n",
              "197  11.094395 -0.727420 -1.943842 -0.775974  1.925809 -1.004726   \n",
              "245  10.846870  0.022405 -0.596155 -4.414240  1.347923 -1.706901   \n",
              "72   10.783133  4.485939  0.111308  4.108985  1.803163 -0.284130   \n",
              "141  10.742661  0.942956 -3.796785 -1.995820  1.204606  1.584287   \n",
              "\n",
              "                PLAYER TEAM POSITION  \n",
              "67         Rudy Gobert  UTA        C  \n",
              "58        Clint Capela  HOU        C  \n",
              "50      Andre Drummond  DET        C  \n",
              "145      Jarrett Allen  BKN        C  \n",
              "91        Steven Adams  OKC        C  \n",
              "62       Deandre Ayton  PHX        C  \n",
              "197        Ivica Zubac  LAC        C  \n",
              "245  Mitchell Robinson  NYK        C  \n",
              "72   Jonas Valanciunas  MEM        C  \n",
              "141     DeAndre Jordan  NYK        C  "
            ],
            "text/html": "<div>\n<style scoped>\n    .dataframe tbody tr th:only-of-type {\n        vertical-align: middle;\n    }\n\n    .dataframe tbody tr th {\n        vertical-align: top;\n    }\n\n    .dataframe thead th {\n        text-align: right;\n    }\n</style>\n<table border=\"1\" class=\"dataframe\">\n  <thead>\n    <tr style=\"text-align: right;\">\n      <th></th>\n      <th>PC1</th>\n      <th>PC2</th>\n      <th>PC3</th>\n      <th>PC4</th>\n      <th>PC5</th>\n      <th>PC6</th>\n      <th>PLAYER</th>\n      <th>TEAM</th>\n      <th>POSITION</th>\n    </tr>\n  </thead>\n  <tbody>\n    <tr>\n      <th>67</th>\n      <td>14.249606</td>\n      <td>5.000594</td>\n      <td>-1.074717</td>\n      <td>-3.657935</td>\n      <td>1.777759</td>\n      <td>3.423773</td>\n      <td>Rudy Gobert</td>\n      <td>UTA</td>\n      <td>C</td>\n    </tr>\n    <tr>\n      <th>58</th>\n      <td>13.072730</td>\n      <td>4.514734</td>\n      <td>-0.939064</td>\n      <td>-4.610623</td>\n      <td>0.355975</td>\n      <td>3.479539</td>\n      <td>Clint Capela</td>\n      <td>HOU</td>\n      <td>C</td>\n    </tr>\n    <tr>\n      <th>50</th>\n      <td>12.505245</td>\n      <td>6.229176</td>\n      <td>-0.606841</td>\n      <td>-1.786734</td>\n      <td>-1.899912</td>\n      <td>1.771759</td>\n      <td>Andre Drummond</td>\n      <td>DET</td>\n      <td>C</td>\n    </tr>\n    <tr>\n      <th>145</th>\n      <td>11.954843</td>\n      <td>1.252299</td>\n      <td>-1.169913</td>\n      <td>-2.371905</td>\n      <td>1.932416</td>\n      <td>4.054224</td>\n      <td>Jarrett Allen</td>\n      <td>BKN</td>\n      <td>C</td>\n    </tr>\n    <tr>\n      <th>91</th>\n      <td>11.595691</td>\n      <td>4.742111</td>\n      <td>-1.723362</td>\n      <td>-2.532327</td>\n      <td>0.186205</td>\n      <td>3.118970</td>\n      <td>Steven Adams</td>\n      <td>OKC</td>\n      <td>C</td>\n    </tr>\n    <tr>\n      <th>62</th>\n      <td>11.288797</td>\n      <td>6.062883</td>\n      <td>-0.892372</td>\n      <td>0.583854</td>\n      <td>0.989179</td>\n      <td>0.442747</td>\n      <td>Deandre Ayton</td>\n      <td>PHX</td>\n      <td>C</td>\n    </tr>\n    <tr>\n      <th>197</th>\n      <td>11.094395</td>\n      <td>-0.727420</td>\n      <td>-1.943842</td>\n      <td>-0.775974</td>\n      <td>1.925809</td>\n      <td>-1.004726</td>\n      <td>Ivica Zubac</td>\n      <td>LAC</td>\n      <td>C</td>\n    </tr>\n    <tr>\n      <th>245</th>\n      <td>10.846870</td>\n      <td>0.022405</td>\n      <td>-0.596155</td>\n      <td>-4.414240</td>\n      <td>1.347923</td>\n      <td>-1.706901</td>\n      <td>Mitchell Robinson</td>\n      <td>NYK</td>\n      <td>C</td>\n    </tr>\n    <tr>\n      <th>72</th>\n      <td>10.783133</td>\n      <td>4.485939</td>\n      <td>0.111308</td>\n      <td>4.108985</td>\n      <td>1.803163</td>\n      <td>-0.284130</td>\n      <td>Jonas Valanciunas</td>\n      <td>MEM</td>\n      <td>C</td>\n    </tr>\n    <tr>\n      <th>141</th>\n      <td>10.742661</td>\n      <td>0.942956</td>\n      <td>-3.796785</td>\n      <td>-1.995820</td>\n      <td>1.204606</td>\n      <td>1.584287</td>\n      <td>DeAndre Jordan</td>\n      <td>NYK</td>\n      <td>C</td>\n    </tr>\n  </tbody>\n</table>\n</div>"
          },
          "metadata": {},
          "execution_count": 8
        }
      ],
      "source": [
        "pca_df.nlargest(10, 'PC1')"
      ]
    },
    {
      "source": [
        "## PC2"
      ],
      "cell_type": "markdown",
      "metadata": {}
    },
    {
      "cell_type": "code",
      "execution_count": 9,
      "metadata": {},
      "outputs": [
        {
          "output_type": "execute_result",
          "data": {
            "text/plain": [
              "PTS                      0.238898\n",
              "PIE                      0.203314\n",
              "LOOSE BALLS RECOVERED    0.202976\n",
              "PASSES MADE              0.201246\n",
              "USG%                     0.200529\n",
              "FGM_<5                   0.193003\n",
              "AST                      0.182397\n",
              "FGM_5-9                  0.177011\n",
              "DREB                     0.173831\n",
              "SECONDARY AST            0.173082\n",
              "FGM_10-14                0.173018\n",
              "STL                      0.166508\n",
              "3PT_DFGM                 0.166003\n",
              "ISOLATION_FGM            0.162692\n",
              "DEFLECTIONS              0.159699\n",
              "CONTESTED 3PT SHOTS      0.157451\n",
              "FGM_15-19                0.153725\n",
              "TRANSITION_FGM           0.150434\n",
              "ISOLATION_FREQ           0.147071\n",
              "ISOLATION_FG%            0.142677\n",
              "Name: PC2, dtype: float64"
            ]
          },
          "metadata": {},
          "execution_count": 9
        }
      ],
      "source": [
        "pca.PCA_sorted_eigen('PC2')[:20]"
      ]
    },
    {
      "cell_type": "code",
      "execution_count": 10,
      "metadata": {},
      "outputs": [
        {
          "output_type": "execute_result",
          "data": {
            "text/plain": [
              "         PC1        PC2       PC3       PC4       PC5       PC6  \\\n",
              "0  -4.031557  13.412326 -3.632878  1.631335 -1.885437 -3.810644   \n",
              "3   7.744786  10.630323  1.505087  2.989003 -0.376304  1.170620   \n",
              "2   3.229130  10.224854 -0.194595 -2.957345 -1.885142 -3.187067   \n",
              "9   5.631086  10.107490  1.644436  1.794815 -1.171594  0.108933   \n",
              "18 -3.571850   9.777059 -3.643756  0.134584 -3.975623 -1.460354   \n",
              "31  6.013722   9.523184 -0.498005  2.847592 -0.566490  0.748257   \n",
              "1  -4.056028   9.452138  2.918992 -0.759261 -1.869097 -0.458240   \n",
              "8  -2.385947   9.291106  0.240150  1.192543  2.148632 -3.636059   \n",
              "4  -1.401341   9.265636 -1.950025 -0.275184 -1.594073 -3.498045   \n",
              "14  7.945427   9.264323  2.229708  4.200725 -0.973295  0.878751   \n",
              "\n",
              "                   PLAYER TEAM POSITION  \n",
              "0            James Harden  HOU        G  \n",
              "3             Joel Embiid  PHI      F-C  \n",
              "2   Giannis Antetokounmpo  MIL        F  \n",
              "9           Anthony Davis  NOP      F-C  \n",
              "18      Russell Westbrook  OKC        G  \n",
              "31           Nikola Jokic  DEN        C  \n",
              "1             Paul George  OKC        F  \n",
              "8            Kevin Durant  GSW        F  \n",
              "4            LeBron James  LAL        F  \n",
              "14     Karl-Anthony Towns  MIN        C  "
            ],
            "text/html": "<div>\n<style scoped>\n    .dataframe tbody tr th:only-of-type {\n        vertical-align: middle;\n    }\n\n    .dataframe tbody tr th {\n        vertical-align: top;\n    }\n\n    .dataframe thead th {\n        text-align: right;\n    }\n</style>\n<table border=\"1\" class=\"dataframe\">\n  <thead>\n    <tr style=\"text-align: right;\">\n      <th></th>\n      <th>PC1</th>\n      <th>PC2</th>\n      <th>PC3</th>\n      <th>PC4</th>\n      <th>PC5</th>\n      <th>PC6</th>\n      <th>PLAYER</th>\n      <th>TEAM</th>\n      <th>POSITION</th>\n    </tr>\n  </thead>\n  <tbody>\n    <tr>\n      <th>0</th>\n      <td>-4.031557</td>\n      <td>13.412326</td>\n      <td>-3.632878</td>\n      <td>1.631335</td>\n      <td>-1.885437</td>\n      <td>-3.810644</td>\n      <td>James Harden</td>\n      <td>HOU</td>\n      <td>G</td>\n    </tr>\n    <tr>\n      <th>3</th>\n      <td>7.744786</td>\n      <td>10.630323</td>\n      <td>1.505087</td>\n      <td>2.989003</td>\n      <td>-0.376304</td>\n      <td>1.170620</td>\n      <td>Joel Embiid</td>\n      <td>PHI</td>\n      <td>F-C</td>\n    </tr>\n    <tr>\n      <th>2</th>\n      <td>3.229130</td>\n      <td>10.224854</td>\n      <td>-0.194595</td>\n      <td>-2.957345</td>\n      <td>-1.885142</td>\n      <td>-3.187067</td>\n      <td>Giannis Antetokounmpo</td>\n      <td>MIL</td>\n      <td>F</td>\n    </tr>\n    <tr>\n      <th>9</th>\n      <td>5.631086</td>\n      <td>10.107490</td>\n      <td>1.644436</td>\n      <td>1.794815</td>\n      <td>-1.171594</td>\n      <td>0.108933</td>\n      <td>Anthony Davis</td>\n      <td>NOP</td>\n      <td>F-C</td>\n    </tr>\n    <tr>\n      <th>18</th>\n      <td>-3.571850</td>\n      <td>9.777059</td>\n      <td>-3.643756</td>\n      <td>0.134584</td>\n      <td>-3.975623</td>\n      <td>-1.460354</td>\n      <td>Russell Westbrook</td>\n      <td>OKC</td>\n      <td>G</td>\n    </tr>\n    <tr>\n      <th>31</th>\n      <td>6.013722</td>\n      <td>9.523184</td>\n      <td>-0.498005</td>\n      <td>2.847592</td>\n      <td>-0.566490</td>\n      <td>0.748257</td>\n      <td>Nikola Jokic</td>\n      <td>DEN</td>\n      <td>C</td>\n    </tr>\n    <tr>\n      <th>1</th>\n      <td>-4.056028</td>\n      <td>9.452138</td>\n      <td>2.918992</td>\n      <td>-0.759261</td>\n      <td>-1.869097</td>\n      <td>-0.458240</td>\n      <td>Paul George</td>\n      <td>OKC</td>\n      <td>F</td>\n    </tr>\n    <tr>\n      <th>8</th>\n      <td>-2.385947</td>\n      <td>9.291106</td>\n      <td>0.240150</td>\n      <td>1.192543</td>\n      <td>2.148632</td>\n      <td>-3.636059</td>\n      <td>Kevin Durant</td>\n      <td>GSW</td>\n      <td>F</td>\n    </tr>\n    <tr>\n      <th>4</th>\n      <td>-1.401341</td>\n      <td>9.265636</td>\n      <td>-1.950025</td>\n      <td>-0.275184</td>\n      <td>-1.594073</td>\n      <td>-3.498045</td>\n      <td>LeBron James</td>\n      <td>LAL</td>\n      <td>F</td>\n    </tr>\n    <tr>\n      <th>14</th>\n      <td>7.945427</td>\n      <td>9.264323</td>\n      <td>2.229708</td>\n      <td>4.200725</td>\n      <td>-0.973295</td>\n      <td>0.878751</td>\n      <td>Karl-Anthony Towns</td>\n      <td>MIN</td>\n      <td>C</td>\n    </tr>\n  </tbody>\n</table>\n</div>"
          },
          "metadata": {},
          "execution_count": 10
        }
      ],
      "source": [
        "pca_df.nlargest(10, 'PC2')"
      ]
    },
    {
      "source": [
        "## PC3"
      ],
      "cell_type": "markdown",
      "metadata": {}
    },
    {
      "cell_type": "code",
      "execution_count": 11,
      "metadata": {},
      "outputs": [
        {
          "output_type": "execute_result",
          "data": {
            "text/plain": [
              "SPOT_UP_FGM            0.285721\n",
              "AST%                  -0.278633\n",
              "SPOT_UP_FREQ           0.247577\n",
              "OFF_SCREEN_FREQ        0.234665\n",
              "FGM_20-24              0.230972\n",
              "TO RATIO              -0.212883\n",
              "OFF_SCREEN_FGM         0.211960\n",
              "PNR_HANDLER_FREQ      -0.204740\n",
              "3P%                    0.191448\n",
              "AST                   -0.191312\n",
              "OFF_SCREEN_FG%         0.187662\n",
              "AST TO PASS% ADJ      -0.178415\n",
              "AST/TO                -0.169282\n",
              "FG%_25-29              0.163371\n",
              "FGM_25-29              0.155894\n",
              "PNR_HANDLER_FGM       -0.144610\n",
              "CONTESTED 3PT SHOTS    0.137685\n",
              "SPOT_UP_FG%            0.133329\n",
              "FG%_20-24              0.126420\n",
              "CUT_FG%                0.122405\n",
              "Name: PC3, dtype: float64"
            ]
          },
          "metadata": {},
          "execution_count": 11
        }
      ],
      "source": [
        "pca.PCA_sorted_eigen('PC3')[:20]"
      ]
    },
    {
      "cell_type": "code",
      "execution_count": 12,
      "metadata": {},
      "outputs": [
        {
          "output_type": "execute_result",
          "data": {
            "text/plain": [
              "          PC1       PC2       PC3       PC4       PC5       PC6  \\\n",
              "19  -3.689545  5.179207  6.002304  0.935984  4.799969 -0.358352   \n",
              "115  3.798212  3.148725  5.123692  0.348581  0.691293  4.005347   \n",
              "95  -1.978171  0.855649  4.601046 -0.590740  2.867014  2.018935   \n",
              "163 -2.493771  1.331342  4.470949 -1.723456  0.045200  2.398622   \n",
              "189 -2.109415 -2.507707  4.360297  0.116596  0.841336 -0.799076   \n",
              "166  1.740397 -0.439794  4.292761  1.323478 -2.644630  1.181203   \n",
              "30  -3.926138  4.492434  4.226806 -0.948355  0.972569  0.304141   \n",
              "222 -1.050781 -1.922122  4.195854 -0.454265  0.045284  0.499811   \n",
              "46  -5.613708  1.362174  4.160823  0.133737  6.577399  1.951949   \n",
              "38   2.464804  3.979749  4.071610  3.078242 -0.556806  0.042249   \n",
              "\n",
              "              PLAYER TEAM POSITION  \n",
              "19     Klay Thompson  GSW        G  \n",
              "115      Brook Lopez  MIL        C  \n",
              "95        Joe Harris  BKN      F-G  \n",
              "163      Danny Green  TOR      G-F  \n",
              "189     Gerald Green  HOU      G-F  \n",
              "166  Marvin Williams  CHA        F  \n",
              "30       Buddy Hield  SAC        G  \n",
              "222    Davis Bertans  SAS        F  \n",
              "46         JJ Redick  PHI        G  \n",
              "38   Lauri Markkanen  CHI        F  "
            ],
            "text/html": "<div>\n<style scoped>\n    .dataframe tbody tr th:only-of-type {\n        vertical-align: middle;\n    }\n\n    .dataframe tbody tr th {\n        vertical-align: top;\n    }\n\n    .dataframe thead th {\n        text-align: right;\n    }\n</style>\n<table border=\"1\" class=\"dataframe\">\n  <thead>\n    <tr style=\"text-align: right;\">\n      <th></th>\n      <th>PC1</th>\n      <th>PC2</th>\n      <th>PC3</th>\n      <th>PC4</th>\n      <th>PC5</th>\n      <th>PC6</th>\n      <th>PLAYER</th>\n      <th>TEAM</th>\n      <th>POSITION</th>\n    </tr>\n  </thead>\n  <tbody>\n    <tr>\n      <th>19</th>\n      <td>-3.689545</td>\n      <td>5.179207</td>\n      <td>6.002304</td>\n      <td>0.935984</td>\n      <td>4.799969</td>\n      <td>-0.358352</td>\n      <td>Klay Thompson</td>\n      <td>GSW</td>\n      <td>G</td>\n    </tr>\n    <tr>\n      <th>115</th>\n      <td>3.798212</td>\n      <td>3.148725</td>\n      <td>5.123692</td>\n      <td>0.348581</td>\n      <td>0.691293</td>\n      <td>4.005347</td>\n      <td>Brook Lopez</td>\n      <td>MIL</td>\n      <td>C</td>\n    </tr>\n    <tr>\n      <th>95</th>\n      <td>-1.978171</td>\n      <td>0.855649</td>\n      <td>4.601046</td>\n      <td>-0.590740</td>\n      <td>2.867014</td>\n      <td>2.018935</td>\n      <td>Joe Harris</td>\n      <td>BKN</td>\n      <td>F-G</td>\n    </tr>\n    <tr>\n      <th>163</th>\n      <td>-2.493771</td>\n      <td>1.331342</td>\n      <td>4.470949</td>\n      <td>-1.723456</td>\n      <td>0.045200</td>\n      <td>2.398622</td>\n      <td>Danny Green</td>\n      <td>TOR</td>\n      <td>G-F</td>\n    </tr>\n    <tr>\n      <th>189</th>\n      <td>-2.109415</td>\n      <td>-2.507707</td>\n      <td>4.360297</td>\n      <td>0.116596</td>\n      <td>0.841336</td>\n      <td>-0.799076</td>\n      <td>Gerald Green</td>\n      <td>HOU</td>\n      <td>G-F</td>\n    </tr>\n    <tr>\n      <th>166</th>\n      <td>1.740397</td>\n      <td>-0.439794</td>\n      <td>4.292761</td>\n      <td>1.323478</td>\n      <td>-2.644630</td>\n      <td>1.181203</td>\n      <td>Marvin Williams</td>\n      <td>CHA</td>\n      <td>F</td>\n    </tr>\n    <tr>\n      <th>30</th>\n      <td>-3.926138</td>\n      <td>4.492434</td>\n      <td>4.226806</td>\n      <td>-0.948355</td>\n      <td>0.972569</td>\n      <td>0.304141</td>\n      <td>Buddy Hield</td>\n      <td>SAC</td>\n      <td>G</td>\n    </tr>\n    <tr>\n      <th>222</th>\n      <td>-1.050781</td>\n      <td>-1.922122</td>\n      <td>4.195854</td>\n      <td>-0.454265</td>\n      <td>0.045284</td>\n      <td>0.499811</td>\n      <td>Davis Bertans</td>\n      <td>SAS</td>\n      <td>F</td>\n    </tr>\n    <tr>\n      <th>46</th>\n      <td>-5.613708</td>\n      <td>1.362174</td>\n      <td>4.160823</td>\n      <td>0.133737</td>\n      <td>6.577399</td>\n      <td>1.951949</td>\n      <td>JJ Redick</td>\n      <td>PHI</td>\n      <td>G</td>\n    </tr>\n    <tr>\n      <th>38</th>\n      <td>2.464804</td>\n      <td>3.979749</td>\n      <td>4.071610</td>\n      <td>3.078242</td>\n      <td>-0.556806</td>\n      <td>0.042249</td>\n      <td>Lauri Markkanen</td>\n      <td>CHI</td>\n      <td>F</td>\n    </tr>\n  </tbody>\n</table>\n</div>"
          },
          "metadata": {},
          "execution_count": 12
        }
      ],
      "source": [
        "pca_df.nlargest(10, 'PC3')"
      ]
    },
    {
      "source": [
        "## PC4"
      ],
      "cell_type": "markdown",
      "metadata": {}
    },
    {
      "cell_type": "code",
      "execution_count": 13,
      "metadata": {},
      "outputs": [
        {
          "output_type": "execute_result",
          "data": {
            "text/plain": [
              "TRANSITION_FREQ   -0.272606\n",
              "TRANSITION_FG%    -0.253737\n",
              "CUT_FG%           -0.232104\n",
              "POST_UP_FGM        0.224053\n",
              "POST_UP_FREQ       0.223219\n",
              "CUT_FREQ          -0.219014\n",
              "FG%               -0.195815\n",
              "USG%               0.182878\n",
              "FGM_5-9            0.181884\n",
              "DEFLECTIONS       -0.179179\n",
              "PNR_ROLL_FGM       0.177464\n",
              "TS%               -0.173688\n",
              "STL               -0.170914\n",
              "FGM_10-14          0.159388\n",
              "FG%_25-29          0.147756\n",
              "FGM_15-19          0.144384\n",
              "FG%_<5            -0.139528\n",
              "3P%                0.137973\n",
              "PUTBACK_FREQ      -0.136915\n",
              "+/-               -0.134450\n",
              "Name: PC4, dtype: float64"
            ]
          },
          "metadata": {},
          "execution_count": 13
        }
      ],
      "source": [
        "pca.PCA_sorted_eigen('PC4')[:20]"
      ]
    },
    {
      "cell_type": "code",
      "execution_count": 14,
      "metadata": {},
      "outputs": [
        {
          "output_type": "execute_result",
          "data": {
            "text/plain": [
              "           PC1       PC2       PC3       PC4       PC5       PC6  \\\n",
              "21    8.928666  7.842155  0.617570  5.703944  2.832712  0.520705   \n",
              "249   0.771513 -3.038027  2.048811  5.395279  0.251039 -0.114857   \n",
              "28    9.119869  8.719130  1.226681  5.184279  1.094222  1.563186   \n",
              "369   3.069267 -4.549796 -3.345134  4.724029  1.254274  2.934658   \n",
              "103   1.266052 -0.233952  2.884522  4.570133 -3.342190 -2.212370   \n",
              "14    7.945427  9.264323  2.229708  4.200725 -0.973295  0.878751   \n",
              "72   10.783133  4.485939  0.111308  4.108985  1.803163 -0.284130   \n",
              "101   5.168916  3.285936 -0.605459  4.056849 -1.189041  1.861020   \n",
              "300   0.844770 -4.322474  1.334100  3.903460 -1.309536 -0.021922   \n",
              "179   7.667067 -0.180253 -1.017920  3.876127  2.311979  0.945848   \n",
              "\n",
              "                 PLAYER TEAM POSITION  \n",
              "21    LaMarcus Aldridge  SAS      C-F  \n",
              "249       Dirk Nowitzki  DAL        F  \n",
              "28       Nikola Vucevic  ORL        C  \n",
              "369           Pau Gasol  MIL      C-F  \n",
              "103     Carmelo Anthony  HOU        F  \n",
              "14   Karl-Anthony Towns  MIN        C  \n",
              "72    Jonas Valanciunas  MEM        C  \n",
              "101          Marc Gasol  TOR        C  \n",
              "300      Henry Ellenson  NYK        F  \n",
              "179         Robin Lopez  CHI        C  "
            ],
            "text/html": "<div>\n<style scoped>\n    .dataframe tbody tr th:only-of-type {\n        vertical-align: middle;\n    }\n\n    .dataframe tbody tr th {\n        vertical-align: top;\n    }\n\n    .dataframe thead th {\n        text-align: right;\n    }\n</style>\n<table border=\"1\" class=\"dataframe\">\n  <thead>\n    <tr style=\"text-align: right;\">\n      <th></th>\n      <th>PC1</th>\n      <th>PC2</th>\n      <th>PC3</th>\n      <th>PC4</th>\n      <th>PC5</th>\n      <th>PC6</th>\n      <th>PLAYER</th>\n      <th>TEAM</th>\n      <th>POSITION</th>\n    </tr>\n  </thead>\n  <tbody>\n    <tr>\n      <th>21</th>\n      <td>8.928666</td>\n      <td>7.842155</td>\n      <td>0.617570</td>\n      <td>5.703944</td>\n      <td>2.832712</td>\n      <td>0.520705</td>\n      <td>LaMarcus Aldridge</td>\n      <td>SAS</td>\n      <td>C-F</td>\n    </tr>\n    <tr>\n      <th>249</th>\n      <td>0.771513</td>\n      <td>-3.038027</td>\n      <td>2.048811</td>\n      <td>5.395279</td>\n      <td>0.251039</td>\n      <td>-0.114857</td>\n      <td>Dirk Nowitzki</td>\n      <td>DAL</td>\n      <td>F</td>\n    </tr>\n    <tr>\n      <th>28</th>\n      <td>9.119869</td>\n      <td>8.719130</td>\n      <td>1.226681</td>\n      <td>5.184279</td>\n      <td>1.094222</td>\n      <td>1.563186</td>\n      <td>Nikola Vucevic</td>\n      <td>ORL</td>\n      <td>C</td>\n    </tr>\n    <tr>\n      <th>369</th>\n      <td>3.069267</td>\n      <td>-4.549796</td>\n      <td>-3.345134</td>\n      <td>4.724029</td>\n      <td>1.254274</td>\n      <td>2.934658</td>\n      <td>Pau Gasol</td>\n      <td>MIL</td>\n      <td>C-F</td>\n    </tr>\n    <tr>\n      <th>103</th>\n      <td>1.266052</td>\n      <td>-0.233952</td>\n      <td>2.884522</td>\n      <td>4.570133</td>\n      <td>-3.342190</td>\n      <td>-2.212370</td>\n      <td>Carmelo Anthony</td>\n      <td>HOU</td>\n      <td>F</td>\n    </tr>\n    <tr>\n      <th>14</th>\n      <td>7.945427</td>\n      <td>9.264323</td>\n      <td>2.229708</td>\n      <td>4.200725</td>\n      <td>-0.973295</td>\n      <td>0.878751</td>\n      <td>Karl-Anthony Towns</td>\n      <td>MIN</td>\n      <td>C</td>\n    </tr>\n    <tr>\n      <th>72</th>\n      <td>10.783133</td>\n      <td>4.485939</td>\n      <td>0.111308</td>\n      <td>4.108985</td>\n      <td>1.803163</td>\n      <td>-0.284130</td>\n      <td>Jonas Valanciunas</td>\n      <td>MEM</td>\n      <td>C</td>\n    </tr>\n    <tr>\n      <th>101</th>\n      <td>5.168916</td>\n      <td>3.285936</td>\n      <td>-0.605459</td>\n      <td>4.056849</td>\n      <td>-1.189041</td>\n      <td>1.861020</td>\n      <td>Marc Gasol</td>\n      <td>TOR</td>\n      <td>C</td>\n    </tr>\n    <tr>\n      <th>300</th>\n      <td>0.844770</td>\n      <td>-4.322474</td>\n      <td>1.334100</td>\n      <td>3.903460</td>\n      <td>-1.309536</td>\n      <td>-0.021922</td>\n      <td>Henry Ellenson</td>\n      <td>NYK</td>\n      <td>F</td>\n    </tr>\n    <tr>\n      <th>179</th>\n      <td>7.667067</td>\n      <td>-0.180253</td>\n      <td>-1.017920</td>\n      <td>3.876127</td>\n      <td>2.311979</td>\n      <td>0.945848</td>\n      <td>Robin Lopez</td>\n      <td>CHI</td>\n      <td>C</td>\n    </tr>\n  </tbody>\n</table>\n</div>"
          },
          "metadata": {},
          "execution_count": 14
        }
      ],
      "source": [
        "pca_df.nlargest(10, 'PC4')"
      ]
    },
    {
      "source": [
        "## PC5"
      ],
      "cell_type": "markdown",
      "metadata": {}
    },
    {
      "cell_type": "code",
      "execution_count": 15,
      "metadata": {},
      "outputs": [
        {
          "output_type": "execute_result",
          "data": {
            "text/plain": [
              "HANDOFF_FREQ             0.255979\n",
              "OFF_SCREEN_FREQ          0.252650\n",
              "DEFLECTIONS             -0.235774\n",
              "16-3PT_DIF_FREQ          0.234116\n",
              "OFF_SCREEN_FGM           0.231784\n",
              "STL                     -0.222726\n",
              "HANDOFF_FGM              0.222394\n",
              "10-15_DIF_FREQ           0.190832\n",
              "CONTESTED 3PT SHOTS     -0.181680\n",
              "3PT_DFGM                -0.178923\n",
              "TS%                      0.177172\n",
              "SPOT_UP_FREQ            -0.173969\n",
              "SPOT_UP_FGM             -0.159827\n",
              "FG%_5-9                  0.159361\n",
              "FG%                      0.159255\n",
              "OFF_SCREEN_FG%           0.150500\n",
              "6-9_DIF_FREQ             0.149654\n",
              "FGM_15-19                0.139389\n",
              "LOOSE BALLS RECOVERED   -0.135797\n",
              "TRANSITION_FREQ         -0.133964\n",
              "Name: PC5, dtype: float64"
            ]
          },
          "metadata": {},
          "execution_count": 15
        }
      ],
      "source": [
        "pca.PCA_sorted_eigen('PC5')[:20]"
      ]
    },
    {
      "cell_type": "code",
      "execution_count": 16,
      "metadata": {},
      "outputs": [
        {
          "output_type": "execute_result",
          "data": {
            "text/plain": [
              "          PC1       PC2       PC3       PC4       PC5       PC6  \\\n",
              "46  -5.613708  1.362174  4.160823  0.133737  6.577399  1.951949   \n",
              "27  -4.762620  5.986515  0.779875  0.274153  5.157132  1.897917   \n",
              "19  -3.689545  5.179207  6.002304  0.935984  4.799969 -0.358352   \n",
              "325  7.518419 -1.999598 -2.743127 -3.912738  4.252019  1.202575   \n",
              "192 -3.931458 -2.056729  3.251410  0.692700  4.014044  2.713213   \n",
              "162 -4.489822 -1.434867  3.178308 -0.324171  3.955792  1.496062   \n",
              "248 -1.391116 -3.707510  3.339102 -0.787415  3.934840 -1.470100   \n",
              "206 -3.973441 -2.444544  3.824363  0.536116  3.909735  0.758872   \n",
              "79  -5.337619  2.038650  3.632340  0.358058  3.672232  0.197397   \n",
              "224 -4.816555 -2.199053  0.520586  0.142971  3.536205  0.158427   \n",
              "\n",
              "              PLAYER TEAM POSITION  \n",
              "46         JJ Redick  PHI        G  \n",
              "27       CJ McCollum  POR        G  \n",
              "19     Klay Thompson  GSW        G  \n",
              "325     Damian Jones  GSW        C  \n",
              "192    Landry Shamet  LAC        G  \n",
              "162  Wayne Ellington  DET        G  \n",
              "248   Doug McDermott  IND        F  \n",
              "206      Kyle Korver  UTA      G-F  \n",
              "79     Terrence Ross  ORL      G-F  \n",
              "224       Seth Curry  POR        G  "
            ],
            "text/html": "<div>\n<style scoped>\n    .dataframe tbody tr th:only-of-type {\n        vertical-align: middle;\n    }\n\n    .dataframe tbody tr th {\n        vertical-align: top;\n    }\n\n    .dataframe thead th {\n        text-align: right;\n    }\n</style>\n<table border=\"1\" class=\"dataframe\">\n  <thead>\n    <tr style=\"text-align: right;\">\n      <th></th>\n      <th>PC1</th>\n      <th>PC2</th>\n      <th>PC3</th>\n      <th>PC4</th>\n      <th>PC5</th>\n      <th>PC6</th>\n      <th>PLAYER</th>\n      <th>TEAM</th>\n      <th>POSITION</th>\n    </tr>\n  </thead>\n  <tbody>\n    <tr>\n      <th>46</th>\n      <td>-5.613708</td>\n      <td>1.362174</td>\n      <td>4.160823</td>\n      <td>0.133737</td>\n      <td>6.577399</td>\n      <td>1.951949</td>\n      <td>JJ Redick</td>\n      <td>PHI</td>\n      <td>G</td>\n    </tr>\n    <tr>\n      <th>27</th>\n      <td>-4.762620</td>\n      <td>5.986515</td>\n      <td>0.779875</td>\n      <td>0.274153</td>\n      <td>5.157132</td>\n      <td>1.897917</td>\n      <td>CJ McCollum</td>\n      <td>POR</td>\n      <td>G</td>\n    </tr>\n    <tr>\n      <th>19</th>\n      <td>-3.689545</td>\n      <td>5.179207</td>\n      <td>6.002304</td>\n      <td>0.935984</td>\n      <td>4.799969</td>\n      <td>-0.358352</td>\n      <td>Klay Thompson</td>\n      <td>GSW</td>\n      <td>G</td>\n    </tr>\n    <tr>\n      <th>325</th>\n      <td>7.518419</td>\n      <td>-1.999598</td>\n      <td>-2.743127</td>\n      <td>-3.912738</td>\n      <td>4.252019</td>\n      <td>1.202575</td>\n      <td>Damian Jones</td>\n      <td>GSW</td>\n      <td>C</td>\n    </tr>\n    <tr>\n      <th>192</th>\n      <td>-3.931458</td>\n      <td>-2.056729</td>\n      <td>3.251410</td>\n      <td>0.692700</td>\n      <td>4.014044</td>\n      <td>2.713213</td>\n      <td>Landry Shamet</td>\n      <td>LAC</td>\n      <td>G</td>\n    </tr>\n    <tr>\n      <th>162</th>\n      <td>-4.489822</td>\n      <td>-1.434867</td>\n      <td>3.178308</td>\n      <td>-0.324171</td>\n      <td>3.955792</td>\n      <td>1.496062</td>\n      <td>Wayne Ellington</td>\n      <td>DET</td>\n      <td>G</td>\n    </tr>\n    <tr>\n      <th>248</th>\n      <td>-1.391116</td>\n      <td>-3.707510</td>\n      <td>3.339102</td>\n      <td>-0.787415</td>\n      <td>3.934840</td>\n      <td>-1.470100</td>\n      <td>Doug McDermott</td>\n      <td>IND</td>\n      <td>F</td>\n    </tr>\n    <tr>\n      <th>206</th>\n      <td>-3.973441</td>\n      <td>-2.444544</td>\n      <td>3.824363</td>\n      <td>0.536116</td>\n      <td>3.909735</td>\n      <td>0.758872</td>\n      <td>Kyle Korver</td>\n      <td>UTA</td>\n      <td>G-F</td>\n    </tr>\n    <tr>\n      <th>79</th>\n      <td>-5.337619</td>\n      <td>2.038650</td>\n      <td>3.632340</td>\n      <td>0.358058</td>\n      <td>3.672232</td>\n      <td>0.197397</td>\n      <td>Terrence Ross</td>\n      <td>ORL</td>\n      <td>G-F</td>\n    </tr>\n    <tr>\n      <th>224</th>\n      <td>-4.816555</td>\n      <td>-2.199053</td>\n      <td>0.520586</td>\n      <td>0.142971</td>\n      <td>3.536205</td>\n      <td>0.158427</td>\n      <td>Seth Curry</td>\n      <td>POR</td>\n      <td>G</td>\n    </tr>\n  </tbody>\n</table>\n</div>"
          },
          "metadata": {},
          "execution_count": 16
        }
      ],
      "source": [
        "pca_df.nlargest(10, 'PC5')"
      ]
    },
    {
      "source": [
        "## PC6"
      ],
      "cell_type": "markdown",
      "metadata": {}
    },
    {
      "cell_type": "code",
      "execution_count": 17,
      "metadata": {},
      "outputs": [
        {
          "output_type": "execute_result",
          "data": {
            "text/plain": [
              "16-3PT_DFGM            0.357542\n",
              "10-15_DFGM             0.271653\n",
              "16-3PT_DIF_FREQ        0.244876\n",
              "6-9_DFGM               0.241628\n",
              "TRANSITION_FG%        -0.229633\n",
              "ISOLATION_FREQ        -0.215937\n",
              "SPOT_UP_FG%           -0.191844\n",
              "10-15_DIF_FREQ         0.183958\n",
              "ISOLATION_FGM         -0.169040\n",
              "CONTESTED 2PT SHOTS    0.156854\n",
              "POST_UP_FG%           -0.149580\n",
              "USG%                  -0.145842\n",
              "CHARGES DRAWN          0.144012\n",
              "AST/TO                 0.133219\n",
              "16-3PT_DIFF%           0.132129\n",
              "ISOLATION_FG%         -0.130721\n",
              "6-9_DIF_FREQ           0.130193\n",
              "FG%                   -0.127750\n",
              "FGM_10-14             -0.127671\n",
              "PASSES MADE            0.121740\n",
              "Name: PC6, dtype: float64"
            ]
          },
          "metadata": {},
          "execution_count": 17
        }
      ],
      "source": [
        "pca.PCA_sorted_eigen('PC6')[:20]"
      ]
    },
    {
      "cell_type": "code",
      "execution_count": 18,
      "metadata": {},
      "outputs": [
        {
          "output_type": "execute_result",
          "data": {
            "text/plain": [
              "           PC1       PC2       PC3       PC4       PC5       PC6  \\\n",
              "387   3.139209 -7.205312 -3.718400  1.996453  0.279494  5.253720   \n",
              "234  -0.324836 -3.564711 -2.367096  1.914977  0.231854  4.364747   \n",
              "111   1.877886  0.888777 -1.867852  0.664106 -3.404786  4.144920   \n",
              "145  11.954843  1.252299 -1.169913 -2.371905  1.932416  4.054224   \n",
              "110  -4.362810  3.846431 -2.780877 -0.976314 -0.146467  4.013187   \n",
              "115   3.798212  3.148725  5.123692  0.348581  0.691293  4.005347   \n",
              "106  -0.578133 -1.392941 -1.851596  2.645079 -1.719034  3.991069   \n",
              "382  -4.750130 -7.756118  0.586817  3.518196 -0.977927  3.896986   \n",
              "236  -1.758441 -2.640567 -3.935762  2.579346 -1.185277  3.507502   \n",
              "58   13.072730  4.514734 -0.939064 -4.610623  0.355975  3.479539   \n",
              "\n",
              "              PLAYER TEAM POSITION  \n",
              "387       Quincy Acy  PHX        F  \n",
              "234  Rodney McGruder  LAC      F-G  \n",
              "111   Thaddeus Young  IND        F  \n",
              "145    Jarrett Allen  BKN        C  \n",
              "110      Ricky Rubio  UTA        G  \n",
              "115      Brook Lopez  MIL        C  \n",
              "106       Cedi Osman  CLE        F  \n",
              "382   Dairis Bertans  NOP        G  \n",
              "236     Shelvin Mack  CHA        G  \n",
              "58      Clint Capela  HOU        C  "
            ],
            "text/html": "<div>\n<style scoped>\n    .dataframe tbody tr th:only-of-type {\n        vertical-align: middle;\n    }\n\n    .dataframe tbody tr th {\n        vertical-align: top;\n    }\n\n    .dataframe thead th {\n        text-align: right;\n    }\n</style>\n<table border=\"1\" class=\"dataframe\">\n  <thead>\n    <tr style=\"text-align: right;\">\n      <th></th>\n      <th>PC1</th>\n      <th>PC2</th>\n      <th>PC3</th>\n      <th>PC4</th>\n      <th>PC5</th>\n      <th>PC6</th>\n      <th>PLAYER</th>\n      <th>TEAM</th>\n      <th>POSITION</th>\n    </tr>\n  </thead>\n  <tbody>\n    <tr>\n      <th>387</th>\n      <td>3.139209</td>\n      <td>-7.205312</td>\n      <td>-3.718400</td>\n      <td>1.996453</td>\n      <td>0.279494</td>\n      <td>5.253720</td>\n      <td>Quincy Acy</td>\n      <td>PHX</td>\n      <td>F</td>\n    </tr>\n    <tr>\n      <th>234</th>\n      <td>-0.324836</td>\n      <td>-3.564711</td>\n      <td>-2.367096</td>\n      <td>1.914977</td>\n      <td>0.231854</td>\n      <td>4.364747</td>\n      <td>Rodney McGruder</td>\n      <td>LAC</td>\n      <td>F-G</td>\n    </tr>\n    <tr>\n      <th>111</th>\n      <td>1.877886</td>\n      <td>0.888777</td>\n      <td>-1.867852</td>\n      <td>0.664106</td>\n      <td>-3.404786</td>\n      <td>4.144920</td>\n      <td>Thaddeus Young</td>\n      <td>IND</td>\n      <td>F</td>\n    </tr>\n    <tr>\n      <th>145</th>\n      <td>11.954843</td>\n      <td>1.252299</td>\n      <td>-1.169913</td>\n      <td>-2.371905</td>\n      <td>1.932416</td>\n      <td>4.054224</td>\n      <td>Jarrett Allen</td>\n      <td>BKN</td>\n      <td>C</td>\n    </tr>\n    <tr>\n      <th>110</th>\n      <td>-4.362810</td>\n      <td>3.846431</td>\n      <td>-2.780877</td>\n      <td>-0.976314</td>\n      <td>-0.146467</td>\n      <td>4.013187</td>\n      <td>Ricky Rubio</td>\n      <td>UTA</td>\n      <td>G</td>\n    </tr>\n    <tr>\n      <th>115</th>\n      <td>3.798212</td>\n      <td>3.148725</td>\n      <td>5.123692</td>\n      <td>0.348581</td>\n      <td>0.691293</td>\n      <td>4.005347</td>\n      <td>Brook Lopez</td>\n      <td>MIL</td>\n      <td>C</td>\n    </tr>\n    <tr>\n      <th>106</th>\n      <td>-0.578133</td>\n      <td>-1.392941</td>\n      <td>-1.851596</td>\n      <td>2.645079</td>\n      <td>-1.719034</td>\n      <td>3.991069</td>\n      <td>Cedi Osman</td>\n      <td>CLE</td>\n      <td>F</td>\n    </tr>\n    <tr>\n      <th>382</th>\n      <td>-4.750130</td>\n      <td>-7.756118</td>\n      <td>0.586817</td>\n      <td>3.518196</td>\n      <td>-0.977927</td>\n      <td>3.896986</td>\n      <td>Dairis Bertans</td>\n      <td>NOP</td>\n      <td>G</td>\n    </tr>\n    <tr>\n      <th>236</th>\n      <td>-1.758441</td>\n      <td>-2.640567</td>\n      <td>-3.935762</td>\n      <td>2.579346</td>\n      <td>-1.185277</td>\n      <td>3.507502</td>\n      <td>Shelvin Mack</td>\n      <td>CHA</td>\n      <td>G</td>\n    </tr>\n    <tr>\n      <th>58</th>\n      <td>13.072730</td>\n      <td>4.514734</td>\n      <td>-0.939064</td>\n      <td>-4.610623</td>\n      <td>0.355975</td>\n      <td>3.479539</td>\n      <td>Clint Capela</td>\n      <td>HOU</td>\n      <td>C</td>\n    </tr>\n  </tbody>\n</table>\n</div>"
          },
          "metadata": {},
          "execution_count": 18
        }
      ],
      "source": [
        "pca_df.nlargest(10, 'PC6')"
      ]
    },
    {
      "cell_type": "code",
      "execution_count": 19,
      "metadata": {},
      "outputs": [
        {
          "output_type": "execute_result",
          "data": {
            "text/plain": [
              "        PC1        PC2       PC3       PC4       PC5       PC6  \\\n",
              "0 -4.031557  13.412326 -3.632878  1.631335 -1.885437 -3.810644   \n",
              "1 -4.056028   9.452138  2.918992 -0.759261 -1.869097 -0.458240   \n",
              "2  3.229130  10.224854 -0.194595 -2.957345 -1.885142 -3.187067   \n",
              "3  7.744786  10.630323  1.505087  2.989003 -0.376304  1.170620   \n",
              "4 -1.401341   9.265636 -1.950025 -0.275184 -1.594073 -3.498045   \n",
              "\n",
              "                  PLAYER TEAM POSITION  \n",
              "0           James Harden  HOU        G  \n",
              "1            Paul George  OKC        F  \n",
              "2  Giannis Antetokounmpo  MIL        F  \n",
              "3            Joel Embiid  PHI      F-C  \n",
              "4           LeBron James  LAL        F  "
            ],
            "text/html": "<div>\n<style scoped>\n    .dataframe tbody tr th:only-of-type {\n        vertical-align: middle;\n    }\n\n    .dataframe tbody tr th {\n        vertical-align: top;\n    }\n\n    .dataframe thead th {\n        text-align: right;\n    }\n</style>\n<table border=\"1\" class=\"dataframe\">\n  <thead>\n    <tr style=\"text-align: right;\">\n      <th></th>\n      <th>PC1</th>\n      <th>PC2</th>\n      <th>PC3</th>\n      <th>PC4</th>\n      <th>PC5</th>\n      <th>PC6</th>\n      <th>PLAYER</th>\n      <th>TEAM</th>\n      <th>POSITION</th>\n    </tr>\n  </thead>\n  <tbody>\n    <tr>\n      <th>0</th>\n      <td>-4.031557</td>\n      <td>13.412326</td>\n      <td>-3.632878</td>\n      <td>1.631335</td>\n      <td>-1.885437</td>\n      <td>-3.810644</td>\n      <td>James Harden</td>\n      <td>HOU</td>\n      <td>G</td>\n    </tr>\n    <tr>\n      <th>1</th>\n      <td>-4.056028</td>\n      <td>9.452138</td>\n      <td>2.918992</td>\n      <td>-0.759261</td>\n      <td>-1.869097</td>\n      <td>-0.458240</td>\n      <td>Paul George</td>\n      <td>OKC</td>\n      <td>F</td>\n    </tr>\n    <tr>\n      <th>2</th>\n      <td>3.229130</td>\n      <td>10.224854</td>\n      <td>-0.194595</td>\n      <td>-2.957345</td>\n      <td>-1.885142</td>\n      <td>-3.187067</td>\n      <td>Giannis Antetokounmpo</td>\n      <td>MIL</td>\n      <td>F</td>\n    </tr>\n    <tr>\n      <th>3</th>\n      <td>7.744786</td>\n      <td>10.630323</td>\n      <td>1.505087</td>\n      <td>2.989003</td>\n      <td>-0.376304</td>\n      <td>1.170620</td>\n      <td>Joel Embiid</td>\n      <td>PHI</td>\n      <td>F-C</td>\n    </tr>\n    <tr>\n      <th>4</th>\n      <td>-1.401341</td>\n      <td>9.265636</td>\n      <td>-1.950025</td>\n      <td>-0.275184</td>\n      <td>-1.594073</td>\n      <td>-3.498045</td>\n      <td>LeBron James</td>\n      <td>LAL</td>\n      <td>F</td>\n    </tr>\n  </tbody>\n</table>\n</div>"
          },
          "metadata": {},
          "execution_count": 19
        }
      ],
      "source": [
        "pca_df.head()\n"
      ]
    },
    {
      "cell_type": "code",
      "execution_count": 20,
      "metadata": {},
      "outputs": [],
      "source": [
        "pca_df.to_csv('Data/PCA_data.csv', index = False)"
      ]
    }
  ],
  "metadata": {
    "kernelspec": {
      "name": "python3",
      "display_name": "Python 3.8.5 32-bit ('NBA_Cluster_Analysis')",
      "metadata": {
        "interpreter": {
          "hash": "70dd8121f2392083948bfadbc883b48fb6952fe73b221a0b619934eed75522c3"
        }
      }
    },
    "language_info": {
      "mimetype": "text/x-python",
      "nbconvert_exporter": "python",
      "name": "python",
      "pygments_lexer": "ipython3",
      "version": "3.8.5-final",
      "file_extension": ".py",
      "codemirror_mode": {
        "version": 3,
        "name": "ipython"
      }
    }
  },
  "nbformat": 4,
  "nbformat_minor": 2
}