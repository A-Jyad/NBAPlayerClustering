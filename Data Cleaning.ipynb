{
  "cells": [
    {
      "metadata": {
        "trusted": true
      },
      "cell_type": "code",
      "source": "import pandas as pd\nimport numpy as np\n\npd.set_option('display.max_columns', None)",
      "execution_count": 1,
      "outputs": []
    },
    {
      "metadata": {
        "trusted": true
      },
      "cell_type": "code",
      "source": "xls = pd.ExcelFile('General Stats.xlsx')\n\ngeneral = pd.read_excel(xls, 'General')\nadvanced = pd.read_excel(xls, 'Advanced')\ndefense_overall = pd.read_excel(xls, 'Overall Defensive Dashboard')\ndefense_3pt = pd.read_excel(xls, '3pt Defensive Dashboard')\ndefense_6ft = pd.read_excel(xls, '< 6ft Defensive Dashboard')\ndefense_10ft = pd.read_excel(xls, '< 10ft Defensive Dashboard')\ndefense_15ft = pd.read_excel(xls, '> 15ft Defensive Dashboard')\nhustle = pd.read_excel(xls, 'Hustle')\nshooting = pd.read_excel(xls, 'Shooting')\nisolation = pd.read_excel(xls, 'Isolation')\npnr_handler = pd.read_excel(xls, 'PnR Ball Handler')\npnr_roll = pd.read_excel(xls, 'PnR Roll Man')\ntransition = pd.read_excel(xls, 'Transition')\npost_up = pd.read_excel(xls, 'Post Up')\nspot_up = pd.read_excel(xls, 'Spot Up')\nhandoff = pd.read_excel(xls, 'Handoff')\ncut = pd.read_excel(xls, 'Cut')\noff_screen = pd.read_excel(xls, 'Off Screen')\nputback = pd.read_excel(xls, 'Putback')\npassing = pd.read_excel(xls, 'Passing')",
      "execution_count": 2,
      "outputs": []
    },
    {
      "metadata": {
        "trusted": true
      },
      "cell_type": "code",
      "source": "advanced.rename({'AST\\xa0RATIO' : 'AST RATIO'}, axis = 1, inplace = True)\n\ndef change_name_defense(df, shot_type):\n    for feature in ['FREQ', 'DFGM', 'DFGA', 'DFG%', 'FG%', 'DIFF%']:\n        df.rename({feature : shot_type + '_' + feature}, axis = 1, inplace = True)\nchange_name_defense(defense_overall, 'OVERALL')\nchange_name_defense(defense_3pt, '3PT')\nchange_name_defense(defense_6ft, '6FT')\nchange_name_defense(defense_10ft, '10FT')\nchange_name_defense(defense_15ft, '15FT')\n\nhustle.rename({'SCREEN' : 'SCREEN ASSISTS',\n               'SCREEN.1' : 'SCREEN ASSISTS PTS',\n               'OFF LOOSE BALLS' : 'OFF LOOSE BALLS RECOVERED',\n               'DEF LOOSE BALLS' : 'DEF LOOSE BALLS RECOVERED',\n               'LOOSE BALLS' : 'LOOSE BALLS RECOVERED',\n               '% LOOSE BALLS' : '% LOOSE BALLS RECOVERED OFF',\n               '% LOOSE BALLS.1' : '% LOOSE BALLS RECOVERED DEF',\n               'CHARGES' : 'CHARGES DRAWN',\n               'CONTESTED' : 'CONTESTED 2PT SHOTS',\n               'CONTESTED.1' : 'CONTESTED 3PT SHOTS',\n               'CONTESTED.2' : 'CONTESTED SHOTS'}, axis = 1, inplace = True)\nhustle.drop(0, inplace = True)\nhustle.replace('-', 0, inplace = True)\nhustle[['SCREEN ASSISTS', 'SCREEN ASSISTS PTS', 'DEFLECTIONS', 'OFF LOOSE BALLS RECOVERED', 'DEF LOOSE BALLS RECOVERED',\n        'LOOSE BALLS RECOVERED', '% LOOSE BALLS RECOVERED OFF', '% LOOSE BALLS RECOVERED DEF', 'CHARGES DRAWN', 'CONTESTED 2PT SHOTS',\n        'CONTESTED 3PT SHOTS', 'CONTESTED SHOTS']] = hustle[['SCREEN ASSISTS', 'SCREEN ASSISTS PTS', 'DEFLECTIONS', 'OFF LOOSE BALLS RECOVERED', 'DEF LOOSE BALLS RECOVERED',\n                                                             'LOOSE BALLS RECOVERED', '% LOOSE BALLS RECOVERED OFF', '% LOOSE BALLS RECOVERED DEF', 'CHARGES DRAWN', 'CONTESTED 2PT SHOTS',\n                                                             'CONTESTED 3PT SHOTS', 'CONTESTED SHOTS']].astype('float')\n\nshooting.reset_index(inplace = True)\nshooting.rename({'level_0' : 'PLAYER',\n                 'level_1' : 'TEAM',   \n                 'level_2' : 'AGE',\n                 'LESS\\xa0THAN\\xa05FT.' : 'FGM_<15',\n                 'Unnamed: 1' : 'FGA_<15',\n                 'Unnamed: 2' : 'FG%_<15',\n                 '5-9\\xa0FT.' : 'FGM_5-9',\n                 'Unnamed: 4' : 'FGA_5-9',\n                 'Unnamed: 5' : 'FG%_5-9',\n                 '10-14\\xa0FT.' : 'FGM_10-14',\n                 'Unnamed: 7' : 'FGA_10-14',\n                 'Unnamed: 8' : 'FG%_10-14',\n                 '15-19\\xa0FT.' : 'FGM_15-19',\n                 'Unnamed: 10' : 'FGA_15-19',\n                 'Unnamed: 11' : 'FG%_15-19',\n                 '20-24\\xa0FT.' : 'FGM_20-24',\n                 'Unnamed: 13' : 'FGA_20-24',\n                 'Unnamed: 14' : 'FG%_20-24',\n                 '25-29\\xa0FT.' : 'FGM_25-29',\n                 'Unnamed: 16' : 'FGA_25-29',\n                 'Unnamed: 17' : 'FG%_25-29'}, axis = 1, inplace = True)\nshooting.fillna(0, inplace = True)\nshooting.drop(0, inplace = True)\nshooting.replace('-', 0, inplace = True)\nshooting[['FGM_<15', 'FGA_<15', 'FG%_<15', 'FGM_5-9', 'FGA_5-9', 'FG%_5-9', 'FGM_10-14', 'FGA_10-14', 'FG%_10-14', 'FGM_15-19', 'FGA_15-19',\n          'FG%_15-19', 'FGM_20-24', 'FGA_20-24', 'FG%_20-24', 'FGM_25-29', 'FGA_25-29', 'FG%_25-29']] = shooting[['FGM_<15', 'FGA_<15', 'FG%_<15', 'FGM_5-9', 'FGA_5-9', 'FG%_5-9', 'FGM_10-14', 'FGA_10-14', 'FG%_10-14', 'FGM_15-19', 'FGA_15-19',\n                                                                                                                 'FG%_15-19', 'FGM_20-24', 'FGA_20-24', 'FG%_20-24', 'FGM_25-29', 'FGA_25-29', 'FG%_25-29']].astype('float')\n\ndef change_name_poss(df, poss_type):\n    for feature in ['FT', 'TOV', 'SF', 'AND\\xa0ONE', 'SCORE']:\n        df.rename({feature : poss_type + '_' + feature + '_FREQ'}, axis = 1, inplace = True)\n    for feature in ['POSS', 'FREQ', 'PPP', 'PTS', 'FGM', 'FGA', 'FG%', 'EFG%', 'PERCENTILE']:\n        df.rename({feature : poss_type + '_' + feature}, axis = 1, inplace = True)\n    df.drop(0, inplace = True)\nchange_name_poss(isolation, 'ISOLATION')\nchange_name_poss(pnr_handler, 'PNR_HANDLER')\nchange_name_poss(pnr_roll, 'PNR_ROLL')\nchange_name_poss(transition, 'TRANSITION')\nchange_name_poss(post_up, 'POST_UP')\nchange_name_poss(spot_up, 'SPOT_UP')\nchange_name_poss(handoff, 'HANDOFF')\nchange_name_poss(cut, 'CUT')\nchange_name_poss(off_screen, 'OFF_SCREEN')\nchange_name_poss(putback, 'PUTBACK')\n\npassing.rename({'PASSES' : 'PASSES MADE',\n                'PASSES.1' : 'PASSES RECEIVED',\n                'SECONDARY' : 'SECONDARY AST',\n                'POTENTIAL' : 'POTENTIAL AST',\n                'AST\\xa0PTS' : 'AST PTS CREATED',\n                'AST.1' : 'AST ADJ',\n                'AST\\xa0TO' : 'AST TO PASS%',\n                'AST\\xa0TO.1' : 'AST TO PASS% ADJ'}, axis = 1, inplace = True)\npassing.drop(0, inplace = True)\npassing.replace('-', 0, inplace = True)\npassing[['PASSES MADE', 'PASSES RECEIVED', 'AST', 'SECONDARY AST', 'POTENTIAL AST',\n         'AST PTS CREATED', 'AST ADJ', 'AST TO PASS%', 'AST TO PASS% ADJ']] = passing[['PASSES MADE', 'PASSES RECEIVED', 'AST', 'SECONDARY AST', 'POTENTIAL AST',\n                                                                                       'AST PTS CREATED', 'AST ADJ', 'AST TO PASS%', 'AST TO PASS% ADJ']].astype('float')     ",
      "execution_count": 3,
      "outputs": []
    },
    {
      "metadata": {
        "trusted": true
      },
      "cell_type": "code",
      "source": "",
      "execution_count": null,
      "outputs": []
    }
  ],
  "metadata": {
    "kernelspec": {
      "name": "python36",
      "display_name": "Python 3.6",
      "language": "python"
    },
    "language_info": {
      "mimetype": "text/x-python",
      "nbconvert_exporter": "python",
      "name": "python",
      "pygments_lexer": "ipython3",
      "version": "3.6.6",
      "file_extension": ".py",
      "codemirror_mode": {
        "version": 3,
        "name": "ipython"
      }
    }
  },
  "nbformat": 4,
  "nbformat_minor": 2
}