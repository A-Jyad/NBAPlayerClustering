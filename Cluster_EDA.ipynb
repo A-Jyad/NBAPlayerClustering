{
 "metadata": {
  "language_info": {
   "codemirror_mode": {
    "name": "ipython",
    "version": 3
   },
   "file_extension": ".py",
   "mimetype": "text/x-python",
   "name": "python",
   "nbconvert_exporter": "python",
   "pygments_lexer": "ipython3",
   "version": "3.8.5-final"
  },
  "orig_nbformat": 2,
  "kernelspec": {
   "name": "python3",
   "display_name": "Python 3"
  }
 },
 "nbformat": 4,
 "nbformat_minor": 2,
 "cells": [
  {
   "cell_type": "code",
   "execution_count": 52,
   "metadata": {},
   "outputs": [],
   "source": [
    "import pandas as pd\n",
    "from sklearn.preprocessing import MinMaxScaler"
   ]
  },
  {
   "cell_type": "code",
   "execution_count": 53,
   "metadata": {},
   "outputs": [
    {
     "output_type": "stream",
     "name": "stdout",
     "text": [
      "(388, 10)\n"
     ]
    },
    {
     "output_type": "execute_result",
     "data": {
      "text/plain": [
       "                  PLAYER TEAM POSITION  CLUSTER       PC1       PC2       PC3  \\\n",
       "0           James Harden  HOU        G        6  2.931592  1.522749  1.354774   \n",
       "1            Paul George  OKC        F        6  2.372402  0.913623 -1.497582   \n",
       "2  Giannis Antetokounmpo  MIL        F        1  1.376769  2.275728 -0.380252   \n",
       "3            Joel Embiid  PHI      F-C        1  0.702359  3.123232 -0.597765   \n",
       "4           LeBron James  LAL        F        6  1.957230  1.257717  0.474254   \n",
       "\n",
       "        PC4       PC5       PC6  \n",
       "0 -1.229530 -0.348220 -1.421312  \n",
       "1 -0.836698  0.295241  0.380116  \n",
       "2 -1.284083 -0.161401 -0.719837  \n",
       "3  0.038549 -0.135015 -1.363184  \n",
       "4 -1.624215  0.956039 -1.532015  "
      ],
      "text/html": "<div>\n<style scoped>\n    .dataframe tbody tr th:only-of-type {\n        vertical-align: middle;\n    }\n\n    .dataframe tbody tr th {\n        vertical-align: top;\n    }\n\n    .dataframe thead th {\n        text-align: right;\n    }\n</style>\n<table border=\"1\" class=\"dataframe\">\n  <thead>\n    <tr style=\"text-align: right;\">\n      <th></th>\n      <th>PLAYER</th>\n      <th>TEAM</th>\n      <th>POSITION</th>\n      <th>CLUSTER</th>\n      <th>PC1</th>\n      <th>PC2</th>\n      <th>PC3</th>\n      <th>PC4</th>\n      <th>PC5</th>\n      <th>PC6</th>\n    </tr>\n  </thead>\n  <tbody>\n    <tr>\n      <th>0</th>\n      <td>James Harden</td>\n      <td>HOU</td>\n      <td>G</td>\n      <td>6</td>\n      <td>2.931592</td>\n      <td>1.522749</td>\n      <td>1.354774</td>\n      <td>-1.229530</td>\n      <td>-0.348220</td>\n      <td>-1.421312</td>\n    </tr>\n    <tr>\n      <th>1</th>\n      <td>Paul George</td>\n      <td>OKC</td>\n      <td>F</td>\n      <td>6</td>\n      <td>2.372402</td>\n      <td>0.913623</td>\n      <td>-1.497582</td>\n      <td>-0.836698</td>\n      <td>0.295241</td>\n      <td>0.380116</td>\n    </tr>\n    <tr>\n      <th>2</th>\n      <td>Giannis Antetokounmpo</td>\n      <td>MIL</td>\n      <td>F</td>\n      <td>1</td>\n      <td>1.376769</td>\n      <td>2.275728</td>\n      <td>-0.380252</td>\n      <td>-1.284083</td>\n      <td>-0.161401</td>\n      <td>-0.719837</td>\n    </tr>\n    <tr>\n      <th>3</th>\n      <td>Joel Embiid</td>\n      <td>PHI</td>\n      <td>F-C</td>\n      <td>1</td>\n      <td>0.702359</td>\n      <td>3.123232</td>\n      <td>-0.597765</td>\n      <td>0.038549</td>\n      <td>-0.135015</td>\n      <td>-1.363184</td>\n    </tr>\n    <tr>\n      <th>4</th>\n      <td>LeBron James</td>\n      <td>LAL</td>\n      <td>F</td>\n      <td>6</td>\n      <td>1.957230</td>\n      <td>1.257717</td>\n      <td>0.474254</td>\n      <td>-1.624215</td>\n      <td>0.956039</td>\n      <td>-1.532015</td>\n    </tr>\n  </tbody>\n</table>\n</div>"
     },
     "metadata": {},
     "execution_count": 53
    }
   ],
   "source": [
    "data = pd.read_csv('Data\\Clustered_data.csv')\n",
    "print(data.shape)\n",
    "data.head()"
   ]
  },
  {
   "source": [
    "We have 7 Clusters"
   ],
   "cell_type": "markdown",
   "metadata": {}
  },
  {
   "cell_type": "code",
   "execution_count": 54,
   "metadata": {},
   "outputs": [
    {
     "output_type": "execute_result",
     "data": {
      "text/plain": [
       "       CLUSTER    PC1    PC2    PC3    PC4    PC5    PC6\n",
       "count    388.0  388.0  388.0  388.0  388.0  388.0  388.0\n",
       "mean       5.0   -0.0   -0.0    0.0   -0.0   -0.0    0.0\n",
       "std        2.1    1.0    1.0    1.0    1.0    1.0    1.0\n",
       "min        1.0   -2.2   -2.1   -2.3   -2.7   -3.3   -3.5\n",
       "25%        3.0   -0.7   -0.7   -0.7   -0.7   -0.6   -0.7\n",
       "50%        5.0   -0.1   -0.2   -0.0   -0.0   -0.1   -0.0\n",
       "75%        6.0    0.6    0.5    0.6    0.6    0.4    0.6\n",
       "max        8.0    2.9    3.5    3.2    3.6    5.7    3.5"
      ],
      "text/html": "<div>\n<style scoped>\n    .dataframe tbody tr th:only-of-type {\n        vertical-align: middle;\n    }\n\n    .dataframe tbody tr th {\n        vertical-align: top;\n    }\n\n    .dataframe thead th {\n        text-align: right;\n    }\n</style>\n<table border=\"1\" class=\"dataframe\">\n  <thead>\n    <tr style=\"text-align: right;\">\n      <th></th>\n      <th>CLUSTER</th>\n      <th>PC1</th>\n      <th>PC2</th>\n      <th>PC3</th>\n      <th>PC4</th>\n      <th>PC5</th>\n      <th>PC6</th>\n    </tr>\n  </thead>\n  <tbody>\n    <tr>\n      <th>count</th>\n      <td>388.0</td>\n      <td>388.0</td>\n      <td>388.0</td>\n      <td>388.0</td>\n      <td>388.0</td>\n      <td>388.0</td>\n      <td>388.0</td>\n    </tr>\n    <tr>\n      <th>mean</th>\n      <td>5.0</td>\n      <td>-0.0</td>\n      <td>-0.0</td>\n      <td>0.0</td>\n      <td>-0.0</td>\n      <td>-0.0</td>\n      <td>0.0</td>\n    </tr>\n    <tr>\n      <th>std</th>\n      <td>2.1</td>\n      <td>1.0</td>\n      <td>1.0</td>\n      <td>1.0</td>\n      <td>1.0</td>\n      <td>1.0</td>\n      <td>1.0</td>\n    </tr>\n    <tr>\n      <th>min</th>\n      <td>1.0</td>\n      <td>-2.2</td>\n      <td>-2.1</td>\n      <td>-2.3</td>\n      <td>-2.7</td>\n      <td>-3.3</td>\n      <td>-3.5</td>\n    </tr>\n    <tr>\n      <th>25%</th>\n      <td>3.0</td>\n      <td>-0.7</td>\n      <td>-0.7</td>\n      <td>-0.7</td>\n      <td>-0.7</td>\n      <td>-0.6</td>\n      <td>-0.7</td>\n    </tr>\n    <tr>\n      <th>50%</th>\n      <td>5.0</td>\n      <td>-0.1</td>\n      <td>-0.2</td>\n      <td>-0.0</td>\n      <td>-0.0</td>\n      <td>-0.1</td>\n      <td>-0.0</td>\n    </tr>\n    <tr>\n      <th>75%</th>\n      <td>6.0</td>\n      <td>0.6</td>\n      <td>0.5</td>\n      <td>0.6</td>\n      <td>0.6</td>\n      <td>0.4</td>\n      <td>0.6</td>\n    </tr>\n    <tr>\n      <th>max</th>\n      <td>8.0</td>\n      <td>2.9</td>\n      <td>3.5</td>\n      <td>3.2</td>\n      <td>3.6</td>\n      <td>5.7</td>\n      <td>3.5</td>\n    </tr>\n  </tbody>\n</table>\n</div>"
     },
     "metadata": {},
     "execution_count": 54
    }
   ],
   "source": [
    "data.describe().round(1)"
   ]
  },
  {
   "cell_type": "code",
   "execution_count": 55,
   "metadata": {},
   "outputs": [
    {
     "output_type": "execute_result",
     "data": {
      "text/plain": [
       "              PC1       PC2       PC3       PC4       PC5       PC6\n",
       "CLUSTER                                                            \n",
       "1        0.091334  1.884367 -0.525754 -0.300788 -0.851365 -0.269122\n",
       "2       -1.254168  1.173279  0.741630  0.459303  0.269682 -0.060140\n",
       "3        0.308488 -0.616709 -1.264813  1.431996  0.465607 -0.076242\n",
       "4        0.365819 -0.067761  0.193473 -0.983806  2.529068  0.293747\n",
       "5       -0.333446 -0.160568 -0.811543 -0.486182 -0.189518  0.703106\n",
       "6        1.180289 -0.026847  0.383642  0.220926 -0.211537 -0.001944\n",
       "7       -0.655424 -0.724626 -0.552281 -0.619717  0.028281 -1.538952\n",
       "8       -0.109761 -0.866907  1.043743 -0.197320 -0.280313 -0.127393"
      ],
      "text/html": "<div>\n<style scoped>\n    .dataframe tbody tr th:only-of-type {\n        vertical-align: middle;\n    }\n\n    .dataframe tbody tr th {\n        vertical-align: top;\n    }\n\n    .dataframe thead th {\n        text-align: right;\n    }\n</style>\n<table border=\"1\" class=\"dataframe\">\n  <thead>\n    <tr style=\"text-align: right;\">\n      <th></th>\n      <th>PC1</th>\n      <th>PC2</th>\n      <th>PC3</th>\n      <th>PC4</th>\n      <th>PC5</th>\n      <th>PC6</th>\n    </tr>\n    <tr>\n      <th>CLUSTER</th>\n      <th></th>\n      <th></th>\n      <th></th>\n      <th></th>\n      <th></th>\n      <th></th>\n    </tr>\n  </thead>\n  <tbody>\n    <tr>\n      <th>1</th>\n      <td>0.091334</td>\n      <td>1.884367</td>\n      <td>-0.525754</td>\n      <td>-0.300788</td>\n      <td>-0.851365</td>\n      <td>-0.269122</td>\n    </tr>\n    <tr>\n      <th>2</th>\n      <td>-1.254168</td>\n      <td>1.173279</td>\n      <td>0.741630</td>\n      <td>0.459303</td>\n      <td>0.269682</td>\n      <td>-0.060140</td>\n    </tr>\n    <tr>\n      <th>3</th>\n      <td>0.308488</td>\n      <td>-0.616709</td>\n      <td>-1.264813</td>\n      <td>1.431996</td>\n      <td>0.465607</td>\n      <td>-0.076242</td>\n    </tr>\n    <tr>\n      <th>4</th>\n      <td>0.365819</td>\n      <td>-0.067761</td>\n      <td>0.193473</td>\n      <td>-0.983806</td>\n      <td>2.529068</td>\n      <td>0.293747</td>\n    </tr>\n    <tr>\n      <th>5</th>\n      <td>-0.333446</td>\n      <td>-0.160568</td>\n      <td>-0.811543</td>\n      <td>-0.486182</td>\n      <td>-0.189518</td>\n      <td>0.703106</td>\n    </tr>\n    <tr>\n      <th>6</th>\n      <td>1.180289</td>\n      <td>-0.026847</td>\n      <td>0.383642</td>\n      <td>0.220926</td>\n      <td>-0.211537</td>\n      <td>-0.001944</td>\n    </tr>\n    <tr>\n      <th>7</th>\n      <td>-0.655424</td>\n      <td>-0.724626</td>\n      <td>-0.552281</td>\n      <td>-0.619717</td>\n      <td>0.028281</td>\n      <td>-1.538952</td>\n    </tr>\n    <tr>\n      <th>8</th>\n      <td>-0.109761</td>\n      <td>-0.866907</td>\n      <td>1.043743</td>\n      <td>-0.197320</td>\n      <td>-0.280313</td>\n      <td>-0.127393</td>\n    </tr>\n  </tbody>\n</table>\n</div>"
     },
     "metadata": {},
     "execution_count": 55
    }
   ],
   "source": [
    "data.groupby('CLUSTER').mean()"
   ]
  },
  {
   "cell_type": "code",
   "execution_count": 56,
   "metadata": {},
   "outputs": [
    {
     "output_type": "execute_result",
     "data": {
      "text/plain": [
       "        PC1       PC2       PC3       PC4       PC5       PC6\n",
       "0  0.552691  1.000000  0.320139  0.282729  0.000000  0.566368\n",
       "1  0.000000  0.741542  0.869134  0.597363  0.331628  0.659578\n",
       "2  0.641891  0.090939  0.000000  1.000000  0.389587  0.652396\n",
       "3  0.665441  0.290464  0.631688  0.000000  1.000000  0.817418\n",
       "4  0.378204  0.256732  0.196344  0.205987  0.195788  1.000000\n",
       "5  1.000000  0.305335  0.714064  0.498689  0.189274  0.685535\n",
       "6  0.245945  0.051715  0.308648  0.150712  0.260217  0.000000\n",
       "7  0.470087  0.000000  1.000000  0.325559  0.168929  0.629582"
      ],
      "text/html": "<div>\n<style scoped>\n    .dataframe tbody tr th:only-of-type {\n        vertical-align: middle;\n    }\n\n    .dataframe tbody tr th {\n        vertical-align: top;\n    }\n\n    .dataframe thead th {\n        text-align: right;\n    }\n</style>\n<table border=\"1\" class=\"dataframe\">\n  <thead>\n    <tr style=\"text-align: right;\">\n      <th></th>\n      <th>PC1</th>\n      <th>PC2</th>\n      <th>PC3</th>\n      <th>PC4</th>\n      <th>PC5</th>\n      <th>PC6</th>\n    </tr>\n  </thead>\n  <tbody>\n    <tr>\n      <th>0</th>\n      <td>0.552691</td>\n      <td>1.000000</td>\n      <td>0.320139</td>\n      <td>0.282729</td>\n      <td>0.000000</td>\n      <td>0.566368</td>\n    </tr>\n    <tr>\n      <th>1</th>\n      <td>0.000000</td>\n      <td>0.741542</td>\n      <td>0.869134</td>\n      <td>0.597363</td>\n      <td>0.331628</td>\n      <td>0.659578</td>\n    </tr>\n    <tr>\n      <th>2</th>\n      <td>0.641891</td>\n      <td>0.090939</td>\n      <td>0.000000</td>\n      <td>1.000000</td>\n      <td>0.389587</td>\n      <td>0.652396</td>\n    </tr>\n    <tr>\n      <th>3</th>\n      <td>0.665441</td>\n      <td>0.290464</td>\n      <td>0.631688</td>\n      <td>0.000000</td>\n      <td>1.000000</td>\n      <td>0.817418</td>\n    </tr>\n    <tr>\n      <th>4</th>\n      <td>0.378204</td>\n      <td>0.256732</td>\n      <td>0.196344</td>\n      <td>0.205987</td>\n      <td>0.195788</td>\n      <td>1.000000</td>\n    </tr>\n    <tr>\n      <th>5</th>\n      <td>1.000000</td>\n      <td>0.305335</td>\n      <td>0.714064</td>\n      <td>0.498689</td>\n      <td>0.189274</td>\n      <td>0.685535</td>\n    </tr>\n    <tr>\n      <th>6</th>\n      <td>0.245945</td>\n      <td>0.051715</td>\n      <td>0.308648</td>\n      <td>0.150712</td>\n      <td>0.260217</td>\n      <td>0.000000</td>\n    </tr>\n    <tr>\n      <th>7</th>\n      <td>0.470087</td>\n      <td>0.000000</td>\n      <td>1.000000</td>\n      <td>0.325559</td>\n      <td>0.168929</td>\n      <td>0.629582</td>\n    </tr>\n  </tbody>\n</table>\n</div>"
     },
     "metadata": {},
     "execution_count": 56
    }
   ],
   "source": [
    "minmax_scale = MinMaxScaler()\n",
    "data_mean = data.groupby('CLUSTER').mean()\n",
    "minmax_data = minmax_scale.fit_transform(data_mean)\n",
    "minmax_data = pd.DataFrame(minmax_data, columns = data_mean.columns.tolist())\n",
    "minmax_data"
   ]
  },
  {
   "source": [
    "# Analysis of each cluster:\n",
    "### Cluster 1:\n",
    "Cluster 1 seems to have high positive values for stats PC3, defense PC3, hustle PC3, shooting PC2, shooting PC3, play PC1, play PC1, play PC3 and play PC4. It has high negative values for stats PC2, defense PC2, hustle PC1, shooting PC1, shooting PC4 and passing PC1.\n"
   ],
   "cell_type": "markdown",
   "metadata": {}
  },
  {
   "cell_type": "code",
   "execution_count": 57,
   "metadata": {},
   "outputs": [
    {
     "output_type": "execute_result",
     "data": {
      "text/plain": [
       "                   PLAYER TEAM POSITION  CLUSTER       PC1       PC2  \\\n",
       "2   Giannis Antetokounmpo  MIL        F        1  1.376769  2.275728   \n",
       "3             Joel Embiid  PHI      F-C        1  0.702359  3.123232   \n",
       "9           Anthony Davis  NOP      F-C        1  0.949306  2.669166   \n",
       "14     Karl-Anthony Towns  MIN        C        1  0.516491  2.859344   \n",
       "20          Julius Randle  NOP      C-F        1  0.624752  1.607340   \n",
       "\n",
       "         PC3       PC4       PC5       PC6  \n",
       "2  -0.380252 -1.284083 -0.161401 -0.719837  \n",
       "3  -0.597765  0.038549 -0.135015 -1.363184  \n",
       "9  -0.928922 -0.685795  0.217468 -1.183368  \n",
       "14 -0.934771 -0.243467 -0.878217 -0.392673  \n",
       "20 -0.698850 -1.650037 -0.913432  0.813861  "
      ],
      "text/html": "<div>\n<style scoped>\n    .dataframe tbody tr th:only-of-type {\n        vertical-align: middle;\n    }\n\n    .dataframe tbody tr th {\n        vertical-align: top;\n    }\n\n    .dataframe thead th {\n        text-align: right;\n    }\n</style>\n<table border=\"1\" class=\"dataframe\">\n  <thead>\n    <tr style=\"text-align: right;\">\n      <th></th>\n      <th>PLAYER</th>\n      <th>TEAM</th>\n      <th>POSITION</th>\n      <th>CLUSTER</th>\n      <th>PC1</th>\n      <th>PC2</th>\n      <th>PC3</th>\n      <th>PC4</th>\n      <th>PC5</th>\n      <th>PC6</th>\n    </tr>\n  </thead>\n  <tbody>\n    <tr>\n      <th>2</th>\n      <td>Giannis Antetokounmpo</td>\n      <td>MIL</td>\n      <td>F</td>\n      <td>1</td>\n      <td>1.376769</td>\n      <td>2.275728</td>\n      <td>-0.380252</td>\n      <td>-1.284083</td>\n      <td>-0.161401</td>\n      <td>-0.719837</td>\n    </tr>\n    <tr>\n      <th>3</th>\n      <td>Joel Embiid</td>\n      <td>PHI</td>\n      <td>F-C</td>\n      <td>1</td>\n      <td>0.702359</td>\n      <td>3.123232</td>\n      <td>-0.597765</td>\n      <td>0.038549</td>\n      <td>-0.135015</td>\n      <td>-1.363184</td>\n    </tr>\n    <tr>\n      <th>9</th>\n      <td>Anthony Davis</td>\n      <td>NOP</td>\n      <td>F-C</td>\n      <td>1</td>\n      <td>0.949306</td>\n      <td>2.669166</td>\n      <td>-0.928922</td>\n      <td>-0.685795</td>\n      <td>0.217468</td>\n      <td>-1.183368</td>\n    </tr>\n    <tr>\n      <th>14</th>\n      <td>Karl-Anthony Towns</td>\n      <td>MIN</td>\n      <td>C</td>\n      <td>1</td>\n      <td>0.516491</td>\n      <td>2.859344</td>\n      <td>-0.934771</td>\n      <td>-0.243467</td>\n      <td>-0.878217</td>\n      <td>-0.392673</td>\n    </tr>\n    <tr>\n      <th>20</th>\n      <td>Julius Randle</td>\n      <td>NOP</td>\n      <td>C-F</td>\n      <td>1</td>\n      <td>0.624752</td>\n      <td>1.607340</td>\n      <td>-0.698850</td>\n      <td>-1.650037</td>\n      <td>-0.913432</td>\n      <td>0.813861</td>\n    </tr>\n  </tbody>\n</table>\n</div>"
     },
     "metadata": {},
     "execution_count": 57
    }
   ],
   "source": [
    "data[data['CLUSTER'] == 1].head()"
   ]
  },
  {
   "source": [
    "We have 7 clusters "
   ],
   "cell_type": "markdown",
   "metadata": {}
  },
  {
   "cell_type": "code",
   "execution_count": 58,
   "metadata": {},
   "outputs": [
    {
     "output_type": "execute_result",
     "data": {
      "text/plain": [
       "              PLAYER TEAM POSITION  CLUSTER       PC1       PC2       PC3  \\\n",
       "50    Andre Drummond  DET        C        2 -0.679270  3.063173  0.470392   \n",
       "58      Clint Capela  HOU        C        2 -0.862495  3.077544  0.015332   \n",
       "59  Montrezl Harrell  LAC      F-C        2 -0.599838  2.283150  0.127944   \n",
       "62     Deandre Ayton  PHX        C        2 -0.526141  2.970610  0.699331   \n",
       "67       Rudy Gobert  UTA        C        2 -1.226661  3.497759  0.202235   \n",
       "\n",
       "         PC4       PC5       PC6  \n",
       "50  0.243947  0.688466  0.961320  \n",
       "58  1.010098  2.346754  0.252322  \n",
       "59  0.106633  1.312895  0.814507  \n",
       "62  0.633179 -0.964658  0.492925  \n",
       "67  1.476063  1.770128  0.681787  "
      ],
      "text/html": "<div>\n<style scoped>\n    .dataframe tbody tr th:only-of-type {\n        vertical-align: middle;\n    }\n\n    .dataframe tbody tr th {\n        vertical-align: top;\n    }\n\n    .dataframe thead th {\n        text-align: right;\n    }\n</style>\n<table border=\"1\" class=\"dataframe\">\n  <thead>\n    <tr style=\"text-align: right;\">\n      <th></th>\n      <th>PLAYER</th>\n      <th>TEAM</th>\n      <th>POSITION</th>\n      <th>CLUSTER</th>\n      <th>PC1</th>\n      <th>PC2</th>\n      <th>PC3</th>\n      <th>PC4</th>\n      <th>PC5</th>\n      <th>PC6</th>\n    </tr>\n  </thead>\n  <tbody>\n    <tr>\n      <th>50</th>\n      <td>Andre Drummond</td>\n      <td>DET</td>\n      <td>C</td>\n      <td>2</td>\n      <td>-0.679270</td>\n      <td>3.063173</td>\n      <td>0.470392</td>\n      <td>0.243947</td>\n      <td>0.688466</td>\n      <td>0.961320</td>\n    </tr>\n    <tr>\n      <th>58</th>\n      <td>Clint Capela</td>\n      <td>HOU</td>\n      <td>C</td>\n      <td>2</td>\n      <td>-0.862495</td>\n      <td>3.077544</td>\n      <td>0.015332</td>\n      <td>1.010098</td>\n      <td>2.346754</td>\n      <td>0.252322</td>\n    </tr>\n    <tr>\n      <th>59</th>\n      <td>Montrezl Harrell</td>\n      <td>LAC</td>\n      <td>F-C</td>\n      <td>2</td>\n      <td>-0.599838</td>\n      <td>2.283150</td>\n      <td>0.127944</td>\n      <td>0.106633</td>\n      <td>1.312895</td>\n      <td>0.814507</td>\n    </tr>\n    <tr>\n      <th>62</th>\n      <td>Deandre Ayton</td>\n      <td>PHX</td>\n      <td>C</td>\n      <td>2</td>\n      <td>-0.526141</td>\n      <td>2.970610</td>\n      <td>0.699331</td>\n      <td>0.633179</td>\n      <td>-0.964658</td>\n      <td>0.492925</td>\n    </tr>\n    <tr>\n      <th>67</th>\n      <td>Rudy Gobert</td>\n      <td>UTA</td>\n      <td>C</td>\n      <td>2</td>\n      <td>-1.226661</td>\n      <td>3.497759</td>\n      <td>0.202235</td>\n      <td>1.476063</td>\n      <td>1.770128</td>\n      <td>0.681787</td>\n    </tr>\n  </tbody>\n</table>\n</div>"
     },
     "metadata": {},
     "execution_count": 58
    }
   ],
   "source": [
    "data[data['CLUSTER'] == 2].head()\n"
   ]
  },
  {
   "cell_type": "code",
   "execution_count": 59,
   "metadata": {},
   "outputs": [
    {
     "output_type": "execute_result",
     "data": {
      "text/plain": [
       "              PLAYER TEAM POSITION  CLUSTER       PC1       PC2       PC3  \\\n",
       "5      Stephen Curry  GSW        G        3  2.177599  0.280973 -1.608861   \n",
       "19     Klay Thompson  GSW        G        3  1.292709  0.264576 -2.343909   \n",
       "30       Buddy Hield  SAC        G        3  1.363537  0.151153 -1.676813   \n",
       "46         JJ Redick  PHI        G        3  0.834464 -0.695760 -1.524316   \n",
       "49  Bojan Bogdanovic  IND        F        3  0.876298  0.015112 -1.503156   \n",
       "\n",
       "         PC4       PC5       PC6  \n",
       "5   1.707142  1.908809 -0.013228  \n",
       "19  2.294463  0.710820  0.248599  \n",
       "30  0.655458  0.724353  0.575770  \n",
       "46  3.383426  2.674407 -0.234928  \n",
       "49  1.167468  0.092875 -0.114975  "
      ],
      "text/html": "<div>\n<style scoped>\n    .dataframe tbody tr th:only-of-type {\n        vertical-align: middle;\n    }\n\n    .dataframe tbody tr th {\n        vertical-align: top;\n    }\n\n    .dataframe thead th {\n        text-align: right;\n    }\n</style>\n<table border=\"1\" class=\"dataframe\">\n  <thead>\n    <tr style=\"text-align: right;\">\n      <th></th>\n      <th>PLAYER</th>\n      <th>TEAM</th>\n      <th>POSITION</th>\n      <th>CLUSTER</th>\n      <th>PC1</th>\n      <th>PC2</th>\n      <th>PC3</th>\n      <th>PC4</th>\n      <th>PC5</th>\n      <th>PC6</th>\n    </tr>\n  </thead>\n  <tbody>\n    <tr>\n      <th>5</th>\n      <td>Stephen Curry</td>\n      <td>GSW</td>\n      <td>G</td>\n      <td>3</td>\n      <td>2.177599</td>\n      <td>0.280973</td>\n      <td>-1.608861</td>\n      <td>1.707142</td>\n      <td>1.908809</td>\n      <td>-0.013228</td>\n    </tr>\n    <tr>\n      <th>19</th>\n      <td>Klay Thompson</td>\n      <td>GSW</td>\n      <td>G</td>\n      <td>3</td>\n      <td>1.292709</td>\n      <td>0.264576</td>\n      <td>-2.343909</td>\n      <td>2.294463</td>\n      <td>0.710820</td>\n      <td>0.248599</td>\n    </tr>\n    <tr>\n      <th>30</th>\n      <td>Buddy Hield</td>\n      <td>SAC</td>\n      <td>G</td>\n      <td>3</td>\n      <td>1.363537</td>\n      <td>0.151153</td>\n      <td>-1.676813</td>\n      <td>0.655458</td>\n      <td>0.724353</td>\n      <td>0.575770</td>\n    </tr>\n    <tr>\n      <th>46</th>\n      <td>JJ Redick</td>\n      <td>PHI</td>\n      <td>G</td>\n      <td>3</td>\n      <td>0.834464</td>\n      <td>-0.695760</td>\n      <td>-1.524316</td>\n      <td>3.383426</td>\n      <td>2.674407</td>\n      <td>-0.234928</td>\n    </tr>\n    <tr>\n      <th>49</th>\n      <td>Bojan Bogdanovic</td>\n      <td>IND</td>\n      <td>F</td>\n      <td>3</td>\n      <td>0.876298</td>\n      <td>0.015112</td>\n      <td>-1.503156</td>\n      <td>1.167468</td>\n      <td>0.092875</td>\n      <td>-0.114975</td>\n    </tr>\n  </tbody>\n</table>\n</div>"
     },
     "metadata": {},
     "execution_count": 59
    }
   ],
   "source": [
    "data[data['CLUSTER'] == 3].head()"
   ]
  },
  {
   "cell_type": "code",
   "execution_count": 60,
   "metadata": {},
   "outputs": [
    {
     "output_type": "execute_result",
     "data": {
      "text/plain": [
       "              PLAYER TEAM POSITION  CLUSTER       PC1       PC2       PC3  \\\n",
       "11      Kemba Walker  CHA        G        4  2.513660  0.376229  0.520219   \n",
       "13     Blake Griffin  DET        F        4  1.440265  1.373840 -0.009154   \n",
       "37    Victor Oladipo  IND        G        4  2.549020  0.181690  0.448866   \n",
       "45  Tim Hardaway Jr.  DAL        G        4  1.112164 -0.137598 -0.902156   \n",
       "63  DeMarcus Cousins  GSW        C        4  0.461363  1.851978 -0.217265   \n",
       "\n",
       "         PC4       PC5       PC6  \n",
       "11 -0.121190  2.527286 -0.003805  \n",
       "13 -2.118203  2.481937  0.942435  \n",
       "37 -1.552114  2.674552  1.328971  \n",
       "45 -0.279454  2.637467 -0.333976  \n",
       "63 -1.895965  1.988688 -0.050651  "
      ],
      "text/html": "<div>\n<style scoped>\n    .dataframe tbody tr th:only-of-type {\n        vertical-align: middle;\n    }\n\n    .dataframe tbody tr th {\n        vertical-align: top;\n    }\n\n    .dataframe thead th {\n        text-align: right;\n    }\n</style>\n<table border=\"1\" class=\"dataframe\">\n  <thead>\n    <tr style=\"text-align: right;\">\n      <th></th>\n      <th>PLAYER</th>\n      <th>TEAM</th>\n      <th>POSITION</th>\n      <th>CLUSTER</th>\n      <th>PC1</th>\n      <th>PC2</th>\n      <th>PC3</th>\n      <th>PC4</th>\n      <th>PC5</th>\n      <th>PC6</th>\n    </tr>\n  </thead>\n  <tbody>\n    <tr>\n      <th>11</th>\n      <td>Kemba Walker</td>\n      <td>CHA</td>\n      <td>G</td>\n      <td>4</td>\n      <td>2.513660</td>\n      <td>0.376229</td>\n      <td>0.520219</td>\n      <td>-0.121190</td>\n      <td>2.527286</td>\n      <td>-0.003805</td>\n    </tr>\n    <tr>\n      <th>13</th>\n      <td>Blake Griffin</td>\n      <td>DET</td>\n      <td>F</td>\n      <td>4</td>\n      <td>1.440265</td>\n      <td>1.373840</td>\n      <td>-0.009154</td>\n      <td>-2.118203</td>\n      <td>2.481937</td>\n      <td>0.942435</td>\n    </tr>\n    <tr>\n      <th>37</th>\n      <td>Victor Oladipo</td>\n      <td>IND</td>\n      <td>G</td>\n      <td>4</td>\n      <td>2.549020</td>\n      <td>0.181690</td>\n      <td>0.448866</td>\n      <td>-1.552114</td>\n      <td>2.674552</td>\n      <td>1.328971</td>\n    </tr>\n    <tr>\n      <th>45</th>\n      <td>Tim Hardaway Jr.</td>\n      <td>DAL</td>\n      <td>G</td>\n      <td>4</td>\n      <td>1.112164</td>\n      <td>-0.137598</td>\n      <td>-0.902156</td>\n      <td>-0.279454</td>\n      <td>2.637467</td>\n      <td>-0.333976</td>\n    </tr>\n    <tr>\n      <th>63</th>\n      <td>DeMarcus Cousins</td>\n      <td>GSW</td>\n      <td>C</td>\n      <td>4</td>\n      <td>0.461363</td>\n      <td>1.851978</td>\n      <td>-0.217265</td>\n      <td>-1.895965</td>\n      <td>1.988688</td>\n      <td>-0.050651</td>\n    </tr>\n  </tbody>\n</table>\n</div>"
     },
     "metadata": {},
     "execution_count": 60
    }
   ],
   "source": [
    "data[data['CLUSTER'] == 4].head()"
   ]
  },
  {
   "cell_type": "code",
   "execution_count": 61,
   "metadata": {},
   "outputs": [
    {
     "output_type": "execute_result",
     "data": {
      "text/plain": [
       "              PLAYER TEAM POSITION  CLUSTER       PC1       PC2       PC3  \\\n",
       "34  Danilo Gallinari  LAC        F        5  0.788790  0.600053 -1.064743   \n",
       "38   Lauri Markkanen  CHI        F        5  0.275926  0.930452 -1.323966   \n",
       "40        Kyle Kuzma  LAL        F        5  0.495965  0.798724 -0.779085   \n",
       "44    Andrew Wiggins  MIN      F-G        5  1.193119  0.516490 -0.657511   \n",
       "48       T.J. Warren  PHX        F        5  0.812577  0.286003 -1.391652   \n",
       "\n",
       "         PC4       PC5       PC6  \n",
       "34 -0.086608  0.764108 -0.871366  \n",
       "38 -0.021648 -0.263900  0.212460  \n",
       "40  0.211272  0.168196  0.381454  \n",
       "44 -0.396281 -0.154241  0.047751  \n",
       "48 -0.621298 -0.749893  0.169538  "
      ],
      "text/html": "<div>\n<style scoped>\n    .dataframe tbody tr th:only-of-type {\n        vertical-align: middle;\n    }\n\n    .dataframe tbody tr th {\n        vertical-align: top;\n    }\n\n    .dataframe thead th {\n        text-align: right;\n    }\n</style>\n<table border=\"1\" class=\"dataframe\">\n  <thead>\n    <tr style=\"text-align: right;\">\n      <th></th>\n      <th>PLAYER</th>\n      <th>TEAM</th>\n      <th>POSITION</th>\n      <th>CLUSTER</th>\n      <th>PC1</th>\n      <th>PC2</th>\n      <th>PC3</th>\n      <th>PC4</th>\n      <th>PC5</th>\n      <th>PC6</th>\n    </tr>\n  </thead>\n  <tbody>\n    <tr>\n      <th>34</th>\n      <td>Danilo Gallinari</td>\n      <td>LAC</td>\n      <td>F</td>\n      <td>5</td>\n      <td>0.788790</td>\n      <td>0.600053</td>\n      <td>-1.064743</td>\n      <td>-0.086608</td>\n      <td>0.764108</td>\n      <td>-0.871366</td>\n    </tr>\n    <tr>\n      <th>38</th>\n      <td>Lauri Markkanen</td>\n      <td>CHI</td>\n      <td>F</td>\n      <td>5</td>\n      <td>0.275926</td>\n      <td>0.930452</td>\n      <td>-1.323966</td>\n      <td>-0.021648</td>\n      <td>-0.263900</td>\n      <td>0.212460</td>\n    </tr>\n    <tr>\n      <th>40</th>\n      <td>Kyle Kuzma</td>\n      <td>LAL</td>\n      <td>F</td>\n      <td>5</td>\n      <td>0.495965</td>\n      <td>0.798724</td>\n      <td>-0.779085</td>\n      <td>0.211272</td>\n      <td>0.168196</td>\n      <td>0.381454</td>\n    </tr>\n    <tr>\n      <th>44</th>\n      <td>Andrew Wiggins</td>\n      <td>MIN</td>\n      <td>F-G</td>\n      <td>5</td>\n      <td>1.193119</td>\n      <td>0.516490</td>\n      <td>-0.657511</td>\n      <td>-0.396281</td>\n      <td>-0.154241</td>\n      <td>0.047751</td>\n    </tr>\n    <tr>\n      <th>48</th>\n      <td>T.J. Warren</td>\n      <td>PHX</td>\n      <td>F</td>\n      <td>5</td>\n      <td>0.812577</td>\n      <td>0.286003</td>\n      <td>-1.391652</td>\n      <td>-0.621298</td>\n      <td>-0.749893</td>\n      <td>0.169538</td>\n    </tr>\n  </tbody>\n</table>\n</div>"
     },
     "metadata": {},
     "execution_count": 61
    }
   ],
   "source": [
    "data[data['CLUSTER'] == 5].head()"
   ]
  },
  {
   "cell_type": "code",
   "execution_count": 62,
   "metadata": {},
   "outputs": [
    {
     "output_type": "execute_result",
     "data": {
      "text/plain": [
       "          PLAYER TEAM POSITION  CLUSTER       PC1       PC2       PC3  \\\n",
       "0   James Harden  HOU        G        6  2.931592  1.522749  1.354774   \n",
       "1    Paul George  OKC        F        6  2.372402  0.913623 -1.497582   \n",
       "4   LeBron James  LAL        F        6  1.957230  1.257717  0.474254   \n",
       "6  Kawhi Leonard  TOR        F        6  2.128525  1.035669 -0.645141   \n",
       "7   Devin Booker  PHX        G        6  1.939104  0.662536  1.081743   \n",
       "\n",
       "        PC4       PC5       PC6  \n",
       "0 -1.229530 -0.348220 -1.421312  \n",
       "1 -0.836698  0.295241  0.380116  \n",
       "4 -1.624215  0.956039 -1.532015  \n",
       "6 -0.592090 -1.497543 -0.395667  \n",
       "7  0.191984 -0.433708 -0.339943  "
      ],
      "text/html": "<div>\n<style scoped>\n    .dataframe tbody tr th:only-of-type {\n        vertical-align: middle;\n    }\n\n    .dataframe tbody tr th {\n        vertical-align: top;\n    }\n\n    .dataframe thead th {\n        text-align: right;\n    }\n</style>\n<table border=\"1\" class=\"dataframe\">\n  <thead>\n    <tr style=\"text-align: right;\">\n      <th></th>\n      <th>PLAYER</th>\n      <th>TEAM</th>\n      <th>POSITION</th>\n      <th>CLUSTER</th>\n      <th>PC1</th>\n      <th>PC2</th>\n      <th>PC3</th>\n      <th>PC4</th>\n      <th>PC5</th>\n      <th>PC6</th>\n    </tr>\n  </thead>\n  <tbody>\n    <tr>\n      <th>0</th>\n      <td>James Harden</td>\n      <td>HOU</td>\n      <td>G</td>\n      <td>6</td>\n      <td>2.931592</td>\n      <td>1.522749</td>\n      <td>1.354774</td>\n      <td>-1.229530</td>\n      <td>-0.348220</td>\n      <td>-1.421312</td>\n    </tr>\n    <tr>\n      <th>1</th>\n      <td>Paul George</td>\n      <td>OKC</td>\n      <td>F</td>\n      <td>6</td>\n      <td>2.372402</td>\n      <td>0.913623</td>\n      <td>-1.497582</td>\n      <td>-0.836698</td>\n      <td>0.295241</td>\n      <td>0.380116</td>\n    </tr>\n    <tr>\n      <th>4</th>\n      <td>LeBron James</td>\n      <td>LAL</td>\n      <td>F</td>\n      <td>6</td>\n      <td>1.957230</td>\n      <td>1.257717</td>\n      <td>0.474254</td>\n      <td>-1.624215</td>\n      <td>0.956039</td>\n      <td>-1.532015</td>\n    </tr>\n    <tr>\n      <th>6</th>\n      <td>Kawhi Leonard</td>\n      <td>TOR</td>\n      <td>F</td>\n      <td>6</td>\n      <td>2.128525</td>\n      <td>1.035669</td>\n      <td>-0.645141</td>\n      <td>-0.592090</td>\n      <td>-1.497543</td>\n      <td>-0.395667</td>\n    </tr>\n    <tr>\n      <th>7</th>\n      <td>Devin Booker</td>\n      <td>PHX</td>\n      <td>G</td>\n      <td>6</td>\n      <td>1.939104</td>\n      <td>0.662536</td>\n      <td>1.081743</td>\n      <td>0.191984</td>\n      <td>-0.433708</td>\n      <td>-0.339943</td>\n    </tr>\n  </tbody>\n</table>\n</div>"
     },
     "metadata": {},
     "execution_count": 62
    }
   ],
   "source": [
    "data[data['CLUSTER'] == 6].head()"
   ]
  },
  {
   "cell_type": "code",
   "execution_count": 63,
   "metadata": {},
   "outputs": [
    {
     "output_type": "execute_result",
     "data": {
      "text/plain": [
       "              PLAYER TEAM POSITION  CLUSTER       PC1       PC2       PC3  \\\n",
       "109    Kevin Knox II  NYK        F        7  0.208800 -0.396864 -0.548152   \n",
       "182  Markieff Morris  OKC        F        7 -0.646437  0.090945 -0.294557   \n",
       "183   JaMychal Green  LAC        F        7 -0.688872 -0.138422 -0.575412   \n",
       "195       Malik Monk  CHA        G        7  0.006543 -0.942696 -0.161646   \n",
       "204   Frank Kaminsky  CHA      F-C        7 -0.854220  0.324478 -0.800292   \n",
       "\n",
       "          PC4       PC5       PC6  \n",
       "109 -0.714141  0.089770 -0.962875  \n",
       "182 -0.358616 -0.556499 -1.296065  \n",
       "183 -0.971658 -0.001714 -1.435504  \n",
       "195  0.338265  0.772726 -1.641983  \n",
       "204 -1.040062 -0.099800 -1.169300  "
      ],
      "text/html": "<div>\n<style scoped>\n    .dataframe tbody tr th:only-of-type {\n        vertical-align: middle;\n    }\n\n    .dataframe tbody tr th {\n        vertical-align: top;\n    }\n\n    .dataframe thead th {\n        text-align: right;\n    }\n</style>\n<table border=\"1\" class=\"dataframe\">\n  <thead>\n    <tr style=\"text-align: right;\">\n      <th></th>\n      <th>PLAYER</th>\n      <th>TEAM</th>\n      <th>POSITION</th>\n      <th>CLUSTER</th>\n      <th>PC1</th>\n      <th>PC2</th>\n      <th>PC3</th>\n      <th>PC4</th>\n      <th>PC5</th>\n      <th>PC6</th>\n    </tr>\n  </thead>\n  <tbody>\n    <tr>\n      <th>109</th>\n      <td>Kevin Knox II</td>\n      <td>NYK</td>\n      <td>F</td>\n      <td>7</td>\n      <td>0.208800</td>\n      <td>-0.396864</td>\n      <td>-0.548152</td>\n      <td>-0.714141</td>\n      <td>0.089770</td>\n      <td>-0.962875</td>\n    </tr>\n    <tr>\n      <th>182</th>\n      <td>Markieff Morris</td>\n      <td>OKC</td>\n      <td>F</td>\n      <td>7</td>\n      <td>-0.646437</td>\n      <td>0.090945</td>\n      <td>-0.294557</td>\n      <td>-0.358616</td>\n      <td>-0.556499</td>\n      <td>-1.296065</td>\n    </tr>\n    <tr>\n      <th>183</th>\n      <td>JaMychal Green</td>\n      <td>LAC</td>\n      <td>F</td>\n      <td>7</td>\n      <td>-0.688872</td>\n      <td>-0.138422</td>\n      <td>-0.575412</td>\n      <td>-0.971658</td>\n      <td>-0.001714</td>\n      <td>-1.435504</td>\n    </tr>\n    <tr>\n      <th>195</th>\n      <td>Malik Monk</td>\n      <td>CHA</td>\n      <td>G</td>\n      <td>7</td>\n      <td>0.006543</td>\n      <td>-0.942696</td>\n      <td>-0.161646</td>\n      <td>0.338265</td>\n      <td>0.772726</td>\n      <td>-1.641983</td>\n    </tr>\n    <tr>\n      <th>204</th>\n      <td>Frank Kaminsky</td>\n      <td>CHA</td>\n      <td>F-C</td>\n      <td>7</td>\n      <td>-0.854220</td>\n      <td>0.324478</td>\n      <td>-0.800292</td>\n      <td>-1.040062</td>\n      <td>-0.099800</td>\n      <td>-1.169300</td>\n    </tr>\n  </tbody>\n</table>\n</div>"
     },
     "metadata": {},
     "execution_count": 63
    }
   ],
   "source": [
    "data[data['CLUSTER'] == 7].head()"
   ]
  },
  {
   "cell_type": "code",
   "execution_count": null,
   "metadata": {},
   "outputs": [],
   "source": []
  }
 ]
}