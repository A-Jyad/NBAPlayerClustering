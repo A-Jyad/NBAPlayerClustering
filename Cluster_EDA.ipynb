{
 "metadata": {
  "language_info": {
   "codemirror_mode": {
    "name": "ipython",
    "version": 3
   },
   "file_extension": ".py",
   "mimetype": "text/x-python",
   "name": "python",
   "nbconvert_exporter": "python",
   "pygments_lexer": "ipython3",
   "version": "3.7.6-final"
  },
  "orig_nbformat": 2,
  "kernelspec": {
   "name": "python3",
   "display_name": "Python 3"
  }
 },
 "nbformat": 4,
 "nbformat_minor": 2,
 "cells": [
  {
   "cell_type": "code",
   "execution_count": 6,
   "metadata": {},
   "outputs": [],
   "source": [
    "import pandas as pd\n",
    "import matplotlib.pyplot as plt\n",
    "import seaborn as sns"
   ]
  },
  {
   "cell_type": "code",
   "execution_count": 7,
   "metadata": {},
   "outputs": [
    {
     "output_type": "stream",
     "name": "stdout",
     "text": [
      "(388, 10)\n"
     ]
    },
    {
     "output_type": "execute_result",
     "data": {
      "text/plain": [
       "                  PLAYER TEAM POSITION  CLUSTER       PC1       PC2       PC3  \\\n",
       "0           James Harden  HOU        G        8 -0.885136  3.422465 -1.621294   \n",
       "1            Paul George  OKC        F        9 -0.890508  2.411931  1.302698   \n",
       "2  Giannis Antetokounmpo  MIL        F        8  0.708961  2.609108 -0.086844   \n",
       "3            Joel Embiid  PHI      F-C        1  1.700382  2.712573  0.671696   \n",
       "4           LeBron James  LAL        F        8 -0.307667  2.364341 -0.870264   \n",
       "\n",
       "        PC4       PC5       PC6  \n",
       "0  0.948575 -1.099479 -2.343132  \n",
       "1 -0.441489 -1.089950 -0.281768  \n",
       "2 -1.719613 -1.099307 -1.959700  \n",
       "3  1.738021 -0.219439  0.719804  \n",
       "4 -0.160012 -0.929572 -2.150918  "
      ],
      "text/html": "<div>\n<style scoped>\n    .dataframe tbody tr th:only-of-type {\n        vertical-align: middle;\n    }\n\n    .dataframe tbody tr th {\n        vertical-align: top;\n    }\n\n    .dataframe thead th {\n        text-align: right;\n    }\n</style>\n<table border=\"1\" class=\"dataframe\">\n  <thead>\n    <tr style=\"text-align: right;\">\n      <th></th>\n      <th>PLAYER</th>\n      <th>TEAM</th>\n      <th>POSITION</th>\n      <th>CLUSTER</th>\n      <th>PC1</th>\n      <th>PC2</th>\n      <th>PC3</th>\n      <th>PC4</th>\n      <th>PC5</th>\n      <th>PC6</th>\n    </tr>\n  </thead>\n  <tbody>\n    <tr>\n      <th>0</th>\n      <td>James Harden</td>\n      <td>HOU</td>\n      <td>G</td>\n      <td>8</td>\n      <td>-0.885136</td>\n      <td>3.422465</td>\n      <td>-1.621294</td>\n      <td>0.948575</td>\n      <td>-1.099479</td>\n      <td>-2.343132</td>\n    </tr>\n    <tr>\n      <th>1</th>\n      <td>Paul George</td>\n      <td>OKC</td>\n      <td>F</td>\n      <td>9</td>\n      <td>-0.890508</td>\n      <td>2.411931</td>\n      <td>1.302698</td>\n      <td>-0.441489</td>\n      <td>-1.089950</td>\n      <td>-0.281768</td>\n    </tr>\n    <tr>\n      <th>2</th>\n      <td>Giannis Antetokounmpo</td>\n      <td>MIL</td>\n      <td>F</td>\n      <td>8</td>\n      <td>0.708961</td>\n      <td>2.609108</td>\n      <td>-0.086844</td>\n      <td>-1.719613</td>\n      <td>-1.099307</td>\n      <td>-1.959700</td>\n    </tr>\n    <tr>\n      <th>3</th>\n      <td>Joel Embiid</td>\n      <td>PHI</td>\n      <td>F-C</td>\n      <td>1</td>\n      <td>1.700382</td>\n      <td>2.712573</td>\n      <td>0.671696</td>\n      <td>1.738021</td>\n      <td>-0.219439</td>\n      <td>0.719804</td>\n    </tr>\n    <tr>\n      <th>4</th>\n      <td>LeBron James</td>\n      <td>LAL</td>\n      <td>F</td>\n      <td>8</td>\n      <td>-0.307667</td>\n      <td>2.364341</td>\n      <td>-0.870264</td>\n      <td>-0.160012</td>\n      <td>-0.929572</td>\n      <td>-2.150918</td>\n    </tr>\n  </tbody>\n</table>\n</div>"
     },
     "metadata": {},
     "execution_count": 7
    }
   ],
   "source": [
    "data = pd.read_csv('Data\\Clustered_Data.csv')\n",
    "print(data.shape)\n",
    "data.head()"
   ]
  },
  {
   "cell_type": "code",
   "execution_count": 8,
   "metadata": {},
   "outputs": [
    {
     "output_type": "execute_result",
     "data": {
      "text/plain": [
       "       CLUSTER    PC1    PC2    PC3    PC4    PC5    PC6\n",
       "count    388.0  388.0  388.0  388.0  388.0  388.0  388.0\n",
       "mean       5.0    0.0   -0.0   -0.0   -0.0    0.0   -0.0\n",
       "std        2.5    1.0    1.0    1.0    1.0    1.0    1.0\n",
       "min        1.0   -1.4   -2.0   -2.3   -2.7   -2.7   -2.5\n",
       "25%        3.0   -0.8   -0.8   -0.8   -0.6   -0.7   -0.6\n",
       "50%        5.0   -0.3   -0.1    0.1    0.0   -0.1    0.0\n",
       "75%        7.0    0.6    0.7    0.7    0.6    0.7    0.6\n",
       "max        9.0    3.1    3.4    2.7    3.3    3.8    3.2"
      ],
      "text/html": "<div>\n<style scoped>\n    .dataframe tbody tr th:only-of-type {\n        vertical-align: middle;\n    }\n\n    .dataframe tbody tr th {\n        vertical-align: top;\n    }\n\n    .dataframe thead th {\n        text-align: right;\n    }\n</style>\n<table border=\"1\" class=\"dataframe\">\n  <thead>\n    <tr style=\"text-align: right;\">\n      <th></th>\n      <th>CLUSTER</th>\n      <th>PC1</th>\n      <th>PC2</th>\n      <th>PC3</th>\n      <th>PC4</th>\n      <th>PC5</th>\n      <th>PC6</th>\n    </tr>\n  </thead>\n  <tbody>\n    <tr>\n      <th>count</th>\n      <td>388.0</td>\n      <td>388.0</td>\n      <td>388.0</td>\n      <td>388.0</td>\n      <td>388.0</td>\n      <td>388.0</td>\n      <td>388.0</td>\n    </tr>\n    <tr>\n      <th>mean</th>\n      <td>5.0</td>\n      <td>0.0</td>\n      <td>-0.0</td>\n      <td>-0.0</td>\n      <td>-0.0</td>\n      <td>0.0</td>\n      <td>-0.0</td>\n    </tr>\n    <tr>\n      <th>std</th>\n      <td>2.5</td>\n      <td>1.0</td>\n      <td>1.0</td>\n      <td>1.0</td>\n      <td>1.0</td>\n      <td>1.0</td>\n      <td>1.0</td>\n    </tr>\n    <tr>\n      <th>min</th>\n      <td>1.0</td>\n      <td>-1.4</td>\n      <td>-2.0</td>\n      <td>-2.3</td>\n      <td>-2.7</td>\n      <td>-2.7</td>\n      <td>-2.5</td>\n    </tr>\n    <tr>\n      <th>25%</th>\n      <td>3.0</td>\n      <td>-0.8</td>\n      <td>-0.8</td>\n      <td>-0.8</td>\n      <td>-0.6</td>\n      <td>-0.7</td>\n      <td>-0.6</td>\n    </tr>\n    <tr>\n      <th>50%</th>\n      <td>5.0</td>\n      <td>-0.3</td>\n      <td>-0.1</td>\n      <td>0.1</td>\n      <td>0.0</td>\n      <td>-0.1</td>\n      <td>0.0</td>\n    </tr>\n    <tr>\n      <th>75%</th>\n      <td>7.0</td>\n      <td>0.6</td>\n      <td>0.7</td>\n      <td>0.7</td>\n      <td>0.6</td>\n      <td>0.7</td>\n      <td>0.6</td>\n    </tr>\n    <tr>\n      <th>max</th>\n      <td>9.0</td>\n      <td>3.1</td>\n      <td>3.4</td>\n      <td>2.7</td>\n      <td>3.3</td>\n      <td>3.8</td>\n      <td>3.2</td>\n    </tr>\n  </tbody>\n</table>\n</div>"
     },
     "metadata": {},
     "execution_count": 8
    }
   ],
   "source": [
    "data.describe().round(1)"
   ]
  },
  {
   "source": [
    "# Comparing PC mean values"
   ],
   "cell_type": "markdown",
   "metadata": {}
  },
  {
   "cell_type": "code",
   "execution_count": 9,
   "metadata": {},
   "outputs": [
    {
     "output_type": "execute_result",
     "data": {
      "text/plain": [
       "              PC1       PC2       PC3       PC4       PC5       PC6\n",
       "CLUSTER                                                            \n",
       "1        1.433221  0.807738  0.314100  1.694060 -0.028986  0.262235\n",
       "2        1.663214 -0.162279 -0.488651 -0.639146  0.611367 -0.351145\n",
       "3       -0.808923 -0.312480  0.847472  0.064804  1.420500  0.276753\n",
       "4       -0.128419 -0.826776  0.076218 -0.416456 -0.410465 -0.562012\n",
       "5        0.056759 -0.445815  1.037910 -0.165740 -1.033660  1.061367\n",
       "6       -0.171756  0.369630  1.099699 -0.045119 -0.188547 -0.450279\n",
       "7       -0.471060 -0.819563 -1.350117  0.818689  0.006772  0.499706\n",
       "8       -0.719421  1.742392 -0.761756  0.142731  0.000768 -0.985747\n",
       "9       -0.748950  0.721111 -0.578905 -0.426254 -0.273819  0.752118"
      ],
      "text/html": "<div>\n<style scoped>\n    .dataframe tbody tr th:only-of-type {\n        vertical-align: middle;\n    }\n\n    .dataframe tbody tr th {\n        vertical-align: top;\n    }\n\n    .dataframe thead th {\n        text-align: right;\n    }\n</style>\n<table border=\"1\" class=\"dataframe\">\n  <thead>\n    <tr style=\"text-align: right;\">\n      <th></th>\n      <th>PC1</th>\n      <th>PC2</th>\n      <th>PC3</th>\n      <th>PC4</th>\n      <th>PC5</th>\n      <th>PC6</th>\n    </tr>\n    <tr>\n      <th>CLUSTER</th>\n      <th></th>\n      <th></th>\n      <th></th>\n      <th></th>\n      <th></th>\n      <th></th>\n    </tr>\n  </thead>\n  <tbody>\n    <tr>\n      <th>1</th>\n      <td>1.433221</td>\n      <td>0.807738</td>\n      <td>0.314100</td>\n      <td>1.694060</td>\n      <td>-0.028986</td>\n      <td>0.262235</td>\n    </tr>\n    <tr>\n      <th>2</th>\n      <td>1.663214</td>\n      <td>-0.162279</td>\n      <td>-0.488651</td>\n      <td>-0.639146</td>\n      <td>0.611367</td>\n      <td>-0.351145</td>\n    </tr>\n    <tr>\n      <th>3</th>\n      <td>-0.808923</td>\n      <td>-0.312480</td>\n      <td>0.847472</td>\n      <td>0.064804</td>\n      <td>1.420500</td>\n      <td>0.276753</td>\n    </tr>\n    <tr>\n      <th>4</th>\n      <td>-0.128419</td>\n      <td>-0.826776</td>\n      <td>0.076218</td>\n      <td>-0.416456</td>\n      <td>-0.410465</td>\n      <td>-0.562012</td>\n    </tr>\n    <tr>\n      <th>5</th>\n      <td>0.056759</td>\n      <td>-0.445815</td>\n      <td>1.037910</td>\n      <td>-0.165740</td>\n      <td>-1.033660</td>\n      <td>1.061367</td>\n    </tr>\n    <tr>\n      <th>6</th>\n      <td>-0.171756</td>\n      <td>0.369630</td>\n      <td>1.099699</td>\n      <td>-0.045119</td>\n      <td>-0.188547</td>\n      <td>-0.450279</td>\n    </tr>\n    <tr>\n      <th>7</th>\n      <td>-0.471060</td>\n      <td>-0.819563</td>\n      <td>-1.350117</td>\n      <td>0.818689</td>\n      <td>0.006772</td>\n      <td>0.499706</td>\n    </tr>\n    <tr>\n      <th>8</th>\n      <td>-0.719421</td>\n      <td>1.742392</td>\n      <td>-0.761756</td>\n      <td>0.142731</td>\n      <td>0.000768</td>\n      <td>-0.985747</td>\n    </tr>\n    <tr>\n      <th>9</th>\n      <td>-0.748950</td>\n      <td>0.721111</td>\n      <td>-0.578905</td>\n      <td>-0.426254</td>\n      <td>-0.273819</td>\n      <td>0.752118</td>\n    </tr>\n  </tbody>\n</table>\n</div>"
     },
     "metadata": {},
     "execution_count": 9
    }
   ],
   "source": [
    "data.groupby('CLUSTER').mean()"
   ]
  },
  {
   "cell_type": "code",
   "execution_count": 10,
   "metadata": {},
   "outputs": [
    {
     "output_type": "execute_result",
     "data": {
      "text/plain": [
       "<matplotlib.axes._subplots.AxesSubplot at 0x1e16c5e4b88>"
      ]
     },
     "metadata": {},
     "execution_count": 10
    },
    {
     "output_type": "display_data",
     "data": {
      "text/plain": "<Figure size 720x720 with 2 Axes>",
      "image/svg+xml": "<?xml version=\"1.0\" encoding=\"utf-8\" standalone=\"no\"?>\r\n<!DOCTYPE svg PUBLIC \"-//W3C//DTD SVG 1.1//EN\"\r\n  \"http://www.w3.org/Graphics/SVG/1.1/DTD/svg11.dtd\">\r\n<!-- Created with matplotlib (https://matplotlib.org/) -->\r\n<svg height=\"578.477344pt\" version=\"1.1\" viewBox=\"0 0 493.519062 578.477344\" width=\"493.519062pt\" xmlns=\"http://www.w3.org/2000/svg\" xmlns:xlink=\"http://www.w3.org/1999/xlink\">\r\n <defs>\r\n  <style type=\"text/css\">\r\n*{stroke-linecap:butt;stroke-linejoin:round;}\r\n  </style>\r\n </defs>\r\n <g id=\"figure_1\">\r\n  <g id=\"patch_1\">\r\n   <path d=\"M 0 578.477344 \r\nL 493.519062 578.477344 \r\nL 493.519062 0 \r\nL 0 0 \r\nz\r\n\" style=\"fill:none;\"/>\r\n  </g>\r\n  <g id=\"axes_1\">\r\n   <g id=\"patch_2\">\r\n    <path d=\"M 37.55625 554.599219 \r\nL 399.95625 554.599219 \r\nL 399.95625 10.999219 \r\nL 37.55625 10.999219 \r\nz\r\n\" style=\"fill:#ffffff;\"/>\r\n   </g>\r\n   <g id=\"QuadMesh_1\">\r\n    <path clip-path=\"url(#p6d362c09a9)\" d=\"M 37.55625 10.999219 \r\nL 97.95625 10.999219 \r\nL 97.95625 71.399219 \r\nL 37.55625 71.399219 \r\nL 37.55625 10.999219 \r\n\" style=\"fill:#438295;\"/>\r\n    <path clip-path=\"url(#p6d362c09a9)\" d=\"M 97.95625 10.999219 \r\nL 158.35625 10.999219 \r\nL 158.35625 71.399219 \r\nL 97.95625 71.399219 \r\nL 97.95625 10.999219 \r\n\" style=\"fill:#93b8c3;\"/>\r\n    <path clip-path=\"url(#p6d362c09a9)\" d=\"M 158.35625 10.999219 \r\nL 218.75625 10.999219 \r\nL 218.75625 71.399219 \r\nL 158.35625 71.399219 \r\nL 158.35625 10.999219 \r\n\" style=\"fill:#cfe1e6;\"/>\r\n    <path clip-path=\"url(#p6d362c09a9)\" d=\"M 218.75625 10.999219 \r\nL 279.15625 10.999219 \r\nL 279.15625 71.399219 \r\nL 218.75625 71.399219 \r\nL 218.75625 10.999219 \r\n\" style=\"fill:#3f7f93;\"/>\r\n    <path clip-path=\"url(#p6d362c09a9)\" d=\"M 279.15625 10.999219 \r\nL 339.55625 10.999219 \r\nL 339.55625 71.399219 \r\nL 279.15625 71.399219 \r\nL 279.15625 10.999219 \r\n\" style=\"fill:#f2f2f2;\"/>\r\n    <path clip-path=\"url(#p6d362c09a9)\" d=\"M 339.55625 10.999219 \r\nL 399.95625 10.999219 \r\nL 399.95625 71.399219 \r\nL 339.55625 71.399219 \r\nL 339.55625 10.999219 \r\n\" style=\"fill:#d5e5ea;\"/>\r\n    <path clip-path=\"url(#p6d362c09a9)\" d=\"M 37.55625 71.399219 \r\nL 97.95625 71.399219 \r\nL 97.95625 131.799219 \r\nL 37.55625 131.799219 \r\nL 37.55625 71.399219 \r\n\" style=\"fill:#3f7f93;\"/>\r\n    <path clip-path=\"url(#p6d362c09a9)\" d=\"M 97.95625 71.399219 \r\nL 158.35625 71.399219 \r\nL 158.35625 131.799219 \r\nL 97.95625 131.799219 \r\nL 97.95625 71.399219 \r\n\" style=\"fill:#f6e5e0;\"/>\r\n    <path clip-path=\"url(#p6d362c09a9)\" d=\"M 158.35625 71.399219 \r\nL 218.75625 71.399219 \r\nL 218.75625 131.799219 \r\nL 158.35625 131.799219 \r\nL 158.35625 71.399219 \r\n\" style=\"fill:#e9c1b7;\"/>\r\n    <path clip-path=\"url(#p6d362c09a9)\" d=\"M 218.75625 71.399219 \r\nL 279.15625 71.399219 \r\nL 279.15625 131.799219 \r\nL 218.75625 131.799219 \r\nL 218.75625 71.399219 \r\n\" style=\"fill:#e3b1a4;\"/>\r\n    <path clip-path=\"url(#p6d362c09a9)\" d=\"M 279.15625 71.399219 \r\nL 339.55625 71.399219 \r\nL 339.55625 131.799219 \r\nL 279.15625 131.799219 \r\nL 279.15625 71.399219 \r\n\" style=\"fill:#a9c7d0;\"/>\r\n    <path clip-path=\"url(#p6d362c09a9)\" d=\"M 339.55625 71.399219 \r\nL 399.95625 71.399219 \r\nL 399.95625 131.799219 \r\nL 339.55625 131.799219 \r\nL 339.55625 71.399219 \r\n\" style=\"fill:#eecfc7;\"/>\r\n    <path clip-path=\"url(#p6d362c09a9)\" d=\"M 37.55625 131.799219 \r\nL 97.95625 131.799219 \r\nL 97.95625 192.199219 \r\nL 37.55625 192.199219 \r\nL 37.55625 131.799219 \r\n\" style=\"fill:#dc9d8d;\"/>\r\n    <path clip-path=\"url(#p6d362c09a9)\" d=\"M 97.95625 131.799219 \r\nL 158.35625 131.799219 \r\nL 158.35625 192.199219 \r\nL 97.95625 192.199219 \r\nL 97.95625 131.799219 \r\n\" style=\"fill:#f0d4cd;\"/>\r\n    <path clip-path=\"url(#p6d362c09a9)\" d=\"M 158.35625 131.799219 \r\nL 218.75625 131.799219 \r\nL 218.75625 192.199219 \r\nL 158.35625 192.199219 \r\nL 158.35625 131.799219 \r\n\" style=\"fill:#8eb4c0;\"/>\r\n    <path clip-path=\"url(#p6d362c09a9)\" d=\"M 218.75625 131.799219 \r\nL 279.15625 131.799219 \r\nL 279.15625 192.199219 \r\nL 218.75625 192.199219 \r\nL 218.75625 131.799219 \r\n\" style=\"fill:#edf5f7;\"/>\r\n    <path clip-path=\"url(#p6d362c09a9)\" d=\"M 279.15625 131.799219 \r\nL 339.55625 131.799219 \r\nL 339.55625 192.199219 \r\nL 279.15625 192.199219 \r\nL 279.15625 131.799219 \r\n\" style=\"fill:#468497;\"/>\r\n    <path clip-path=\"url(#p6d362c09a9)\" d=\"M 339.55625 131.799219 \r\nL 399.95625 131.799219 \r\nL 399.95625 192.199219 \r\nL 339.55625 192.199219 \r\nL 339.55625 131.799219 \r\n\" style=\"fill:#d4e4e9;\"/>\r\n    <path clip-path=\"url(#p6d362c09a9)\" d=\"M 37.55625 192.199219 \r\nL 97.95625 192.199219 \r\nL 97.95625 252.599219 \r\nL 37.55625 252.599219 \r\nL 37.55625 192.199219 \r\n\" style=\"fill:#f7e8e4;\"/>\r\n    <path clip-path=\"url(#p6d362c09a9)\" d=\"M 97.95625 192.199219 \r\nL 158.35625 192.199219 \r\nL 158.35625 252.599219 \r\nL 97.95625 252.599219 \r\nL 97.95625 192.199219 \r\n\" style=\"fill:#dc9b8b;\"/>\r\n    <path clip-path=\"url(#p6d362c09a9)\" d=\"M 158.35625 192.199219 \r\nL 218.75625 192.199219 \r\nL 218.75625 252.599219 \r\nL 158.35625 252.599219 \r\nL 158.35625 192.199219 \r\n\" style=\"fill:#eaf3f6;\"/>\r\n    <path clip-path=\"url(#p6d362c09a9)\" d=\"M 218.75625 192.199219 \r\nL 279.15625 192.199219 \r\nL 279.15625 252.599219 \r\nL 218.75625 252.599219 \r\nL 218.75625 192.199219 \r\n\" style=\"fill:#ecc9c0;\"/>\r\n    <path clip-path=\"url(#p6d362c09a9)\" d=\"M 279.15625 192.199219 \r\nL 339.55625 192.199219 \r\nL 339.55625 252.599219 \r\nL 279.15625 252.599219 \r\nL 279.15625 192.199219 \r\n\" style=\"fill:#ecc9c0;\"/>\r\n    <path clip-path=\"url(#p6d362c09a9)\" d=\"M 339.55625 192.199219 \r\nL 399.95625 192.199219 \r\nL 399.95625 252.599219 \r\nL 339.55625 252.599219 \r\nL 339.55625 192.199219 \r\n\" style=\"fill:#e6b8ad;\"/>\r\n    <path clip-path=\"url(#p6d362c09a9)\" d=\"M 37.55625 252.599219 \r\nL 97.95625 252.599219 \r\nL 97.95625 312.999219 \r\nL 37.55625 312.999219 \r\nL 37.55625 252.599219 \r\n\" style=\"fill:#f2f2f2;\"/>\r\n    <path clip-path=\"url(#p6d362c09a9)\" d=\"M 97.95625 252.599219 \r\nL 158.35625 252.599219 \r\nL 158.35625 312.999219 \r\nL 97.95625 312.999219 \r\nL 97.95625 252.599219 \r\n\" style=\"fill:#eac4ba;\"/>\r\n    <path clip-path=\"url(#p6d362c09a9)\" d=\"M 158.35625 252.599219 \r\nL 218.75625 252.599219 \r\nL 218.75625 312.999219 \r\nL 158.35625 312.999219 \r\nL 158.35625 252.599219 \r\n\" style=\"fill:#75a4b2;\"/>\r\n    <path clip-path=\"url(#p6d362c09a9)\" d=\"M 218.75625 252.599219 \r\nL 279.15625 252.599219 \r\nL 279.15625 312.999219 \r\nL 218.75625 312.999219 \r\nL 218.75625 252.599219 \r\n\" style=\"fill:#f5e3df;\"/>\r\n    <path clip-path=\"url(#p6d362c09a9)\" d=\"M 279.15625 252.599219 \r\nL 339.55625 252.599219 \r\nL 339.55625 312.999219 \r\nL 279.15625 312.999219 \r\nL 279.15625 252.599219 \r\n\" style=\"fill:#d48571;\"/>\r\n    <path clip-path=\"url(#p6d362c09a9)\" d=\"M 339.55625 252.599219 \r\nL 399.95625 252.599219 \r\nL 399.95625 312.999219 \r\nL 339.55625 312.999219 \r\nL 339.55625 252.599219 \r\n\" style=\"fill:#74a3b1;\"/>\r\n    <path clip-path=\"url(#p6d362c09a9)\" d=\"M 37.55625 312.999219 \r\nL 97.95625 312.999219 \r\nL 97.95625 373.399219 \r\nL 37.55625 373.399219 \r\nL 37.55625 312.999219 \r\n\" style=\"fill:#f5e3df;\"/>\r\n    <path clip-path=\"url(#p6d362c09a9)\" d=\"M 97.95625 312.999219 \r\nL 158.35625 312.999219 \r\nL 158.35625 373.399219 \r\nL 97.95625 373.399219 \r\nL 97.95625 312.999219 \r\n\" style=\"fill:#c8dce2;\"/>\r\n    <path clip-path=\"url(#p6d362c09a9)\" d=\"M 158.35625 312.999219 \r\nL 218.75625 312.999219 \r\nL 218.75625 373.399219 \r\nL 158.35625 373.399219 \r\nL 158.35625 312.999219 \r\n\" style=\"fill:#6e9fae;\"/>\r\n    <path clip-path=\"url(#p6d362c09a9)\" d=\"M 218.75625 312.999219 \r\nL 279.15625 312.999219 \r\nL 279.15625 373.399219 \r\nL 218.75625 373.399219 \r\nL 218.75625 312.999219 \r\n\" style=\"fill:#f2f2f2;\"/>\r\n    <path clip-path=\"url(#p6d362c09a9)\" d=\"M 279.15625 312.999219 \r\nL 339.55625 312.999219 \r\nL 339.55625 373.399219 \r\nL 279.15625 373.399219 \r\nL 279.15625 312.999219 \r\n\" style=\"fill:#f4e0db;\"/>\r\n    <path clip-path=\"url(#p6d362c09a9)\" d=\"M 339.55625 312.999219 \r\nL 399.95625 312.999219 \r\nL 399.95625 373.399219 \r\nL 339.55625 373.399219 \r\nL 339.55625 312.999219 \r\n\" style=\"fill:#eac4ba;\"/>\r\n    <path clip-path=\"url(#p6d362c09a9)\" d=\"M 37.55625 373.399219 \r\nL 97.95625 373.399219 \r\nL 97.95625 433.799219 \r\nL 37.55625 433.799219 \r\nL 37.55625 373.399219 \r\n\" style=\"fill:#eac2b8;\"/>\r\n    <path clip-path=\"url(#p6d362c09a9)\" d=\"M 97.95625 373.399219 \r\nL 158.35625 373.399219 \r\nL 158.35625 433.799219 \r\nL 97.95625 433.799219 \r\nL 97.95625 373.399219 \r\n\" style=\"fill:#dc9d8d;\"/>\r\n    <path clip-path=\"url(#p6d362c09a9)\" d=\"M 158.35625 373.399219 \r\nL 218.75625 373.399219 \r\nL 218.75625 433.799219 \r\nL 158.35625 433.799219 \r\nL 158.35625 373.399219 \r\n\" style=\"fill:#c8634a;\"/>\r\n    <path clip-path=\"url(#p6d362c09a9)\" d=\"M 218.75625 373.399219 \r\nL 279.15625 373.399219 \r\nL 279.15625 433.799219 \r\nL 218.75625 433.799219 \r\nL 218.75625 373.399219 \r\n\" style=\"fill:#90b6c2;\"/>\r\n    <path clip-path=\"url(#p6d362c09a9)\" d=\"M 279.15625 373.399219 \r\nL 339.55625 373.399219 \r\nL 339.55625 433.799219 \r\nL 279.15625 433.799219 \r\nL 279.15625 373.399219 \r\n\" style=\"fill:#f2f2f2;\"/>\r\n    <path clip-path=\"url(#p6d362c09a9)\" d=\"M 339.55625 373.399219 \r\nL 399.95625 373.399219 \r\nL 399.95625 433.799219 \r\nL 339.55625 433.799219 \r\nL 339.55625 373.399219 \r\n\" style=\"fill:#b7d1d8;\"/>\r\n    <path clip-path=\"url(#p6d362c09a9)\" d=\"M 37.55625 433.799219 \r\nL 97.95625 433.799219 \r\nL 97.95625 494.199219 \r\nL 37.55625 494.199219 \r\nL 37.55625 433.799219 \r\n\" style=\"fill:#e0a798;\"/>\r\n    <path clip-path=\"url(#p6d362c09a9)\" d=\"M 97.95625 433.799219 \r\nL 158.35625 433.799219 \r\nL 158.35625 494.199219 \r\nL 97.95625 494.199219 \r\nL 97.95625 433.799219 \r\n\" style=\"fill:#3f7f93;\"/>\r\n    <path clip-path=\"url(#p6d362c09a9)\" d=\"M 158.35625 433.799219 \r\nL 218.75625 433.799219 \r\nL 218.75625 494.199219 \r\nL 158.35625 494.199219 \r\nL 158.35625 433.799219 \r\n\" style=\"fill:#dea293;\"/>\r\n    <path clip-path=\"url(#p6d362c09a9)\" d=\"M 218.75625 433.799219 \r\nL 279.15625 433.799219 \r\nL 279.15625 494.199219 \r\nL 218.75625 494.199219 \r\nL 218.75625 433.799219 \r\n\" style=\"fill:#e4eef2;\"/>\r\n    <path clip-path=\"url(#p6d362c09a9)\" d=\"M 279.15625 433.799219 \r\nL 339.55625 433.799219 \r\nL 339.55625 494.199219 \r\nL 279.15625 494.199219 \r\nL 279.15625 433.799219 \r\n\" style=\"fill:#f2f2f2;\"/>\r\n    <path clip-path=\"url(#p6d362c09a9)\" d=\"M 339.55625 433.799219 \r\nL 399.95625 433.799219 \r\nL 399.95625 494.199219 \r\nL 339.55625 494.199219 \r\nL 339.55625 433.799219 \r\n\" style=\"fill:#d58a77;\"/>\r\n    <path clip-path=\"url(#p6d362c09a9)\" d=\"M 37.55625 494.199219 \r\nL 97.95625 494.199219 \r\nL 97.95625 554.599219 \r\nL 37.55625 554.599219 \r\nL 37.55625 494.199219 \r\n\" style=\"fill:#dfa697;\"/>\r\n    <path clip-path=\"url(#p6d362c09a9)\" d=\"M 97.95625 494.199219 \r\nL 158.35625 494.199219 \r\nL 158.35625 554.599219 \r\nL 97.95625 554.599219 \r\nL 97.95625 494.199219 \r\n\" style=\"fill:#9cbec9;\"/>\r\n    <path clip-path=\"url(#p6d362c09a9)\" d=\"M 158.35625 494.199219 \r\nL 218.75625 494.199219 \r\nL 218.75625 554.599219 \r\nL 158.35625 554.599219 \r\nL 158.35625 494.199219 \r\n\" style=\"fill:#e6b7ab;\"/>\r\n    <path clip-path=\"url(#p6d362c09a9)\" d=\"M 218.75625 494.199219 \r\nL 279.15625 494.199219 \r\nL 279.15625 554.599219 \r\nL 218.75625 554.599219 \r\nL 218.75625 494.199219 \r\n\" style=\"fill:#ebc7be;\"/>\r\n    <path clip-path=\"url(#p6d362c09a9)\" d=\"M 279.15625 494.199219 \r\nL 339.55625 494.199219 \r\nL 339.55625 554.599219 \r\nL 279.15625 554.599219 \r\nL 279.15625 494.199219 \r\n\" style=\"fill:#f1d8d2;\"/>\r\n    <path clip-path=\"url(#p6d362c09a9)\" d=\"M 339.55625 494.199219 \r\nL 399.95625 494.199219 \r\nL 399.95625 554.599219 \r\nL 339.55625 554.599219 \r\nL 339.55625 494.199219 \r\n\" style=\"fill:#99bcc7;\"/>\r\n   </g>\r\n   <g id=\"matplotlib.axis_1\">\r\n    <g id=\"xtick_1\">\r\n     <g id=\"line2d_1\">\r\n      <defs>\r\n       <path d=\"M 0 0 \r\nL 0 3.5 \r\n\" id=\"mbbe9a5f2bb\" style=\"stroke:#000000;stroke-width:0.8;\"/>\r\n      </defs>\r\n      <g>\r\n       <use style=\"stroke:#000000;stroke-width:0.8;\" x=\"67.75625\" xlink:href=\"#mbbe9a5f2bb\" y=\"554.599219\"/>\r\n      </g>\r\n     </g>\r\n     <g id=\"text_1\">\r\n      <!-- PC1 -->\r\n      <defs>\r\n       <path d=\"M 19.671875 64.796875 \r\nL 19.671875 37.40625 \r\nL 32.078125 37.40625 \r\nQ 38.96875 37.40625 42.71875 40.96875 \r\nQ 46.484375 44.53125 46.484375 51.125 \r\nQ 46.484375 57.671875 42.71875 61.234375 \r\nQ 38.96875 64.796875 32.078125 64.796875 \r\nz\r\nM 9.8125 72.90625 \r\nL 32.078125 72.90625 \r\nQ 44.34375 72.90625 50.609375 67.359375 \r\nQ 56.890625 61.8125 56.890625 51.125 \r\nQ 56.890625 40.328125 50.609375 34.8125 \r\nQ 44.34375 29.296875 32.078125 29.296875 \r\nL 19.671875 29.296875 \r\nL 19.671875 0 \r\nL 9.8125 0 \r\nz\r\n\" id=\"DejaVuSans-80\"/>\r\n       <path d=\"M 64.40625 67.28125 \r\nL 64.40625 56.890625 \r\nQ 59.421875 61.53125 53.78125 63.8125 \r\nQ 48.140625 66.109375 41.796875 66.109375 \r\nQ 29.296875 66.109375 22.65625 58.46875 \r\nQ 16.015625 50.828125 16.015625 36.375 \r\nQ 16.015625 21.96875 22.65625 14.328125 \r\nQ 29.296875 6.6875 41.796875 6.6875 \r\nQ 48.140625 6.6875 53.78125 8.984375 \r\nQ 59.421875 11.28125 64.40625 15.921875 \r\nL 64.40625 5.609375 \r\nQ 59.234375 2.09375 53.4375 0.328125 \r\nQ 47.65625 -1.421875 41.21875 -1.421875 \r\nQ 24.65625 -1.421875 15.125 8.703125 \r\nQ 5.609375 18.84375 5.609375 36.375 \r\nQ 5.609375 53.953125 15.125 64.078125 \r\nQ 24.65625 74.21875 41.21875 74.21875 \r\nQ 47.75 74.21875 53.53125 72.484375 \r\nQ 59.328125 70.75 64.40625 67.28125 \r\nz\r\n\" id=\"DejaVuSans-67\"/>\r\n       <path d=\"M 12.40625 8.296875 \r\nL 28.515625 8.296875 \r\nL 28.515625 63.921875 \r\nL 10.984375 60.40625 \r\nL 10.984375 69.390625 \r\nL 28.421875 72.90625 \r\nL 38.28125 72.90625 \r\nL 38.28125 8.296875 \r\nL 54.390625 8.296875 \r\nL 54.390625 0 \r\nL 12.40625 0 \r\nz\r\n\" id=\"DejaVuSans-49\"/>\r\n      </defs>\r\n      <g transform=\"translate(58.06875 569.197656)scale(0.1 -0.1)\">\r\n       <use xlink:href=\"#DejaVuSans-80\"/>\r\n       <use x=\"60.302734\" xlink:href=\"#DejaVuSans-67\"/>\r\n       <use x=\"130.126953\" xlink:href=\"#DejaVuSans-49\"/>\r\n      </g>\r\n     </g>\r\n    </g>\r\n    <g id=\"xtick_2\">\r\n     <g id=\"line2d_2\">\r\n      <g>\r\n       <use style=\"stroke:#000000;stroke-width:0.8;\" x=\"128.15625\" xlink:href=\"#mbbe9a5f2bb\" y=\"554.599219\"/>\r\n      </g>\r\n     </g>\r\n     <g id=\"text_2\">\r\n      <!-- PC2 -->\r\n      <defs>\r\n       <path d=\"M 19.1875 8.296875 \r\nL 53.609375 8.296875 \r\nL 53.609375 0 \r\nL 7.328125 0 \r\nL 7.328125 8.296875 \r\nQ 12.9375 14.109375 22.625 23.890625 \r\nQ 32.328125 33.6875 34.8125 36.53125 \r\nQ 39.546875 41.84375 41.421875 45.53125 \r\nQ 43.3125 49.21875 43.3125 52.78125 \r\nQ 43.3125 58.59375 39.234375 62.25 \r\nQ 35.15625 65.921875 28.609375 65.921875 \r\nQ 23.96875 65.921875 18.8125 64.3125 \r\nQ 13.671875 62.703125 7.8125 59.421875 \r\nL 7.8125 69.390625 \r\nQ 13.765625 71.78125 18.9375 73 \r\nQ 24.125 74.21875 28.421875 74.21875 \r\nQ 39.75 74.21875 46.484375 68.546875 \r\nQ 53.21875 62.890625 53.21875 53.421875 \r\nQ 53.21875 48.921875 51.53125 44.890625 \r\nQ 49.859375 40.875 45.40625 35.40625 \r\nQ 44.1875 33.984375 37.640625 27.21875 \r\nQ 31.109375 20.453125 19.1875 8.296875 \r\nz\r\n\" id=\"DejaVuSans-50\"/>\r\n      </defs>\r\n      <g transform=\"translate(118.46875 569.197656)scale(0.1 -0.1)\">\r\n       <use xlink:href=\"#DejaVuSans-80\"/>\r\n       <use x=\"60.302734\" xlink:href=\"#DejaVuSans-67\"/>\r\n       <use x=\"130.126953\" xlink:href=\"#DejaVuSans-50\"/>\r\n      </g>\r\n     </g>\r\n    </g>\r\n    <g id=\"xtick_3\">\r\n     <g id=\"line2d_3\">\r\n      <g>\r\n       <use style=\"stroke:#000000;stroke-width:0.8;\" x=\"188.55625\" xlink:href=\"#mbbe9a5f2bb\" y=\"554.599219\"/>\r\n      </g>\r\n     </g>\r\n     <g id=\"text_3\">\r\n      <!-- PC3 -->\r\n      <defs>\r\n       <path d=\"M 40.578125 39.3125 \r\nQ 47.65625 37.796875 51.625 33 \r\nQ 55.609375 28.21875 55.609375 21.1875 \r\nQ 55.609375 10.40625 48.1875 4.484375 \r\nQ 40.765625 -1.421875 27.09375 -1.421875 \r\nQ 22.515625 -1.421875 17.65625 -0.515625 \r\nQ 12.796875 0.390625 7.625 2.203125 \r\nL 7.625 11.71875 \r\nQ 11.71875 9.328125 16.59375 8.109375 \r\nQ 21.484375 6.890625 26.8125 6.890625 \r\nQ 36.078125 6.890625 40.9375 10.546875 \r\nQ 45.796875 14.203125 45.796875 21.1875 \r\nQ 45.796875 27.640625 41.28125 31.265625 \r\nQ 36.765625 34.90625 28.71875 34.90625 \r\nL 20.21875 34.90625 \r\nL 20.21875 43.015625 \r\nL 29.109375 43.015625 \r\nQ 36.375 43.015625 40.234375 45.921875 \r\nQ 44.09375 48.828125 44.09375 54.296875 \r\nQ 44.09375 59.90625 40.109375 62.90625 \r\nQ 36.140625 65.921875 28.71875 65.921875 \r\nQ 24.65625 65.921875 20.015625 65.03125 \r\nQ 15.375 64.15625 9.8125 62.3125 \r\nL 9.8125 71.09375 \r\nQ 15.4375 72.65625 20.34375 73.4375 \r\nQ 25.25 74.21875 29.59375 74.21875 \r\nQ 40.828125 74.21875 47.359375 69.109375 \r\nQ 53.90625 64.015625 53.90625 55.328125 \r\nQ 53.90625 49.265625 50.4375 45.09375 \r\nQ 46.96875 40.921875 40.578125 39.3125 \r\nz\r\n\" id=\"DejaVuSans-51\"/>\r\n      </defs>\r\n      <g transform=\"translate(178.86875 569.197656)scale(0.1 -0.1)\">\r\n       <use xlink:href=\"#DejaVuSans-80\"/>\r\n       <use x=\"60.302734\" xlink:href=\"#DejaVuSans-67\"/>\r\n       <use x=\"130.126953\" xlink:href=\"#DejaVuSans-51\"/>\r\n      </g>\r\n     </g>\r\n    </g>\r\n    <g id=\"xtick_4\">\r\n     <g id=\"line2d_4\">\r\n      <g>\r\n       <use style=\"stroke:#000000;stroke-width:0.8;\" x=\"248.95625\" xlink:href=\"#mbbe9a5f2bb\" y=\"554.599219\"/>\r\n      </g>\r\n     </g>\r\n     <g id=\"text_4\">\r\n      <!-- PC4 -->\r\n      <defs>\r\n       <path d=\"M 37.796875 64.3125 \r\nL 12.890625 25.390625 \r\nL 37.796875 25.390625 \r\nz\r\nM 35.203125 72.90625 \r\nL 47.609375 72.90625 \r\nL 47.609375 25.390625 \r\nL 58.015625 25.390625 \r\nL 58.015625 17.1875 \r\nL 47.609375 17.1875 \r\nL 47.609375 0 \r\nL 37.796875 0 \r\nL 37.796875 17.1875 \r\nL 4.890625 17.1875 \r\nL 4.890625 26.703125 \r\nz\r\n\" id=\"DejaVuSans-52\"/>\r\n      </defs>\r\n      <g transform=\"translate(239.26875 569.197656)scale(0.1 -0.1)\">\r\n       <use xlink:href=\"#DejaVuSans-80\"/>\r\n       <use x=\"60.302734\" xlink:href=\"#DejaVuSans-67\"/>\r\n       <use x=\"130.126953\" xlink:href=\"#DejaVuSans-52\"/>\r\n      </g>\r\n     </g>\r\n    </g>\r\n    <g id=\"xtick_5\">\r\n     <g id=\"line2d_5\">\r\n      <g>\r\n       <use style=\"stroke:#000000;stroke-width:0.8;\" x=\"309.35625\" xlink:href=\"#mbbe9a5f2bb\" y=\"554.599219\"/>\r\n      </g>\r\n     </g>\r\n     <g id=\"text_5\">\r\n      <!-- PC5 -->\r\n      <defs>\r\n       <path d=\"M 10.796875 72.90625 \r\nL 49.515625 72.90625 \r\nL 49.515625 64.59375 \r\nL 19.828125 64.59375 \r\nL 19.828125 46.734375 \r\nQ 21.96875 47.46875 24.109375 47.828125 \r\nQ 26.265625 48.1875 28.421875 48.1875 \r\nQ 40.625 48.1875 47.75 41.5 \r\nQ 54.890625 34.8125 54.890625 23.390625 \r\nQ 54.890625 11.625 47.5625 5.09375 \r\nQ 40.234375 -1.421875 26.90625 -1.421875 \r\nQ 22.3125 -1.421875 17.546875 -0.640625 \r\nQ 12.796875 0.140625 7.71875 1.703125 \r\nL 7.71875 11.625 \r\nQ 12.109375 9.234375 16.796875 8.0625 \r\nQ 21.484375 6.890625 26.703125 6.890625 \r\nQ 35.15625 6.890625 40.078125 11.328125 \r\nQ 45.015625 15.765625 45.015625 23.390625 \r\nQ 45.015625 31 40.078125 35.4375 \r\nQ 35.15625 39.890625 26.703125 39.890625 \r\nQ 22.75 39.890625 18.8125 39.015625 \r\nQ 14.890625 38.140625 10.796875 36.28125 \r\nz\r\n\" id=\"DejaVuSans-53\"/>\r\n      </defs>\r\n      <g transform=\"translate(299.66875 569.197656)scale(0.1 -0.1)\">\r\n       <use xlink:href=\"#DejaVuSans-80\"/>\r\n       <use x=\"60.302734\" xlink:href=\"#DejaVuSans-67\"/>\r\n       <use x=\"130.126953\" xlink:href=\"#DejaVuSans-53\"/>\r\n      </g>\r\n     </g>\r\n    </g>\r\n    <g id=\"xtick_6\">\r\n     <g id=\"line2d_6\">\r\n      <g>\r\n       <use style=\"stroke:#000000;stroke-width:0.8;\" x=\"369.75625\" xlink:href=\"#mbbe9a5f2bb\" y=\"554.599219\"/>\r\n      </g>\r\n     </g>\r\n     <g id=\"text_6\">\r\n      <!-- PC6 -->\r\n      <defs>\r\n       <path d=\"M 33.015625 40.375 \r\nQ 26.375 40.375 22.484375 35.828125 \r\nQ 18.609375 31.296875 18.609375 23.390625 \r\nQ 18.609375 15.53125 22.484375 10.953125 \r\nQ 26.375 6.390625 33.015625 6.390625 \r\nQ 39.65625 6.390625 43.53125 10.953125 \r\nQ 47.40625 15.53125 47.40625 23.390625 \r\nQ 47.40625 31.296875 43.53125 35.828125 \r\nQ 39.65625 40.375 33.015625 40.375 \r\nz\r\nM 52.59375 71.296875 \r\nL 52.59375 62.3125 \r\nQ 48.875 64.0625 45.09375 64.984375 \r\nQ 41.3125 65.921875 37.59375 65.921875 \r\nQ 27.828125 65.921875 22.671875 59.328125 \r\nQ 17.53125 52.734375 16.796875 39.40625 \r\nQ 19.671875 43.65625 24.015625 45.921875 \r\nQ 28.375 48.1875 33.59375 48.1875 \r\nQ 44.578125 48.1875 50.953125 41.515625 \r\nQ 57.328125 34.859375 57.328125 23.390625 \r\nQ 57.328125 12.15625 50.6875 5.359375 \r\nQ 44.046875 -1.421875 33.015625 -1.421875 \r\nQ 20.359375 -1.421875 13.671875 8.265625 \r\nQ 6.984375 17.96875 6.984375 36.375 \r\nQ 6.984375 53.65625 15.1875 63.9375 \r\nQ 23.390625 74.21875 37.203125 74.21875 \r\nQ 40.921875 74.21875 44.703125 73.484375 \r\nQ 48.484375 72.75 52.59375 71.296875 \r\nz\r\n\" id=\"DejaVuSans-54\"/>\r\n      </defs>\r\n      <g transform=\"translate(360.06875 569.197656)scale(0.1 -0.1)\">\r\n       <use xlink:href=\"#DejaVuSans-80\"/>\r\n       <use x=\"60.302734\" xlink:href=\"#DejaVuSans-67\"/>\r\n       <use x=\"130.126953\" xlink:href=\"#DejaVuSans-54\"/>\r\n      </g>\r\n     </g>\r\n    </g>\r\n   </g>\r\n   <g id=\"matplotlib.axis_2\">\r\n    <g id=\"ytick_1\">\r\n     <g id=\"line2d_7\">\r\n      <defs>\r\n       <path d=\"M 0 0 \r\nL -3.5 0 \r\n\" id=\"m1b3e74f003\" style=\"stroke:#000000;stroke-width:0.8;\"/>\r\n      </defs>\r\n      <g>\r\n       <use style=\"stroke:#000000;stroke-width:0.8;\" x=\"37.55625\" xlink:href=\"#m1b3e74f003\" y=\"41.199219\"/>\r\n      </g>\r\n     </g>\r\n     <g id=\"text_7\">\r\n      <!-- 1 -->\r\n      <g transform=\"translate(28.476563 43.7625)rotate(-90)scale(0.1 -0.1)\">\r\n       <use xlink:href=\"#DejaVuSans-49\"/>\r\n      </g>\r\n     </g>\r\n    </g>\r\n    <g id=\"ytick_2\">\r\n     <g id=\"line2d_8\">\r\n      <g>\r\n       <use style=\"stroke:#000000;stroke-width:0.8;\" x=\"37.55625\" xlink:href=\"#m1b3e74f003\" y=\"101.599219\"/>\r\n      </g>\r\n     </g>\r\n     <g id=\"text_8\">\r\n      <!-- 2 -->\r\n      <g transform=\"translate(28.476563 104.1625)rotate(-90)scale(0.1 -0.1)\">\r\n       <use xlink:href=\"#DejaVuSans-50\"/>\r\n      </g>\r\n     </g>\r\n    </g>\r\n    <g id=\"ytick_3\">\r\n     <g id=\"line2d_9\">\r\n      <g>\r\n       <use style=\"stroke:#000000;stroke-width:0.8;\" x=\"37.55625\" xlink:href=\"#m1b3e74f003\" y=\"161.999219\"/>\r\n      </g>\r\n     </g>\r\n     <g id=\"text_9\">\r\n      <!-- 3 -->\r\n      <g transform=\"translate(28.476563 164.5625)rotate(-90)scale(0.1 -0.1)\">\r\n       <use xlink:href=\"#DejaVuSans-51\"/>\r\n      </g>\r\n     </g>\r\n    </g>\r\n    <g id=\"ytick_4\">\r\n     <g id=\"line2d_10\">\r\n      <g>\r\n       <use style=\"stroke:#000000;stroke-width:0.8;\" x=\"37.55625\" xlink:href=\"#m1b3e74f003\" y=\"222.399219\"/>\r\n      </g>\r\n     </g>\r\n     <g id=\"text_10\">\r\n      <!-- 4 -->\r\n      <g transform=\"translate(28.476563 224.9625)rotate(-90)scale(0.1 -0.1)\">\r\n       <use xlink:href=\"#DejaVuSans-52\"/>\r\n      </g>\r\n     </g>\r\n    </g>\r\n    <g id=\"ytick_5\">\r\n     <g id=\"line2d_11\">\r\n      <g>\r\n       <use style=\"stroke:#000000;stroke-width:0.8;\" x=\"37.55625\" xlink:href=\"#m1b3e74f003\" y=\"282.799219\"/>\r\n      </g>\r\n     </g>\r\n     <g id=\"text_11\">\r\n      <!-- 5 -->\r\n      <g transform=\"translate(28.476563 285.3625)rotate(-90)scale(0.1 -0.1)\">\r\n       <use xlink:href=\"#DejaVuSans-53\"/>\r\n      </g>\r\n     </g>\r\n    </g>\r\n    <g id=\"ytick_6\">\r\n     <g id=\"line2d_12\">\r\n      <g>\r\n       <use style=\"stroke:#000000;stroke-width:0.8;\" x=\"37.55625\" xlink:href=\"#m1b3e74f003\" y=\"343.199219\"/>\r\n      </g>\r\n     </g>\r\n     <g id=\"text_12\">\r\n      <!-- 6 -->\r\n      <g transform=\"translate(28.476563 345.7625)rotate(-90)scale(0.1 -0.1)\">\r\n       <use xlink:href=\"#DejaVuSans-54\"/>\r\n      </g>\r\n     </g>\r\n    </g>\r\n    <g id=\"ytick_7\">\r\n     <g id=\"line2d_13\">\r\n      <g>\r\n       <use style=\"stroke:#000000;stroke-width:0.8;\" x=\"37.55625\" xlink:href=\"#m1b3e74f003\" y=\"403.599219\"/>\r\n      </g>\r\n     </g>\r\n     <g id=\"text_13\">\r\n      <!-- 7 -->\r\n      <defs>\r\n       <path d=\"M 8.203125 72.90625 \r\nL 55.078125 72.90625 \r\nL 55.078125 68.703125 \r\nL 28.609375 0 \r\nL 18.3125 0 \r\nL 43.21875 64.59375 \r\nL 8.203125 64.59375 \r\nz\r\n\" id=\"DejaVuSans-55\"/>\r\n      </defs>\r\n      <g transform=\"translate(28.476563 406.1625)rotate(-90)scale(0.1 -0.1)\">\r\n       <use xlink:href=\"#DejaVuSans-55\"/>\r\n      </g>\r\n     </g>\r\n    </g>\r\n    <g id=\"ytick_8\">\r\n     <g id=\"line2d_14\">\r\n      <g>\r\n       <use style=\"stroke:#000000;stroke-width:0.8;\" x=\"37.55625\" xlink:href=\"#m1b3e74f003\" y=\"463.999219\"/>\r\n      </g>\r\n     </g>\r\n     <g id=\"text_14\">\r\n      <!-- 8 -->\r\n      <defs>\r\n       <path d=\"M 31.78125 34.625 \r\nQ 24.75 34.625 20.71875 30.859375 \r\nQ 16.703125 27.09375 16.703125 20.515625 \r\nQ 16.703125 13.921875 20.71875 10.15625 \r\nQ 24.75 6.390625 31.78125 6.390625 \r\nQ 38.8125 6.390625 42.859375 10.171875 \r\nQ 46.921875 13.96875 46.921875 20.515625 \r\nQ 46.921875 27.09375 42.890625 30.859375 \r\nQ 38.875 34.625 31.78125 34.625 \r\nz\r\nM 21.921875 38.8125 \r\nQ 15.578125 40.375 12.03125 44.71875 \r\nQ 8.5 49.078125 8.5 55.328125 \r\nQ 8.5 64.0625 14.71875 69.140625 \r\nQ 20.953125 74.21875 31.78125 74.21875 \r\nQ 42.671875 74.21875 48.875 69.140625 \r\nQ 55.078125 64.0625 55.078125 55.328125 \r\nQ 55.078125 49.078125 51.53125 44.71875 \r\nQ 48 40.375 41.703125 38.8125 \r\nQ 48.828125 37.15625 52.796875 32.3125 \r\nQ 56.78125 27.484375 56.78125 20.515625 \r\nQ 56.78125 9.90625 50.3125 4.234375 \r\nQ 43.84375 -1.421875 31.78125 -1.421875 \r\nQ 19.734375 -1.421875 13.25 4.234375 \r\nQ 6.78125 9.90625 6.78125 20.515625 \r\nQ 6.78125 27.484375 10.78125 32.3125 \r\nQ 14.796875 37.15625 21.921875 38.8125 \r\nz\r\nM 18.3125 54.390625 \r\nQ 18.3125 48.734375 21.84375 45.5625 \r\nQ 25.390625 42.390625 31.78125 42.390625 \r\nQ 38.140625 42.390625 41.71875 45.5625 \r\nQ 45.3125 48.734375 45.3125 54.390625 \r\nQ 45.3125 60.0625 41.71875 63.234375 \r\nQ 38.140625 66.40625 31.78125 66.40625 \r\nQ 25.390625 66.40625 21.84375 63.234375 \r\nQ 18.3125 60.0625 18.3125 54.390625 \r\nz\r\n\" id=\"DejaVuSans-56\"/>\r\n      </defs>\r\n      <g transform=\"translate(28.476563 466.5625)rotate(-90)scale(0.1 -0.1)\">\r\n       <use xlink:href=\"#DejaVuSans-56\"/>\r\n      </g>\r\n     </g>\r\n    </g>\r\n    <g id=\"ytick_9\">\r\n     <g id=\"line2d_15\">\r\n      <g>\r\n       <use style=\"stroke:#000000;stroke-width:0.8;\" x=\"37.55625\" xlink:href=\"#m1b3e74f003\" y=\"524.399219\"/>\r\n      </g>\r\n     </g>\r\n     <g id=\"text_15\">\r\n      <!-- 9 -->\r\n      <defs>\r\n       <path d=\"M 10.984375 1.515625 \r\nL 10.984375 10.5 \r\nQ 14.703125 8.734375 18.5 7.8125 \r\nQ 22.3125 6.890625 25.984375 6.890625 \r\nQ 35.75 6.890625 40.890625 13.453125 \r\nQ 46.046875 20.015625 46.78125 33.40625 \r\nQ 43.953125 29.203125 39.59375 26.953125 \r\nQ 35.25 24.703125 29.984375 24.703125 \r\nQ 19.046875 24.703125 12.671875 31.3125 \r\nQ 6.296875 37.9375 6.296875 49.421875 \r\nQ 6.296875 60.640625 12.9375 67.421875 \r\nQ 19.578125 74.21875 30.609375 74.21875 \r\nQ 43.265625 74.21875 49.921875 64.515625 \r\nQ 56.59375 54.828125 56.59375 36.375 \r\nQ 56.59375 19.140625 48.40625 8.859375 \r\nQ 40.234375 -1.421875 26.421875 -1.421875 \r\nQ 22.703125 -1.421875 18.890625 -0.6875 \r\nQ 15.09375 0.046875 10.984375 1.515625 \r\nz\r\nM 30.609375 32.421875 \r\nQ 37.25 32.421875 41.125 36.953125 \r\nQ 45.015625 41.5 45.015625 49.421875 \r\nQ 45.015625 57.28125 41.125 61.84375 \r\nQ 37.25 66.40625 30.609375 66.40625 \r\nQ 23.96875 66.40625 20.09375 61.84375 \r\nQ 16.21875 57.28125 16.21875 49.421875 \r\nQ 16.21875 41.5 20.09375 36.953125 \r\nQ 23.96875 32.421875 30.609375 32.421875 \r\nz\r\n\" id=\"DejaVuSans-57\"/>\r\n      </defs>\r\n      <g transform=\"translate(28.476563 526.9625)rotate(-90)scale(0.1 -0.1)\">\r\n       <use xlink:href=\"#DejaVuSans-57\"/>\r\n      </g>\r\n     </g>\r\n    </g>\r\n    <g id=\"text_16\">\r\n     <!-- CLUSTER -->\r\n     <defs>\r\n      <path d=\"M 9.8125 72.90625 \r\nL 19.671875 72.90625 \r\nL 19.671875 8.296875 \r\nL 55.171875 8.296875 \r\nL 55.171875 0 \r\nL 9.8125 0 \r\nz\r\n\" id=\"DejaVuSans-76\"/>\r\n      <path d=\"M 8.6875 72.90625 \r\nL 18.609375 72.90625 \r\nL 18.609375 28.609375 \r\nQ 18.609375 16.890625 22.84375 11.734375 \r\nQ 27.09375 6.59375 36.625 6.59375 \r\nQ 46.09375 6.59375 50.34375 11.734375 \r\nQ 54.59375 16.890625 54.59375 28.609375 \r\nL 54.59375 72.90625 \r\nL 64.5 72.90625 \r\nL 64.5 27.390625 \r\nQ 64.5 13.140625 57.4375 5.859375 \r\nQ 50.390625 -1.421875 36.625 -1.421875 \r\nQ 22.796875 -1.421875 15.734375 5.859375 \r\nQ 8.6875 13.140625 8.6875 27.390625 \r\nz\r\n\" id=\"DejaVuSans-85\"/>\r\n      <path d=\"M 53.515625 70.515625 \r\nL 53.515625 60.890625 \r\nQ 47.90625 63.578125 42.921875 64.890625 \r\nQ 37.9375 66.21875 33.296875 66.21875 \r\nQ 25.25 66.21875 20.875 63.09375 \r\nQ 16.5 59.96875 16.5 54.203125 \r\nQ 16.5 49.359375 19.40625 46.890625 \r\nQ 22.3125 44.4375 30.421875 42.921875 \r\nL 36.375 41.703125 \r\nQ 47.40625 39.59375 52.65625 34.296875 \r\nQ 57.90625 29 57.90625 20.125 \r\nQ 57.90625 9.515625 50.796875 4.046875 \r\nQ 43.703125 -1.421875 29.984375 -1.421875 \r\nQ 24.8125 -1.421875 18.96875 -0.25 \r\nQ 13.140625 0.921875 6.890625 3.21875 \r\nL 6.890625 13.375 \r\nQ 12.890625 10.015625 18.65625 8.296875 \r\nQ 24.421875 6.59375 29.984375 6.59375 \r\nQ 38.421875 6.59375 43.015625 9.90625 \r\nQ 47.609375 13.234375 47.609375 19.390625 \r\nQ 47.609375 24.75 44.3125 27.78125 \r\nQ 41.015625 30.8125 33.5 32.328125 \r\nL 27.484375 33.5 \r\nQ 16.453125 35.6875 11.515625 40.375 \r\nQ 6.59375 45.0625 6.59375 53.421875 \r\nQ 6.59375 63.09375 13.40625 68.65625 \r\nQ 20.21875 74.21875 32.171875 74.21875 \r\nQ 37.3125 74.21875 42.625 73.28125 \r\nQ 47.953125 72.359375 53.515625 70.515625 \r\nz\r\n\" id=\"DejaVuSans-83\"/>\r\n      <path d=\"M -0.296875 72.90625 \r\nL 61.375 72.90625 \r\nL 61.375 64.59375 \r\nL 35.5 64.59375 \r\nL 35.5 0 \r\nL 25.59375 0 \r\nL 25.59375 64.59375 \r\nL -0.296875 64.59375 \r\nz\r\n\" id=\"DejaVuSans-84\"/>\r\n      <path d=\"M 9.8125 72.90625 \r\nL 55.90625 72.90625 \r\nL 55.90625 64.59375 \r\nL 19.671875 64.59375 \r\nL 19.671875 43.015625 \r\nL 54.390625 43.015625 \r\nL 54.390625 34.71875 \r\nL 19.671875 34.71875 \r\nL 19.671875 8.296875 \r\nL 56.78125 8.296875 \r\nL 56.78125 0 \r\nL 9.8125 0 \r\nz\r\n\" id=\"DejaVuSans-69\"/>\r\n      <path d=\"M 44.390625 34.1875 \r\nQ 47.5625 33.109375 50.5625 29.59375 \r\nQ 53.5625 26.078125 56.59375 19.921875 \r\nL 66.609375 0 \r\nL 56 0 \r\nL 46.6875 18.703125 \r\nQ 43.0625 26.03125 39.671875 28.421875 \r\nQ 36.28125 30.8125 30.421875 30.8125 \r\nL 19.671875 30.8125 \r\nL 19.671875 0 \r\nL 9.8125 0 \r\nL 9.8125 72.90625 \r\nL 32.078125 72.90625 \r\nQ 44.578125 72.90625 50.734375 67.671875 \r\nQ 56.890625 62.453125 56.890625 51.90625 \r\nQ 56.890625 45.015625 53.6875 40.46875 \r\nQ 50.484375 35.9375 44.390625 34.1875 \r\nz\r\nM 19.671875 64.796875 \r\nL 19.671875 38.921875 \r\nL 32.078125 38.921875 \r\nQ 39.203125 38.921875 42.84375 42.21875 \r\nQ 46.484375 45.515625 46.484375 51.90625 \r\nQ 46.484375 58.296875 42.84375 61.546875 \r\nQ 39.203125 64.796875 32.078125 64.796875 \r\nz\r\n\" id=\"DejaVuSans-82\"/>\r\n     </defs>\r\n     <g transform=\"translate(14.798438 305.59375)rotate(-90)scale(0.1 -0.1)\">\r\n      <use xlink:href=\"#DejaVuSans-67\"/>\r\n      <use x=\"69.824219\" xlink:href=\"#DejaVuSans-76\"/>\r\n      <use x=\"125.458984\" xlink:href=\"#DejaVuSans-85\"/>\r\n      <use x=\"198.652344\" xlink:href=\"#DejaVuSans-83\"/>\r\n      <use x=\"262.128906\" xlink:href=\"#DejaVuSans-84\"/>\r\n      <use x=\"323.212891\" xlink:href=\"#DejaVuSans-69\"/>\r\n      <use x=\"386.396484\" xlink:href=\"#DejaVuSans-82\"/>\r\n     </g>\r\n    </g>\r\n   </g>\r\n  </g>\r\n  <g id=\"axes_2\">\r\n   <g id=\"patch_3\">\r\n    <path clip-path=\"url(#pba11b60f26)\" d=\"M 427.85625 554.599219 \r\nL 427.85625 552.475781 \r\nL 427.85625 13.122656 \r\nL 427.85625 10.999219 \r\nL 455.03625 10.999219 \r\nL 455.03625 13.122656 \r\nL 455.03625 552.475781 \r\nL 455.03625 554.599219 \r\nz\r\n\" style=\"fill:#ffffff;stroke:#ffffff;stroke-linejoin:miter;stroke-width:0.01;\"/>\r\n   </g>\r\n   <image height=\"543\" id=\"image475a6c181a\" transform=\"scale(1 -1)translate(0 -543)\" width=\"27\" x=\"428\" xlink:href=\"data:image/png;base64,\r\niVBORw0KGgoAAAANSUhEUgAAABsAAAIfCAYAAACB2qdqAAAABHNCSVQICAgIfAhkiAAAAsNJREFUeJzt3dFNxEAMhOHs3SJ6og8qpioEl9BBniwLf5pp4Jez9sRr53Tr6/PjOpr06ALZsH08VhusN7K11MiO1cdzU785Gx/PNlgcpESwg7DZGFiJ3FfMXg81skO1Kxe21xM1Yjcb91K9sTv18xiHweC2ALYrtuHJLWYczK2zFHWJUtTzYG5RwyPAw3UQ9U4dWIngW4xrV2xb4O7PXJg7ApRbuedug7mp78Lk1HcjU3t9t0l1YXCdsd4YuyqR2xG7MHkEyEaWtmAczG0LYlclil2VyE39ZGOJskQokZv6LsztQdxXTOyqRG5Rx0FK5G4GM7YtUYab82Bu6tNLBPTMXJjcfucHigWSE0QdlLkwuS1gpwVsW+CutFyYW2cx4hKlLZgHk5tU9RbjTuVcbwysRG4P4m4GZbtKwzMNBjsIPC1QIwusRPBmEL6fqUUdu5oHgz+FWurFIkYc2K3cgbSbja5duWfmwlwH6X2M3/u9DeY+xsACCyywwAIL7D/D9s/zrQ3WG9nrbPurYzhBes/sutAzgyM71ciaH2Psahpsnwd6ZrBd/b7ONpib+t3Z2AdLnc2DwUZ8nrGrYbDd2MnFrmq0X2qd5X4W2K3gomZTP9OCeTA4G10HYZcI7pkFViLYruDI1FuMC8u0oETNbcGF1pl7ZoGVCLYr9k7ttgXu4seFua8Yd1qQBAnsVu6ZwdMCeefZB3OLOg4yDwYXdb4CrJCb+mkLSgQ7CHtmgZXINWJ3NAGfGRuZC3NfMfvFRpY6q5C7P3NhcK/fOCyIXQV2L7ktUB0kw80Sxa7mwfavWtRuNrqRubDsqUskf9+oFnXsah6Mbgv6YKmzErneGFiJ6LagDxa7CuxW8K8h2ZVW6qxErhG7sH26dqUWtWtX7od5LgzORtZB8hgDuxXc67PZCBtxPqsZB3OXCLGrErl25cL+ACCIFh2hAp65AAAAAElFTkSuQmCC\" y=\"-11\"/>\r\n   <g id=\"matplotlib.axis_3\"/>\r\n   <g id=\"matplotlib.axis_4\">\r\n    <g id=\"ytick_10\">\r\n     <g id=\"line2d_16\">\r\n      <defs>\r\n       <path d=\"M 0 0 \r\nL 3.5 0 \r\n\" id=\"mb875b33e39\" style=\"stroke:#000000;stroke-width:0.8;\"/>\r\n      </defs>\r\n      <g>\r\n       <use style=\"stroke:#000000;stroke-width:0.8;\" x=\"455.03625\" xlink:href=\"#mb875b33e39\" y=\"554.599219\"/>\r\n      </g>\r\n     </g>\r\n     <g id=\"text_17\">\r\n      <!-- −1.5 -->\r\n      <defs>\r\n       <path d=\"M 10.59375 35.5 \r\nL 73.1875 35.5 \r\nL 73.1875 27.203125 \r\nL 10.59375 27.203125 \r\nz\r\n\" id=\"DejaVuSans-8722\"/>\r\n       <path d=\"M 10.6875 12.40625 \r\nL 21 12.40625 \r\nL 21 0 \r\nL 10.6875 0 \r\nz\r\n\" id=\"DejaVuSans-46\"/>\r\n      </defs>\r\n      <g transform=\"translate(462.03625 558.398438)scale(0.1 -0.1)\">\r\n       <use xlink:href=\"#DejaVuSans-8722\"/>\r\n       <use x=\"83.789062\" xlink:href=\"#DejaVuSans-49\"/>\r\n       <use x=\"147.412109\" xlink:href=\"#DejaVuSans-46\"/>\r\n       <use x=\"179.199219\" xlink:href=\"#DejaVuSans-53\"/>\r\n      </g>\r\n     </g>\r\n    </g>\r\n    <g id=\"ytick_11\">\r\n     <g id=\"line2d_17\">\r\n      <g>\r\n       <use style=\"stroke:#000000;stroke-width:0.8;\" x=\"455.03625\" xlink:href=\"#mb875b33e39\" y=\"463.999219\"/>\r\n      </g>\r\n     </g>\r\n     <g id=\"text_18\">\r\n      <!-- −1.0 -->\r\n      <defs>\r\n       <path d=\"M 31.78125 66.40625 \r\nQ 24.171875 66.40625 20.328125 58.90625 \r\nQ 16.5 51.421875 16.5 36.375 \r\nQ 16.5 21.390625 20.328125 13.890625 \r\nQ 24.171875 6.390625 31.78125 6.390625 \r\nQ 39.453125 6.390625 43.28125 13.890625 \r\nQ 47.125 21.390625 47.125 36.375 \r\nQ 47.125 51.421875 43.28125 58.90625 \r\nQ 39.453125 66.40625 31.78125 66.40625 \r\nz\r\nM 31.78125 74.21875 \r\nQ 44.046875 74.21875 50.515625 64.515625 \r\nQ 56.984375 54.828125 56.984375 36.375 \r\nQ 56.984375 17.96875 50.515625 8.265625 \r\nQ 44.046875 -1.421875 31.78125 -1.421875 \r\nQ 19.53125 -1.421875 13.0625 8.265625 \r\nQ 6.59375 17.96875 6.59375 36.375 \r\nQ 6.59375 54.828125 13.0625 64.515625 \r\nQ 19.53125 74.21875 31.78125 74.21875 \r\nz\r\n\" id=\"DejaVuSans-48\"/>\r\n      </defs>\r\n      <g transform=\"translate(462.03625 467.798437)scale(0.1 -0.1)\">\r\n       <use xlink:href=\"#DejaVuSans-8722\"/>\r\n       <use x=\"83.789062\" xlink:href=\"#DejaVuSans-49\"/>\r\n       <use x=\"147.412109\" xlink:href=\"#DejaVuSans-46\"/>\r\n       <use x=\"179.199219\" xlink:href=\"#DejaVuSans-48\"/>\r\n      </g>\r\n     </g>\r\n    </g>\r\n    <g id=\"ytick_12\">\r\n     <g id=\"line2d_18\">\r\n      <g>\r\n       <use style=\"stroke:#000000;stroke-width:0.8;\" x=\"455.03625\" xlink:href=\"#mb875b33e39\" y=\"373.399219\"/>\r\n      </g>\r\n     </g>\r\n     <g id=\"text_19\">\r\n      <!-- −0.5 -->\r\n      <g transform=\"translate(462.03625 377.198437)scale(0.1 -0.1)\">\r\n       <use xlink:href=\"#DejaVuSans-8722\"/>\r\n       <use x=\"83.789062\" xlink:href=\"#DejaVuSans-48\"/>\r\n       <use x=\"147.412109\" xlink:href=\"#DejaVuSans-46\"/>\r\n       <use x=\"179.199219\" xlink:href=\"#DejaVuSans-53\"/>\r\n      </g>\r\n     </g>\r\n    </g>\r\n    <g id=\"ytick_13\">\r\n     <g id=\"line2d_19\">\r\n      <g>\r\n       <use style=\"stroke:#000000;stroke-width:0.8;\" x=\"455.03625\" xlink:href=\"#mb875b33e39\" y=\"282.799219\"/>\r\n      </g>\r\n     </g>\r\n     <g id=\"text_20\">\r\n      <!-- 0.0 -->\r\n      <g transform=\"translate(462.03625 286.598438)scale(0.1 -0.1)\">\r\n       <use xlink:href=\"#DejaVuSans-48\"/>\r\n       <use x=\"63.623047\" xlink:href=\"#DejaVuSans-46\"/>\r\n       <use x=\"95.410156\" xlink:href=\"#DejaVuSans-48\"/>\r\n      </g>\r\n     </g>\r\n    </g>\r\n    <g id=\"ytick_14\">\r\n     <g id=\"line2d_20\">\r\n      <g>\r\n       <use style=\"stroke:#000000;stroke-width:0.8;\" x=\"455.03625\" xlink:href=\"#mb875b33e39\" y=\"192.199219\"/>\r\n      </g>\r\n     </g>\r\n     <g id=\"text_21\">\r\n      <!-- 0.5 -->\r\n      <g transform=\"translate(462.03625 195.998438)scale(0.1 -0.1)\">\r\n       <use xlink:href=\"#DejaVuSans-48\"/>\r\n       <use x=\"63.623047\" xlink:href=\"#DejaVuSans-46\"/>\r\n       <use x=\"95.410156\" xlink:href=\"#DejaVuSans-53\"/>\r\n      </g>\r\n     </g>\r\n    </g>\r\n    <g id=\"ytick_15\">\r\n     <g id=\"line2d_21\">\r\n      <g>\r\n       <use style=\"stroke:#000000;stroke-width:0.8;\" x=\"455.03625\" xlink:href=\"#mb875b33e39\" y=\"101.599219\"/>\r\n      </g>\r\n     </g>\r\n     <g id=\"text_22\">\r\n      <!-- 1.0 -->\r\n      <g transform=\"translate(462.03625 105.398438)scale(0.1 -0.1)\">\r\n       <use xlink:href=\"#DejaVuSans-49\"/>\r\n       <use x=\"63.623047\" xlink:href=\"#DejaVuSans-46\"/>\r\n       <use x=\"95.410156\" xlink:href=\"#DejaVuSans-48\"/>\r\n      </g>\r\n     </g>\r\n    </g>\r\n    <g id=\"ytick_16\">\r\n     <g id=\"line2d_22\">\r\n      <g>\r\n       <use style=\"stroke:#000000;stroke-width:0.8;\" x=\"455.03625\" xlink:href=\"#mb875b33e39\" y=\"10.999219\"/>\r\n      </g>\r\n     </g>\r\n     <g id=\"text_23\">\r\n      <!-- 1.5 -->\r\n      <g transform=\"translate(462.03625 14.798438)scale(0.1 -0.1)\">\r\n       <use xlink:href=\"#DejaVuSans-49\"/>\r\n       <use x=\"63.623047\" xlink:href=\"#DejaVuSans-46\"/>\r\n       <use x=\"95.410156\" xlink:href=\"#DejaVuSans-53\"/>\r\n      </g>\r\n     </g>\r\n    </g>\r\n   </g>\r\n   <g id=\"patch_4\">\r\n    <path d=\"M 427.85625 554.599219 \r\nL 427.85625 552.475781 \r\nL 427.85625 13.122656 \r\nL 427.85625 10.999219 \r\nL 455.03625 10.999219 \r\nL 455.03625 13.122656 \r\nL 455.03625 552.475781 \r\nL 455.03625 554.599219 \r\nz\r\n\" style=\"fill:none;\"/>\r\n   </g>\r\n  </g>\r\n </g>\r\n <defs>\r\n  <clipPath id=\"p6d362c09a9\">\r\n   <rect height=\"543.6\" width=\"362.4\" x=\"37.55625\" y=\"10.999219\"/>\r\n  </clipPath>\r\n  <clipPath id=\"pba11b60f26\">\r\n   <rect height=\"543.6\" width=\"27.18\" x=\"427.85625\" y=\"10.999219\"/>\r\n  </clipPath>\r\n </defs>\r\n</svg>\r\n",
      "image/png": "[encoded data removed]"
     },
     "metadata": {
      "needs_background": "light"
     }
    }
   ],
   "source": [
    "plt.figure(figsize = (10,10))\n",
    "sns.heatmap(data.groupby('CLUSTER').mean(), vmin = -1.5, vmax = 1.5, center = 0, cmap = sns.diverging_palette(20, 220, n = 200), square = True)"
   ]
  },
  {
   "source": [
    "# Analysis of each cluster:\n"
   ],
   "cell_type": "markdown",
   "metadata": {}
  },
  {
   "cell_type": "code",
   "execution_count": 11,
   "metadata": {},
   "outputs": [
    {
     "output_type": "execute_result",
     "data": {
      "text/plain": [
       "                PLAYER TEAM POSITION  CLUSTER       PC1       PC2       PC3  \\\n",
       "3          Joel Embiid  PHI      F-C        1  1.700382  2.712573  0.671696   \n",
       "9        Anthony Davis  NOP      F-C        1  1.236315  2.579160  0.733884   \n",
       "14  Karl-Anthony Towns  MIN        C        1  1.744433  2.364006  0.995082   \n",
       "21   LaMarcus Aldridge  SAS      C-F        1  1.960305  2.001107  0.275611   \n",
       "28      Nikola Vucevic  ORL        C        1  2.002284  2.224888  0.547447   \n",
       "31        Nikola Jokic  DEN        C        1  1.320324  2.430061 -0.222251   \n",
       "38     Lauri Markkanen  CHI        F        1  0.541152  1.015525  1.817092   \n",
       "52          Kevin Love  CLE      F-C        1  0.658898  0.588105  1.635770   \n",
       "62       Deandre Ayton  PHX        C        1  2.478476  1.547085 -0.398251   \n",
       "70        Jusuf Nurkic  POR        C        1  2.207121  1.123892 -0.616773   \n",
       "\n",
       "         PC4       PC5       PC6  \n",
       "3   1.738021 -0.219439  0.719804  \n",
       "9   1.043634 -0.683206  0.066982  \n",
       "14  2.442603 -0.567570  0.540336  \n",
       "21  3.316683  1.651875  0.320177  \n",
       "28  3.014512  0.638088  0.961189  \n",
       "31  1.655794 -0.330345  0.460097  \n",
       "38  1.789911 -0.324698  0.025979  \n",
       "52  2.189544 -0.549368  0.183993  \n",
       "62  0.339494  0.576832  0.272241  \n",
       "70  1.049126  0.006830  0.963688  "
      ],
      "text/html": "<div>\n<style scoped>\n    .dataframe tbody tr th:only-of-type {\n        vertical-align: middle;\n    }\n\n    .dataframe tbody tr th {\n        vertical-align: top;\n    }\n\n    .dataframe thead th {\n        text-align: right;\n    }\n</style>\n<table border=\"1\" class=\"dataframe\">\n  <thead>\n    <tr style=\"text-align: right;\">\n      <th></th>\n      <th>PLAYER</th>\n      <th>TEAM</th>\n      <th>POSITION</th>\n      <th>CLUSTER</th>\n      <th>PC1</th>\n      <th>PC2</th>\n      <th>PC3</th>\n      <th>PC4</th>\n      <th>PC5</th>\n      <th>PC6</th>\n    </tr>\n  </thead>\n  <tbody>\n    <tr>\n      <th>3</th>\n      <td>Joel Embiid</td>\n      <td>PHI</td>\n      <td>F-C</td>\n      <td>1</td>\n      <td>1.700382</td>\n      <td>2.712573</td>\n      <td>0.671696</td>\n      <td>1.738021</td>\n      <td>-0.219439</td>\n      <td>0.719804</td>\n    </tr>\n    <tr>\n      <th>9</th>\n      <td>Anthony Davis</td>\n      <td>NOP</td>\n      <td>F-C</td>\n      <td>1</td>\n      <td>1.236315</td>\n      <td>2.579160</td>\n      <td>0.733884</td>\n      <td>1.043634</td>\n      <td>-0.683206</td>\n      <td>0.066982</td>\n    </tr>\n    <tr>\n      <th>14</th>\n      <td>Karl-Anthony Towns</td>\n      <td>MIN</td>\n      <td>C</td>\n      <td>1</td>\n      <td>1.744433</td>\n      <td>2.364006</td>\n      <td>0.995082</td>\n      <td>2.442603</td>\n      <td>-0.567570</td>\n      <td>0.540336</td>\n    </tr>\n    <tr>\n      <th>21</th>\n      <td>LaMarcus Aldridge</td>\n      <td>SAS</td>\n      <td>C-F</td>\n      <td>1</td>\n      <td>1.960305</td>\n      <td>2.001107</td>\n      <td>0.275611</td>\n      <td>3.316683</td>\n      <td>1.651875</td>\n      <td>0.320177</td>\n    </tr>\n    <tr>\n      <th>28</th>\n      <td>Nikola Vucevic</td>\n      <td>ORL</td>\n      <td>C</td>\n      <td>1</td>\n      <td>2.002284</td>\n      <td>2.224888</td>\n      <td>0.547447</td>\n      <td>3.014512</td>\n      <td>0.638088</td>\n      <td>0.961189</td>\n    </tr>\n    <tr>\n      <th>31</th>\n      <td>Nikola Jokic</td>\n      <td>DEN</td>\n      <td>C</td>\n      <td>1</td>\n      <td>1.320324</td>\n      <td>2.430061</td>\n      <td>-0.222251</td>\n      <td>1.655794</td>\n      <td>-0.330345</td>\n      <td>0.460097</td>\n    </tr>\n    <tr>\n      <th>38</th>\n      <td>Lauri Markkanen</td>\n      <td>CHI</td>\n      <td>F</td>\n      <td>1</td>\n      <td>0.541152</td>\n      <td>1.015525</td>\n      <td>1.817092</td>\n      <td>1.789911</td>\n      <td>-0.324698</td>\n      <td>0.025979</td>\n    </tr>\n    <tr>\n      <th>52</th>\n      <td>Kevin Love</td>\n      <td>CLE</td>\n      <td>F-C</td>\n      <td>1</td>\n      <td>0.658898</td>\n      <td>0.588105</td>\n      <td>1.635770</td>\n      <td>2.189544</td>\n      <td>-0.549368</td>\n      <td>0.183993</td>\n    </tr>\n    <tr>\n      <th>62</th>\n      <td>Deandre Ayton</td>\n      <td>PHX</td>\n      <td>C</td>\n      <td>1</td>\n      <td>2.478476</td>\n      <td>1.547085</td>\n      <td>-0.398251</td>\n      <td>0.339494</td>\n      <td>0.576832</td>\n      <td>0.272241</td>\n    </tr>\n    <tr>\n      <th>70</th>\n      <td>Jusuf Nurkic</td>\n      <td>POR</td>\n      <td>C</td>\n      <td>1</td>\n      <td>2.207121</td>\n      <td>1.123892</td>\n      <td>-0.616773</td>\n      <td>1.049126</td>\n      <td>0.006830</td>\n      <td>0.963688</td>\n    </tr>\n  </tbody>\n</table>\n</div>"
     },
     "metadata": {},
     "execution_count": 11
    }
   ],
   "source": [
    "data[data['CLUSTER'] == 1].head(10)"
   ]
  },
  {
   "cell_type": "code",
   "execution_count": 12,
   "metadata": {},
   "outputs": [
    {
     "output_type": "execute_result",
     "data": {
      "text/plain": [
       "               PLAYER TEAM POSITION  CLUSTER       PC1       PC2       PC3  \\\n",
       "50     Andre Drummond  DET        C        2  2.745549  1.589518 -0.270823   \n",
       "58       Clint Capela  HOU        C        2  2.870142  1.152039 -0.419089   \n",
       "59   Montrezl Harrell  LAC      F-C        2  1.987095  1.102524 -0.212176   \n",
       "67        Rudy Gobert  UTA        C        2  3.128527  1.276017 -0.479629   \n",
       "91       Steven Adams  OKC        C        2  2.545855  1.210059 -0.769108   \n",
       "122      JaVale McGee  LAL        C        2  2.329112  0.401111 -0.087560   \n",
       "126    Derrick Favors  UTA      F-C        2  1.908237  0.270783  0.305943   \n",
       "140          Alex Len  ATL        C        2  1.469903 -0.059058  0.584579   \n",
       "141    DeAndre Jordan  NYK        C        2  2.358571  0.240617 -1.694443   \n",
       "145     Jarrett Allen  BKN        C        2  2.624708  0.319553 -0.522113   \n",
       "\n",
       "          PC4       PC5       PC6  \n",
       "50  -1.038935 -1.107920  1.089439  \n",
       "58  -2.680947  0.207584  2.139539  \n",
       "59  -0.540231  0.414095  0.263080  \n",
       "67  -2.126986  1.036688  2.105248  \n",
       "91  -1.472477  0.108584  1.917828  \n",
       "122 -1.329101  0.462205 -1.044800  \n",
       "126 -0.508726  0.148606  0.285742  \n",
       "140  0.574801  0.210719  0.048107  \n",
       "141 -1.160513  0.702457  0.974165  \n",
       "145 -1.379196  1.126874  2.492908  "
      ],
      "text/html": "<div>\n<style scoped>\n    .dataframe tbody tr th:only-of-type {\n        vertical-align: middle;\n    }\n\n    .dataframe tbody tr th {\n        vertical-align: top;\n    }\n\n    .dataframe thead th {\n        text-align: right;\n    }\n</style>\n<table border=\"1\" class=\"dataframe\">\n  <thead>\n    <tr style=\"text-align: right;\">\n      <th></th>\n      <th>PLAYER</th>\n      <th>TEAM</th>\n      <th>POSITION</th>\n      <th>CLUSTER</th>\n      <th>PC1</th>\n      <th>PC2</th>\n      <th>PC3</th>\n      <th>PC4</th>\n      <th>PC5</th>\n      <th>PC6</th>\n    </tr>\n  </thead>\n  <tbody>\n    <tr>\n      <th>50</th>\n      <td>Andre Drummond</td>\n      <td>DET</td>\n      <td>C</td>\n      <td>2</td>\n      <td>2.745549</td>\n      <td>1.589518</td>\n      <td>-0.270823</td>\n      <td>-1.038935</td>\n      <td>-1.107920</td>\n      <td>1.089439</td>\n    </tr>\n    <tr>\n      <th>58</th>\n      <td>Clint Capela</td>\n      <td>HOU</td>\n      <td>C</td>\n      <td>2</td>\n      <td>2.870142</td>\n      <td>1.152039</td>\n      <td>-0.419089</td>\n      <td>-2.680947</td>\n      <td>0.207584</td>\n      <td>2.139539</td>\n    </tr>\n    <tr>\n      <th>59</th>\n      <td>Montrezl Harrell</td>\n      <td>LAC</td>\n      <td>F-C</td>\n      <td>2</td>\n      <td>1.987095</td>\n      <td>1.102524</td>\n      <td>-0.212176</td>\n      <td>-0.540231</td>\n      <td>0.414095</td>\n      <td>0.263080</td>\n    </tr>\n    <tr>\n      <th>67</th>\n      <td>Rudy Gobert</td>\n      <td>UTA</td>\n      <td>C</td>\n      <td>2</td>\n      <td>3.128527</td>\n      <td>1.276017</td>\n      <td>-0.479629</td>\n      <td>-2.126986</td>\n      <td>1.036688</td>\n      <td>2.105248</td>\n    </tr>\n    <tr>\n      <th>91</th>\n      <td>Steven Adams</td>\n      <td>OKC</td>\n      <td>C</td>\n      <td>2</td>\n      <td>2.545855</td>\n      <td>1.210059</td>\n      <td>-0.769108</td>\n      <td>-1.472477</td>\n      <td>0.108584</td>\n      <td>1.917828</td>\n    </tr>\n    <tr>\n      <th>122</th>\n      <td>JaVale McGee</td>\n      <td>LAL</td>\n      <td>C</td>\n      <td>2</td>\n      <td>2.329112</td>\n      <td>0.401111</td>\n      <td>-0.087560</td>\n      <td>-1.329101</td>\n      <td>0.462205</td>\n      <td>-1.044800</td>\n    </tr>\n    <tr>\n      <th>126</th>\n      <td>Derrick Favors</td>\n      <td>UTA</td>\n      <td>F-C</td>\n      <td>2</td>\n      <td>1.908237</td>\n      <td>0.270783</td>\n      <td>0.305943</td>\n      <td>-0.508726</td>\n      <td>0.148606</td>\n      <td>0.285742</td>\n    </tr>\n    <tr>\n      <th>140</th>\n      <td>Alex Len</td>\n      <td>ATL</td>\n      <td>C</td>\n      <td>2</td>\n      <td>1.469903</td>\n      <td>-0.059058</td>\n      <td>0.584579</td>\n      <td>0.574801</td>\n      <td>0.210719</td>\n      <td>0.048107</td>\n    </tr>\n    <tr>\n      <th>141</th>\n      <td>DeAndre Jordan</td>\n      <td>NYK</td>\n      <td>C</td>\n      <td>2</td>\n      <td>2.358571</td>\n      <td>0.240617</td>\n      <td>-1.694443</td>\n      <td>-1.160513</td>\n      <td>0.702457</td>\n      <td>0.974165</td>\n    </tr>\n    <tr>\n      <th>145</th>\n      <td>Jarrett Allen</td>\n      <td>BKN</td>\n      <td>C</td>\n      <td>2</td>\n      <td>2.624708</td>\n      <td>0.319553</td>\n      <td>-0.522113</td>\n      <td>-1.379196</td>\n      <td>1.126874</td>\n      <td>2.492908</td>\n    </tr>\n  </tbody>\n</table>\n</div>"
     },
     "metadata": {},
     "execution_count": 12
    }
   ],
   "source": [
    "data[data['CLUSTER'] == 2].head(10)\n"
   ]
  },
  {
   "cell_type": "code",
   "execution_count": 13,
   "metadata": {},
   "outputs": [
    {
     "output_type": "execute_result",
     "data": {
      "text/plain": [
       "              PLAYER TEAM POSITION  CLUSTER       PC1       PC2       PC3  \\\n",
       "5      Stephen Curry  GSW        G        3 -1.145557  1.970408  1.401391   \n",
       "19     Klay Thompson  GSW        G        3 -0.810046  1.321594  2.678729   \n",
       "27       CJ McCollum  POR        G        3 -1.045642  1.527598  0.348045   \n",
       "46         JJ Redick  PHI        G        3 -1.232500  0.347590  1.856907   \n",
       "78     Evan Fournier  ORL      G-F        3 -0.975394  0.742000  0.194824   \n",
       "95        Joe Harris  BKN      F-G        3 -0.434311  0.218339  2.053371   \n",
       "118  Wesley Matthews  IND      G-F        3 -0.732894  0.021707  1.016825   \n",
       "121     Dion Waiters  MIA        G        3 -1.115618  0.151025  0.527523   \n",
       "127      Bryn Forbes  SAS        G        3 -0.999836 -0.005268  0.644119   \n",
       "135   Reggie Bullock  LAL      G-F        3 -0.693083 -0.307680  1.613038   \n",
       "\n",
       "          PC4       PC5       PC6  \n",
       "5   -0.259182  1.693296  1.105336  \n",
       "19   0.544248  2.799067 -0.220348  \n",
       "27   0.159412  3.007344  1.167013  \n",
       "46   0.077765  3.835563  1.200237  \n",
       "78  -0.172537  2.039042  1.503322  \n",
       "95  -0.343499  1.671879  1.241426  \n",
       "118  0.134833  0.895229  1.412658  \n",
       "121  0.522390  0.093084  0.165303  \n",
       "127  0.536263  1.047315  0.986449  \n",
       "135  0.083277  1.377525  1.678700  "
      ],
      "text/html": "<div>\n<style scoped>\n    .dataframe tbody tr th:only-of-type {\n        vertical-align: middle;\n    }\n\n    .dataframe tbody tr th {\n        vertical-align: top;\n    }\n\n    .dataframe thead th {\n        text-align: right;\n    }\n</style>\n<table border=\"1\" class=\"dataframe\">\n  <thead>\n    <tr style=\"text-align: right;\">\n      <th></th>\n      <th>PLAYER</th>\n      <th>TEAM</th>\n      <th>POSITION</th>\n      <th>CLUSTER</th>\n      <th>PC1</th>\n      <th>PC2</th>\n      <th>PC3</th>\n      <th>PC4</th>\n      <th>PC5</th>\n      <th>PC6</th>\n    </tr>\n  </thead>\n  <tbody>\n    <tr>\n      <th>5</th>\n      <td>Stephen Curry</td>\n      <td>GSW</td>\n      <td>G</td>\n      <td>3</td>\n      <td>-1.145557</td>\n      <td>1.970408</td>\n      <td>1.401391</td>\n      <td>-0.259182</td>\n      <td>1.693296</td>\n      <td>1.105336</td>\n    </tr>\n    <tr>\n      <th>19</th>\n      <td>Klay Thompson</td>\n      <td>GSW</td>\n      <td>G</td>\n      <td>3</td>\n      <td>-0.810046</td>\n      <td>1.321594</td>\n      <td>2.678729</td>\n      <td>0.544248</td>\n      <td>2.799067</td>\n      <td>-0.220348</td>\n    </tr>\n    <tr>\n      <th>27</th>\n      <td>CJ McCollum</td>\n      <td>POR</td>\n      <td>G</td>\n      <td>3</td>\n      <td>-1.045642</td>\n      <td>1.527598</td>\n      <td>0.348045</td>\n      <td>0.159412</td>\n      <td>3.007344</td>\n      <td>1.167013</td>\n    </tr>\n    <tr>\n      <th>46</th>\n      <td>JJ Redick</td>\n      <td>PHI</td>\n      <td>G</td>\n      <td>3</td>\n      <td>-1.232500</td>\n      <td>0.347590</td>\n      <td>1.856907</td>\n      <td>0.077765</td>\n      <td>3.835563</td>\n      <td>1.200237</td>\n    </tr>\n    <tr>\n      <th>78</th>\n      <td>Evan Fournier</td>\n      <td>ORL</td>\n      <td>G-F</td>\n      <td>3</td>\n      <td>-0.975394</td>\n      <td>0.742000</td>\n      <td>0.194824</td>\n      <td>-0.172537</td>\n      <td>2.039042</td>\n      <td>1.503322</td>\n    </tr>\n    <tr>\n      <th>95</th>\n      <td>Joe Harris</td>\n      <td>BKN</td>\n      <td>F-G</td>\n      <td>3</td>\n      <td>-0.434311</td>\n      <td>0.218339</td>\n      <td>2.053371</td>\n      <td>-0.343499</td>\n      <td>1.671879</td>\n      <td>1.241426</td>\n    </tr>\n    <tr>\n      <th>118</th>\n      <td>Wesley Matthews</td>\n      <td>IND</td>\n      <td>G-F</td>\n      <td>3</td>\n      <td>-0.732894</td>\n      <td>0.021707</td>\n      <td>1.016825</td>\n      <td>0.134833</td>\n      <td>0.895229</td>\n      <td>1.412658</td>\n    </tr>\n    <tr>\n      <th>121</th>\n      <td>Dion Waiters</td>\n      <td>MIA</td>\n      <td>G</td>\n      <td>3</td>\n      <td>-1.115618</td>\n      <td>0.151025</td>\n      <td>0.527523</td>\n      <td>0.522390</td>\n      <td>0.093084</td>\n      <td>0.165303</td>\n    </tr>\n    <tr>\n      <th>127</th>\n      <td>Bryn Forbes</td>\n      <td>SAS</td>\n      <td>G</td>\n      <td>3</td>\n      <td>-0.999836</td>\n      <td>-0.005268</td>\n      <td>0.644119</td>\n      <td>0.536263</td>\n      <td>1.047315</td>\n      <td>0.986449</td>\n    </tr>\n    <tr>\n      <th>135</th>\n      <td>Reggie Bullock</td>\n      <td>LAL</td>\n      <td>G-F</td>\n      <td>3</td>\n      <td>-0.693083</td>\n      <td>-0.307680</td>\n      <td>1.613038</td>\n      <td>0.083277</td>\n      <td>1.377525</td>\n      <td>1.678700</td>\n    </tr>\n  </tbody>\n</table>\n</div>"
     },
     "metadata": {},
     "execution_count": 13
    }
   ],
   "source": [
    "data[data['CLUSTER'] == 3].head(10)"
   ]
  },
  {
   "cell_type": "code",
   "execution_count": 14,
   "metadata": {},
   "outputs": [
    {
     "output_type": "execute_result",
     "data": {
      "text/plain": [
       "               PLAYER TEAM POSITION  CLUSTER       PC1       PC2       PC3  \\\n",
       "137   Darren Collison  IND        G        4 -1.215894  0.651650 -0.812430   \n",
       "138       Rodney Hood  POR        G        4 -0.673058 -0.233236 -0.073056   \n",
       "148     Allonzo Trier  NYK        G        4 -0.681839 -0.169964 -0.299102   \n",
       "164      Tyreke Evans  IND        G        4 -0.823107 -0.022912 -0.565930   \n",
       "183    JaMychal Green  LAC        F        4  0.675251 -0.452780  0.822046   \n",
       "191       Alex Caruso  LAL        G        4 -0.665754  0.039575 -0.872259   \n",
       "199  Tomas Satoransky  WAS      G-F        4 -0.404536  0.294188 -0.379684   \n",
       "203      Delon Wright  MEM        G        4 -0.506248  0.083454 -1.143453   \n",
       "205     Norman Powell  TOR      F-G        4 -0.651551 -0.419986  0.218731   \n",
       "208    Rodions Kurucs  BKN        F        4  0.124255 -0.441624  0.849067   \n",
       "\n",
       "          PC4       PC5       PC6  \n",
       "137 -1.068004 -0.632418  0.015298  \n",
       "138  0.985289  0.029186 -0.979038  \n",
       "148  0.053534  0.279132 -1.188147  \n",
       "164  0.151501 -0.421559 -0.742018  \n",
       "183  0.126218 -1.028874 -1.707167  \n",
       "191 -0.777530 -0.805759 -0.092129  \n",
       "199 -0.440966 -0.631182 -0.125171  \n",
       "203 -1.025837 -0.739228  0.191848  \n",
       "205 -0.930329  0.806924 -0.938448  \n",
       "208 -0.985097 -0.472183 -0.531856  "
      ],
      "text/html": "<div>\n<style scoped>\n    .dataframe tbody tr th:only-of-type {\n        vertical-align: middle;\n    }\n\n    .dataframe tbody tr th {\n        vertical-align: top;\n    }\n\n    .dataframe thead th {\n        text-align: right;\n    }\n</style>\n<table border=\"1\" class=\"dataframe\">\n  <thead>\n    <tr style=\"text-align: right;\">\n      <th></th>\n      <th>PLAYER</th>\n      <th>TEAM</th>\n      <th>POSITION</th>\n      <th>CLUSTER</th>\n      <th>PC1</th>\n      <th>PC2</th>\n      <th>PC3</th>\n      <th>PC4</th>\n      <th>PC5</th>\n      <th>PC6</th>\n    </tr>\n  </thead>\n  <tbody>\n    <tr>\n      <th>137</th>\n      <td>Darren Collison</td>\n      <td>IND</td>\n      <td>G</td>\n      <td>4</td>\n      <td>-1.215894</td>\n      <td>0.651650</td>\n      <td>-0.812430</td>\n      <td>-1.068004</td>\n      <td>-0.632418</td>\n      <td>0.015298</td>\n    </tr>\n    <tr>\n      <th>138</th>\n      <td>Rodney Hood</td>\n      <td>POR</td>\n      <td>G</td>\n      <td>4</td>\n      <td>-0.673058</td>\n      <td>-0.233236</td>\n      <td>-0.073056</td>\n      <td>0.985289</td>\n      <td>0.029186</td>\n      <td>-0.979038</td>\n    </tr>\n    <tr>\n      <th>148</th>\n      <td>Allonzo Trier</td>\n      <td>NYK</td>\n      <td>G</td>\n      <td>4</td>\n      <td>-0.681839</td>\n      <td>-0.169964</td>\n      <td>-0.299102</td>\n      <td>0.053534</td>\n      <td>0.279132</td>\n      <td>-1.188147</td>\n    </tr>\n    <tr>\n      <th>164</th>\n      <td>Tyreke Evans</td>\n      <td>IND</td>\n      <td>G</td>\n      <td>4</td>\n      <td>-0.823107</td>\n      <td>-0.022912</td>\n      <td>-0.565930</td>\n      <td>0.151501</td>\n      <td>-0.421559</td>\n      <td>-0.742018</td>\n    </tr>\n    <tr>\n      <th>183</th>\n      <td>JaMychal Green</td>\n      <td>LAC</td>\n      <td>F</td>\n      <td>4</td>\n      <td>0.675251</td>\n      <td>-0.452780</td>\n      <td>0.822046</td>\n      <td>0.126218</td>\n      <td>-1.028874</td>\n      <td>-1.707167</td>\n    </tr>\n    <tr>\n      <th>191</th>\n      <td>Alex Caruso</td>\n      <td>LAL</td>\n      <td>G</td>\n      <td>4</td>\n      <td>-0.665754</td>\n      <td>0.039575</td>\n      <td>-0.872259</td>\n      <td>-0.777530</td>\n      <td>-0.805759</td>\n      <td>-0.092129</td>\n    </tr>\n    <tr>\n      <th>199</th>\n      <td>Tomas Satoransky</td>\n      <td>WAS</td>\n      <td>G-F</td>\n      <td>4</td>\n      <td>-0.404536</td>\n      <td>0.294188</td>\n      <td>-0.379684</td>\n      <td>-0.440966</td>\n      <td>-0.631182</td>\n      <td>-0.125171</td>\n    </tr>\n    <tr>\n      <th>203</th>\n      <td>Delon Wright</td>\n      <td>MEM</td>\n      <td>G</td>\n      <td>4</td>\n      <td>-0.506248</td>\n      <td>0.083454</td>\n      <td>-1.143453</td>\n      <td>-1.025837</td>\n      <td>-0.739228</td>\n      <td>0.191848</td>\n    </tr>\n    <tr>\n      <th>205</th>\n      <td>Norman Powell</td>\n      <td>TOR</td>\n      <td>F-G</td>\n      <td>4</td>\n      <td>-0.651551</td>\n      <td>-0.419986</td>\n      <td>0.218731</td>\n      <td>-0.930329</td>\n      <td>0.806924</td>\n      <td>-0.938448</td>\n    </tr>\n    <tr>\n      <th>208</th>\n      <td>Rodions Kurucs</td>\n      <td>BKN</td>\n      <td>F</td>\n      <td>4</td>\n      <td>0.124255</td>\n      <td>-0.441624</td>\n      <td>0.849067</td>\n      <td>-0.985097</td>\n      <td>-0.472183</td>\n      <td>-0.531856</td>\n    </tr>\n  </tbody>\n</table>\n</div>"
     },
     "metadata": {},
     "execution_count": 14
    }
   ],
   "source": [
    "data[data['CLUSTER'] == 4].head(10)"
   ]
  },
  {
   "cell_type": "code",
   "execution_count": 15,
   "metadata": {},
   "outputs": [
    {
     "output_type": "execute_result",
     "data": {
      "text/plain": [
       "               PLAYER TEAM POSITION  CLUSTER       PC1       PC2       PC3  \\\n",
       "77     Nikola Mirotic  MIL        F        5  0.360090  0.234053  1.690827   \n",
       "98       Jerami Grant  OKC        F        5  0.628417  0.229135  1.692898   \n",
       "105  Robert Covington  MIN        F        5 -0.388871  0.495462  1.722669   \n",
       "114      Trevor Ariza  WAS        F        5 -0.690809  0.291779  1.045296   \n",
       "115       Brook Lopez  MIL        C        5  0.833904  0.803470  2.286619   \n",
       "150    Dewayne Dedmon  ATL        C        5  1.367974  0.327913  0.860919   \n",
       "158    Justin Holiday  MEM      F-G        5 -0.651512 -0.085993  1.412649   \n",
       "163       Danny Green  TOR      G-F        5 -0.547512  0.339723  1.995311   \n",
       "166   Marvin Williams  CHA        F        5  0.382107 -0.112224  1.915788   \n",
       "185   Al-Farouq Aminu  POR        F        5  0.215265 -0.071177  1.168397   \n",
       "\n",
       "          PC4       PC5       PC6  \n",
       "77   1.363333 -0.545990  1.168271  \n",
       "98  -0.249911 -1.543455  0.712066  \n",
       "105 -2.372609 -2.331495  0.813254  \n",
       "114 -0.645606 -2.317764  0.456058  \n",
       "115  0.202690  0.403123  2.462854  \n",
       "150 -0.415010 -0.987921  1.187937  \n",
       "158 -1.015101 -0.776348  1.084412  \n",
       "163 -1.002141  0.026358  1.474892  \n",
       "166  0.769565 -1.542197  0.726311  \n",
       "185 -0.895831 -1.218019  1.229785  "
      ],
      "text/html": "<div>\n<style scoped>\n    .dataframe tbody tr th:only-of-type {\n        vertical-align: middle;\n    }\n\n    .dataframe tbody tr th {\n        vertical-align: top;\n    }\n\n    .dataframe thead th {\n        text-align: right;\n    }\n</style>\n<table border=\"1\" class=\"dataframe\">\n  <thead>\n    <tr style=\"text-align: right;\">\n      <th></th>\n      <th>PLAYER</th>\n      <th>TEAM</th>\n      <th>POSITION</th>\n      <th>CLUSTER</th>\n      <th>PC1</th>\n      <th>PC2</th>\n      <th>PC3</th>\n      <th>PC4</th>\n      <th>PC5</th>\n      <th>PC6</th>\n    </tr>\n  </thead>\n  <tbody>\n    <tr>\n      <th>77</th>\n      <td>Nikola Mirotic</td>\n      <td>MIL</td>\n      <td>F</td>\n      <td>5</td>\n      <td>0.360090</td>\n      <td>0.234053</td>\n      <td>1.690827</td>\n      <td>1.363333</td>\n      <td>-0.545990</td>\n      <td>1.168271</td>\n    </tr>\n    <tr>\n      <th>98</th>\n      <td>Jerami Grant</td>\n      <td>OKC</td>\n      <td>F</td>\n      <td>5</td>\n      <td>0.628417</td>\n      <td>0.229135</td>\n      <td>1.692898</td>\n      <td>-0.249911</td>\n      <td>-1.543455</td>\n      <td>0.712066</td>\n    </tr>\n    <tr>\n      <th>105</th>\n      <td>Robert Covington</td>\n      <td>MIN</td>\n      <td>F</td>\n      <td>5</td>\n      <td>-0.388871</td>\n      <td>0.495462</td>\n      <td>1.722669</td>\n      <td>-2.372609</td>\n      <td>-2.331495</td>\n      <td>0.813254</td>\n    </tr>\n    <tr>\n      <th>114</th>\n      <td>Trevor Ariza</td>\n      <td>WAS</td>\n      <td>F</td>\n      <td>5</td>\n      <td>-0.690809</td>\n      <td>0.291779</td>\n      <td>1.045296</td>\n      <td>-0.645606</td>\n      <td>-2.317764</td>\n      <td>0.456058</td>\n    </tr>\n    <tr>\n      <th>115</th>\n      <td>Brook Lopez</td>\n      <td>MIL</td>\n      <td>C</td>\n      <td>5</td>\n      <td>0.833904</td>\n      <td>0.803470</td>\n      <td>2.286619</td>\n      <td>0.202690</td>\n      <td>0.403123</td>\n      <td>2.462854</td>\n    </tr>\n    <tr>\n      <th>150</th>\n      <td>Dewayne Dedmon</td>\n      <td>ATL</td>\n      <td>C</td>\n      <td>5</td>\n      <td>1.367974</td>\n      <td>0.327913</td>\n      <td>0.860919</td>\n      <td>-0.415010</td>\n      <td>-0.987921</td>\n      <td>1.187937</td>\n    </tr>\n    <tr>\n      <th>158</th>\n      <td>Justin Holiday</td>\n      <td>MEM</td>\n      <td>F-G</td>\n      <td>5</td>\n      <td>-0.651512</td>\n      <td>-0.085993</td>\n      <td>1.412649</td>\n      <td>-1.015101</td>\n      <td>-0.776348</td>\n      <td>1.084412</td>\n    </tr>\n    <tr>\n      <th>163</th>\n      <td>Danny Green</td>\n      <td>TOR</td>\n      <td>G-F</td>\n      <td>5</td>\n      <td>-0.547512</td>\n      <td>0.339723</td>\n      <td>1.995311</td>\n      <td>-1.002141</td>\n      <td>0.026358</td>\n      <td>1.474892</td>\n    </tr>\n    <tr>\n      <th>166</th>\n      <td>Marvin Williams</td>\n      <td>CHA</td>\n      <td>F</td>\n      <td>5</td>\n      <td>0.382107</td>\n      <td>-0.112224</td>\n      <td>1.915788</td>\n      <td>0.769565</td>\n      <td>-1.542197</td>\n      <td>0.726311</td>\n    </tr>\n    <tr>\n      <th>185</th>\n      <td>Al-Farouq Aminu</td>\n      <td>POR</td>\n      <td>F</td>\n      <td>5</td>\n      <td>0.215265</td>\n      <td>-0.071177</td>\n      <td>1.168397</td>\n      <td>-0.895831</td>\n      <td>-1.218019</td>\n      <td>1.229785</td>\n    </tr>\n  </tbody>\n</table>\n</div>"
     },
     "metadata": {},
     "execution_count": 15
    }
   ],
   "source": [
    "data[data['CLUSTER'] == 5].head(10)"
   ]
  },
  {
   "cell_type": "code",
   "execution_count": 16,
   "metadata": {},
   "outputs": [
    {
     "output_type": "execute_result",
     "data": {
      "text/plain": [
       "              PLAYER TEAM POSITION  CLUSTER       PC1       PC2       PC3  \\\n",
       "20     Julius Randle  NOP      C-F        6  0.646432  1.537726  0.700066   \n",
       "30       Buddy Hield  SAC        G        6 -0.861991  1.146348  1.886354   \n",
       "32     Tobias Harris  PHI        F        6 -0.193366  1.449559  1.004438   \n",
       "34  Danilo Gallinari  LAC        F        6 -0.076052  1.130464  1.161193   \n",
       "35      John Collins  ATL      F-C        6  1.563363  1.003331  1.060967   \n",
       "40        Kyle Kuzma  LAL        F        6  0.107763  0.967636  1.217674   \n",
       "44    Andrew Wiggins  MIN      F-G        6 -0.501406  1.136991  0.886346   \n",
       "45  Tim Hardaway Jr.  DAL        G        6 -0.874800  0.741702  1.674678   \n",
       "48       T.J. Warren  PHX        F        6 -0.427190  0.764006  1.356985   \n",
       "49  Bojan Bogdanovic  IND        F        6 -0.647590  0.752850  1.567032   \n",
       "\n",
       "         PC4       PC5       PC6  \n",
       "20  0.495239 -0.962285 -1.036369  \n",
       "30 -0.551442  0.567147  0.187014  \n",
       "32  0.654475  0.427395 -0.550261  \n",
       "34  1.417327  0.490772 -0.135640  \n",
       "35 -0.334233 -0.869182 -1.081470  \n",
       "40  0.278358  0.261267  0.219828  \n",
       "44  0.094373 -0.556340 -0.183908  \n",
       "45  0.558154  0.139045  0.310866  \n",
       "48  0.161269 -0.737365 -0.556899  \n",
       "49 -0.264460  1.409605 -0.570635  "
      ],
      "text/html": "<div>\n<style scoped>\n    .dataframe tbody tr th:only-of-type {\n        vertical-align: middle;\n    }\n\n    .dataframe tbody tr th {\n        vertical-align: top;\n    }\n\n    .dataframe thead th {\n        text-align: right;\n    }\n</style>\n<table border=\"1\" class=\"dataframe\">\n  <thead>\n    <tr style=\"text-align: right;\">\n      <th></th>\n      <th>PLAYER</th>\n      <th>TEAM</th>\n      <th>POSITION</th>\n      <th>CLUSTER</th>\n      <th>PC1</th>\n      <th>PC2</th>\n      <th>PC3</th>\n      <th>PC4</th>\n      <th>PC5</th>\n      <th>PC6</th>\n    </tr>\n  </thead>\n  <tbody>\n    <tr>\n      <th>20</th>\n      <td>Julius Randle</td>\n      <td>NOP</td>\n      <td>C-F</td>\n      <td>6</td>\n      <td>0.646432</td>\n      <td>1.537726</td>\n      <td>0.700066</td>\n      <td>0.495239</td>\n      <td>-0.962285</td>\n      <td>-1.036369</td>\n    </tr>\n    <tr>\n      <th>30</th>\n      <td>Buddy Hield</td>\n      <td>SAC</td>\n      <td>G</td>\n      <td>6</td>\n      <td>-0.861991</td>\n      <td>1.146348</td>\n      <td>1.886354</td>\n      <td>-0.551442</td>\n      <td>0.567147</td>\n      <td>0.187014</td>\n    </tr>\n    <tr>\n      <th>32</th>\n      <td>Tobias Harris</td>\n      <td>PHI</td>\n      <td>F</td>\n      <td>6</td>\n      <td>-0.193366</td>\n      <td>1.449559</td>\n      <td>1.004438</td>\n      <td>0.654475</td>\n      <td>0.427395</td>\n      <td>-0.550261</td>\n    </tr>\n    <tr>\n      <th>34</th>\n      <td>Danilo Gallinari</td>\n      <td>LAC</td>\n      <td>F</td>\n      <td>6</td>\n      <td>-0.076052</td>\n      <td>1.130464</td>\n      <td>1.161193</td>\n      <td>1.417327</td>\n      <td>0.490772</td>\n      <td>-0.135640</td>\n    </tr>\n    <tr>\n      <th>35</th>\n      <td>John Collins</td>\n      <td>ATL</td>\n      <td>F-C</td>\n      <td>6</td>\n      <td>1.563363</td>\n      <td>1.003331</td>\n      <td>1.060967</td>\n      <td>-0.334233</td>\n      <td>-0.869182</td>\n      <td>-1.081470</td>\n    </tr>\n    <tr>\n      <th>40</th>\n      <td>Kyle Kuzma</td>\n      <td>LAL</td>\n      <td>F</td>\n      <td>6</td>\n      <td>0.107763</td>\n      <td>0.967636</td>\n      <td>1.217674</td>\n      <td>0.278358</td>\n      <td>0.261267</td>\n      <td>0.219828</td>\n    </tr>\n    <tr>\n      <th>44</th>\n      <td>Andrew Wiggins</td>\n      <td>MIN</td>\n      <td>F-G</td>\n      <td>6</td>\n      <td>-0.501406</td>\n      <td>1.136991</td>\n      <td>0.886346</td>\n      <td>0.094373</td>\n      <td>-0.556340</td>\n      <td>-0.183908</td>\n    </tr>\n    <tr>\n      <th>45</th>\n      <td>Tim Hardaway Jr.</td>\n      <td>DAL</td>\n      <td>G</td>\n      <td>6</td>\n      <td>-0.874800</td>\n      <td>0.741702</td>\n      <td>1.674678</td>\n      <td>0.558154</td>\n      <td>0.139045</td>\n      <td>0.310866</td>\n    </tr>\n    <tr>\n      <th>48</th>\n      <td>T.J. Warren</td>\n      <td>PHX</td>\n      <td>F</td>\n      <td>6</td>\n      <td>-0.427190</td>\n      <td>0.764006</td>\n      <td>1.356985</td>\n      <td>0.161269</td>\n      <td>-0.737365</td>\n      <td>-0.556899</td>\n    </tr>\n    <tr>\n      <th>49</th>\n      <td>Bojan Bogdanovic</td>\n      <td>IND</td>\n      <td>F</td>\n      <td>6</td>\n      <td>-0.647590</td>\n      <td>0.752850</td>\n      <td>1.567032</td>\n      <td>-0.264460</td>\n      <td>1.409605</td>\n      <td>-0.570635</td>\n    </tr>\n  </tbody>\n</table>\n</div>"
     },
     "metadata": {},
     "execution_count": 16
    }
   ],
   "source": [
    "data[data['CLUSTER'] == 6].head(10)"
   ]
  },
  {
   "cell_type": "code",
   "execution_count": 17,
   "metadata": {},
   "outputs": [
    {
     "output_type": "execute_result",
     "data": {
      "text/plain": [
       "             PLAYER TEAM POSITION  CLUSTER       PC1       PC2       PC3  \\\n",
       "106      Cedi Osman  CLE        F        7 -0.126930 -0.355441 -0.826337   \n",
       "144      J.J. Barea  DAL        G        7 -1.205997  0.285112 -2.213960   \n",
       "168    Kadeem Allen  NYK        G        7 -0.773149 -0.138457 -1.106983   \n",
       "178      Jeremy Lin  TOR        G        7 -0.757983 -0.060321 -1.215518   \n",
       "180     Tony Parker  CHA        G        7 -0.963311 -0.231625 -2.283672   \n",
       "181  Shabazz Napier  BKN        G        7 -0.902683 -0.147208 -1.108925   \n",
       "202      Alec Burks  SAC        G        7  0.000834 -0.975666 -0.980572   \n",
       "217  Markelle Fultz  ORL        G        7 -0.038947 -0.634986 -1.804109   \n",
       "218   Austin Rivers  HOU        G        7 -0.669807 -0.424115 -0.702792   \n",
       "220   Isaiah Thomas  DEN        G        7 -1.006710 -1.011771 -1.319170   \n",
       "\n",
       "          PC4       PC5       PC6  \n",
       "106  1.538039 -1.002442  2.454074  \n",
       "144  0.828842  1.177516 -0.359608  \n",
       "168  0.168764 -0.813136 -0.309221  \n",
       "178  0.014851 -0.135098  0.323270  \n",
       "180  0.652831  1.498004 -1.414960  \n",
       "181  0.414544  0.673289 -0.104543  \n",
       "202  1.808464 -0.986136  1.221057  \n",
       "217  1.173600 -0.150613  1.982271  \n",
       "218  0.310630 -0.154602  0.066100  \n",
       "220  0.386419  1.167699 -0.594866  "
      ],
      "text/html": "<div>\n<style scoped>\n    .dataframe tbody tr th:only-of-type {\n        vertical-align: middle;\n    }\n\n    .dataframe tbody tr th {\n        vertical-align: top;\n    }\n\n    .dataframe thead th {\n        text-align: right;\n    }\n</style>\n<table border=\"1\" class=\"dataframe\">\n  <thead>\n    <tr style=\"text-align: right;\">\n      <th></th>\n      <th>PLAYER</th>\n      <th>TEAM</th>\n      <th>POSITION</th>\n      <th>CLUSTER</th>\n      <th>PC1</th>\n      <th>PC2</th>\n      <th>PC3</th>\n      <th>PC4</th>\n      <th>PC5</th>\n      <th>PC6</th>\n    </tr>\n  </thead>\n  <tbody>\n    <tr>\n      <th>106</th>\n      <td>Cedi Osman</td>\n      <td>CLE</td>\n      <td>F</td>\n      <td>7</td>\n      <td>-0.126930</td>\n      <td>-0.355441</td>\n      <td>-0.826337</td>\n      <td>1.538039</td>\n      <td>-1.002442</td>\n      <td>2.454074</td>\n    </tr>\n    <tr>\n      <th>144</th>\n      <td>J.J. Barea</td>\n      <td>DAL</td>\n      <td>G</td>\n      <td>7</td>\n      <td>-1.205997</td>\n      <td>0.285112</td>\n      <td>-2.213960</td>\n      <td>0.828842</td>\n      <td>1.177516</td>\n      <td>-0.359608</td>\n    </tr>\n    <tr>\n      <th>168</th>\n      <td>Kadeem Allen</td>\n      <td>NYK</td>\n      <td>G</td>\n      <td>7</td>\n      <td>-0.773149</td>\n      <td>-0.138457</td>\n      <td>-1.106983</td>\n      <td>0.168764</td>\n      <td>-0.813136</td>\n      <td>-0.309221</td>\n    </tr>\n    <tr>\n      <th>178</th>\n      <td>Jeremy Lin</td>\n      <td>TOR</td>\n      <td>G</td>\n      <td>7</td>\n      <td>-0.757983</td>\n      <td>-0.060321</td>\n      <td>-1.215518</td>\n      <td>0.014851</td>\n      <td>-0.135098</td>\n      <td>0.323270</td>\n    </tr>\n    <tr>\n      <th>180</th>\n      <td>Tony Parker</td>\n      <td>CHA</td>\n      <td>G</td>\n      <td>7</td>\n      <td>-0.963311</td>\n      <td>-0.231625</td>\n      <td>-2.283672</td>\n      <td>0.652831</td>\n      <td>1.498004</td>\n      <td>-1.414960</td>\n    </tr>\n    <tr>\n      <th>181</th>\n      <td>Shabazz Napier</td>\n      <td>BKN</td>\n      <td>G</td>\n      <td>7</td>\n      <td>-0.902683</td>\n      <td>-0.147208</td>\n      <td>-1.108925</td>\n      <td>0.414544</td>\n      <td>0.673289</td>\n      <td>-0.104543</td>\n    </tr>\n    <tr>\n      <th>202</th>\n      <td>Alec Burks</td>\n      <td>SAC</td>\n      <td>G</td>\n      <td>7</td>\n      <td>0.000834</td>\n      <td>-0.975666</td>\n      <td>-0.980572</td>\n      <td>1.808464</td>\n      <td>-0.986136</td>\n      <td>1.221057</td>\n    </tr>\n    <tr>\n      <th>217</th>\n      <td>Markelle Fultz</td>\n      <td>ORL</td>\n      <td>G</td>\n      <td>7</td>\n      <td>-0.038947</td>\n      <td>-0.634986</td>\n      <td>-1.804109</td>\n      <td>1.173600</td>\n      <td>-0.150613</td>\n      <td>1.982271</td>\n    </tr>\n    <tr>\n      <th>218</th>\n      <td>Austin Rivers</td>\n      <td>HOU</td>\n      <td>G</td>\n      <td>7</td>\n      <td>-0.669807</td>\n      <td>-0.424115</td>\n      <td>-0.702792</td>\n      <td>0.310630</td>\n      <td>-0.154602</td>\n      <td>0.066100</td>\n    </tr>\n    <tr>\n      <th>220</th>\n      <td>Isaiah Thomas</td>\n      <td>DEN</td>\n      <td>G</td>\n      <td>7</td>\n      <td>-1.006710</td>\n      <td>-1.011771</td>\n      <td>-1.319170</td>\n      <td>0.386419</td>\n      <td>1.167699</td>\n      <td>-0.594866</td>\n    </tr>\n  </tbody>\n</table>\n</div>"
     },
     "metadata": {},
     "execution_count": 17
    }
   ],
   "source": [
    "data[data['CLUSTER'] == 7].head(10)"
   ]
  },
  {
   "cell_type": "code",
   "execution_count": 18,
   "metadata": {},
   "outputs": [
    {
     "output_type": "execute_result",
     "data": {
      "text/plain": [
       "                   PLAYER TEAM POSITION  CLUSTER       PC1       PC2  \\\n",
       "0            James Harden  HOU        G        8 -0.885136  3.422465   \n",
       "2   Giannis Antetokounmpo  MIL        F        8  0.708961  2.609108   \n",
       "4            LeBron James  LAL        F        8 -0.307667  2.364341   \n",
       "6           Kawhi Leonard  TOR        F        8 -0.680197  2.279996   \n",
       "7            Devin Booker  PHX        G        8 -0.947699  2.022397   \n",
       "8            Kevin Durant  GSW        F        8 -0.523839  2.370841   \n",
       "10         Damian Lillard  POR        G        8 -1.266701  1.962352   \n",
       "13          Blake Griffin  DET        F        8  0.181558  1.976938   \n",
       "15           Kyrie Irving  BOS        G        8 -1.135391  2.285977   \n",
       "16       Donovan Mitchell  UTA        G        8 -1.199004  1.671855   \n",
       "\n",
       "         PC3       PC4       PC5       PC6  \n",
       "0  -1.621294  0.948575 -1.099479 -2.343132  \n",
       "2  -0.086844 -1.719613 -1.099307 -1.959700  \n",
       "4  -0.870264 -0.160012 -0.929572 -2.150918  \n",
       "6   0.241009  0.318551 -0.273696 -1.728965  \n",
       "7  -0.645411  0.944556  0.899081 -1.629313  \n",
       "8   0.107175  0.693430  1.252959 -2.235782  \n",
       "10 -0.867174 -0.296634  1.463375  0.412198  \n",
       "13 -0.130740  1.433301 -1.081355 -0.193715  \n",
       "15 -0.258139  0.177226  0.652245 -0.419217  \n",
       "16 -0.510892 -0.209914  1.101978  0.010012  "
      ],
      "text/html": "<div>\n<style scoped>\n    .dataframe tbody tr th:only-of-type {\n        vertical-align: middle;\n    }\n\n    .dataframe tbody tr th {\n        vertical-align: top;\n    }\n\n    .dataframe thead th {\n        text-align: right;\n    }\n</style>\n<table border=\"1\" class=\"dataframe\">\n  <thead>\n    <tr style=\"text-align: right;\">\n      <th></th>\n      <th>PLAYER</th>\n      <th>TEAM</th>\n      <th>POSITION</th>\n      <th>CLUSTER</th>\n      <th>PC1</th>\n      <th>PC2</th>\n      <th>PC3</th>\n      <th>PC4</th>\n      <th>PC5</th>\n      <th>PC6</th>\n    </tr>\n  </thead>\n  <tbody>\n    <tr>\n      <th>0</th>\n      <td>James Harden</td>\n      <td>HOU</td>\n      <td>G</td>\n      <td>8</td>\n      <td>-0.885136</td>\n      <td>3.422465</td>\n      <td>-1.621294</td>\n      <td>0.948575</td>\n      <td>-1.099479</td>\n      <td>-2.343132</td>\n    </tr>\n    <tr>\n      <th>2</th>\n      <td>Giannis Antetokounmpo</td>\n      <td>MIL</td>\n      <td>F</td>\n      <td>8</td>\n      <td>0.708961</td>\n      <td>2.609108</td>\n      <td>-0.086844</td>\n      <td>-1.719613</td>\n      <td>-1.099307</td>\n      <td>-1.959700</td>\n    </tr>\n    <tr>\n      <th>4</th>\n      <td>LeBron James</td>\n      <td>LAL</td>\n      <td>F</td>\n      <td>8</td>\n      <td>-0.307667</td>\n      <td>2.364341</td>\n      <td>-0.870264</td>\n      <td>-0.160012</td>\n      <td>-0.929572</td>\n      <td>-2.150918</td>\n    </tr>\n    <tr>\n      <th>6</th>\n      <td>Kawhi Leonard</td>\n      <td>TOR</td>\n      <td>F</td>\n      <td>8</td>\n      <td>-0.680197</td>\n      <td>2.279996</td>\n      <td>0.241009</td>\n      <td>0.318551</td>\n      <td>-0.273696</td>\n      <td>-1.728965</td>\n    </tr>\n    <tr>\n      <th>7</th>\n      <td>Devin Booker</td>\n      <td>PHX</td>\n      <td>G</td>\n      <td>8</td>\n      <td>-0.947699</td>\n      <td>2.022397</td>\n      <td>-0.645411</td>\n      <td>0.944556</td>\n      <td>0.899081</td>\n      <td>-1.629313</td>\n    </tr>\n    <tr>\n      <th>8</th>\n      <td>Kevin Durant</td>\n      <td>GSW</td>\n      <td>F</td>\n      <td>8</td>\n      <td>-0.523839</td>\n      <td>2.370841</td>\n      <td>0.107175</td>\n      <td>0.693430</td>\n      <td>1.252959</td>\n      <td>-2.235782</td>\n    </tr>\n    <tr>\n      <th>10</th>\n      <td>Damian Lillard</td>\n      <td>POR</td>\n      <td>G</td>\n      <td>8</td>\n      <td>-1.266701</td>\n      <td>1.962352</td>\n      <td>-0.867174</td>\n      <td>-0.296634</td>\n      <td>1.463375</td>\n      <td>0.412198</td>\n    </tr>\n    <tr>\n      <th>13</th>\n      <td>Blake Griffin</td>\n      <td>DET</td>\n      <td>F</td>\n      <td>8</td>\n      <td>0.181558</td>\n      <td>1.976938</td>\n      <td>-0.130740</td>\n      <td>1.433301</td>\n      <td>-1.081355</td>\n      <td>-0.193715</td>\n    </tr>\n    <tr>\n      <th>15</th>\n      <td>Kyrie Irving</td>\n      <td>BOS</td>\n      <td>G</td>\n      <td>8</td>\n      <td>-1.135391</td>\n      <td>2.285977</td>\n      <td>-0.258139</td>\n      <td>0.177226</td>\n      <td>0.652245</td>\n      <td>-0.419217</td>\n    </tr>\n    <tr>\n      <th>16</th>\n      <td>Donovan Mitchell</td>\n      <td>UTA</td>\n      <td>G</td>\n      <td>8</td>\n      <td>-1.199004</td>\n      <td>1.671855</td>\n      <td>-0.510892</td>\n      <td>-0.209914</td>\n      <td>1.101978</td>\n      <td>0.010012</td>\n    </tr>\n  </tbody>\n</table>\n</div>"
     },
     "metadata": {},
     "execution_count": 18
    }
   ],
   "source": [
    "data[data['CLUSTER'] == 8].head(10)"
   ]
  },
  {
   "cell_type": "code",
   "execution_count": 19,
   "metadata": {},
   "outputs": [
    {
     "output_type": "execute_result",
     "data": {
      "text/plain": [
       "               PLAYER TEAM POSITION  CLUSTER       PC1       PC2       PC3  \\\n",
       "1         Paul George  OKC        F        9 -0.890508  2.411931  1.302698   \n",
       "11       Kemba Walker  CHA        G        9 -1.395522  2.077465 -0.386905   \n",
       "12       Bradley Beal  WAS        G        9 -0.980142  2.206646  0.681754   \n",
       "24       Jrue Holiday  NOP        G        9 -0.871544  2.183834 -0.606214   \n",
       "26        Mike Conley  MEM        G        9 -1.279614  1.784155 -0.598633   \n",
       "37     Victor Oladipo  IND        G        9 -1.448515  1.799823 -0.221467   \n",
       "39       Jimmy Butler  PHI      G-F        9 -0.433312  1.488209 -0.196599   \n",
       "56  Spencer Dinwiddie  BKN        G        9 -0.925369  0.709924 -1.362441   \n",
       "57      Collin Sexton  CLE        G        9 -0.983180  0.866189 -0.109376   \n",
       "60    Josh Richardson  MIA      G-F        9 -1.048855  1.167596  0.418133   \n",
       "\n",
       "         PC4       PC5       PC6  \n",
       "1  -0.441489 -1.089950 -0.281768  \n",
       "11  0.227227  0.155480  0.951971  \n",
       "12 -0.872895 -0.147017  0.068251  \n",
       "24 -1.236335 -0.785346  0.145187  \n",
       "26  0.057251  0.547628  0.915755  \n",
       "37 -0.247329 -1.208183  0.751203  \n",
       "39 -0.878286 -0.131309  0.273282  \n",
       "56  0.281992  0.917765  0.530868  \n",
       "57  0.261794 -0.202426 -0.194673  \n",
       "60 -0.553346  0.549224  1.955845  "
      ],
      "text/html": "<div>\n<style scoped>\n    .dataframe tbody tr th:only-of-type {\n        vertical-align: middle;\n    }\n\n    .dataframe tbody tr th {\n        vertical-align: top;\n    }\n\n    .dataframe thead th {\n        text-align: right;\n    }\n</style>\n<table border=\"1\" class=\"dataframe\">\n  <thead>\n    <tr style=\"text-align: right;\">\n      <th></th>\n      <th>PLAYER</th>\n      <th>TEAM</th>\n      <th>POSITION</th>\n      <th>CLUSTER</th>\n      <th>PC1</th>\n      <th>PC2</th>\n      <th>PC3</th>\n      <th>PC4</th>\n      <th>PC5</th>\n      <th>PC6</th>\n    </tr>\n  </thead>\n  <tbody>\n    <tr>\n      <th>1</th>\n      <td>Paul George</td>\n      <td>OKC</td>\n      <td>F</td>\n      <td>9</td>\n      <td>-0.890508</td>\n      <td>2.411931</td>\n      <td>1.302698</td>\n      <td>-0.441489</td>\n      <td>-1.089950</td>\n      <td>-0.281768</td>\n    </tr>\n    <tr>\n      <th>11</th>\n      <td>Kemba Walker</td>\n      <td>CHA</td>\n      <td>G</td>\n      <td>9</td>\n      <td>-1.395522</td>\n      <td>2.077465</td>\n      <td>-0.386905</td>\n      <td>0.227227</td>\n      <td>0.155480</td>\n      <td>0.951971</td>\n    </tr>\n    <tr>\n      <th>12</th>\n      <td>Bradley Beal</td>\n      <td>WAS</td>\n      <td>G</td>\n      <td>9</td>\n      <td>-0.980142</td>\n      <td>2.206646</td>\n      <td>0.681754</td>\n      <td>-0.872895</td>\n      <td>-0.147017</td>\n      <td>0.068251</td>\n    </tr>\n    <tr>\n      <th>24</th>\n      <td>Jrue Holiday</td>\n      <td>NOP</td>\n      <td>G</td>\n      <td>9</td>\n      <td>-0.871544</td>\n      <td>2.183834</td>\n      <td>-0.606214</td>\n      <td>-1.236335</td>\n      <td>-0.785346</td>\n      <td>0.145187</td>\n    </tr>\n    <tr>\n      <th>26</th>\n      <td>Mike Conley</td>\n      <td>MEM</td>\n      <td>G</td>\n      <td>9</td>\n      <td>-1.279614</td>\n      <td>1.784155</td>\n      <td>-0.598633</td>\n      <td>0.057251</td>\n      <td>0.547628</td>\n      <td>0.915755</td>\n    </tr>\n    <tr>\n      <th>37</th>\n      <td>Victor Oladipo</td>\n      <td>IND</td>\n      <td>G</td>\n      <td>9</td>\n      <td>-1.448515</td>\n      <td>1.799823</td>\n      <td>-0.221467</td>\n      <td>-0.247329</td>\n      <td>-1.208183</td>\n      <td>0.751203</td>\n    </tr>\n    <tr>\n      <th>39</th>\n      <td>Jimmy Butler</td>\n      <td>PHI</td>\n      <td>G-F</td>\n      <td>9</td>\n      <td>-0.433312</td>\n      <td>1.488209</td>\n      <td>-0.196599</td>\n      <td>-0.878286</td>\n      <td>-0.131309</td>\n      <td>0.273282</td>\n    </tr>\n    <tr>\n      <th>56</th>\n      <td>Spencer Dinwiddie</td>\n      <td>BKN</td>\n      <td>G</td>\n      <td>9</td>\n      <td>-0.925369</td>\n      <td>0.709924</td>\n      <td>-1.362441</td>\n      <td>0.281992</td>\n      <td>0.917765</td>\n      <td>0.530868</td>\n    </tr>\n    <tr>\n      <th>57</th>\n      <td>Collin Sexton</td>\n      <td>CLE</td>\n      <td>G</td>\n      <td>9</td>\n      <td>-0.983180</td>\n      <td>0.866189</td>\n      <td>-0.109376</td>\n      <td>0.261794</td>\n      <td>-0.202426</td>\n      <td>-0.194673</td>\n    </tr>\n    <tr>\n      <th>60</th>\n      <td>Josh Richardson</td>\n      <td>MIA</td>\n      <td>G-F</td>\n      <td>9</td>\n      <td>-1.048855</td>\n      <td>1.167596</td>\n      <td>0.418133</td>\n      <td>-0.553346</td>\n      <td>0.549224</td>\n      <td>1.955845</td>\n    </tr>\n  </tbody>\n</table>\n</div>"
     },
     "metadata": {},
     "execution_count": 19
    }
   ],
   "source": [
    "data[data['CLUSTER'] == 9].head(10)"
   ]
  },
  {
   "source": [
    "# Tableau Visualization"
   ],
   "cell_type": "markdown",
   "metadata": {}
  },
  {
   "cell_type": "code",
   "execution_count": 30,
   "metadata": {},
   "outputs": [],
   "source": [
    "stats = pd.read_csv('Data/Regular-Advanced.csv')\n",
    "stats = stats.merge(data[['PLAYER', 'TEAM', 'POSITION', 'CLUSTER']])\n",
    "stats = stats[['PLAYER', 'TEAM', 'POSITION', 'PTS', 'FG%', '3P%', 'OREB', 'DREB', 'AST', 'STL', 'BLK', 'CLUSTER']]\n",
    "\n",
    "defense = pd.read_csv('Data/Defensive.csv')\n",
    "defense = defense.merge(data[['PLAYER', 'TEAM', 'POSITION', 'CLUSTER']])\n",
    "defense = defense[['PLAYER', 'TEAM', 'POSITION', '<6_DFGM', '6-9_DFGM', '10-15_DFGM', '16-3PT_DFGM', '3PT_DFGM', 'CLUSTER']]\n",
    "\n",
    "shooting = pd.read_csv('Data/Shooting.csv')\n",
    "shooting = shooting.merge(data[['PLAYER', 'TEAM', 'POSITION', 'CLUSTER']])\n",
    "shooting = shooting[['PLAYER', 'TEAM', 'POSITION', 'FGM_<5', 'FGM_5-9', 'FGM_10-14', 'FGM_15-19', 'FGM_20-24', 'FGM_25-29', 'CLUSTER']] \n",
    "\n",
    "play_type = pd.read_csv('Data/Play_Type.csv')\n",
    "play_type = play_type.merge(data[['PLAYER', 'TEAM', 'POSITION', 'CLUSTER']])\n",
    "play_type = play_type[['PLAYER', 'TEAM', 'POSITION', 'ISOLATION_FGM', 'PNR_HANDLER_FGM', 'PNR_ROLL_FGM', 'TRANSITION_FGM',\n",
    "                       'POST_UP_FGM', 'SPOT_UP_FGM', 'HANDOFF_FGM', 'CUT_FGM', 'OFF_SCREEN_FGM', 'PUTBACK_FGM', 'CLUSTER']]\n"
   ]
  },
  {
   "cell_type": "code",
   "execution_count": 31,
   "metadata": {},
   "outputs": [],
   "source": [
    "stats = stats.groupby('CLUSTER').mean()\n",
    "stats['TREB'] = stats['OREB'] + stats['DREB']\n",
    "stats.drop(['OREB', 'DREB'], axis = 1).to_csv('Tableau/Compare_Mean_Stats.csv')"
   ]
  },
  {
   "cell_type": "code",
   "execution_count": 32,
   "metadata": {},
   "outputs": [],
   "source": [
    "defense = defense.groupby('CLUSTER').mean()\n",
    "defense['Post_DFGM'] = defense['<6_DFGM']\n",
    "defense['MidRange_DFGM'] = defense['6-9_DFGM'] + defense['10-15_DFGM']\n",
    "defense['Perimeter_DFGM'] = defense['16-3PT_DFGM'] + defense['3PT_DFGM']\n",
    "defense['Total_DFGM'] = defense['Post_DFGM'] + defense['MidRange_DFGM'] + defense['Perimeter_DFGM']\n",
    "defense[['Post_DFGM', 'MidRange_DFGM', 'Perimeter_DFGM', 'Total_DFGM']].to_csv('Tableau/Compare_Mean_Defense.csv')"
   ]
  },
  {
   "cell_type": "code",
   "execution_count": 33,
   "metadata": {},
   "outputs": [],
   "source": [
    "shooting = shooting.groupby('CLUSTER').mean()\n",
    "shooting['Post_FGM'] = shooting['FGM_<5']\n",
    "shooting['MidRange_FGM'] = shooting['FGM_5-9'] + shooting['FGM_10-14'] + shooting['FGM_15-19']\n",
    "shooting['Perimeter_FGM'] = shooting['FGM_20-24'] + shooting['FGM_25-29']\n",
    "shooting['Total_FGM'] = shooting['Post_FGM'] + shooting['MidRange_FGM'] + shooting['Perimeter_FGM']\n",
    "shooting[['Post_FGM', 'MidRange_FGM', 'Perimeter_FGM', 'Total_FGM']].to_csv('Tableau/Compare_Mean_Shooting.csv')"
   ]
  },
  {
   "cell_type": "code",
   "execution_count": 34,
   "metadata": {},
   "outputs": [],
   "source": [
    "play_type = play_type.groupby('CLUSTER').mean()\n",
    "play_type.to_csv('Tableau/Compare_Mean_Play_Type.csv')"
   ]
  },
  {
   "cell_type": "code",
   "execution_count": 28,
   "metadata": {},
   "outputs": [
    {
     "output_type": "execute_result",
     "data": {
      "text/plain": [
       "   ISOLATION_FGM  PNR_HANDLER_FGM  PNR_ROLL_FGM  TRANSITION_FGM  POST_UP_FGM  \\\n",
       "0            7.9              2.7           0.0             1.3          0.1   \n",
       "1            1.9              2.7           0.3             2.3          0.3   \n",
       "2            1.7              0.5           0.3             1.4          0.9   \n",
       "3            0.8              0.3           1.0             1.0          2.6   \n",
       "4            2.3              3.2           0.2             1.3          0.8   \n",
       "\n",
       "   SPOT_UP_FGM  HANDOFF_FGM  CUT_FGM  OFF_SCREEN_FGM  PUTBACK_FGM  \n",
       "0          0.6          0.4      0.1             0.2          0.1  \n",
       "1          1.5          0.7      0.1             1.3          0.0  \n",
       "2          1.1          0.2      0.4             0.3          0.5  \n",
       "3          1.9          0.1      0.6             0.5          0.6  \n",
       "4          0.9          0.1      0.3             0.3          0.2  "
      ],
      "text/html": "<div>\n<style scoped>\n    .dataframe tbody tr th:only-of-type {\n        vertical-align: middle;\n    }\n\n    .dataframe tbody tr th {\n        vertical-align: top;\n    }\n\n    .dataframe thead th {\n        text-align: right;\n    }\n</style>\n<table border=\"1\" class=\"dataframe\">\n  <thead>\n    <tr style=\"text-align: right;\">\n      <th></th>\n      <th>ISOLATION_FGM</th>\n      <th>PNR_HANDLER_FGM</th>\n      <th>PNR_ROLL_FGM</th>\n      <th>TRANSITION_FGM</th>\n      <th>POST_UP_FGM</th>\n      <th>SPOT_UP_FGM</th>\n      <th>HANDOFF_FGM</th>\n      <th>CUT_FGM</th>\n      <th>OFF_SCREEN_FGM</th>\n      <th>PUTBACK_FGM</th>\n    </tr>\n  </thead>\n  <tbody>\n    <tr>\n      <th>0</th>\n      <td>7.9</td>\n      <td>2.7</td>\n      <td>0.0</td>\n      <td>1.3</td>\n      <td>0.1</td>\n      <td>0.6</td>\n      <td>0.4</td>\n      <td>0.1</td>\n      <td>0.2</td>\n      <td>0.1</td>\n    </tr>\n    <tr>\n      <th>1</th>\n      <td>1.9</td>\n      <td>2.7</td>\n      <td>0.3</td>\n      <td>2.3</td>\n      <td>0.3</td>\n      <td>1.5</td>\n      <td>0.7</td>\n      <td>0.1</td>\n      <td>1.3</td>\n      <td>0.0</td>\n    </tr>\n    <tr>\n      <th>2</th>\n      <td>1.7</td>\n      <td>0.5</td>\n      <td>0.3</td>\n      <td>1.4</td>\n      <td>0.9</td>\n      <td>1.1</td>\n      <td>0.2</td>\n      <td>0.4</td>\n      <td>0.3</td>\n      <td>0.5</td>\n    </tr>\n    <tr>\n      <th>3</th>\n      <td>0.8</td>\n      <td>0.3</td>\n      <td>1.0</td>\n      <td>1.0</td>\n      <td>2.6</td>\n      <td>1.9</td>\n      <td>0.1</td>\n      <td>0.6</td>\n      <td>0.5</td>\n      <td>0.6</td>\n    </tr>\n    <tr>\n      <th>4</th>\n      <td>2.3</td>\n      <td>3.2</td>\n      <td>0.2</td>\n      <td>1.3</td>\n      <td>0.8</td>\n      <td>0.9</td>\n      <td>0.1</td>\n      <td>0.3</td>\n      <td>0.3</td>\n      <td>0.2</td>\n    </tr>\n  </tbody>\n</table>\n</div>"
     },
     "metadata": {},
     "execution_count": 28
    }
   ],
   "source": [
    "play_type.head()"
   ]
  },
  {
   "cell_type": "code",
   "execution_count": null,
   "metadata": {},
   "outputs": [],
   "source": []
  }
 ]
}