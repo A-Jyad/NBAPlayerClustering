{
 "metadata": {
  "language_info": {
   "codemirror_mode": {
    "name": "ipython",
    "version": 3
   },
   "file_extension": ".py",
   "mimetype": "text/x-python",
   "name": "python",
   "nbconvert_exporter": "python",
   "pygments_lexer": "ipython3",
   "version": "3.8.5-final"
  },
  "orig_nbformat": 2,
  "kernelspec": {
   "name": "python3",
   "display_name": "Python 3"
  }
 },
 "nbformat": 4,
 "nbformat_minor": 2,
 "cells": [
  {
   "cell_type": "code",
   "execution_count": 1,
   "metadata": {},
   "outputs": [],
   "source": [
    "import pandas as pd"
   ]
  },
  {
   "cell_type": "code",
   "execution_count": 2,
   "metadata": {},
   "outputs": [
    {
     "output_type": "stream",
     "name": "stdout",
     "text": [
      "(388, 23)\n"
     ]
    },
    {
     "output_type": "execute_result",
     "data": {
      "text/plain": [
       "                  PLAYER TEAM POSITION  stats_PC1  stats_PC2  stats_PC3  \\\n",
       "0           James Harden  HOU        G   4.674833   7.289013  -0.240604   \n",
       "1            Paul George  OKC        F   3.480394   4.225621  -1.915357   \n",
       "2  Giannis Antetokounmpo  MIL        F   8.126167   3.767512  -0.602605   \n",
       "3            Joel Embiid  PHI      F-C   7.534206   1.957477  -0.880680   \n",
       "4           LeBron James  LAL        F   4.158587   5.603268   0.412803   \n",
       "\n",
       "   defense_PC1  defense_PC2  defense_PC3  defense_PC4  ...  shooting_PC1  \\\n",
       "0     1.158709     0.981086    -0.437014     1.681691  ...      4.206455   \n",
       "1    -0.076796     0.535884    -2.617200    -0.221552  ...      4.416718   \n",
       "2     0.249371    -0.582274    -1.575326     0.891747  ...      0.303794   \n",
       "3     5.025456     2.818697    -1.269017     1.760690  ...      2.051242   \n",
       "4    -0.445747    -1.033204    -1.126382     1.967757  ...      2.451034   \n",
       "\n",
       "   shooting_PC2  shooting_PC3  shooting_PC4  play_PC1  play_PC2  play_PC3  \\\n",
       "0      0.278324     -2.018788     -0.306612 -4.313970  7.210947  7.787175   \n",
       "1     -1.115199     -1.817118     -0.525678 -3.955110  4.054167  0.200333   \n",
       "2      3.404961     -2.447429     -0.232322  0.195494  5.351138  0.568888   \n",
       "3      3.143054     -1.197058     -0.411250  3.201982  5.586363 -0.428772   \n",
       "4      1.030243     -2.751712     -0.747411 -1.127836  5.025539  2.697098   \n",
       "\n",
       "   play_PC4  passing_PC1  CLUSTER  \n",
       "0 -0.991071     3.953771        3  \n",
       "1 -0.100192     1.005878        3  \n",
       "2 -1.022542     2.473767        3  \n",
       "3 -1.627686     1.292996        2  \n",
       "4 -0.559131     3.520363        3  \n",
       "\n",
       "[5 rows x 23 columns]"
      ],
      "text/html": "<div>\n<style scoped>\n    .dataframe tbody tr th:only-of-type {\n        vertical-align: middle;\n    }\n\n    .dataframe tbody tr th {\n        vertical-align: top;\n    }\n\n    .dataframe thead th {\n        text-align: right;\n    }\n</style>\n<table border=\"1\" class=\"dataframe\">\n  <thead>\n    <tr style=\"text-align: right;\">\n      <th></th>\n      <th>PLAYER</th>\n      <th>TEAM</th>\n      <th>POSITION</th>\n      <th>stats_PC1</th>\n      <th>stats_PC2</th>\n      <th>stats_PC3</th>\n      <th>defense_PC1</th>\n      <th>defense_PC2</th>\n      <th>defense_PC3</th>\n      <th>defense_PC4</th>\n      <th>...</th>\n      <th>shooting_PC1</th>\n      <th>shooting_PC2</th>\n      <th>shooting_PC3</th>\n      <th>shooting_PC4</th>\n      <th>play_PC1</th>\n      <th>play_PC2</th>\n      <th>play_PC3</th>\n      <th>play_PC4</th>\n      <th>passing_PC1</th>\n      <th>CLUSTER</th>\n    </tr>\n  </thead>\n  <tbody>\n    <tr>\n      <th>0</th>\n      <td>James Harden</td>\n      <td>HOU</td>\n      <td>G</td>\n      <td>4.674833</td>\n      <td>7.289013</td>\n      <td>-0.240604</td>\n      <td>1.158709</td>\n      <td>0.981086</td>\n      <td>-0.437014</td>\n      <td>1.681691</td>\n      <td>...</td>\n      <td>4.206455</td>\n      <td>0.278324</td>\n      <td>-2.018788</td>\n      <td>-0.306612</td>\n      <td>-4.313970</td>\n      <td>7.210947</td>\n      <td>7.787175</td>\n      <td>-0.991071</td>\n      <td>3.953771</td>\n      <td>3</td>\n    </tr>\n    <tr>\n      <th>1</th>\n      <td>Paul George</td>\n      <td>OKC</td>\n      <td>F</td>\n      <td>3.480394</td>\n      <td>4.225621</td>\n      <td>-1.915357</td>\n      <td>-0.076796</td>\n      <td>0.535884</td>\n      <td>-2.617200</td>\n      <td>-0.221552</td>\n      <td>...</td>\n      <td>4.416718</td>\n      <td>-1.115199</td>\n      <td>-1.817118</td>\n      <td>-0.525678</td>\n      <td>-3.955110</td>\n      <td>4.054167</td>\n      <td>0.200333</td>\n      <td>-0.100192</td>\n      <td>1.005878</td>\n      <td>3</td>\n    </tr>\n    <tr>\n      <th>2</th>\n      <td>Giannis Antetokounmpo</td>\n      <td>MIL</td>\n      <td>F</td>\n      <td>8.126167</td>\n      <td>3.767512</td>\n      <td>-0.602605</td>\n      <td>0.249371</td>\n      <td>-0.582274</td>\n      <td>-1.575326</td>\n      <td>0.891747</td>\n      <td>...</td>\n      <td>0.303794</td>\n      <td>3.404961</td>\n      <td>-2.447429</td>\n      <td>-0.232322</td>\n      <td>0.195494</td>\n      <td>5.351138</td>\n      <td>0.568888</td>\n      <td>-1.022542</td>\n      <td>2.473767</td>\n      <td>3</td>\n    </tr>\n    <tr>\n      <th>3</th>\n      <td>Joel Embiid</td>\n      <td>PHI</td>\n      <td>F-C</td>\n      <td>7.534206</td>\n      <td>1.957477</td>\n      <td>-0.880680</td>\n      <td>5.025456</td>\n      <td>2.818697</td>\n      <td>-1.269017</td>\n      <td>1.760690</td>\n      <td>...</td>\n      <td>2.051242</td>\n      <td>3.143054</td>\n      <td>-1.197058</td>\n      <td>-0.411250</td>\n      <td>3.201982</td>\n      <td>5.586363</td>\n      <td>-0.428772</td>\n      <td>-1.627686</td>\n      <td>1.292996</td>\n      <td>2</td>\n    </tr>\n    <tr>\n      <th>4</th>\n      <td>LeBron James</td>\n      <td>LAL</td>\n      <td>F</td>\n      <td>4.158587</td>\n      <td>5.603268</td>\n      <td>0.412803</td>\n      <td>-0.445747</td>\n      <td>-1.033204</td>\n      <td>-1.126382</td>\n      <td>1.967757</td>\n      <td>...</td>\n      <td>2.451034</td>\n      <td>1.030243</td>\n      <td>-2.751712</td>\n      <td>-0.747411</td>\n      <td>-1.127836</td>\n      <td>5.025539</td>\n      <td>2.697098</td>\n      <td>-0.559131</td>\n      <td>3.520363</td>\n      <td>3</td>\n    </tr>\n  </tbody>\n</table>\n<p>5 rows × 23 columns</p>\n</div>"
     },
     "metadata": {},
     "execution_count": 2
    }
   ],
   "source": [
    "data = pd.read_csv('Data/Clustered_data.csv')\n",
    "print(data.shape)\n",
    "data.head()"
   ]
  },
  {
   "source": [
    "We have 7 Clusters"
   ],
   "cell_type": "markdown",
   "metadata": {}
  },
  {
   "cell_type": "code",
   "execution_count": 13,
   "metadata": {},
   "outputs": [
    {
     "output_type": "execute_result",
     "data": {
      "text/plain": [
       "       stats_PC1  stats_PC2  stats_PC3  defense_PC1  defense_PC2  defense_PC3  \\\n",
       "count      388.0      388.0      388.0        388.0        388.0        388.0   \n",
       "mean        -0.0       -0.0        0.0         -0.0          0.0         -0.0   \n",
       "std          2.0        2.0        1.0          2.0          2.0          1.0   \n",
       "min         -7.0       -4.0       -3.0         -4.0         -5.0         -3.0   \n",
       "25%         -2.0       -1.0       -1.0         -1.0         -1.0         -1.0   \n",
       "50%         -1.0       -0.0       -0.0         -0.0         -0.0          0.0   \n",
       "75%          1.0        1.0        1.0          1.0          1.0          1.0   \n",
       "max          9.0        7.0        4.0          7.0          6.0          5.0   \n",
       "\n",
       "       defense_PC4  hustle_PC1  hustle_PC2  hustle_PC3  shooting_PC1  \\\n",
       "count        388.0       388.0       388.0       388.0         388.0   \n",
       "mean           0.0        -0.0         0.0         0.0           0.0   \n",
       "std            1.0         2.0         1.0         1.0           2.0   \n",
       "min           -4.0        -3.0        -2.0        -1.0          -5.0   \n",
       "25%           -1.0        -1.0        -1.0        -1.0          -1.0   \n",
       "50%            0.0        -0.0        -0.0        -0.0          -0.0   \n",
       "75%            1.0         1.0         0.0         0.0           1.0   \n",
       "max            4.0         5.0         6.0         8.0           6.0   \n",
       "\n",
       "       shooting_PC2  shooting_PC3  shooting_PC4  play_PC1  play_PC2  play_PC3  \\\n",
       "count         388.0         388.0         388.0     388.0     388.0     388.0   \n",
       "mean           -0.0          -0.0           0.0       0.0       0.0       0.0   \n",
       "std             2.0           1.0           1.0       3.0       2.0       2.0   \n",
       "min            -4.0          -4.0          -5.0      -5.0      -5.0      -5.0   \n",
       "25%            -1.0          -1.0          -1.0      -2.0      -1.0      -1.0   \n",
       "50%            -0.0          -0.0          -0.0      -1.0      -0.0      -0.0   \n",
       "75%             1.0           1.0           1.0       2.0       1.0       1.0   \n",
       "max             5.0           4.0           5.0       8.0       7.0       8.0   \n",
       "\n",
       "       play_PC4  passing_PC1  CLUSTER  \n",
       "count     388.0        388.0    388.0  \n",
       "mean       -0.0         -0.0      5.0  \n",
       "std         1.0          1.0      2.0  \n",
       "min        -3.0         -2.0      1.0  \n",
       "25%        -1.0         -1.0      3.0  \n",
       "50%        -0.0         -0.0      5.0  \n",
       "75%         1.0          1.0      6.0  \n",
       "max         5.0          5.0      7.0  "
      ],
      "text/html": "<div>\n<style scoped>\n    .dataframe tbody tr th:only-of-type {\n        vertical-align: middle;\n    }\n\n    .dataframe tbody tr th {\n        vertical-align: top;\n    }\n\n    .dataframe thead th {\n        text-align: right;\n    }\n</style>\n<table border=\"1\" class=\"dataframe\">\n  <thead>\n    <tr style=\"text-align: right;\">\n      <th></th>\n      <th>stats_PC1</th>\n      <th>stats_PC2</th>\n      <th>stats_PC3</th>\n      <th>defense_PC1</th>\n      <th>defense_PC2</th>\n      <th>defense_PC3</th>\n      <th>defense_PC4</th>\n      <th>hustle_PC1</th>\n      <th>hustle_PC2</th>\n      <th>hustle_PC3</th>\n      <th>shooting_PC1</th>\n      <th>shooting_PC2</th>\n      <th>shooting_PC3</th>\n      <th>shooting_PC4</th>\n      <th>play_PC1</th>\n      <th>play_PC2</th>\n      <th>play_PC3</th>\n      <th>play_PC4</th>\n      <th>passing_PC1</th>\n      <th>CLUSTER</th>\n    </tr>\n  </thead>\n  <tbody>\n    <tr>\n      <th>count</th>\n      <td>388.0</td>\n      <td>388.0</td>\n      <td>388.0</td>\n      <td>388.0</td>\n      <td>388.0</td>\n      <td>388.0</td>\n      <td>388.0</td>\n      <td>388.0</td>\n      <td>388.0</td>\n      <td>388.0</td>\n      <td>388.0</td>\n      <td>388.0</td>\n      <td>388.0</td>\n      <td>388.0</td>\n      <td>388.0</td>\n      <td>388.0</td>\n      <td>388.0</td>\n      <td>388.0</td>\n      <td>388.0</td>\n      <td>388.0</td>\n    </tr>\n    <tr>\n      <th>mean</th>\n      <td>-0.0</td>\n      <td>-0.0</td>\n      <td>0.0</td>\n      <td>-0.0</td>\n      <td>0.0</td>\n      <td>-0.0</td>\n      <td>0.0</td>\n      <td>-0.0</td>\n      <td>0.0</td>\n      <td>0.0</td>\n      <td>0.0</td>\n      <td>-0.0</td>\n      <td>-0.0</td>\n      <td>0.0</td>\n      <td>0.0</td>\n      <td>0.0</td>\n      <td>0.0</td>\n      <td>-0.0</td>\n      <td>-0.0</td>\n      <td>5.0</td>\n    </tr>\n    <tr>\n      <th>std</th>\n      <td>2.0</td>\n      <td>2.0</td>\n      <td>1.0</td>\n      <td>2.0</td>\n      <td>2.0</td>\n      <td>1.0</td>\n      <td>1.0</td>\n      <td>2.0</td>\n      <td>1.0</td>\n      <td>1.0</td>\n      <td>2.0</td>\n      <td>2.0</td>\n      <td>1.0</td>\n      <td>1.0</td>\n      <td>3.0</td>\n      <td>2.0</td>\n      <td>2.0</td>\n      <td>1.0</td>\n      <td>1.0</td>\n      <td>2.0</td>\n    </tr>\n    <tr>\n      <th>min</th>\n      <td>-7.0</td>\n      <td>-4.0</td>\n      <td>-3.0</td>\n      <td>-4.0</td>\n      <td>-5.0</td>\n      <td>-3.0</td>\n      <td>-4.0</td>\n      <td>-3.0</td>\n      <td>-2.0</td>\n      <td>-1.0</td>\n      <td>-5.0</td>\n      <td>-4.0</td>\n      <td>-4.0</td>\n      <td>-5.0</td>\n      <td>-5.0</td>\n      <td>-5.0</td>\n      <td>-5.0</td>\n      <td>-3.0</td>\n      <td>-2.0</td>\n      <td>1.0</td>\n    </tr>\n    <tr>\n      <th>25%</th>\n      <td>-2.0</td>\n      <td>-1.0</td>\n      <td>-1.0</td>\n      <td>-1.0</td>\n      <td>-1.0</td>\n      <td>-1.0</td>\n      <td>-1.0</td>\n      <td>-1.0</td>\n      <td>-1.0</td>\n      <td>-1.0</td>\n      <td>-1.0</td>\n      <td>-1.0</td>\n      <td>-1.0</td>\n      <td>-1.0</td>\n      <td>-2.0</td>\n      <td>-1.0</td>\n      <td>-1.0</td>\n      <td>-1.0</td>\n      <td>-1.0</td>\n      <td>3.0</td>\n    </tr>\n    <tr>\n      <th>50%</th>\n      <td>-1.0</td>\n      <td>-0.0</td>\n      <td>-0.0</td>\n      <td>-0.0</td>\n      <td>-0.0</td>\n      <td>0.0</td>\n      <td>0.0</td>\n      <td>-0.0</td>\n      <td>-0.0</td>\n      <td>-0.0</td>\n      <td>-0.0</td>\n      <td>-0.0</td>\n      <td>-0.0</td>\n      <td>-0.0</td>\n      <td>-1.0</td>\n      <td>-0.0</td>\n      <td>-0.0</td>\n      <td>-0.0</td>\n      <td>-0.0</td>\n      <td>5.0</td>\n    </tr>\n    <tr>\n      <th>75%</th>\n      <td>1.0</td>\n      <td>1.0</td>\n      <td>1.0</td>\n      <td>1.0</td>\n      <td>1.0</td>\n      <td>1.0</td>\n      <td>1.0</td>\n      <td>1.0</td>\n      <td>0.0</td>\n      <td>0.0</td>\n      <td>1.0</td>\n      <td>1.0</td>\n      <td>1.0</td>\n      <td>1.0</td>\n      <td>2.0</td>\n      <td>1.0</td>\n      <td>1.0</td>\n      <td>1.0</td>\n      <td>1.0</td>\n      <td>6.0</td>\n    </tr>\n    <tr>\n      <th>max</th>\n      <td>9.0</td>\n      <td>7.0</td>\n      <td>4.0</td>\n      <td>7.0</td>\n      <td>6.0</td>\n      <td>5.0</td>\n      <td>4.0</td>\n      <td>5.0</td>\n      <td>6.0</td>\n      <td>8.0</td>\n      <td>6.0</td>\n      <td>5.0</td>\n      <td>4.0</td>\n      <td>5.0</td>\n      <td>8.0</td>\n      <td>7.0</td>\n      <td>8.0</td>\n      <td>5.0</td>\n      <td>5.0</td>\n      <td>7.0</td>\n    </tr>\n  </tbody>\n</table>\n</div>"
     },
     "metadata": {},
     "execution_count": 13
    }
   ],
   "source": [
    "data.describe().round(0)"
   ]
  },
  {
   "cell_type": "code",
   "execution_count": 11,
   "metadata": {},
   "outputs": [
    {
     "output_type": "execute_result",
     "data": {
      "text/plain": [
       "         stats_PC1  stats_PC2  stats_PC3  defense_PC1  defense_PC2  \\\n",
       "CLUSTER                                                              \n",
       "1         2.662977  -2.901152   1.459149     2.636059    -1.170336   \n",
       "2         4.649525  -0.895421  -0.176337     4.304656     0.807729   \n",
       "3         0.441037   2.896099   0.425774    -0.874650     1.630236   \n",
       "4        -1.440971   0.215154  -1.000979    -1.346974     0.333660   \n",
       "5         0.436237  -0.208915  -0.748388     0.459765     0.022355   \n",
       "6        -2.123239   0.432387   1.094257    -1.733937    -0.389090   \n",
       "7        -1.084942  -1.459370  -0.106796    -0.197771    -1.295530   \n",
       "\n",
       "         defense_PC3  defense_PC4  hustle_PC1  hustle_PC2  hustle_PC3  \\\n",
       "CLUSTER                                                                 \n",
       "1           1.404141    -0.185515   -1.121239    1.961559    0.133320   \n",
       "2          -0.074952     0.211192    1.421993    2.997337   -0.352044   \n",
       "3          -0.361263     0.197756    1.465262   -1.024930   -0.093866   \n",
       "4           0.074132    -0.201684   -0.321921   -0.687351   -0.204988   \n",
       "5          -0.935180    -0.253051    0.740441   -0.115731    0.154199   \n",
       "6           0.810326     0.082724   -1.132149   -0.725587    0.150314   \n",
       "7           0.249440     0.096065   -1.221027    0.114584    0.058945   \n",
       "\n",
       "         shooting_PC1  shooting_PC2  shooting_PC3  shooting_PC4  play_PC1  \\\n",
       "CLUSTER                                                                     \n",
       "1           -2.429656      2.113001      0.690596     -0.817098  5.032086   \n",
       "2            0.013662      2.377535     -0.612231      0.210602  5.385564   \n",
       "3            1.764357      0.236388     -0.137509     -0.296178 -2.782302   \n",
       "4            0.984429     -1.209068      0.036927      0.446850 -2.594979   \n",
       "5            0.260418     -0.247628     -0.457842      0.065680  0.205133   \n",
       "6           -0.536830     -0.511353      0.842630     -0.168985 -1.747296   \n",
       "7           -1.259471     -0.429880      0.029152      0.165666  1.254907   \n",
       "\n",
       "         play_PC2  play_PC3  play_PC4  passing_PC1  \n",
       "CLUSTER                                             \n",
       "1       -0.198692  0.876774  1.618471    -1.289285  \n",
       "2        2.388921 -0.084563  0.187735    -0.212892  \n",
       "3        1.435174  1.327069  0.171041     2.327320  \n",
       "4        0.156664 -2.070134  1.172637    -0.113709  \n",
       "5        0.683185 -0.832610 -1.011439    -0.272022  \n",
       "6       -1.320963  1.327022 -0.230477     0.135466  \n",
       "7       -1.909215 -0.191153 -0.230159    -1.248315  "
      ],
      "text/html": "<div>\n<style scoped>\n    .dataframe tbody tr th:only-of-type {\n        vertical-align: middle;\n    }\n\n    .dataframe tbody tr th {\n        vertical-align: top;\n    }\n\n    .dataframe thead th {\n        text-align: right;\n    }\n</style>\n<table border=\"1\" class=\"dataframe\">\n  <thead>\n    <tr style=\"text-align: right;\">\n      <th></th>\n      <th>stats_PC1</th>\n      <th>stats_PC2</th>\n      <th>stats_PC3</th>\n      <th>defense_PC1</th>\n      <th>defense_PC2</th>\n      <th>defense_PC3</th>\n      <th>defense_PC4</th>\n      <th>hustle_PC1</th>\n      <th>hustle_PC2</th>\n      <th>hustle_PC3</th>\n      <th>shooting_PC1</th>\n      <th>shooting_PC2</th>\n      <th>shooting_PC3</th>\n      <th>shooting_PC4</th>\n      <th>play_PC1</th>\n      <th>play_PC2</th>\n      <th>play_PC3</th>\n      <th>play_PC4</th>\n      <th>passing_PC1</th>\n    </tr>\n    <tr>\n      <th>CLUSTER</th>\n      <th></th>\n      <th></th>\n      <th></th>\n      <th></th>\n      <th></th>\n      <th></th>\n      <th></th>\n      <th></th>\n      <th></th>\n      <th></th>\n      <th></th>\n      <th></th>\n      <th></th>\n      <th></th>\n      <th></th>\n      <th></th>\n      <th></th>\n      <th></th>\n      <th></th>\n    </tr>\n  </thead>\n  <tbody>\n    <tr>\n      <th>1</th>\n      <td>2.662977</td>\n      <td>-2.901152</td>\n      <td>1.459149</td>\n      <td>2.636059</td>\n      <td>-1.170336</td>\n      <td>1.404141</td>\n      <td>-0.185515</td>\n      <td>-1.121239</td>\n      <td>1.961559</td>\n      <td>0.133320</td>\n      <td>-2.429656</td>\n      <td>2.113001</td>\n      <td>0.690596</td>\n      <td>-0.817098</td>\n      <td>5.032086</td>\n      <td>-0.198692</td>\n      <td>0.876774</td>\n      <td>1.618471</td>\n      <td>-1.289285</td>\n    </tr>\n    <tr>\n      <th>2</th>\n      <td>4.649525</td>\n      <td>-0.895421</td>\n      <td>-0.176337</td>\n      <td>4.304656</td>\n      <td>0.807729</td>\n      <td>-0.074952</td>\n      <td>0.211192</td>\n      <td>1.421993</td>\n      <td>2.997337</td>\n      <td>-0.352044</td>\n      <td>0.013662</td>\n      <td>2.377535</td>\n      <td>-0.612231</td>\n      <td>0.210602</td>\n      <td>5.385564</td>\n      <td>2.388921</td>\n      <td>-0.084563</td>\n      <td>0.187735</td>\n      <td>-0.212892</td>\n    </tr>\n    <tr>\n      <th>3</th>\n      <td>0.441037</td>\n      <td>2.896099</td>\n      <td>0.425774</td>\n      <td>-0.874650</td>\n      <td>1.630236</td>\n      <td>-0.361263</td>\n      <td>0.197756</td>\n      <td>1.465262</td>\n      <td>-1.024930</td>\n      <td>-0.093866</td>\n      <td>1.764357</td>\n      <td>0.236388</td>\n      <td>-0.137509</td>\n      <td>-0.296178</td>\n      <td>-2.782302</td>\n      <td>1.435174</td>\n      <td>1.327069</td>\n      <td>0.171041</td>\n      <td>2.327320</td>\n    </tr>\n    <tr>\n      <th>4</th>\n      <td>-1.440971</td>\n      <td>0.215154</td>\n      <td>-1.000979</td>\n      <td>-1.346974</td>\n      <td>0.333660</td>\n      <td>0.074132</td>\n      <td>-0.201684</td>\n      <td>-0.321921</td>\n      <td>-0.687351</td>\n      <td>-0.204988</td>\n      <td>0.984429</td>\n      <td>-1.209068</td>\n      <td>0.036927</td>\n      <td>0.446850</td>\n      <td>-2.594979</td>\n      <td>0.156664</td>\n      <td>-2.070134</td>\n      <td>1.172637</td>\n      <td>-0.113709</td>\n    </tr>\n    <tr>\n      <th>5</th>\n      <td>0.436237</td>\n      <td>-0.208915</td>\n      <td>-0.748388</td>\n      <td>0.459765</td>\n      <td>0.022355</td>\n      <td>-0.935180</td>\n      <td>-0.253051</td>\n      <td>0.740441</td>\n      <td>-0.115731</td>\n      <td>0.154199</td>\n      <td>0.260418</td>\n      <td>-0.247628</td>\n      <td>-0.457842</td>\n      <td>0.065680</td>\n      <td>0.205133</td>\n      <td>0.683185</td>\n      <td>-0.832610</td>\n      <td>-1.011439</td>\n      <td>-0.272022</td>\n    </tr>\n    <tr>\n      <th>6</th>\n      <td>-2.123239</td>\n      <td>0.432387</td>\n      <td>1.094257</td>\n      <td>-1.733937</td>\n      <td>-0.389090</td>\n      <td>0.810326</td>\n      <td>0.082724</td>\n      <td>-1.132149</td>\n      <td>-0.725587</td>\n      <td>0.150314</td>\n      <td>-0.536830</td>\n      <td>-0.511353</td>\n      <td>0.842630</td>\n      <td>-0.168985</td>\n      <td>-1.747296</td>\n      <td>-1.320963</td>\n      <td>1.327022</td>\n      <td>-0.230477</td>\n      <td>0.135466</td>\n    </tr>\n    <tr>\n      <th>7</th>\n      <td>-1.084942</td>\n      <td>-1.459370</td>\n      <td>-0.106796</td>\n      <td>-0.197771</td>\n      <td>-1.295530</td>\n      <td>0.249440</td>\n      <td>0.096065</td>\n      <td>-1.221027</td>\n      <td>0.114584</td>\n      <td>0.058945</td>\n      <td>-1.259471</td>\n      <td>-0.429880</td>\n      <td>0.029152</td>\n      <td>0.165666</td>\n      <td>1.254907</td>\n      <td>-1.909215</td>\n      <td>-0.191153</td>\n      <td>-0.230159</td>\n      <td>-1.248315</td>\n    </tr>\n  </tbody>\n</table>\n</div>"
     },
     "metadata": {},
     "execution_count": 11
    }
   ],
   "source": [
    "data.groupby('CLUSTER').mean()"
   ]
  },
  {
   "cell_type": "code",
   "execution_count": 4,
   "metadata": {},
   "outputs": [
    {
     "output_type": "execute_result",
     "data": {
      "text/plain": [
       "             PLAYER TEAM POSITION  stats_PC1  stats_PC2  stats_PC3  \\\n",
       "141  DeAndre Jordan  NYK        C   7.195520  -3.006260   2.915922   \n",
       "179     Robin Lopez  CHI        C   1.463591  -2.638539   0.473899   \n",
       "197     Ivica Zubac  LAC        C   3.614849  -2.962662   1.287147   \n",
       "198     Bam Adebayo  MIA      C-F   3.621790  -1.354926   1.151658   \n",
       "215   Jahlil Okafor  NOP        C   2.243909  -2.688580   0.133727   \n",
       "\n",
       "     defense_PC1  defense_PC2  defense_PC3  defense_PC4  ...  shooting_PC1  \\\n",
       "141     3.070066     1.200052     1.955823     0.543823  ...     -3.909725   \n",
       "179     3.317290     0.986264     1.139165    -0.157725  ...     -0.265116   \n",
       "197     4.172928    -2.195401     0.176692     1.313228  ...     -2.783812   \n",
       "198     1.769961    -0.436506     0.941876     0.594314  ...     -1.629069   \n",
       "215     4.002476    -1.803307     1.210691     0.926489  ...     -0.931830   \n",
       "\n",
       "     shooting_PC2  shooting_PC3  shooting_PC4  play_PC1  play_PC2  play_PC3  \\\n",
       "141      2.949915     -1.376401     -0.995263  5.559163 -0.495915  0.891448   \n",
       "179      3.281482      0.860466      0.190633  5.031057  0.183550  0.865013   \n",
       "197      2.929924      0.633311     -1.587072  7.421921  1.418879  0.584205   \n",
       "198      1.652350      0.120116     -0.043049  5.359795  1.272556  0.590480   \n",
       "215      2.742670      0.992661      0.218425  4.352253  2.469815  1.303449   \n",
       "\n",
       "     play_PC4  passing_PC1  CLUSTER  \n",
       "141  1.187967    -0.211704        1  \n",
       "179 -0.902641    -1.278359        1  \n",
       "197  3.402349    -1.338688        1  \n",
       "198  1.220653    -0.276934        1  \n",
       "215 -0.536182    -1.687901        1  \n",
       "\n",
       "[5 rows x 23 columns]"
      ],
      "text/html": "<div>\n<style scoped>\n    .dataframe tbody tr th:only-of-type {\n        vertical-align: middle;\n    }\n\n    .dataframe tbody tr th {\n        vertical-align: top;\n    }\n\n    .dataframe thead th {\n        text-align: right;\n    }\n</style>\n<table border=\"1\" class=\"dataframe\">\n  <thead>\n    <tr style=\"text-align: right;\">\n      <th></th>\n      <th>PLAYER</th>\n      <th>TEAM</th>\n      <th>POSITION</th>\n      <th>stats_PC1</th>\n      <th>stats_PC2</th>\n      <th>stats_PC3</th>\n      <th>defense_PC1</th>\n      <th>defense_PC2</th>\n      <th>defense_PC3</th>\n      <th>defense_PC4</th>\n      <th>...</th>\n      <th>shooting_PC1</th>\n      <th>shooting_PC2</th>\n      <th>shooting_PC3</th>\n      <th>shooting_PC4</th>\n      <th>play_PC1</th>\n      <th>play_PC2</th>\n      <th>play_PC3</th>\n      <th>play_PC4</th>\n      <th>passing_PC1</th>\n      <th>CLUSTER</th>\n    </tr>\n  </thead>\n  <tbody>\n    <tr>\n      <th>141</th>\n      <td>DeAndre Jordan</td>\n      <td>NYK</td>\n      <td>C</td>\n      <td>7.195520</td>\n      <td>-3.006260</td>\n      <td>2.915922</td>\n      <td>3.070066</td>\n      <td>1.200052</td>\n      <td>1.955823</td>\n      <td>0.543823</td>\n      <td>...</td>\n      <td>-3.909725</td>\n      <td>2.949915</td>\n      <td>-1.376401</td>\n      <td>-0.995263</td>\n      <td>5.559163</td>\n      <td>-0.495915</td>\n      <td>0.891448</td>\n      <td>1.187967</td>\n      <td>-0.211704</td>\n      <td>1</td>\n    </tr>\n    <tr>\n      <th>179</th>\n      <td>Robin Lopez</td>\n      <td>CHI</td>\n      <td>C</td>\n      <td>1.463591</td>\n      <td>-2.638539</td>\n      <td>0.473899</td>\n      <td>3.317290</td>\n      <td>0.986264</td>\n      <td>1.139165</td>\n      <td>-0.157725</td>\n      <td>...</td>\n      <td>-0.265116</td>\n      <td>3.281482</td>\n      <td>0.860466</td>\n      <td>0.190633</td>\n      <td>5.031057</td>\n      <td>0.183550</td>\n      <td>0.865013</td>\n      <td>-0.902641</td>\n      <td>-1.278359</td>\n      <td>1</td>\n    </tr>\n    <tr>\n      <th>197</th>\n      <td>Ivica Zubac</td>\n      <td>LAC</td>\n      <td>C</td>\n      <td>3.614849</td>\n      <td>-2.962662</td>\n      <td>1.287147</td>\n      <td>4.172928</td>\n      <td>-2.195401</td>\n      <td>0.176692</td>\n      <td>1.313228</td>\n      <td>...</td>\n      <td>-2.783812</td>\n      <td>2.929924</td>\n      <td>0.633311</td>\n      <td>-1.587072</td>\n      <td>7.421921</td>\n      <td>1.418879</td>\n      <td>0.584205</td>\n      <td>3.402349</td>\n      <td>-1.338688</td>\n      <td>1</td>\n    </tr>\n    <tr>\n      <th>198</th>\n      <td>Bam Adebayo</td>\n      <td>MIA</td>\n      <td>C-F</td>\n      <td>3.621790</td>\n      <td>-1.354926</td>\n      <td>1.151658</td>\n      <td>1.769961</td>\n      <td>-0.436506</td>\n      <td>0.941876</td>\n      <td>0.594314</td>\n      <td>...</td>\n      <td>-1.629069</td>\n      <td>1.652350</td>\n      <td>0.120116</td>\n      <td>-0.043049</td>\n      <td>5.359795</td>\n      <td>1.272556</td>\n      <td>0.590480</td>\n      <td>1.220653</td>\n      <td>-0.276934</td>\n      <td>1</td>\n    </tr>\n    <tr>\n      <th>215</th>\n      <td>Jahlil Okafor</td>\n      <td>NOP</td>\n      <td>C</td>\n      <td>2.243909</td>\n      <td>-2.688580</td>\n      <td>0.133727</td>\n      <td>4.002476</td>\n      <td>-1.803307</td>\n      <td>1.210691</td>\n      <td>0.926489</td>\n      <td>...</td>\n      <td>-0.931830</td>\n      <td>2.742670</td>\n      <td>0.992661</td>\n      <td>0.218425</td>\n      <td>4.352253</td>\n      <td>2.469815</td>\n      <td>1.303449</td>\n      <td>-0.536182</td>\n      <td>-1.687901</td>\n      <td>1</td>\n    </tr>\n  </tbody>\n</table>\n<p>5 rows × 23 columns</p>\n</div>"
     },
     "metadata": {},
     "execution_count": 4
    }
   ],
   "source": [
    "data[data['CLUSTER'] == 1].head()"
   ]
  },
  {
   "source": [
    "We have 7 clusters "
   ],
   "cell_type": "markdown",
   "metadata": {}
  },
  {
   "cell_type": "code",
   "execution_count": 5,
   "metadata": {},
   "outputs": [
    {
     "output_type": "execute_result",
     "data": {
      "text/plain": [
       "                PLAYER TEAM POSITION  stats_PC1  stats_PC2  stats_PC3  \\\n",
       "3          Joel Embiid  PHI      F-C   7.534206   1.957477  -0.880680   \n",
       "9        Anthony Davis  NOP      F-C   7.280539   2.272972  -1.505980   \n",
       "14  Karl-Anthony Towns  MIN        C   6.828087   0.972451  -0.517403   \n",
       "21   LaMarcus Aldridge  SAS      C-F   4.511887  -0.243008  -0.930459   \n",
       "28      Nikola Vucevic  ORL        C   5.848959   1.762880  -0.783575   \n",
       "\n",
       "    defense_PC1  defense_PC2  defense_PC3  defense_PC4  ...  shooting_PC1  \\\n",
       "3      5.025456     2.818697    -1.269017     1.760690  ...      2.051242   \n",
       "9      3.132847     0.623612    -0.799589     1.472554  ...      2.801036   \n",
       "14     5.091028     1.427040    -1.069885     0.660448  ...      2.984582   \n",
       "21     4.382168     2.738839     1.446537     1.632053  ...      4.484654   \n",
       "28     5.991841     1.825117     0.368791     1.072025  ...      3.864671   \n",
       "\n",
       "    shooting_PC2  shooting_PC3  shooting_PC4  play_PC1  play_PC2  play_PC3  \\\n",
       "3       3.143054     -1.197058     -0.411250  3.201982  5.586363 -0.428772   \n",
       "9       3.273938     -1.589772     -0.293026  1.956167  4.225992 -0.659379   \n",
       "14      2.212632     -1.473313      1.100749  4.327973  4.787503 -0.119695   \n",
       "21      4.011999      0.356056     -0.425208  6.429272  5.522882  0.174194   \n",
       "28      3.413655     -0.579068      0.606231  5.842165  4.720024 -1.026320   \n",
       "\n",
       "    play_PC4  passing_PC1  CLUSTER  \n",
       "3  -1.627686     1.292996        2  \n",
       "9  -1.991306     1.165963        2  \n",
       "14 -1.819967     1.065656        2  \n",
       "21 -1.758106     0.110266        2  \n",
       "28 -1.198491     0.874309        2  \n",
       "\n",
       "[5 rows x 23 columns]"
      ],
      "text/html": "<div>\n<style scoped>\n    .dataframe tbody tr th:only-of-type {\n        vertical-align: middle;\n    }\n\n    .dataframe tbody tr th {\n        vertical-align: top;\n    }\n\n    .dataframe thead th {\n        text-align: right;\n    }\n</style>\n<table border=\"1\" class=\"dataframe\">\n  <thead>\n    <tr style=\"text-align: right;\">\n      <th></th>\n      <th>PLAYER</th>\n      <th>TEAM</th>\n      <th>POSITION</th>\n      <th>stats_PC1</th>\n      <th>stats_PC2</th>\n      <th>stats_PC3</th>\n      <th>defense_PC1</th>\n      <th>defense_PC2</th>\n      <th>defense_PC3</th>\n      <th>defense_PC4</th>\n      <th>...</th>\n      <th>shooting_PC1</th>\n      <th>shooting_PC2</th>\n      <th>shooting_PC3</th>\n      <th>shooting_PC4</th>\n      <th>play_PC1</th>\n      <th>play_PC2</th>\n      <th>play_PC3</th>\n      <th>play_PC4</th>\n      <th>passing_PC1</th>\n      <th>CLUSTER</th>\n    </tr>\n  </thead>\n  <tbody>\n    <tr>\n      <th>3</th>\n      <td>Joel Embiid</td>\n      <td>PHI</td>\n      <td>F-C</td>\n      <td>7.534206</td>\n      <td>1.957477</td>\n      <td>-0.880680</td>\n      <td>5.025456</td>\n      <td>2.818697</td>\n      <td>-1.269017</td>\n      <td>1.760690</td>\n      <td>...</td>\n      <td>2.051242</td>\n      <td>3.143054</td>\n      <td>-1.197058</td>\n      <td>-0.411250</td>\n      <td>3.201982</td>\n      <td>5.586363</td>\n      <td>-0.428772</td>\n      <td>-1.627686</td>\n      <td>1.292996</td>\n      <td>2</td>\n    </tr>\n    <tr>\n      <th>9</th>\n      <td>Anthony Davis</td>\n      <td>NOP</td>\n      <td>F-C</td>\n      <td>7.280539</td>\n      <td>2.272972</td>\n      <td>-1.505980</td>\n      <td>3.132847</td>\n      <td>0.623612</td>\n      <td>-0.799589</td>\n      <td>1.472554</td>\n      <td>...</td>\n      <td>2.801036</td>\n      <td>3.273938</td>\n      <td>-1.589772</td>\n      <td>-0.293026</td>\n      <td>1.956167</td>\n      <td>4.225992</td>\n      <td>-0.659379</td>\n      <td>-1.991306</td>\n      <td>1.165963</td>\n      <td>2</td>\n    </tr>\n    <tr>\n      <th>14</th>\n      <td>Karl-Anthony Towns</td>\n      <td>MIN</td>\n      <td>C</td>\n      <td>6.828087</td>\n      <td>0.972451</td>\n      <td>-0.517403</td>\n      <td>5.091028</td>\n      <td>1.427040</td>\n      <td>-1.069885</td>\n      <td>0.660448</td>\n      <td>...</td>\n      <td>2.984582</td>\n      <td>2.212632</td>\n      <td>-1.473313</td>\n      <td>1.100749</td>\n      <td>4.327973</td>\n      <td>4.787503</td>\n      <td>-0.119695</td>\n      <td>-1.819967</td>\n      <td>1.065656</td>\n      <td>2</td>\n    </tr>\n    <tr>\n      <th>21</th>\n      <td>LaMarcus Aldridge</td>\n      <td>SAS</td>\n      <td>C-F</td>\n      <td>4.511887</td>\n      <td>-0.243008</td>\n      <td>-0.930459</td>\n      <td>4.382168</td>\n      <td>2.738839</td>\n      <td>1.446537</td>\n      <td>1.632053</td>\n      <td>...</td>\n      <td>4.484654</td>\n      <td>4.011999</td>\n      <td>0.356056</td>\n      <td>-0.425208</td>\n      <td>6.429272</td>\n      <td>5.522882</td>\n      <td>0.174194</td>\n      <td>-1.758106</td>\n      <td>0.110266</td>\n      <td>2</td>\n    </tr>\n    <tr>\n      <th>28</th>\n      <td>Nikola Vucevic</td>\n      <td>ORL</td>\n      <td>C</td>\n      <td>5.848959</td>\n      <td>1.762880</td>\n      <td>-0.783575</td>\n      <td>5.991841</td>\n      <td>1.825117</td>\n      <td>0.368791</td>\n      <td>1.072025</td>\n      <td>...</td>\n      <td>3.864671</td>\n      <td>3.413655</td>\n      <td>-0.579068</td>\n      <td>0.606231</td>\n      <td>5.842165</td>\n      <td>4.720024</td>\n      <td>-1.026320</td>\n      <td>-1.198491</td>\n      <td>0.874309</td>\n      <td>2</td>\n    </tr>\n  </tbody>\n</table>\n<p>5 rows × 23 columns</p>\n</div>"
     },
     "metadata": {},
     "execution_count": 5
    }
   ],
   "source": [
    "data[data['CLUSTER'] == 2].head()\n"
   ]
  },
  {
   "cell_type": "code",
   "execution_count": 6,
   "metadata": {},
   "outputs": [
    {
     "output_type": "execute_result",
     "data": {
      "text/plain": [
       "                  PLAYER TEAM POSITION  stats_PC1  stats_PC2  stats_PC3  \\\n",
       "0           James Harden  HOU        G   4.674833   7.289013  -0.240604   \n",
       "1            Paul George  OKC        F   3.480394   4.225621  -1.915357   \n",
       "2  Giannis Antetokounmpo  MIL        F   8.126167   3.767512  -0.602605   \n",
       "4           LeBron James  LAL        F   4.158587   5.603268   0.412803   \n",
       "6          Kawhi Leonard  TOR        F   3.541089   3.527236  -2.441462   \n",
       "\n",
       "   defense_PC1  defense_PC2  defense_PC3  defense_PC4  ...  shooting_PC1  \\\n",
       "0     1.158709     0.981086    -0.437014     1.681691  ...      4.206455   \n",
       "1    -0.076796     0.535884    -2.617200    -0.221552  ...      4.416718   \n",
       "2     0.249371    -0.582274    -1.575326     0.891747  ...      0.303794   \n",
       "4    -0.445747    -1.033204    -1.126382     1.967757  ...      2.451034   \n",
       "6    -0.612568     0.226652    -1.733213    -0.041315  ...      5.085654   \n",
       "\n",
       "   shooting_PC2  shooting_PC3  shooting_PC4  play_PC1  play_PC2  play_PC3  \\\n",
       "0      0.278324     -2.018788     -0.306612 -4.313970  7.210947  7.787175   \n",
       "1     -1.115199     -1.817118     -0.525678 -3.955110  4.054167  0.200333   \n",
       "2      3.404961     -2.447429     -0.232322  0.195494  5.351138  0.568888   \n",
       "4      1.030243     -2.751712     -0.747411 -1.127836  5.025539  2.697098   \n",
       "6      2.050734     -0.585712     -0.308251 -3.068065  3.588250  1.934547   \n",
       "\n",
       "   play_PC4  passing_PC1  CLUSTER  \n",
       "0 -0.991071     3.953771        3  \n",
       "1 -0.100192     1.005878        3  \n",
       "2 -1.022542     2.473767        3  \n",
       "4 -0.559131     3.520363        3  \n",
       "6 -1.148887     1.895048        3  \n",
       "\n",
       "[5 rows x 23 columns]"
      ],
      "text/html": "<div>\n<style scoped>\n    .dataframe tbody tr th:only-of-type {\n        vertical-align: middle;\n    }\n\n    .dataframe tbody tr th {\n        vertical-align: top;\n    }\n\n    .dataframe thead th {\n        text-align: right;\n    }\n</style>\n<table border=\"1\" class=\"dataframe\">\n  <thead>\n    <tr style=\"text-align: right;\">\n      <th></th>\n      <th>PLAYER</th>\n      <th>TEAM</th>\n      <th>POSITION</th>\n      <th>stats_PC1</th>\n      <th>stats_PC2</th>\n      <th>stats_PC3</th>\n      <th>defense_PC1</th>\n      <th>defense_PC2</th>\n      <th>defense_PC3</th>\n      <th>defense_PC4</th>\n      <th>...</th>\n      <th>shooting_PC1</th>\n      <th>shooting_PC2</th>\n      <th>shooting_PC3</th>\n      <th>shooting_PC4</th>\n      <th>play_PC1</th>\n      <th>play_PC2</th>\n      <th>play_PC3</th>\n      <th>play_PC4</th>\n      <th>passing_PC1</th>\n      <th>CLUSTER</th>\n    </tr>\n  </thead>\n  <tbody>\n    <tr>\n      <th>0</th>\n      <td>James Harden</td>\n      <td>HOU</td>\n      <td>G</td>\n      <td>4.674833</td>\n      <td>7.289013</td>\n      <td>-0.240604</td>\n      <td>1.158709</td>\n      <td>0.981086</td>\n      <td>-0.437014</td>\n      <td>1.681691</td>\n      <td>...</td>\n      <td>4.206455</td>\n      <td>0.278324</td>\n      <td>-2.018788</td>\n      <td>-0.306612</td>\n      <td>-4.313970</td>\n      <td>7.210947</td>\n      <td>7.787175</td>\n      <td>-0.991071</td>\n      <td>3.953771</td>\n      <td>3</td>\n    </tr>\n    <tr>\n      <th>1</th>\n      <td>Paul George</td>\n      <td>OKC</td>\n      <td>F</td>\n      <td>3.480394</td>\n      <td>4.225621</td>\n      <td>-1.915357</td>\n      <td>-0.076796</td>\n      <td>0.535884</td>\n      <td>-2.617200</td>\n      <td>-0.221552</td>\n      <td>...</td>\n      <td>4.416718</td>\n      <td>-1.115199</td>\n      <td>-1.817118</td>\n      <td>-0.525678</td>\n      <td>-3.955110</td>\n      <td>4.054167</td>\n      <td>0.200333</td>\n      <td>-0.100192</td>\n      <td>1.005878</td>\n      <td>3</td>\n    </tr>\n    <tr>\n      <th>2</th>\n      <td>Giannis Antetokounmpo</td>\n      <td>MIL</td>\n      <td>F</td>\n      <td>8.126167</td>\n      <td>3.767512</td>\n      <td>-0.602605</td>\n      <td>0.249371</td>\n      <td>-0.582274</td>\n      <td>-1.575326</td>\n      <td>0.891747</td>\n      <td>...</td>\n      <td>0.303794</td>\n      <td>3.404961</td>\n      <td>-2.447429</td>\n      <td>-0.232322</td>\n      <td>0.195494</td>\n      <td>5.351138</td>\n      <td>0.568888</td>\n      <td>-1.022542</td>\n      <td>2.473767</td>\n      <td>3</td>\n    </tr>\n    <tr>\n      <th>4</th>\n      <td>LeBron James</td>\n      <td>LAL</td>\n      <td>F</td>\n      <td>4.158587</td>\n      <td>5.603268</td>\n      <td>0.412803</td>\n      <td>-0.445747</td>\n      <td>-1.033204</td>\n      <td>-1.126382</td>\n      <td>1.967757</td>\n      <td>...</td>\n      <td>2.451034</td>\n      <td>1.030243</td>\n      <td>-2.751712</td>\n      <td>-0.747411</td>\n      <td>-1.127836</td>\n      <td>5.025539</td>\n      <td>2.697098</td>\n      <td>-0.559131</td>\n      <td>3.520363</td>\n      <td>3</td>\n    </tr>\n    <tr>\n      <th>6</th>\n      <td>Kawhi Leonard</td>\n      <td>TOR</td>\n      <td>F</td>\n      <td>3.541089</td>\n      <td>3.527236</td>\n      <td>-2.441462</td>\n      <td>-0.612568</td>\n      <td>0.226652</td>\n      <td>-1.733213</td>\n      <td>-0.041315</td>\n      <td>...</td>\n      <td>5.085654</td>\n      <td>2.050734</td>\n      <td>-0.585712</td>\n      <td>-0.308251</td>\n      <td>-3.068065</td>\n      <td>3.588250</td>\n      <td>1.934547</td>\n      <td>-1.148887</td>\n      <td>1.895048</td>\n      <td>3</td>\n    </tr>\n  </tbody>\n</table>\n<p>5 rows × 23 columns</p>\n</div>"
     },
     "metadata": {},
     "execution_count": 6
    }
   ],
   "source": [
    "data[data['CLUSTER'] == 3].head()"
   ]
  },
  {
   "cell_type": "code",
   "execution_count": 7,
   "metadata": {},
   "outputs": [
    {
     "output_type": "execute_result",
     "data": {
      "text/plain": [
       "              PLAYER TEAM POSITION  stats_PC1  stats_PC2  stats_PC3  \\\n",
       "5      Stephen Curry  GSW        G   2.573853   4.469750  -2.461600   \n",
       "19     Klay Thompson  GSW        G   0.346158   1.946976  -2.726679   \n",
       "30       Buddy Hield  SAC        G   0.758195   1.081695  -1.690568   \n",
       "45  Tim Hardaway Jr.  DAL        G  -1.380199   1.056148  -0.293488   \n",
       "46         JJ Redick  PHI        G  -1.024750   1.373796  -2.346221   \n",
       "\n",
       "    defense_PC1  defense_PC2  defense_PC3  defense_PC4  ...  shooting_PC1  \\\n",
       "5     -0.820743     1.319498     0.631421     0.521898  ...      4.648575   \n",
       "19     0.303405    -0.090346    -0.543824    -0.452162  ...      5.354937   \n",
       "30     0.027014     1.164430    -1.714740    -0.550470  ...      3.607359   \n",
       "45    -0.971589     0.710189    -1.899432     1.036499  ...      2.188700   \n",
       "46    -1.383679     0.604946     1.112572     0.640174  ...      3.207388   \n",
       "\n",
       "    shooting_PC2  shooting_PC3  shooting_PC4  play_PC1  play_PC2  play_PC3  \\\n",
       "5      -2.554607     -2.278768      0.513325 -3.857273  2.871617 -2.567846   \n",
       "19     -0.679565     -1.356352     -0.368545 -3.287719  3.927672 -5.176663   \n",
       "30     -2.219804     -1.662106     -0.728486 -3.931051  2.532070 -1.976916   \n",
       "45     -1.311384     -0.633538     -1.125485 -2.748191  2.682101 -2.812336   \n",
       "46     -3.119270     -1.070793     -0.250484 -4.438213  1.284138 -4.273378   \n",
       "\n",
       "    play_PC4  passing_PC1  CLUSTER  \n",
       "5   1.767072     3.560041        4  \n",
       "19  2.787503     0.568227        4  \n",
       "30  1.070205     0.825671        4  \n",
       "45  1.132381     0.462120        4  \n",
       "46  5.013904     0.739389        4  \n",
       "\n",
       "[5 rows x 23 columns]"
      ],
      "text/html": "<div>\n<style scoped>\n    .dataframe tbody tr th:only-of-type {\n        vertical-align: middle;\n    }\n\n    .dataframe tbody tr th {\n        vertical-align: top;\n    }\n\n    .dataframe thead th {\n        text-align: right;\n    }\n</style>\n<table border=\"1\" class=\"dataframe\">\n  <thead>\n    <tr style=\"text-align: right;\">\n      <th></th>\n      <th>PLAYER</th>\n      <th>TEAM</th>\n      <th>POSITION</th>\n      <th>stats_PC1</th>\n      <th>stats_PC2</th>\n      <th>stats_PC3</th>\n      <th>defense_PC1</th>\n      <th>defense_PC2</th>\n      <th>defense_PC3</th>\n      <th>defense_PC4</th>\n      <th>...</th>\n      <th>shooting_PC1</th>\n      <th>shooting_PC2</th>\n      <th>shooting_PC3</th>\n      <th>shooting_PC4</th>\n      <th>play_PC1</th>\n      <th>play_PC2</th>\n      <th>play_PC3</th>\n      <th>play_PC4</th>\n      <th>passing_PC1</th>\n      <th>CLUSTER</th>\n    </tr>\n  </thead>\n  <tbody>\n    <tr>\n      <th>5</th>\n      <td>Stephen Curry</td>\n      <td>GSW</td>\n      <td>G</td>\n      <td>2.573853</td>\n      <td>4.469750</td>\n      <td>-2.461600</td>\n      <td>-0.820743</td>\n      <td>1.319498</td>\n      <td>0.631421</td>\n      <td>0.521898</td>\n      <td>...</td>\n      <td>4.648575</td>\n      <td>-2.554607</td>\n      <td>-2.278768</td>\n      <td>0.513325</td>\n      <td>-3.857273</td>\n      <td>2.871617</td>\n      <td>-2.567846</td>\n      <td>1.767072</td>\n      <td>3.560041</td>\n      <td>4</td>\n    </tr>\n    <tr>\n      <th>19</th>\n      <td>Klay Thompson</td>\n      <td>GSW</td>\n      <td>G</td>\n      <td>0.346158</td>\n      <td>1.946976</td>\n      <td>-2.726679</td>\n      <td>0.303405</td>\n      <td>-0.090346</td>\n      <td>-0.543824</td>\n      <td>-0.452162</td>\n      <td>...</td>\n      <td>5.354937</td>\n      <td>-0.679565</td>\n      <td>-1.356352</td>\n      <td>-0.368545</td>\n      <td>-3.287719</td>\n      <td>3.927672</td>\n      <td>-5.176663</td>\n      <td>2.787503</td>\n      <td>0.568227</td>\n      <td>4</td>\n    </tr>\n    <tr>\n      <th>30</th>\n      <td>Buddy Hield</td>\n      <td>SAC</td>\n      <td>G</td>\n      <td>0.758195</td>\n      <td>1.081695</td>\n      <td>-1.690568</td>\n      <td>0.027014</td>\n      <td>1.164430</td>\n      <td>-1.714740</td>\n      <td>-0.550470</td>\n      <td>...</td>\n      <td>3.607359</td>\n      <td>-2.219804</td>\n      <td>-1.662106</td>\n      <td>-0.728486</td>\n      <td>-3.931051</td>\n      <td>2.532070</td>\n      <td>-1.976916</td>\n      <td>1.070205</td>\n      <td>0.825671</td>\n      <td>4</td>\n    </tr>\n    <tr>\n      <th>45</th>\n      <td>Tim Hardaway Jr.</td>\n      <td>DAL</td>\n      <td>G</td>\n      <td>-1.380199</td>\n      <td>1.056148</td>\n      <td>-0.293488</td>\n      <td>-0.971589</td>\n      <td>0.710189</td>\n      <td>-1.899432</td>\n      <td>1.036499</td>\n      <td>...</td>\n      <td>2.188700</td>\n      <td>-1.311384</td>\n      <td>-0.633538</td>\n      <td>-1.125485</td>\n      <td>-2.748191</td>\n      <td>2.682101</td>\n      <td>-2.812336</td>\n      <td>1.132381</td>\n      <td>0.462120</td>\n      <td>4</td>\n    </tr>\n    <tr>\n      <th>46</th>\n      <td>JJ Redick</td>\n      <td>PHI</td>\n      <td>G</td>\n      <td>-1.024750</td>\n      <td>1.373796</td>\n      <td>-2.346221</td>\n      <td>-1.383679</td>\n      <td>0.604946</td>\n      <td>1.112572</td>\n      <td>0.640174</td>\n      <td>...</td>\n      <td>3.207388</td>\n      <td>-3.119270</td>\n      <td>-1.070793</td>\n      <td>-0.250484</td>\n      <td>-4.438213</td>\n      <td>1.284138</td>\n      <td>-4.273378</td>\n      <td>5.013904</td>\n      <td>0.739389</td>\n      <td>4</td>\n    </tr>\n  </tbody>\n</table>\n<p>5 rows × 23 columns</p>\n</div>"
     },
     "metadata": {},
     "execution_count": 7
    }
   ],
   "source": [
    "data[data['CLUSTER'] == 4].head()"
   ]
  },
  {
   "cell_type": "code",
   "execution_count": 8,
   "metadata": {},
   "outputs": [
    {
     "output_type": "execute_result",
     "data": {
      "text/plain": [
       "              PLAYER TEAM POSITION  stats_PC1  stats_PC2  stats_PC3  \\\n",
       "13     Blake Griffin  DET        F   2.858594   3.167164   0.191631   \n",
       "20     Julius Randle  NOP      C-F   3.845873   0.774749  -0.097286   \n",
       "32     Tobias Harris  PHI        F   1.917709   1.104403  -1.464071   \n",
       "34  Danilo Gallinari  LAC        F   1.547408   1.544248  -2.242255   \n",
       "35      John Collins  ATL      F-C   4.554537  -1.145578  -0.655766   \n",
       "\n",
       "    defense_PC1  defense_PC2  defense_PC3  defense_PC4  ...  shooting_PC1  \\\n",
       "13     0.018201     0.919215    -1.489425    -0.246941  ...      1.163848   \n",
       "20     1.984741     0.231725    -2.609821    -0.996743  ...      0.763461   \n",
       "32     1.487073     1.397688    -1.508153    -0.058610  ...      3.811619   \n",
       "34     1.585093     0.614476    -0.609802     1.102004  ...      2.401891   \n",
       "35     1.563807    -1.135414    -2.816520     0.049918  ...      0.174090   \n",
       "\n",
       "    shooting_PC2  shooting_PC3  shooting_PC4  play_PC1  play_PC2  play_PC3  \\\n",
       "13      0.262877     -2.836096      0.158481  1.029600  5.160886  1.872396   \n",
       "20      2.442263     -1.276729      0.078983  0.400106  3.687422 -0.074474   \n",
       "32      1.122218      0.083391      0.303835 -2.041485  3.191117 -0.271628   \n",
       "34     -0.977520     -0.415727     -0.060451 -1.000768  2.859721 -0.223910   \n",
       "35      2.155828     -1.909203      0.302343  4.803993  2.820551 -0.884922   \n",
       "\n",
       "    play_PC4  passing_PC1  CLUSTER  \n",
       "13 -1.523751     2.731339        5  \n",
       "20 -2.270279     0.780713        5  \n",
       "32 -0.154873     0.721683        5  \n",
       "34 -0.958224     0.640909        5  \n",
       "35  0.097443    -0.077524        5  \n",
       "\n",
       "[5 rows x 23 columns]"
      ],
      "text/html": "<div>\n<style scoped>\n    .dataframe tbody tr th:only-of-type {\n        vertical-align: middle;\n    }\n\n    .dataframe tbody tr th {\n        vertical-align: top;\n    }\n\n    .dataframe thead th {\n        text-align: right;\n    }\n</style>\n<table border=\"1\" class=\"dataframe\">\n  <thead>\n    <tr style=\"text-align: right;\">\n      <th></th>\n      <th>PLAYER</th>\n      <th>TEAM</th>\n      <th>POSITION</th>\n      <th>stats_PC1</th>\n      <th>stats_PC2</th>\n      <th>stats_PC3</th>\n      <th>defense_PC1</th>\n      <th>defense_PC2</th>\n      <th>defense_PC3</th>\n      <th>defense_PC4</th>\n      <th>...</th>\n      <th>shooting_PC1</th>\n      <th>shooting_PC2</th>\n      <th>shooting_PC3</th>\n      <th>shooting_PC4</th>\n      <th>play_PC1</th>\n      <th>play_PC2</th>\n      <th>play_PC3</th>\n      <th>play_PC4</th>\n      <th>passing_PC1</th>\n      <th>CLUSTER</th>\n    </tr>\n  </thead>\n  <tbody>\n    <tr>\n      <th>13</th>\n      <td>Blake Griffin</td>\n      <td>DET</td>\n      <td>F</td>\n      <td>2.858594</td>\n      <td>3.167164</td>\n      <td>0.191631</td>\n      <td>0.018201</td>\n      <td>0.919215</td>\n      <td>-1.489425</td>\n      <td>-0.246941</td>\n      <td>...</td>\n      <td>1.163848</td>\n      <td>0.262877</td>\n      <td>-2.836096</td>\n      <td>0.158481</td>\n      <td>1.029600</td>\n      <td>5.160886</td>\n      <td>1.872396</td>\n      <td>-1.523751</td>\n      <td>2.731339</td>\n      <td>5</td>\n    </tr>\n    <tr>\n      <th>20</th>\n      <td>Julius Randle</td>\n      <td>NOP</td>\n      <td>C-F</td>\n      <td>3.845873</td>\n      <td>0.774749</td>\n      <td>-0.097286</td>\n      <td>1.984741</td>\n      <td>0.231725</td>\n      <td>-2.609821</td>\n      <td>-0.996743</td>\n      <td>...</td>\n      <td>0.763461</td>\n      <td>2.442263</td>\n      <td>-1.276729</td>\n      <td>0.078983</td>\n      <td>0.400106</td>\n      <td>3.687422</td>\n      <td>-0.074474</td>\n      <td>-2.270279</td>\n      <td>0.780713</td>\n      <td>5</td>\n    </tr>\n    <tr>\n      <th>32</th>\n      <td>Tobias Harris</td>\n      <td>PHI</td>\n      <td>F</td>\n      <td>1.917709</td>\n      <td>1.104403</td>\n      <td>-1.464071</td>\n      <td>1.487073</td>\n      <td>1.397688</td>\n      <td>-1.508153</td>\n      <td>-0.058610</td>\n      <td>...</td>\n      <td>3.811619</td>\n      <td>1.122218</td>\n      <td>0.083391</td>\n      <td>0.303835</td>\n      <td>-2.041485</td>\n      <td>3.191117</td>\n      <td>-0.271628</td>\n      <td>-0.154873</td>\n      <td>0.721683</td>\n      <td>5</td>\n    </tr>\n    <tr>\n      <th>34</th>\n      <td>Danilo Gallinari</td>\n      <td>LAC</td>\n      <td>F</td>\n      <td>1.547408</td>\n      <td>1.544248</td>\n      <td>-2.242255</td>\n      <td>1.585093</td>\n      <td>0.614476</td>\n      <td>-0.609802</td>\n      <td>1.102004</td>\n      <td>...</td>\n      <td>2.401891</td>\n      <td>-0.977520</td>\n      <td>-0.415727</td>\n      <td>-0.060451</td>\n      <td>-1.000768</td>\n      <td>2.859721</td>\n      <td>-0.223910</td>\n      <td>-0.958224</td>\n      <td>0.640909</td>\n      <td>5</td>\n    </tr>\n    <tr>\n      <th>35</th>\n      <td>John Collins</td>\n      <td>ATL</td>\n      <td>F-C</td>\n      <td>4.554537</td>\n      <td>-1.145578</td>\n      <td>-0.655766</td>\n      <td>1.563807</td>\n      <td>-1.135414</td>\n      <td>-2.816520</td>\n      <td>0.049918</td>\n      <td>...</td>\n      <td>0.174090</td>\n      <td>2.155828</td>\n      <td>-1.909203</td>\n      <td>0.302343</td>\n      <td>4.803993</td>\n      <td>2.820551</td>\n      <td>-0.884922</td>\n      <td>0.097443</td>\n      <td>-0.077524</td>\n      <td>5</td>\n    </tr>\n  </tbody>\n</table>\n<p>5 rows × 23 columns</p>\n</div>"
     },
     "metadata": {},
     "execution_count": 8
    }
   ],
   "source": [
    "data[data['CLUSTER'] == 5].head()"
   ]
  },
  {
   "cell_type": "code",
   "execution_count": 9,
   "metadata": {},
   "outputs": [
    {
     "output_type": "execute_result",
     "data": {
      "text/plain": [
       "            PLAYER TEAM POSITION  stats_PC1  stats_PC2  stats_PC3  \\\n",
       "109  Kevin Knox II  NYK        F  -1.689271  -0.879579   0.528686   \n",
       "130   Josh Jackson  PHX        F  -0.325715   0.057195   1.703505   \n",
       "138    Rodney Hood  POR        G  -2.265330   0.245933  -1.040797   \n",
       "144     J.J. Barea  DAL        G  -0.910603   3.897786   1.954815   \n",
       "146     Trey Burke  DAL        G  -1.919186   1.894526  -0.530796   \n",
       "\n",
       "     defense_PC1  defense_PC2  defense_PC3  defense_PC4  ...  shooting_PC1  \\\n",
       "109    -1.165490    -1.335259    -2.432326     1.070764  ...      0.768467   \n",
       "130     0.257810    -0.741904    -1.291590     1.177896  ...      0.469393   \n",
       "138    -1.314235    -0.426450     0.982471     0.452654  ...      1.694421   \n",
       "144    -3.075482     0.430193     0.473117    -0.028850  ...      0.928711   \n",
       "146    -1.299847    -0.707975     0.165046    -0.275892  ...      1.143350   \n",
       "\n",
       "     shooting_PC2  shooting_PC3  shooting_PC4  play_PC1  play_PC2  play_PC3  \\\n",
       "109     -0.744242      0.393113     -1.007394 -2.298791  1.112522 -1.470930   \n",
       "130     -0.106414      0.593016     -0.882599 -2.385689  0.532522 -0.654095   \n",
       "138     -0.133333      0.605475      0.147110 -1.873911 -0.045520  1.677175   \n",
       "144      0.082337      0.508494     -0.335813 -3.105724 -0.558077  2.633981   \n",
       "146     -0.217388      0.433590     -0.079021 -3.405931 -0.055991  1.573287   \n",
       "\n",
       "     play_PC4  passing_PC1  CLUSTER  \n",
       "109  0.637461    -0.936809        6  \n",
       "130 -0.931788    -0.218032        6  \n",
       "138 -1.685250    -0.899999        6  \n",
       "144  2.212066     2.419192        6  \n",
       "146  0.742886     0.281557        6  \n",
       "\n",
       "[5 rows x 23 columns]"
      ],
      "text/html": "<div>\n<style scoped>\n    .dataframe tbody tr th:only-of-type {\n        vertical-align: middle;\n    }\n\n    .dataframe tbody tr th {\n        vertical-align: top;\n    }\n\n    .dataframe thead th {\n        text-align: right;\n    }\n</style>\n<table border=\"1\" class=\"dataframe\">\n  <thead>\n    <tr style=\"text-align: right;\">\n      <th></th>\n      <th>PLAYER</th>\n      <th>TEAM</th>\n      <th>POSITION</th>\n      <th>stats_PC1</th>\n      <th>stats_PC2</th>\n      <th>stats_PC3</th>\n      <th>defense_PC1</th>\n      <th>defense_PC2</th>\n      <th>defense_PC3</th>\n      <th>defense_PC4</th>\n      <th>...</th>\n      <th>shooting_PC1</th>\n      <th>shooting_PC2</th>\n      <th>shooting_PC3</th>\n      <th>shooting_PC4</th>\n      <th>play_PC1</th>\n      <th>play_PC2</th>\n      <th>play_PC3</th>\n      <th>play_PC4</th>\n      <th>passing_PC1</th>\n      <th>CLUSTER</th>\n    </tr>\n  </thead>\n  <tbody>\n    <tr>\n      <th>109</th>\n      <td>Kevin Knox II</td>\n      <td>NYK</td>\n      <td>F</td>\n      <td>-1.689271</td>\n      <td>-0.879579</td>\n      <td>0.528686</td>\n      <td>-1.165490</td>\n      <td>-1.335259</td>\n      <td>-2.432326</td>\n      <td>1.070764</td>\n      <td>...</td>\n      <td>0.768467</td>\n      <td>-0.744242</td>\n      <td>0.393113</td>\n      <td>-1.007394</td>\n      <td>-2.298791</td>\n      <td>1.112522</td>\n      <td>-1.470930</td>\n      <td>0.637461</td>\n      <td>-0.936809</td>\n      <td>6</td>\n    </tr>\n    <tr>\n      <th>130</th>\n      <td>Josh Jackson</td>\n      <td>PHX</td>\n      <td>F</td>\n      <td>-0.325715</td>\n      <td>0.057195</td>\n      <td>1.703505</td>\n      <td>0.257810</td>\n      <td>-0.741904</td>\n      <td>-1.291590</td>\n      <td>1.177896</td>\n      <td>...</td>\n      <td>0.469393</td>\n      <td>-0.106414</td>\n      <td>0.593016</td>\n      <td>-0.882599</td>\n      <td>-2.385689</td>\n      <td>0.532522</td>\n      <td>-0.654095</td>\n      <td>-0.931788</td>\n      <td>-0.218032</td>\n      <td>6</td>\n    </tr>\n    <tr>\n      <th>138</th>\n      <td>Rodney Hood</td>\n      <td>POR</td>\n      <td>G</td>\n      <td>-2.265330</td>\n      <td>0.245933</td>\n      <td>-1.040797</td>\n      <td>-1.314235</td>\n      <td>-0.426450</td>\n      <td>0.982471</td>\n      <td>0.452654</td>\n      <td>...</td>\n      <td>1.694421</td>\n      <td>-0.133333</td>\n      <td>0.605475</td>\n      <td>0.147110</td>\n      <td>-1.873911</td>\n      <td>-0.045520</td>\n      <td>1.677175</td>\n      <td>-1.685250</td>\n      <td>-0.899999</td>\n      <td>6</td>\n    </tr>\n    <tr>\n      <th>144</th>\n      <td>J.J. Barea</td>\n      <td>DAL</td>\n      <td>G</td>\n      <td>-0.910603</td>\n      <td>3.897786</td>\n      <td>1.954815</td>\n      <td>-3.075482</td>\n      <td>0.430193</td>\n      <td>0.473117</td>\n      <td>-0.028850</td>\n      <td>...</td>\n      <td>0.928711</td>\n      <td>0.082337</td>\n      <td>0.508494</td>\n      <td>-0.335813</td>\n      <td>-3.105724</td>\n      <td>-0.558077</td>\n      <td>2.633981</td>\n      <td>2.212066</td>\n      <td>2.419192</td>\n      <td>6</td>\n    </tr>\n    <tr>\n      <th>146</th>\n      <td>Trey Burke</td>\n      <td>DAL</td>\n      <td>G</td>\n      <td>-1.919186</td>\n      <td>1.894526</td>\n      <td>-0.530796</td>\n      <td>-1.299847</td>\n      <td>-0.707975</td>\n      <td>0.165046</td>\n      <td>-0.275892</td>\n      <td>...</td>\n      <td>1.143350</td>\n      <td>-0.217388</td>\n      <td>0.433590</td>\n      <td>-0.079021</td>\n      <td>-3.405931</td>\n      <td>-0.055991</td>\n      <td>1.573287</td>\n      <td>0.742886</td>\n      <td>0.281557</td>\n      <td>6</td>\n    </tr>\n  </tbody>\n</table>\n<p>5 rows × 23 columns</p>\n</div>"
     },
     "metadata": {},
     "execution_count": 9
    }
   ],
   "source": [
    "data[data['CLUSTER'] == 6].head()"
   ]
  },
  {
   "cell_type": "code",
   "execution_count": 10,
   "metadata": {},
   "outputs": [
    {
     "output_type": "execute_result",
     "data": {
      "text/plain": [
       "              PLAYER TEAM POSITION  stats_PC1  stats_PC2  stats_PC3  \\\n",
       "106       Cedi Osman  CLE        F  -1.193286   0.083890   0.617778   \n",
       "111   Thaddeus Young  IND        F   1.938150   0.110266  -0.356884   \n",
       "176     Allen Crabbe  BKN      G-F  -2.041914  -0.845353  -0.761805   \n",
       "182  Markieff Morris  OKC        F  -0.583403  -0.911277  -0.205865   \n",
       "183   JaMychal Green  LAC        F   1.726922  -1.856610   0.272822   \n",
       "\n",
       "     defense_PC1  defense_PC2  defense_PC3  defense_PC4  ...  shooting_PC1  \\\n",
       "106    -0.438213     2.160304    -1.081315    -0.066369  ...      0.667652   \n",
       "111     0.902374     0.800947    -2.248152    -1.123468  ...     -0.251854   \n",
       "176    -1.742235     1.423317     2.043199     0.316622  ...      0.179783   \n",
       "182     1.278686    -0.582580     0.826701     1.463329  ...      0.289638   \n",
       "183    -1.495536    -2.242231    -0.179150     1.523203  ...      0.145506   \n",
       "\n",
       "     shooting_PC2  shooting_PC3  shooting_PC4  play_PC1  play_PC2  play_PC3  \\\n",
       "106     -0.638569     -0.468142     -0.613200  1.430873 -4.841138  2.523892   \n",
       "111      1.714268     -0.727533      0.400297  1.430873 -4.841138  2.523892   \n",
       "176     -2.409938     -0.459422     -1.376177 -3.118672 -1.354087 -4.144766   \n",
       "182      0.053690      0.667508      0.952185  3.494996 -0.769267 -0.329450   \n",
       "183     -0.824176      0.000158      0.174011  3.514870 -0.159638 -1.026048   \n",
       "\n",
       "     play_PC4  passing_PC1  CLUSTER  \n",
       "106  2.160587     0.236386        7  \n",
       "111  2.160587     0.206936        7  \n",
       "176  1.807951    -1.040929        7  \n",
       "182 -1.889697    -0.805321        7  \n",
       "183 -1.075070    -1.422362        7  \n",
       "\n",
       "[5 rows x 23 columns]"
      ],
      "text/html": "<div>\n<style scoped>\n    .dataframe tbody tr th:only-of-type {\n        vertical-align: middle;\n    }\n\n    .dataframe tbody tr th {\n        vertical-align: top;\n    }\n\n    .dataframe thead th {\n        text-align: right;\n    }\n</style>\n<table border=\"1\" class=\"dataframe\">\n  <thead>\n    <tr style=\"text-align: right;\">\n      <th></th>\n      <th>PLAYER</th>\n      <th>TEAM</th>\n      <th>POSITION</th>\n      <th>stats_PC1</th>\n      <th>stats_PC2</th>\n      <th>stats_PC3</th>\n      <th>defense_PC1</th>\n      <th>defense_PC2</th>\n      <th>defense_PC3</th>\n      <th>defense_PC4</th>\n      <th>...</th>\n      <th>shooting_PC1</th>\n      <th>shooting_PC2</th>\n      <th>shooting_PC3</th>\n      <th>shooting_PC4</th>\n      <th>play_PC1</th>\n      <th>play_PC2</th>\n      <th>play_PC3</th>\n      <th>play_PC4</th>\n      <th>passing_PC1</th>\n      <th>CLUSTER</th>\n    </tr>\n  </thead>\n  <tbody>\n    <tr>\n      <th>106</th>\n      <td>Cedi Osman</td>\n      <td>CLE</td>\n      <td>F</td>\n      <td>-1.193286</td>\n      <td>0.083890</td>\n      <td>0.617778</td>\n      <td>-0.438213</td>\n      <td>2.160304</td>\n      <td>-1.081315</td>\n      <td>-0.066369</td>\n      <td>...</td>\n      <td>0.667652</td>\n      <td>-0.638569</td>\n      <td>-0.468142</td>\n      <td>-0.613200</td>\n      <td>1.430873</td>\n      <td>-4.841138</td>\n      <td>2.523892</td>\n      <td>2.160587</td>\n      <td>0.236386</td>\n      <td>7</td>\n    </tr>\n    <tr>\n      <th>111</th>\n      <td>Thaddeus Young</td>\n      <td>IND</td>\n      <td>F</td>\n      <td>1.938150</td>\n      <td>0.110266</td>\n      <td>-0.356884</td>\n      <td>0.902374</td>\n      <td>0.800947</td>\n      <td>-2.248152</td>\n      <td>-1.123468</td>\n      <td>...</td>\n      <td>-0.251854</td>\n      <td>1.714268</td>\n      <td>-0.727533</td>\n      <td>0.400297</td>\n      <td>1.430873</td>\n      <td>-4.841138</td>\n      <td>2.523892</td>\n      <td>2.160587</td>\n      <td>0.206936</td>\n      <td>7</td>\n    </tr>\n    <tr>\n      <th>176</th>\n      <td>Allen Crabbe</td>\n      <td>BKN</td>\n      <td>G-F</td>\n      <td>-2.041914</td>\n      <td>-0.845353</td>\n      <td>-0.761805</td>\n      <td>-1.742235</td>\n      <td>1.423317</td>\n      <td>2.043199</td>\n      <td>0.316622</td>\n      <td>...</td>\n      <td>0.179783</td>\n      <td>-2.409938</td>\n      <td>-0.459422</td>\n      <td>-1.376177</td>\n      <td>-3.118672</td>\n      <td>-1.354087</td>\n      <td>-4.144766</td>\n      <td>1.807951</td>\n      <td>-1.040929</td>\n      <td>7</td>\n    </tr>\n    <tr>\n      <th>182</th>\n      <td>Markieff Morris</td>\n      <td>OKC</td>\n      <td>F</td>\n      <td>-0.583403</td>\n      <td>-0.911277</td>\n      <td>-0.205865</td>\n      <td>1.278686</td>\n      <td>-0.582580</td>\n      <td>0.826701</td>\n      <td>1.463329</td>\n      <td>...</td>\n      <td>0.289638</td>\n      <td>0.053690</td>\n      <td>0.667508</td>\n      <td>0.952185</td>\n      <td>3.494996</td>\n      <td>-0.769267</td>\n      <td>-0.329450</td>\n      <td>-1.889697</td>\n      <td>-0.805321</td>\n      <td>7</td>\n    </tr>\n    <tr>\n      <th>183</th>\n      <td>JaMychal Green</td>\n      <td>LAC</td>\n      <td>F</td>\n      <td>1.726922</td>\n      <td>-1.856610</td>\n      <td>0.272822</td>\n      <td>-1.495536</td>\n      <td>-2.242231</td>\n      <td>-0.179150</td>\n      <td>1.523203</td>\n      <td>...</td>\n      <td>0.145506</td>\n      <td>-0.824176</td>\n      <td>0.000158</td>\n      <td>0.174011</td>\n      <td>3.514870</td>\n      <td>-0.159638</td>\n      <td>-1.026048</td>\n      <td>-1.075070</td>\n      <td>-1.422362</td>\n      <td>7</td>\n    </tr>\n  </tbody>\n</table>\n<p>5 rows × 23 columns</p>\n</div>"
     },
     "metadata": {},
     "execution_count": 10
    }
   ],
   "source": [
    "data[data['CLUSTER'] == 7].head()"
   ]
  },
  {
   "cell_type": "code",
   "execution_count": null,
   "metadata": {},
   "outputs": [],
   "source": []
  }
 ]
}