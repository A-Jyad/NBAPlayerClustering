{
 "metadata": {
  "language_info": {
   "codemirror_mode": {
    "name": "ipython",
    "version": 3
   },
   "file_extension": ".py",
   "mimetype": "text/x-python",
   "name": "python",
   "nbconvert_exporter": "python",
   "pygments_lexer": "ipython3",
   "version": "3.8.5-final"
  },
  "orig_nbformat": 2,
  "kernelspec": {
   "name": "python3",
   "display_name": "Python 3"
  }
 },
 "nbformat": 4,
 "nbformat_minor": 2,
 "cells": [
  {
   "cell_type": "code",
   "execution_count": 40,
   "metadata": {},
   "outputs": [],
   "source": [
    "import pandas as pd\n",
    "from sklearn.preprocessing import MinMaxScaler"
   ]
  },
  {
   "cell_type": "code",
   "execution_count": 41,
   "metadata": {},
   "outputs": [
    {
     "output_type": "stream",
     "name": "stdout",
     "text": [
      "(388, 10)\n"
     ]
    },
    {
     "output_type": "execute_result",
     "data": {
      "text/plain": [
       "                  PLAYER TEAM POSITION  CLUSTER       PC1       PC2       PC3  \\\n",
       "0           James Harden  HOU        G        7 -0.885136  3.422465 -1.621294   \n",
       "1            Paul George  OKC        F        8 -0.890508  2.411931  1.302698   \n",
       "2  Giannis Antetokounmpo  MIL        F        7  0.708961  2.609108 -0.086844   \n",
       "3            Joel Embiid  PHI      F-C        1  1.700382  2.712573  0.671696   \n",
       "4           LeBron James  LAL        F        7 -0.307667  2.364341 -0.870264   \n",
       "\n",
       "        PC4       PC5       PC6  \n",
       "0  0.948575 -1.099479 -2.343132  \n",
       "1 -0.441489 -1.089950 -0.281768  \n",
       "2 -1.719613 -1.099307 -1.959700  \n",
       "3  1.738021 -0.219439  0.719804  \n",
       "4 -0.160012 -0.929572 -2.150918  "
      ],
      "text/html": "<div>\n<style scoped>\n    .dataframe tbody tr th:only-of-type {\n        vertical-align: middle;\n    }\n\n    .dataframe tbody tr th {\n        vertical-align: top;\n    }\n\n    .dataframe thead th {\n        text-align: right;\n    }\n</style>\n<table border=\"1\" class=\"dataframe\">\n  <thead>\n    <tr style=\"text-align: right;\">\n      <th></th>\n      <th>PLAYER</th>\n      <th>TEAM</th>\n      <th>POSITION</th>\n      <th>CLUSTER</th>\n      <th>PC1</th>\n      <th>PC2</th>\n      <th>PC3</th>\n      <th>PC4</th>\n      <th>PC5</th>\n      <th>PC6</th>\n    </tr>\n  </thead>\n  <tbody>\n    <tr>\n      <th>0</th>\n      <td>James Harden</td>\n      <td>HOU</td>\n      <td>G</td>\n      <td>7</td>\n      <td>-0.885136</td>\n      <td>3.422465</td>\n      <td>-1.621294</td>\n      <td>0.948575</td>\n      <td>-1.099479</td>\n      <td>-2.343132</td>\n    </tr>\n    <tr>\n      <th>1</th>\n      <td>Paul George</td>\n      <td>OKC</td>\n      <td>F</td>\n      <td>8</td>\n      <td>-0.890508</td>\n      <td>2.411931</td>\n      <td>1.302698</td>\n      <td>-0.441489</td>\n      <td>-1.089950</td>\n      <td>-0.281768</td>\n    </tr>\n    <tr>\n      <th>2</th>\n      <td>Giannis Antetokounmpo</td>\n      <td>MIL</td>\n      <td>F</td>\n      <td>7</td>\n      <td>0.708961</td>\n      <td>2.609108</td>\n      <td>-0.086844</td>\n      <td>-1.719613</td>\n      <td>-1.099307</td>\n      <td>-1.959700</td>\n    </tr>\n    <tr>\n      <th>3</th>\n      <td>Joel Embiid</td>\n      <td>PHI</td>\n      <td>F-C</td>\n      <td>1</td>\n      <td>1.700382</td>\n      <td>2.712573</td>\n      <td>0.671696</td>\n      <td>1.738021</td>\n      <td>-0.219439</td>\n      <td>0.719804</td>\n    </tr>\n    <tr>\n      <th>4</th>\n      <td>LeBron James</td>\n      <td>LAL</td>\n      <td>F</td>\n      <td>7</td>\n      <td>-0.307667</td>\n      <td>2.364341</td>\n      <td>-0.870264</td>\n      <td>-0.160012</td>\n      <td>-0.929572</td>\n      <td>-2.150918</td>\n    </tr>\n  </tbody>\n</table>\n</div>"
     },
     "metadata": {},
     "execution_count": 41
    }
   ],
   "source": [
    "data = pd.read_csv('Data\\Clustered_data.csv')\n",
    "print(data.shape)\n",
    "data.head()"
   ]
  },
  {
   "source": [
    "We have 7 Clusters"
   ],
   "cell_type": "markdown",
   "metadata": {}
  },
  {
   "cell_type": "code",
   "execution_count": 42,
   "metadata": {},
   "outputs": [
    {
     "output_type": "execute_result",
     "data": {
      "text/plain": [
       "       CLUSTER    PC1    PC2    PC3    PC4    PC5    PC6\n",
       "count    388.0  388.0  388.0  388.0  388.0  388.0  388.0\n",
       "mean       4.6    0.0    0.0    0.0    0.0   -0.0    0.0\n",
       "std        2.1    1.0    1.0    1.0    1.0    1.0    1.0\n",
       "min        1.0   -1.4   -2.0   -2.3   -2.7   -2.7   -2.5\n",
       "25%        3.0   -0.8   -0.8   -0.8   -0.6   -0.7   -0.6\n",
       "50%        5.0   -0.3   -0.1    0.1    0.0   -0.1    0.0\n",
       "75%        6.0    0.6    0.7    0.7    0.6    0.7    0.6\n",
       "max        8.0    3.1    3.4    2.7    3.3    3.8    3.2"
      ],
      "text/html": "<div>\n<style scoped>\n    .dataframe tbody tr th:only-of-type {\n        vertical-align: middle;\n    }\n\n    .dataframe tbody tr th {\n        vertical-align: top;\n    }\n\n    .dataframe thead th {\n        text-align: right;\n    }\n</style>\n<table border=\"1\" class=\"dataframe\">\n  <thead>\n    <tr style=\"text-align: right;\">\n      <th></th>\n      <th>CLUSTER</th>\n      <th>PC1</th>\n      <th>PC2</th>\n      <th>PC3</th>\n      <th>PC4</th>\n      <th>PC5</th>\n      <th>PC6</th>\n    </tr>\n  </thead>\n  <tbody>\n    <tr>\n      <th>count</th>\n      <td>388.0</td>\n      <td>388.0</td>\n      <td>388.0</td>\n      <td>388.0</td>\n      <td>388.0</td>\n      <td>388.0</td>\n      <td>388.0</td>\n    </tr>\n    <tr>\n      <th>mean</th>\n      <td>4.6</td>\n      <td>0.0</td>\n      <td>0.0</td>\n      <td>0.0</td>\n      <td>0.0</td>\n      <td>-0.0</td>\n      <td>0.0</td>\n    </tr>\n    <tr>\n      <th>std</th>\n      <td>2.1</td>\n      <td>1.0</td>\n      <td>1.0</td>\n      <td>1.0</td>\n      <td>1.0</td>\n      <td>1.0</td>\n      <td>1.0</td>\n    </tr>\n    <tr>\n      <th>min</th>\n      <td>1.0</td>\n      <td>-1.4</td>\n      <td>-2.0</td>\n      <td>-2.3</td>\n      <td>-2.7</td>\n      <td>-2.7</td>\n      <td>-2.5</td>\n    </tr>\n    <tr>\n      <th>25%</th>\n      <td>3.0</td>\n      <td>-0.8</td>\n      <td>-0.8</td>\n      <td>-0.8</td>\n      <td>-0.6</td>\n      <td>-0.7</td>\n      <td>-0.6</td>\n    </tr>\n    <tr>\n      <th>50%</th>\n      <td>5.0</td>\n      <td>-0.3</td>\n      <td>-0.1</td>\n      <td>0.1</td>\n      <td>0.0</td>\n      <td>-0.1</td>\n      <td>0.0</td>\n    </tr>\n    <tr>\n      <th>75%</th>\n      <td>6.0</td>\n      <td>0.6</td>\n      <td>0.7</td>\n      <td>0.7</td>\n      <td>0.6</td>\n      <td>0.7</td>\n      <td>0.6</td>\n    </tr>\n    <tr>\n      <th>max</th>\n      <td>8.0</td>\n      <td>3.1</td>\n      <td>3.4</td>\n      <td>2.7</td>\n      <td>3.3</td>\n      <td>3.8</td>\n      <td>3.2</td>\n    </tr>\n  </tbody>\n</table>\n</div>"
     },
     "metadata": {},
     "execution_count": 42
    }
   ],
   "source": [
    "data.describe().round(1)"
   ]
  },
  {
   "cell_type": "code",
   "execution_count": 43,
   "metadata": {},
   "outputs": [
    {
     "output_type": "execute_result",
     "data": {
      "text/plain": [
       "              PC1       PC2       PC3       PC4       PC5       PC6\n",
       "CLUSTER                                                            \n",
       "1        1.433221  0.807738  0.314100  1.694060 -0.028986  0.262235\n",
       "2        1.663214 -0.162279 -0.488651 -0.639146  0.611367 -0.351145\n",
       "3       -0.808923 -0.312480  0.847472  0.064804  1.420500  0.276753\n",
       "4       -0.128419 -0.826776  0.076218 -0.416456 -0.410465 -0.562012\n",
       "5       -0.085692  0.062514  1.076428 -0.090548 -0.506836  0.119043\n",
       "6       -0.471060 -0.819563 -1.350117  0.818689  0.006772  0.499706\n",
       "7       -0.719421  1.742392 -0.761756  0.142731  0.000768 -0.985747\n",
       "8       -0.748950  0.721111 -0.578905 -0.426254 -0.273819  0.752118"
      ],
      "text/html": "<div>\n<style scoped>\n    .dataframe tbody tr th:only-of-type {\n        vertical-align: middle;\n    }\n\n    .dataframe tbody tr th {\n        vertical-align: top;\n    }\n\n    .dataframe thead th {\n        text-align: right;\n    }\n</style>\n<table border=\"1\" class=\"dataframe\">\n  <thead>\n    <tr style=\"text-align: right;\">\n      <th></th>\n      <th>PC1</th>\n      <th>PC2</th>\n      <th>PC3</th>\n      <th>PC4</th>\n      <th>PC5</th>\n      <th>PC6</th>\n    </tr>\n    <tr>\n      <th>CLUSTER</th>\n      <th></th>\n      <th></th>\n      <th></th>\n      <th></th>\n      <th></th>\n      <th></th>\n    </tr>\n  </thead>\n  <tbody>\n    <tr>\n      <th>1</th>\n      <td>1.433221</td>\n      <td>0.807738</td>\n      <td>0.314100</td>\n      <td>1.694060</td>\n      <td>-0.028986</td>\n      <td>0.262235</td>\n    </tr>\n    <tr>\n      <th>2</th>\n      <td>1.663214</td>\n      <td>-0.162279</td>\n      <td>-0.488651</td>\n      <td>-0.639146</td>\n      <td>0.611367</td>\n      <td>-0.351145</td>\n    </tr>\n    <tr>\n      <th>3</th>\n      <td>-0.808923</td>\n      <td>-0.312480</td>\n      <td>0.847472</td>\n      <td>0.064804</td>\n      <td>1.420500</td>\n      <td>0.276753</td>\n    </tr>\n    <tr>\n      <th>4</th>\n      <td>-0.128419</td>\n      <td>-0.826776</td>\n      <td>0.076218</td>\n      <td>-0.416456</td>\n      <td>-0.410465</td>\n      <td>-0.562012</td>\n    </tr>\n    <tr>\n      <th>5</th>\n      <td>-0.085692</td>\n      <td>0.062514</td>\n      <td>1.076428</td>\n      <td>-0.090548</td>\n      <td>-0.506836</td>\n      <td>0.119043</td>\n    </tr>\n    <tr>\n      <th>6</th>\n      <td>-0.471060</td>\n      <td>-0.819563</td>\n      <td>-1.350117</td>\n      <td>0.818689</td>\n      <td>0.006772</td>\n      <td>0.499706</td>\n    </tr>\n    <tr>\n      <th>7</th>\n      <td>-0.719421</td>\n      <td>1.742392</td>\n      <td>-0.761756</td>\n      <td>0.142731</td>\n      <td>0.000768</td>\n      <td>-0.985747</td>\n    </tr>\n    <tr>\n      <th>8</th>\n      <td>-0.748950</td>\n      <td>0.721111</td>\n      <td>-0.578905</td>\n      <td>-0.426254</td>\n      <td>-0.273819</td>\n      <td>0.752118</td>\n    </tr>\n  </tbody>\n</table>\n</div>"
     },
     "metadata": {},
     "execution_count": 43
    }
   ],
   "source": [
    "data.groupby('CLUSTER').mean()"
   ]
  },
  {
   "cell_type": "code",
   "execution_count": 44,
   "metadata": {},
   "outputs": [
    {
     "output_type": "execute_result",
     "data": {
      "text/plain": [
       "        PC1       PC2       PC3       PC4       PC5       PC6\n",
       "0  0.906966  0.636204  0.685838  1.000000  0.247933  0.718112\n",
       "1  1.000000  0.258643  0.355018  0.000000  0.580181  0.365162\n",
       "2  0.000000  0.200180  0.905645  0.301709  1.000000  0.726466\n",
       "3  0.275269  0.000000  0.587805  0.095443  0.050002  0.243825\n",
       "4  0.292553  0.346139  1.000000  0.235126  0.000000  0.635717\n",
       "5  0.136668  0.002808  0.000000  0.624821  0.266486  0.854757\n",
       "6  0.036204  1.000000  0.242469  0.335109  0.263371  0.000000\n",
       "7  0.024260  0.602486  0.317823  0.091244  0.120901  1.000000"
      ],
      "text/html": "<div>\n<style scoped>\n    .dataframe tbody tr th:only-of-type {\n        vertical-align: middle;\n    }\n\n    .dataframe tbody tr th {\n        vertical-align: top;\n    }\n\n    .dataframe thead th {\n        text-align: right;\n    }\n</style>\n<table border=\"1\" class=\"dataframe\">\n  <thead>\n    <tr style=\"text-align: right;\">\n      <th></th>\n      <th>PC1</th>\n      <th>PC2</th>\n      <th>PC3</th>\n      <th>PC4</th>\n      <th>PC5</th>\n      <th>PC6</th>\n    </tr>\n  </thead>\n  <tbody>\n    <tr>\n      <th>0</th>\n      <td>0.906966</td>\n      <td>0.636204</td>\n      <td>0.685838</td>\n      <td>1.000000</td>\n      <td>0.247933</td>\n      <td>0.718112</td>\n    </tr>\n    <tr>\n      <th>1</th>\n      <td>1.000000</td>\n      <td>0.258643</td>\n      <td>0.355018</td>\n      <td>0.000000</td>\n      <td>0.580181</td>\n      <td>0.365162</td>\n    </tr>\n    <tr>\n      <th>2</th>\n      <td>0.000000</td>\n      <td>0.200180</td>\n      <td>0.905645</td>\n      <td>0.301709</td>\n      <td>1.000000</td>\n      <td>0.726466</td>\n    </tr>\n    <tr>\n      <th>3</th>\n      <td>0.275269</td>\n      <td>0.000000</td>\n      <td>0.587805</td>\n      <td>0.095443</td>\n      <td>0.050002</td>\n      <td>0.243825</td>\n    </tr>\n    <tr>\n      <th>4</th>\n      <td>0.292553</td>\n      <td>0.346139</td>\n      <td>1.000000</td>\n      <td>0.235126</td>\n      <td>0.000000</td>\n      <td>0.635717</td>\n    </tr>\n    <tr>\n      <th>5</th>\n      <td>0.136668</td>\n      <td>0.002808</td>\n      <td>0.000000</td>\n      <td>0.624821</td>\n      <td>0.266486</td>\n      <td>0.854757</td>\n    </tr>\n    <tr>\n      <th>6</th>\n      <td>0.036204</td>\n      <td>1.000000</td>\n      <td>0.242469</td>\n      <td>0.335109</td>\n      <td>0.263371</td>\n      <td>0.000000</td>\n    </tr>\n    <tr>\n      <th>7</th>\n      <td>0.024260</td>\n      <td>0.602486</td>\n      <td>0.317823</td>\n      <td>0.091244</td>\n      <td>0.120901</td>\n      <td>1.000000</td>\n    </tr>\n  </tbody>\n</table>\n</div>"
     },
     "metadata": {},
     "execution_count": 44
    }
   ],
   "source": [
    "minmax_scale = MinMaxScaler()\n",
    "data_mean = data.groupby('CLUSTER').mean()\n",
    "minmax_data = minmax_scale.fit_transform(data_mean)\n",
    "minmax_data = pd.DataFrame(minmax_data, columns = data_mean.columns.tolist())\n",
    "minmax_data"
   ]
  },
  {
   "source": [
    "# Analysis of each cluster:\n",
    "### Cluster 1:\n",
    "Cluster 1 seems to have high positive values for stats PC3, defense PC3, hustle PC3, shooting PC2, shooting PC3, play PC1, play PC1, play PC3 and play PC4. It has high negative values for stats PC2, defense PC2, hustle PC1, shooting PC1, shooting PC4 and passing PC1.\n"
   ],
   "cell_type": "markdown",
   "metadata": {}
  },
  {
   "cell_type": "code",
   "execution_count": 45,
   "metadata": {},
   "outputs": [
    {
     "output_type": "execute_result",
     "data": {
      "text/plain": [
       "                PLAYER TEAM POSITION  CLUSTER       PC1       PC2       PC3  \\\n",
       "3          Joel Embiid  PHI      F-C        1  1.700382  2.712573  0.671696   \n",
       "9        Anthony Davis  NOP      F-C        1  1.236315  2.579160  0.733884   \n",
       "14  Karl-Anthony Towns  MIN        C        1  1.744433  2.364006  0.995082   \n",
       "21   LaMarcus Aldridge  SAS      C-F        1  1.960305  2.001107  0.275611   \n",
       "28      Nikola Vucevic  ORL        C        1  2.002284  2.224888  0.547447   \n",
       "\n",
       "         PC4       PC5       PC6  \n",
       "3   1.738021 -0.219439  0.719804  \n",
       "9   1.043634 -0.683206  0.066982  \n",
       "14  2.442603 -0.567570  0.540336  \n",
       "21  3.316683  1.651875  0.320177  \n",
       "28  3.014512  0.638088  0.961189  "
      ],
      "text/html": "<div>\n<style scoped>\n    .dataframe tbody tr th:only-of-type {\n        vertical-align: middle;\n    }\n\n    .dataframe tbody tr th {\n        vertical-align: top;\n    }\n\n    .dataframe thead th {\n        text-align: right;\n    }\n</style>\n<table border=\"1\" class=\"dataframe\">\n  <thead>\n    <tr style=\"text-align: right;\">\n      <th></th>\n      <th>PLAYER</th>\n      <th>TEAM</th>\n      <th>POSITION</th>\n      <th>CLUSTER</th>\n      <th>PC1</th>\n      <th>PC2</th>\n      <th>PC3</th>\n      <th>PC4</th>\n      <th>PC5</th>\n      <th>PC6</th>\n    </tr>\n  </thead>\n  <tbody>\n    <tr>\n      <th>3</th>\n      <td>Joel Embiid</td>\n      <td>PHI</td>\n      <td>F-C</td>\n      <td>1</td>\n      <td>1.700382</td>\n      <td>2.712573</td>\n      <td>0.671696</td>\n      <td>1.738021</td>\n      <td>-0.219439</td>\n      <td>0.719804</td>\n    </tr>\n    <tr>\n      <th>9</th>\n      <td>Anthony Davis</td>\n      <td>NOP</td>\n      <td>F-C</td>\n      <td>1</td>\n      <td>1.236315</td>\n      <td>2.579160</td>\n      <td>0.733884</td>\n      <td>1.043634</td>\n      <td>-0.683206</td>\n      <td>0.066982</td>\n    </tr>\n    <tr>\n      <th>14</th>\n      <td>Karl-Anthony Towns</td>\n      <td>MIN</td>\n      <td>C</td>\n      <td>1</td>\n      <td>1.744433</td>\n      <td>2.364006</td>\n      <td>0.995082</td>\n      <td>2.442603</td>\n      <td>-0.567570</td>\n      <td>0.540336</td>\n    </tr>\n    <tr>\n      <th>21</th>\n      <td>LaMarcus Aldridge</td>\n      <td>SAS</td>\n      <td>C-F</td>\n      <td>1</td>\n      <td>1.960305</td>\n      <td>2.001107</td>\n      <td>0.275611</td>\n      <td>3.316683</td>\n      <td>1.651875</td>\n      <td>0.320177</td>\n    </tr>\n    <tr>\n      <th>28</th>\n      <td>Nikola Vucevic</td>\n      <td>ORL</td>\n      <td>C</td>\n      <td>1</td>\n      <td>2.002284</td>\n      <td>2.224888</td>\n      <td>0.547447</td>\n      <td>3.014512</td>\n      <td>0.638088</td>\n      <td>0.961189</td>\n    </tr>\n  </tbody>\n</table>\n</div>"
     },
     "metadata": {},
     "execution_count": 45
    }
   ],
   "source": [
    "data[data['CLUSTER'] == 1].head()"
   ]
  },
  {
   "source": [
    "We have 7 clusters "
   ],
   "cell_type": "markdown",
   "metadata": {}
  },
  {
   "cell_type": "code",
   "execution_count": 46,
   "metadata": {},
   "outputs": [
    {
     "output_type": "execute_result",
     "data": {
      "text/plain": [
       "              PLAYER TEAM POSITION  CLUSTER       PC1       PC2       PC3  \\\n",
       "50    Andre Drummond  DET        C        2  2.745549  1.589518 -0.270823   \n",
       "58      Clint Capela  HOU        C        2  2.870142  1.152039 -0.419089   \n",
       "59  Montrezl Harrell  LAC      F-C        2  1.987095  1.102524 -0.212176   \n",
       "67       Rudy Gobert  UTA        C        2  3.128527  1.276017 -0.479629   \n",
       "91      Steven Adams  OKC        C        2  2.545855  1.210059 -0.769108   \n",
       "\n",
       "         PC4       PC5       PC6  \n",
       "50 -1.038935 -1.107920  1.089439  \n",
       "58 -2.680947  0.207584  2.139539  \n",
       "59 -0.540231  0.414095  0.263080  \n",
       "67 -2.126986  1.036688  2.105248  \n",
       "91 -1.472477  0.108584  1.917828  "
      ],
      "text/html": "<div>\n<style scoped>\n    .dataframe tbody tr th:only-of-type {\n        vertical-align: middle;\n    }\n\n    .dataframe tbody tr th {\n        vertical-align: top;\n    }\n\n    .dataframe thead th {\n        text-align: right;\n    }\n</style>\n<table border=\"1\" class=\"dataframe\">\n  <thead>\n    <tr style=\"text-align: right;\">\n      <th></th>\n      <th>PLAYER</th>\n      <th>TEAM</th>\n      <th>POSITION</th>\n      <th>CLUSTER</th>\n      <th>PC1</th>\n      <th>PC2</th>\n      <th>PC3</th>\n      <th>PC4</th>\n      <th>PC5</th>\n      <th>PC6</th>\n    </tr>\n  </thead>\n  <tbody>\n    <tr>\n      <th>50</th>\n      <td>Andre Drummond</td>\n      <td>DET</td>\n      <td>C</td>\n      <td>2</td>\n      <td>2.745549</td>\n      <td>1.589518</td>\n      <td>-0.270823</td>\n      <td>-1.038935</td>\n      <td>-1.107920</td>\n      <td>1.089439</td>\n    </tr>\n    <tr>\n      <th>58</th>\n      <td>Clint Capela</td>\n      <td>HOU</td>\n      <td>C</td>\n      <td>2</td>\n      <td>2.870142</td>\n      <td>1.152039</td>\n      <td>-0.419089</td>\n      <td>-2.680947</td>\n      <td>0.207584</td>\n      <td>2.139539</td>\n    </tr>\n    <tr>\n      <th>59</th>\n      <td>Montrezl Harrell</td>\n      <td>LAC</td>\n      <td>F-C</td>\n      <td>2</td>\n      <td>1.987095</td>\n      <td>1.102524</td>\n      <td>-0.212176</td>\n      <td>-0.540231</td>\n      <td>0.414095</td>\n      <td>0.263080</td>\n    </tr>\n    <tr>\n      <th>67</th>\n      <td>Rudy Gobert</td>\n      <td>UTA</td>\n      <td>C</td>\n      <td>2</td>\n      <td>3.128527</td>\n      <td>1.276017</td>\n      <td>-0.479629</td>\n      <td>-2.126986</td>\n      <td>1.036688</td>\n      <td>2.105248</td>\n    </tr>\n    <tr>\n      <th>91</th>\n      <td>Steven Adams</td>\n      <td>OKC</td>\n      <td>C</td>\n      <td>2</td>\n      <td>2.545855</td>\n      <td>1.210059</td>\n      <td>-0.769108</td>\n      <td>-1.472477</td>\n      <td>0.108584</td>\n      <td>1.917828</td>\n    </tr>\n  </tbody>\n</table>\n</div>"
     },
     "metadata": {},
     "execution_count": 46
    }
   ],
   "source": [
    "data[data['CLUSTER'] == 2].head()\n"
   ]
  },
  {
   "cell_type": "code",
   "execution_count": 47,
   "metadata": {},
   "outputs": [
    {
     "output_type": "execute_result",
     "data": {
      "text/plain": [
       "           PLAYER TEAM POSITION  CLUSTER       PC1       PC2       PC3  \\\n",
       "5   Stephen Curry  GSW        G        3 -1.145557  1.970408  1.401391   \n",
       "19  Klay Thompson  GSW        G        3 -0.810046  1.321594  2.678729   \n",
       "27    CJ McCollum  POR        G        3 -1.045642  1.527598  0.348045   \n",
       "46      JJ Redick  PHI        G        3 -1.232500  0.347590  1.856907   \n",
       "78  Evan Fournier  ORL      G-F        3 -0.975394  0.742000  0.194824   \n",
       "\n",
       "         PC4       PC5       PC6  \n",
       "5  -0.259182  1.693296  1.105336  \n",
       "19  0.544248  2.799067 -0.220348  \n",
       "27  0.159412  3.007344  1.167013  \n",
       "46  0.077765  3.835563  1.200237  \n",
       "78 -0.172537  2.039042  1.503322  "
      ],
      "text/html": "<div>\n<style scoped>\n    .dataframe tbody tr th:only-of-type {\n        vertical-align: middle;\n    }\n\n    .dataframe tbody tr th {\n        vertical-align: top;\n    }\n\n    .dataframe thead th {\n        text-align: right;\n    }\n</style>\n<table border=\"1\" class=\"dataframe\">\n  <thead>\n    <tr style=\"text-align: right;\">\n      <th></th>\n      <th>PLAYER</th>\n      <th>TEAM</th>\n      <th>POSITION</th>\n      <th>CLUSTER</th>\n      <th>PC1</th>\n      <th>PC2</th>\n      <th>PC3</th>\n      <th>PC4</th>\n      <th>PC5</th>\n      <th>PC6</th>\n    </tr>\n  </thead>\n  <tbody>\n    <tr>\n      <th>5</th>\n      <td>Stephen Curry</td>\n      <td>GSW</td>\n      <td>G</td>\n      <td>3</td>\n      <td>-1.145557</td>\n      <td>1.970408</td>\n      <td>1.401391</td>\n      <td>-0.259182</td>\n      <td>1.693296</td>\n      <td>1.105336</td>\n    </tr>\n    <tr>\n      <th>19</th>\n      <td>Klay Thompson</td>\n      <td>GSW</td>\n      <td>G</td>\n      <td>3</td>\n      <td>-0.810046</td>\n      <td>1.321594</td>\n      <td>2.678729</td>\n      <td>0.544248</td>\n      <td>2.799067</td>\n      <td>-0.220348</td>\n    </tr>\n    <tr>\n      <th>27</th>\n      <td>CJ McCollum</td>\n      <td>POR</td>\n      <td>G</td>\n      <td>3</td>\n      <td>-1.045642</td>\n      <td>1.527598</td>\n      <td>0.348045</td>\n      <td>0.159412</td>\n      <td>3.007344</td>\n      <td>1.167013</td>\n    </tr>\n    <tr>\n      <th>46</th>\n      <td>JJ Redick</td>\n      <td>PHI</td>\n      <td>G</td>\n      <td>3</td>\n      <td>-1.232500</td>\n      <td>0.347590</td>\n      <td>1.856907</td>\n      <td>0.077765</td>\n      <td>3.835563</td>\n      <td>1.200237</td>\n    </tr>\n    <tr>\n      <th>78</th>\n      <td>Evan Fournier</td>\n      <td>ORL</td>\n      <td>G-F</td>\n      <td>3</td>\n      <td>-0.975394</td>\n      <td>0.742000</td>\n      <td>0.194824</td>\n      <td>-0.172537</td>\n      <td>2.039042</td>\n      <td>1.503322</td>\n    </tr>\n  </tbody>\n</table>\n</div>"
     },
     "metadata": {},
     "execution_count": 47
    }
   ],
   "source": [
    "data[data['CLUSTER'] == 3].head()"
   ]
  },
  {
   "cell_type": "code",
   "execution_count": 48,
   "metadata": {},
   "outputs": [
    {
     "output_type": "execute_result",
     "data": {
      "text/plain": [
       "              PLAYER TEAM POSITION  CLUSTER       PC1       PC2       PC3  \\\n",
       "137  Darren Collison  IND        G        4 -1.215894  0.651650 -0.812430   \n",
       "138      Rodney Hood  POR        G        4 -0.673058 -0.233236 -0.073056   \n",
       "148    Allonzo Trier  NYK        G        4 -0.681839 -0.169964 -0.299102   \n",
       "164     Tyreke Evans  IND        G        4 -0.823107 -0.022912 -0.565930   \n",
       "183   JaMychal Green  LAC        F        4  0.675251 -0.452780  0.822046   \n",
       "\n",
       "          PC4       PC5       PC6  \n",
       "137 -1.068004 -0.632418  0.015298  \n",
       "138  0.985289  0.029186 -0.979038  \n",
       "148  0.053534  0.279132 -1.188147  \n",
       "164  0.151501 -0.421559 -0.742018  \n",
       "183  0.126218 -1.028874 -1.707167  "
      ],
      "text/html": "<div>\n<style scoped>\n    .dataframe tbody tr th:only-of-type {\n        vertical-align: middle;\n    }\n\n    .dataframe tbody tr th {\n        vertical-align: top;\n    }\n\n    .dataframe thead th {\n        text-align: right;\n    }\n</style>\n<table border=\"1\" class=\"dataframe\">\n  <thead>\n    <tr style=\"text-align: right;\">\n      <th></th>\n      <th>PLAYER</th>\n      <th>TEAM</th>\n      <th>POSITION</th>\n      <th>CLUSTER</th>\n      <th>PC1</th>\n      <th>PC2</th>\n      <th>PC3</th>\n      <th>PC4</th>\n      <th>PC5</th>\n      <th>PC6</th>\n    </tr>\n  </thead>\n  <tbody>\n    <tr>\n      <th>137</th>\n      <td>Darren Collison</td>\n      <td>IND</td>\n      <td>G</td>\n      <td>4</td>\n      <td>-1.215894</td>\n      <td>0.651650</td>\n      <td>-0.812430</td>\n      <td>-1.068004</td>\n      <td>-0.632418</td>\n      <td>0.015298</td>\n    </tr>\n    <tr>\n      <th>138</th>\n      <td>Rodney Hood</td>\n      <td>POR</td>\n      <td>G</td>\n      <td>4</td>\n      <td>-0.673058</td>\n      <td>-0.233236</td>\n      <td>-0.073056</td>\n      <td>0.985289</td>\n      <td>0.029186</td>\n      <td>-0.979038</td>\n    </tr>\n    <tr>\n      <th>148</th>\n      <td>Allonzo Trier</td>\n      <td>NYK</td>\n      <td>G</td>\n      <td>4</td>\n      <td>-0.681839</td>\n      <td>-0.169964</td>\n      <td>-0.299102</td>\n      <td>0.053534</td>\n      <td>0.279132</td>\n      <td>-1.188147</td>\n    </tr>\n    <tr>\n      <th>164</th>\n      <td>Tyreke Evans</td>\n      <td>IND</td>\n      <td>G</td>\n      <td>4</td>\n      <td>-0.823107</td>\n      <td>-0.022912</td>\n      <td>-0.565930</td>\n      <td>0.151501</td>\n      <td>-0.421559</td>\n      <td>-0.742018</td>\n    </tr>\n    <tr>\n      <th>183</th>\n      <td>JaMychal Green</td>\n      <td>LAC</td>\n      <td>F</td>\n      <td>4</td>\n      <td>0.675251</td>\n      <td>-0.452780</td>\n      <td>0.822046</td>\n      <td>0.126218</td>\n      <td>-1.028874</td>\n      <td>-1.707167</td>\n    </tr>\n  </tbody>\n</table>\n</div>"
     },
     "metadata": {},
     "execution_count": 48
    }
   ],
   "source": [
    "data[data['CLUSTER'] == 4].head()"
   ]
  },
  {
   "cell_type": "code",
   "execution_count": 49,
   "metadata": {},
   "outputs": [
    {
     "output_type": "execute_result",
     "data": {
      "text/plain": [
       "              PLAYER TEAM POSITION  CLUSTER       PC1       PC2       PC3  \\\n",
       "20     Julius Randle  NOP      C-F        5  0.646432  1.537726  0.700066   \n",
       "30       Buddy Hield  SAC        G        5 -0.861991  1.146348  1.886354   \n",
       "32     Tobias Harris  PHI        F        5 -0.193366  1.449559  1.004438   \n",
       "34  Danilo Gallinari  LAC        F        5 -0.076052  1.130464  1.161193   \n",
       "35      John Collins  ATL      F-C        5  1.563363  1.003331  1.060967   \n",
       "\n",
       "         PC4       PC5       PC6  \n",
       "20  0.495239 -0.962285 -1.036369  \n",
       "30 -0.551442  0.567147  0.187014  \n",
       "32  0.654475  0.427395 -0.550261  \n",
       "34  1.417327  0.490772 -0.135640  \n",
       "35 -0.334233 -0.869182 -1.081470  "
      ],
      "text/html": "<div>\n<style scoped>\n    .dataframe tbody tr th:only-of-type {\n        vertical-align: middle;\n    }\n\n    .dataframe tbody tr th {\n        vertical-align: top;\n    }\n\n    .dataframe thead th {\n        text-align: right;\n    }\n</style>\n<table border=\"1\" class=\"dataframe\">\n  <thead>\n    <tr style=\"text-align: right;\">\n      <th></th>\n      <th>PLAYER</th>\n      <th>TEAM</th>\n      <th>POSITION</th>\n      <th>CLUSTER</th>\n      <th>PC1</th>\n      <th>PC2</th>\n      <th>PC3</th>\n      <th>PC4</th>\n      <th>PC5</th>\n      <th>PC6</th>\n    </tr>\n  </thead>\n  <tbody>\n    <tr>\n      <th>20</th>\n      <td>Julius Randle</td>\n      <td>NOP</td>\n      <td>C-F</td>\n      <td>5</td>\n      <td>0.646432</td>\n      <td>1.537726</td>\n      <td>0.700066</td>\n      <td>0.495239</td>\n      <td>-0.962285</td>\n      <td>-1.036369</td>\n    </tr>\n    <tr>\n      <th>30</th>\n      <td>Buddy Hield</td>\n      <td>SAC</td>\n      <td>G</td>\n      <td>5</td>\n      <td>-0.861991</td>\n      <td>1.146348</td>\n      <td>1.886354</td>\n      <td>-0.551442</td>\n      <td>0.567147</td>\n      <td>0.187014</td>\n    </tr>\n    <tr>\n      <th>32</th>\n      <td>Tobias Harris</td>\n      <td>PHI</td>\n      <td>F</td>\n      <td>5</td>\n      <td>-0.193366</td>\n      <td>1.449559</td>\n      <td>1.004438</td>\n      <td>0.654475</td>\n      <td>0.427395</td>\n      <td>-0.550261</td>\n    </tr>\n    <tr>\n      <th>34</th>\n      <td>Danilo Gallinari</td>\n      <td>LAC</td>\n      <td>F</td>\n      <td>5</td>\n      <td>-0.076052</td>\n      <td>1.130464</td>\n      <td>1.161193</td>\n      <td>1.417327</td>\n      <td>0.490772</td>\n      <td>-0.135640</td>\n    </tr>\n    <tr>\n      <th>35</th>\n      <td>John Collins</td>\n      <td>ATL</td>\n      <td>F-C</td>\n      <td>5</td>\n      <td>1.563363</td>\n      <td>1.003331</td>\n      <td>1.060967</td>\n      <td>-0.334233</td>\n      <td>-0.869182</td>\n      <td>-1.081470</td>\n    </tr>\n  </tbody>\n</table>\n</div>"
     },
     "metadata": {},
     "execution_count": 49
    }
   ],
   "source": [
    "data[data['CLUSTER'] == 5].head()"
   ]
  },
  {
   "cell_type": "code",
   "execution_count": 50,
   "metadata": {},
   "outputs": [
    {
     "output_type": "execute_result",
     "data": {
      "text/plain": [
       "           PLAYER TEAM POSITION  CLUSTER       PC1       PC2       PC3  \\\n",
       "106    Cedi Osman  CLE        F        6 -0.126930 -0.355441 -0.826337   \n",
       "144    J.J. Barea  DAL        G        6 -1.205997  0.285112 -2.213960   \n",
       "168  Kadeem Allen  NYK        G        6 -0.773149 -0.138457 -1.106983   \n",
       "178    Jeremy Lin  TOR        G        6 -0.757983 -0.060321 -1.215518   \n",
       "180   Tony Parker  CHA        G        6 -0.963311 -0.231625 -2.283672   \n",
       "\n",
       "          PC4       PC5       PC6  \n",
       "106  1.538039 -1.002442  2.454074  \n",
       "144  0.828842  1.177516 -0.359608  \n",
       "168  0.168764 -0.813136 -0.309221  \n",
       "178  0.014851 -0.135098  0.323270  \n",
       "180  0.652831  1.498004 -1.414960  "
      ],
      "text/html": "<div>\n<style scoped>\n    .dataframe tbody tr th:only-of-type {\n        vertical-align: middle;\n    }\n\n    .dataframe tbody tr th {\n        vertical-align: top;\n    }\n\n    .dataframe thead th {\n        text-align: right;\n    }\n</style>\n<table border=\"1\" class=\"dataframe\">\n  <thead>\n    <tr style=\"text-align: right;\">\n      <th></th>\n      <th>PLAYER</th>\n      <th>TEAM</th>\n      <th>POSITION</th>\n      <th>CLUSTER</th>\n      <th>PC1</th>\n      <th>PC2</th>\n      <th>PC3</th>\n      <th>PC4</th>\n      <th>PC5</th>\n      <th>PC6</th>\n    </tr>\n  </thead>\n  <tbody>\n    <tr>\n      <th>106</th>\n      <td>Cedi Osman</td>\n      <td>CLE</td>\n      <td>F</td>\n      <td>6</td>\n      <td>-0.126930</td>\n      <td>-0.355441</td>\n      <td>-0.826337</td>\n      <td>1.538039</td>\n      <td>-1.002442</td>\n      <td>2.454074</td>\n    </tr>\n    <tr>\n      <th>144</th>\n      <td>J.J. Barea</td>\n      <td>DAL</td>\n      <td>G</td>\n      <td>6</td>\n      <td>-1.205997</td>\n      <td>0.285112</td>\n      <td>-2.213960</td>\n      <td>0.828842</td>\n      <td>1.177516</td>\n      <td>-0.359608</td>\n    </tr>\n    <tr>\n      <th>168</th>\n      <td>Kadeem Allen</td>\n      <td>NYK</td>\n      <td>G</td>\n      <td>6</td>\n      <td>-0.773149</td>\n      <td>-0.138457</td>\n      <td>-1.106983</td>\n      <td>0.168764</td>\n      <td>-0.813136</td>\n      <td>-0.309221</td>\n    </tr>\n    <tr>\n      <th>178</th>\n      <td>Jeremy Lin</td>\n      <td>TOR</td>\n      <td>G</td>\n      <td>6</td>\n      <td>-0.757983</td>\n      <td>-0.060321</td>\n      <td>-1.215518</td>\n      <td>0.014851</td>\n      <td>-0.135098</td>\n      <td>0.323270</td>\n    </tr>\n    <tr>\n      <th>180</th>\n      <td>Tony Parker</td>\n      <td>CHA</td>\n      <td>G</td>\n      <td>6</td>\n      <td>-0.963311</td>\n      <td>-0.231625</td>\n      <td>-2.283672</td>\n      <td>0.652831</td>\n      <td>1.498004</td>\n      <td>-1.414960</td>\n    </tr>\n  </tbody>\n</table>\n</div>"
     },
     "metadata": {},
     "execution_count": 50
    }
   ],
   "source": [
    "data[data['CLUSTER'] == 6].head()"
   ]
  },
  {
   "cell_type": "code",
   "execution_count": 51,
   "metadata": {},
   "outputs": [
    {
     "output_type": "execute_result",
     "data": {
      "text/plain": [
       "                  PLAYER TEAM POSITION  CLUSTER       PC1       PC2       PC3  \\\n",
       "0           James Harden  HOU        G        7 -0.885136  3.422465 -1.621294   \n",
       "2  Giannis Antetokounmpo  MIL        F        7  0.708961  2.609108 -0.086844   \n",
       "4           LeBron James  LAL        F        7 -0.307667  2.364341 -0.870264   \n",
       "6          Kawhi Leonard  TOR        F        7 -0.680197  2.279996  0.241009   \n",
       "7           Devin Booker  PHX        G        7 -0.947699  2.022397 -0.645411   \n",
       "\n",
       "        PC4       PC5       PC6  \n",
       "0  0.948575 -1.099479 -2.343132  \n",
       "2 -1.719613 -1.099307 -1.959700  \n",
       "4 -0.160012 -0.929572 -2.150918  \n",
       "6  0.318551 -0.273696 -1.728965  \n",
       "7  0.944556  0.899081 -1.629313  "
      ],
      "text/html": "<div>\n<style scoped>\n    .dataframe tbody tr th:only-of-type {\n        vertical-align: middle;\n    }\n\n    .dataframe tbody tr th {\n        vertical-align: top;\n    }\n\n    .dataframe thead th {\n        text-align: right;\n    }\n</style>\n<table border=\"1\" class=\"dataframe\">\n  <thead>\n    <tr style=\"text-align: right;\">\n      <th></th>\n      <th>PLAYER</th>\n      <th>TEAM</th>\n      <th>POSITION</th>\n      <th>CLUSTER</th>\n      <th>PC1</th>\n      <th>PC2</th>\n      <th>PC3</th>\n      <th>PC4</th>\n      <th>PC5</th>\n      <th>PC6</th>\n    </tr>\n  </thead>\n  <tbody>\n    <tr>\n      <th>0</th>\n      <td>James Harden</td>\n      <td>HOU</td>\n      <td>G</td>\n      <td>7</td>\n      <td>-0.885136</td>\n      <td>3.422465</td>\n      <td>-1.621294</td>\n      <td>0.948575</td>\n      <td>-1.099479</td>\n      <td>-2.343132</td>\n    </tr>\n    <tr>\n      <th>2</th>\n      <td>Giannis Antetokounmpo</td>\n      <td>MIL</td>\n      <td>F</td>\n      <td>7</td>\n      <td>0.708961</td>\n      <td>2.609108</td>\n      <td>-0.086844</td>\n      <td>-1.719613</td>\n      <td>-1.099307</td>\n      <td>-1.959700</td>\n    </tr>\n    <tr>\n      <th>4</th>\n      <td>LeBron James</td>\n      <td>LAL</td>\n      <td>F</td>\n      <td>7</td>\n      <td>-0.307667</td>\n      <td>2.364341</td>\n      <td>-0.870264</td>\n      <td>-0.160012</td>\n      <td>-0.929572</td>\n      <td>-2.150918</td>\n    </tr>\n    <tr>\n      <th>6</th>\n      <td>Kawhi Leonard</td>\n      <td>TOR</td>\n      <td>F</td>\n      <td>7</td>\n      <td>-0.680197</td>\n      <td>2.279996</td>\n      <td>0.241009</td>\n      <td>0.318551</td>\n      <td>-0.273696</td>\n      <td>-1.728965</td>\n    </tr>\n    <tr>\n      <th>7</th>\n      <td>Devin Booker</td>\n      <td>PHX</td>\n      <td>G</td>\n      <td>7</td>\n      <td>-0.947699</td>\n      <td>2.022397</td>\n      <td>-0.645411</td>\n      <td>0.944556</td>\n      <td>0.899081</td>\n      <td>-1.629313</td>\n    </tr>\n  </tbody>\n</table>\n</div>"
     },
     "metadata": {},
     "execution_count": 51
    }
   ],
   "source": [
    "data[data['CLUSTER'] == 7].head()"
   ]
  },
  {
   "cell_type": "code",
   "execution_count": 52,
   "metadata": {},
   "outputs": [
    {
     "output_type": "execute_result",
     "data": {
      "text/plain": [
       "          PLAYER TEAM POSITION  CLUSTER       PC1       PC2       PC3  \\\n",
       "1    Paul George  OKC        F        8 -0.890508  2.411931  1.302698   \n",
       "11  Kemba Walker  CHA        G        8 -1.395522  2.077465 -0.386905   \n",
       "12  Bradley Beal  WAS        G        8 -0.980142  2.206646  0.681754   \n",
       "24  Jrue Holiday  NOP        G        8 -0.871544  2.183834 -0.606214   \n",
       "26   Mike Conley  MEM        G        8 -1.279614  1.784155 -0.598633   \n",
       "\n",
       "         PC4       PC5       PC6  \n",
       "1  -0.441489 -1.089950 -0.281768  \n",
       "11  0.227227  0.155480  0.951971  \n",
       "12 -0.872895 -0.147017  0.068251  \n",
       "24 -1.236335 -0.785346  0.145187  \n",
       "26  0.057251  0.547628  0.915755  "
      ],
      "text/html": "<div>\n<style scoped>\n    .dataframe tbody tr th:only-of-type {\n        vertical-align: middle;\n    }\n\n    .dataframe tbody tr th {\n        vertical-align: top;\n    }\n\n    .dataframe thead th {\n        text-align: right;\n    }\n</style>\n<table border=\"1\" class=\"dataframe\">\n  <thead>\n    <tr style=\"text-align: right;\">\n      <th></th>\n      <th>PLAYER</th>\n      <th>TEAM</th>\n      <th>POSITION</th>\n      <th>CLUSTER</th>\n      <th>PC1</th>\n      <th>PC2</th>\n      <th>PC3</th>\n      <th>PC4</th>\n      <th>PC5</th>\n      <th>PC6</th>\n    </tr>\n  </thead>\n  <tbody>\n    <tr>\n      <th>1</th>\n      <td>Paul George</td>\n      <td>OKC</td>\n      <td>F</td>\n      <td>8</td>\n      <td>-0.890508</td>\n      <td>2.411931</td>\n      <td>1.302698</td>\n      <td>-0.441489</td>\n      <td>-1.089950</td>\n      <td>-0.281768</td>\n    </tr>\n    <tr>\n      <th>11</th>\n      <td>Kemba Walker</td>\n      <td>CHA</td>\n      <td>G</td>\n      <td>8</td>\n      <td>-1.395522</td>\n      <td>2.077465</td>\n      <td>-0.386905</td>\n      <td>0.227227</td>\n      <td>0.155480</td>\n      <td>0.951971</td>\n    </tr>\n    <tr>\n      <th>12</th>\n      <td>Bradley Beal</td>\n      <td>WAS</td>\n      <td>G</td>\n      <td>8</td>\n      <td>-0.980142</td>\n      <td>2.206646</td>\n      <td>0.681754</td>\n      <td>-0.872895</td>\n      <td>-0.147017</td>\n      <td>0.068251</td>\n    </tr>\n    <tr>\n      <th>24</th>\n      <td>Jrue Holiday</td>\n      <td>NOP</td>\n      <td>G</td>\n      <td>8</td>\n      <td>-0.871544</td>\n      <td>2.183834</td>\n      <td>-0.606214</td>\n      <td>-1.236335</td>\n      <td>-0.785346</td>\n      <td>0.145187</td>\n    </tr>\n    <tr>\n      <th>26</th>\n      <td>Mike Conley</td>\n      <td>MEM</td>\n      <td>G</td>\n      <td>8</td>\n      <td>-1.279614</td>\n      <td>1.784155</td>\n      <td>-0.598633</td>\n      <td>0.057251</td>\n      <td>0.547628</td>\n      <td>0.915755</td>\n    </tr>\n  </tbody>\n</table>\n</div>"
     },
     "metadata": {},
     "execution_count": 52
    }
   ],
   "source": [
    "data[data['CLUSTER'] == 8].head()"
   ]
  },
  {
   "cell_type": "code",
   "execution_count": 59,
   "metadata": {},
   "outputs": [],
   "source": [
    "stats = pd.read_csv('Data/Regular-Advanced.csv')\n",
    "stats = stats.merge(data[['PLAYER', 'TEAM', 'POSITION', 'CLUSTER']])\n",
    "stats = stats[['PLAYER', 'TEAM', 'POSITION', 'PTS', 'FG%', '3P%', 'OREB', 'DREB', 'AST', 'STL', 'BLK', 'CLUSTER']]\n",
    "\n",
    "defense = pd.read_csv('Data/Defensive.csv')\n",
    "defense = defense.merge(data[['PLAYER', 'TEAM', 'POSITION', 'CLUSTER']])\n",
    "defense = defense[['PLAYER', 'TEAM', 'POSITION', '<6_DFGM', '6-9_DFGM', '10-15_DFGM', '16-3PT_DFGM', '3PT_DFGM', 'CLUSTER']]\n",
    "\n",
    "shooting = pd.read_csv('Data/Shooting.csv')\n",
    "shooting = shooting.merge(data[['PLAYER', 'TEAM', 'POSITION', 'CLUSTER']])\n",
    "shooting = shooting[['PLAYER', 'TEAM', 'POSITION', 'FGM_<5', 'FGM_5-9', 'FGM_10-14', 'FGM_15-19', 'FGM_20-24', 'FGM_25-29', 'CLUSTER']] \n",
    "\n",
    "play_type = pd.read_csv('Data/Play Type.csv')\n",
    "play_type = play_type.merge(data[['PLAYER', 'TEAM', 'POSITION', 'CLUSTER']])\n",
    "play_type = play_type[['PLAYER', 'TEAM', 'POSITION', 'ISOLATION_FREQ', 'PNR_HANDLER_FREQ', 'PNR_ROLL_FREQ', 'TRANSITION_FREQ',\n",
    "                       'POST_UP_FREQ', 'SPOT_UP_FREQ', 'HANDOFF_FREQ', 'CUT_FREQ', 'OFF_SCREEN_FREQ', 'PUTBACK_FREQ', 'CLUSTER']]\n"
   ]
  },
  {
   "cell_type": "code",
   "execution_count": 62,
   "metadata": {},
   "outputs": [
    {
     "output_type": "execute_result",
     "data": {
      "text/plain": [
       "               PTS        FG%        3P%      OREB      DREB       AST  \\\n",
       "CLUSTER                                                                  \n",
       "1        14.476667  49.416667  30.583333  2.150000  6.173333  2.263333   \n",
       "2         8.312245  56.606122  14.587755  2.012245  4.048980  1.277551   \n",
       "3        10.115789  42.678947  37.413158  0.376316  2.065789  1.765789   \n",
       "4         6.164865  43.931081  33.094595  0.675676  2.277027  1.352703   \n",
       "5        11.623377  43.674026  35.775325  0.937662  3.707792  1.667532   \n",
       "6         6.209756  39.658537  30.787805  0.441463  1.907317  2.439024   \n",
       "7        21.575000  46.453571  32.753571  0.921429  4.685714  5.975000   \n",
       "8        13.084314  43.872549  34.776471  0.733333  3.301961  4.545098   \n",
       "\n",
       "              STL       BLK  \n",
       "CLUSTER                      \n",
       "1        0.680000  0.986667  \n",
       "2        0.561224  0.824490  \n",
       "3        0.555263  0.184211  \n",
       "4        0.632432  0.317568  \n",
       "5        0.793506  0.525974  \n",
       "6        0.507317  0.212195  \n",
       "7        1.164286  0.475000  \n",
       "8        1.098039  0.382353  "
      ],
      "text/html": "<div>\n<style scoped>\n    .dataframe tbody tr th:only-of-type {\n        vertical-align: middle;\n    }\n\n    .dataframe tbody tr th {\n        vertical-align: top;\n    }\n\n    .dataframe thead th {\n        text-align: right;\n    }\n</style>\n<table border=\"1\" class=\"dataframe\">\n  <thead>\n    <tr style=\"text-align: right;\">\n      <th></th>\n      <th>PTS</th>\n      <th>FG%</th>\n      <th>3P%</th>\n      <th>OREB</th>\n      <th>DREB</th>\n      <th>AST</th>\n      <th>STL</th>\n      <th>BLK</th>\n    </tr>\n    <tr>\n      <th>CLUSTER</th>\n      <th></th>\n      <th></th>\n      <th></th>\n      <th></th>\n      <th></th>\n      <th></th>\n      <th></th>\n      <th></th>\n    </tr>\n  </thead>\n  <tbody>\n    <tr>\n      <th>1</th>\n      <td>14.476667</td>\n      <td>49.416667</td>\n      <td>30.583333</td>\n      <td>2.150000</td>\n      <td>6.173333</td>\n      <td>2.263333</td>\n      <td>0.680000</td>\n      <td>0.986667</td>\n    </tr>\n    <tr>\n      <th>2</th>\n      <td>8.312245</td>\n      <td>56.606122</td>\n      <td>14.587755</td>\n      <td>2.012245</td>\n      <td>4.048980</td>\n      <td>1.277551</td>\n      <td>0.561224</td>\n      <td>0.824490</td>\n    </tr>\n    <tr>\n      <th>3</th>\n      <td>10.115789</td>\n      <td>42.678947</td>\n      <td>37.413158</td>\n      <td>0.376316</td>\n      <td>2.065789</td>\n      <td>1.765789</td>\n      <td>0.555263</td>\n      <td>0.184211</td>\n    </tr>\n    <tr>\n      <th>4</th>\n      <td>6.164865</td>\n      <td>43.931081</td>\n      <td>33.094595</td>\n      <td>0.675676</td>\n      <td>2.277027</td>\n      <td>1.352703</td>\n      <td>0.632432</td>\n      <td>0.317568</td>\n    </tr>\n    <tr>\n      <th>5</th>\n      <td>11.623377</td>\n      <td>43.674026</td>\n      <td>35.775325</td>\n      <td>0.937662</td>\n      <td>3.707792</td>\n      <td>1.667532</td>\n      <td>0.793506</td>\n      <td>0.525974</td>\n    </tr>\n    <tr>\n      <th>6</th>\n      <td>6.209756</td>\n      <td>39.658537</td>\n      <td>30.787805</td>\n      <td>0.441463</td>\n      <td>1.907317</td>\n      <td>2.439024</td>\n      <td>0.507317</td>\n      <td>0.212195</td>\n    </tr>\n    <tr>\n      <th>7</th>\n      <td>21.575000</td>\n      <td>46.453571</td>\n      <td>32.753571</td>\n      <td>0.921429</td>\n      <td>4.685714</td>\n      <td>5.975000</td>\n      <td>1.164286</td>\n      <td>0.475000</td>\n    </tr>\n    <tr>\n      <th>8</th>\n      <td>13.084314</td>\n      <td>43.872549</td>\n      <td>34.776471</td>\n      <td>0.733333</td>\n      <td>3.301961</td>\n      <td>4.545098</td>\n      <td>1.098039</td>\n      <td>0.382353</td>\n    </tr>\n  </tbody>\n</table>\n</div>"
     },
     "metadata": {},
     "execution_count": 62
    }
   ],
   "source": [
    "stats.groupby('CLUSTER').mean()"
   ]
  },
  {
   "cell_type": "code",
   "execution_count": 63,
   "metadata": {},
   "outputs": [
    {
     "output_type": "execute_result",
     "data": {
      "text/plain": [
       "          <6_DFGM  6-9_DFGM  10-15_DFGM  16-3PT_DFGM  3PT_DFGM\n",
       "CLUSTER                                                       \n",
       "1        3.173333  0.686667    0.370000     0.530000  0.963333\n",
       "2        2.446939  0.500000    0.287755     0.444898  0.759184\n",
       "3        1.218421  0.339474    0.268421     0.392105  1.071053\n",
       "4        1.251351  0.275676    0.194595     0.271622  0.908108\n",
       "5        2.019481  0.433766    0.253247     0.424675  1.358442\n",
       "6        1.095122  0.304878    0.248780     0.358537  0.836585\n",
       "7        1.746429  0.375000    0.307143     0.446429  1.539286\n",
       "8        1.717647  0.425490    0.378431     0.550980  1.507843"
      ],
      "text/html": "<div>\n<style scoped>\n    .dataframe tbody tr th:only-of-type {\n        vertical-align: middle;\n    }\n\n    .dataframe tbody tr th {\n        vertical-align: top;\n    }\n\n    .dataframe thead th {\n        text-align: right;\n    }\n</style>\n<table border=\"1\" class=\"dataframe\">\n  <thead>\n    <tr style=\"text-align: right;\">\n      <th></th>\n      <th>&lt;6_DFGM</th>\n      <th>6-9_DFGM</th>\n      <th>10-15_DFGM</th>\n      <th>16-3PT_DFGM</th>\n      <th>3PT_DFGM</th>\n    </tr>\n    <tr>\n      <th>CLUSTER</th>\n      <th></th>\n      <th></th>\n      <th></th>\n      <th></th>\n      <th></th>\n    </tr>\n  </thead>\n  <tbody>\n    <tr>\n      <th>1</th>\n      <td>3.173333</td>\n      <td>0.686667</td>\n      <td>0.370000</td>\n      <td>0.530000</td>\n      <td>0.963333</td>\n    </tr>\n    <tr>\n      <th>2</th>\n      <td>2.446939</td>\n      <td>0.500000</td>\n      <td>0.287755</td>\n      <td>0.444898</td>\n      <td>0.759184</td>\n    </tr>\n    <tr>\n      <th>3</th>\n      <td>1.218421</td>\n      <td>0.339474</td>\n      <td>0.268421</td>\n      <td>0.392105</td>\n      <td>1.071053</td>\n    </tr>\n    <tr>\n      <th>4</th>\n      <td>1.251351</td>\n      <td>0.275676</td>\n      <td>0.194595</td>\n      <td>0.271622</td>\n      <td>0.908108</td>\n    </tr>\n    <tr>\n      <th>5</th>\n      <td>2.019481</td>\n      <td>0.433766</td>\n      <td>0.253247</td>\n      <td>0.424675</td>\n      <td>1.358442</td>\n    </tr>\n    <tr>\n      <th>6</th>\n      <td>1.095122</td>\n      <td>0.304878</td>\n      <td>0.248780</td>\n      <td>0.358537</td>\n      <td>0.836585</td>\n    </tr>\n    <tr>\n      <th>7</th>\n      <td>1.746429</td>\n      <td>0.375000</td>\n      <td>0.307143</td>\n      <td>0.446429</td>\n      <td>1.539286</td>\n    </tr>\n    <tr>\n      <th>8</th>\n      <td>1.717647</td>\n      <td>0.425490</td>\n      <td>0.378431</td>\n      <td>0.550980</td>\n      <td>1.507843</td>\n    </tr>\n  </tbody>\n</table>\n</div>"
     },
     "metadata": {},
     "execution_count": 63
    }
   ],
   "source": [
    "defense.groupby('CLUSTER').mean()"
   ]
  },
  {
   "cell_type": "code",
   "execution_count": 64,
   "metadata": {},
   "outputs": [
    {
     "output_type": "execute_result",
     "data": {
      "text/plain": [
       "           FGM_<5   FGM_5-9  FGM_10-14  FGM_15-19  FGM_20-24  FGM_25-29\n",
       "CLUSTER                                                                \n",
       "1        2.980000  0.770000   0.443333   0.406667   0.343333   0.610000\n",
       "2        2.632653  0.283673   0.130612   0.093878   0.085714   0.085714\n",
       "3        0.968421  0.215789   0.231579   0.368421   0.828947   1.052632\n",
       "4        1.171622  0.150000   0.114865   0.117568   0.398649   0.367568\n",
       "5        1.774026  0.296104   0.253247   0.241558   0.753247   0.874026\n",
       "6        0.904878  0.204878   0.187805   0.204878   0.348780   0.441463\n",
       "7        3.407143  0.703571   0.864286   0.764286   0.703571   1.260714\n",
       "8        2.035294  0.413725   0.407843   0.392157   0.627451   0.919608"
      ],
      "text/html": "<div>\n<style scoped>\n    .dataframe tbody tr th:only-of-type {\n        vertical-align: middle;\n    }\n\n    .dataframe tbody tr th {\n        vertical-align: top;\n    }\n\n    .dataframe thead th {\n        text-align: right;\n    }\n</style>\n<table border=\"1\" class=\"dataframe\">\n  <thead>\n    <tr style=\"text-align: right;\">\n      <th></th>\n      <th>FGM_&lt;5</th>\n      <th>FGM_5-9</th>\n      <th>FGM_10-14</th>\n      <th>FGM_15-19</th>\n      <th>FGM_20-24</th>\n      <th>FGM_25-29</th>\n    </tr>\n    <tr>\n      <th>CLUSTER</th>\n      <th></th>\n      <th></th>\n      <th></th>\n      <th></th>\n      <th></th>\n      <th></th>\n    </tr>\n  </thead>\n  <tbody>\n    <tr>\n      <th>1</th>\n      <td>2.980000</td>\n      <td>0.770000</td>\n      <td>0.443333</td>\n      <td>0.406667</td>\n      <td>0.343333</td>\n      <td>0.610000</td>\n    </tr>\n    <tr>\n      <th>2</th>\n      <td>2.632653</td>\n      <td>0.283673</td>\n      <td>0.130612</td>\n      <td>0.093878</td>\n      <td>0.085714</td>\n      <td>0.085714</td>\n    </tr>\n    <tr>\n      <th>3</th>\n      <td>0.968421</td>\n      <td>0.215789</td>\n      <td>0.231579</td>\n      <td>0.368421</td>\n      <td>0.828947</td>\n      <td>1.052632</td>\n    </tr>\n    <tr>\n      <th>4</th>\n      <td>1.171622</td>\n      <td>0.150000</td>\n      <td>0.114865</td>\n      <td>0.117568</td>\n      <td>0.398649</td>\n      <td>0.367568</td>\n    </tr>\n    <tr>\n      <th>5</th>\n      <td>1.774026</td>\n      <td>0.296104</td>\n      <td>0.253247</td>\n      <td>0.241558</td>\n      <td>0.753247</td>\n      <td>0.874026</td>\n    </tr>\n    <tr>\n      <th>6</th>\n      <td>0.904878</td>\n      <td>0.204878</td>\n      <td>0.187805</td>\n      <td>0.204878</td>\n      <td>0.348780</td>\n      <td>0.441463</td>\n    </tr>\n    <tr>\n      <th>7</th>\n      <td>3.407143</td>\n      <td>0.703571</td>\n      <td>0.864286</td>\n      <td>0.764286</td>\n      <td>0.703571</td>\n      <td>1.260714</td>\n    </tr>\n    <tr>\n      <th>8</th>\n      <td>2.035294</td>\n      <td>0.413725</td>\n      <td>0.407843</td>\n      <td>0.392157</td>\n      <td>0.627451</td>\n      <td>0.919608</td>\n    </tr>\n  </tbody>\n</table>\n</div>"
     },
     "metadata": {},
     "execution_count": 64
    }
   ],
   "source": [
    "shooting.groupby('CLUSTER').mean()"
   ]
  },
  {
   "cell_type": "code",
   "execution_count": 65,
   "metadata": {},
   "outputs": [
    {
     "output_type": "execute_result",
     "data": {
      "text/plain": [
       "         ISOLATION_FREQ  PNR_HANDLER_FREQ  PNR_ROLL_FREQ  TRANSITION_FREQ  \\\n",
       "CLUSTER                                                                     \n",
       "1              0.031467          0.004833       0.191700         0.079733   \n",
       "2              0.018061          0.003980       0.216163         0.095388   \n",
       "3              0.027184          0.149053       0.003368         0.157289   \n",
       "4              0.028703          0.112581       0.026014         0.185554   \n",
       "5              0.038922          0.077857       0.052104         0.181870   \n",
       "6              0.046000          0.250317       0.010317         0.103146   \n",
       "7              0.145393          0.320750       0.007214         0.168214   \n",
       "8              0.069020          0.311275       0.004647         0.171118   \n",
       "\n",
       "         POST_UP_FREQ  SPOT_UP_FREQ  HANDOFF_FREQ  CUT_FREQ  OFF_SCREEN_FREQ  \\\n",
       "CLUSTER                                                                        \n",
       "1            0.199600      0.163533      0.003833  0.105733         0.015933   \n",
       "2            0.082714      0.087122      0.000592  0.212020         0.002837   \n",
       "3            0.004474      0.273132      0.120737  0.037947         0.137921   \n",
       "4            0.013527      0.321135      0.030054  0.078500         0.018716   \n",
       "5            0.044558      0.316481      0.042519  0.059182         0.058558   \n",
       "6            0.000000      0.160634      0.034951  0.007415         0.003341   \n",
       "7            0.055679      0.098071      0.053571  0.033107         0.042429   \n",
       "8            0.015706      0.193275      0.063216  0.031549         0.031980   \n",
       "\n",
       "         PUTBACK_FREQ  \n",
       "CLUSTER                \n",
       "1            0.050500  \n",
       "2            0.101755  \n",
       "3            0.006500  \n",
       "4            0.024486  \n",
       "5            0.024429  \n",
       "6            0.004634  \n",
       "7            0.014750  \n",
       "8            0.005608  "
      ],
      "text/html": "<div>\n<style scoped>\n    .dataframe tbody tr th:only-of-type {\n        vertical-align: middle;\n    }\n\n    .dataframe tbody tr th {\n        vertical-align: top;\n    }\n\n    .dataframe thead th {\n        text-align: right;\n    }\n</style>\n<table border=\"1\" class=\"dataframe\">\n  <thead>\n    <tr style=\"text-align: right;\">\n      <th></th>\n      <th>ISOLATION_FREQ</th>\n      <th>PNR_HANDLER_FREQ</th>\n      <th>PNR_ROLL_FREQ</th>\n      <th>TRANSITION_FREQ</th>\n      <th>POST_UP_FREQ</th>\n      <th>SPOT_UP_FREQ</th>\n      <th>HANDOFF_FREQ</th>\n      <th>CUT_FREQ</th>\n      <th>OFF_SCREEN_FREQ</th>\n      <th>PUTBACK_FREQ</th>\n    </tr>\n    <tr>\n      <th>CLUSTER</th>\n      <th></th>\n      <th></th>\n      <th></th>\n      <th></th>\n      <th></th>\n      <th></th>\n      <th></th>\n      <th></th>\n      <th></th>\n      <th></th>\n    </tr>\n  </thead>\n  <tbody>\n    <tr>\n      <th>1</th>\n      <td>0.031467</td>\n      <td>0.004833</td>\n      <td>0.191700</td>\n      <td>0.079733</td>\n      <td>0.199600</td>\n      <td>0.163533</td>\n      <td>0.003833</td>\n      <td>0.105733</td>\n      <td>0.015933</td>\n      <td>0.050500</td>\n    </tr>\n    <tr>\n      <th>2</th>\n      <td>0.018061</td>\n      <td>0.003980</td>\n      <td>0.216163</td>\n      <td>0.095388</td>\n      <td>0.082714</td>\n      <td>0.087122</td>\n      <td>0.000592</td>\n      <td>0.212020</td>\n      <td>0.002837</td>\n      <td>0.101755</td>\n    </tr>\n    <tr>\n      <th>3</th>\n      <td>0.027184</td>\n      <td>0.149053</td>\n      <td>0.003368</td>\n      <td>0.157289</td>\n      <td>0.004474</td>\n      <td>0.273132</td>\n      <td>0.120737</td>\n      <td>0.037947</td>\n      <td>0.137921</td>\n      <td>0.006500</td>\n    </tr>\n    <tr>\n      <th>4</th>\n      <td>0.028703</td>\n      <td>0.112581</td>\n      <td>0.026014</td>\n      <td>0.185554</td>\n      <td>0.013527</td>\n      <td>0.321135</td>\n      <td>0.030054</td>\n      <td>0.078500</td>\n      <td>0.018716</td>\n      <td>0.024486</td>\n    </tr>\n    <tr>\n      <th>5</th>\n      <td>0.038922</td>\n      <td>0.077857</td>\n      <td>0.052104</td>\n      <td>0.181870</td>\n      <td>0.044558</td>\n      <td>0.316481</td>\n      <td>0.042519</td>\n      <td>0.059182</td>\n      <td>0.058558</td>\n      <td>0.024429</td>\n    </tr>\n    <tr>\n      <th>6</th>\n      <td>0.046000</td>\n      <td>0.250317</td>\n      <td>0.010317</td>\n      <td>0.103146</td>\n      <td>0.000000</td>\n      <td>0.160634</td>\n      <td>0.034951</td>\n      <td>0.007415</td>\n      <td>0.003341</td>\n      <td>0.004634</td>\n    </tr>\n    <tr>\n      <th>7</th>\n      <td>0.145393</td>\n      <td>0.320750</td>\n      <td>0.007214</td>\n      <td>0.168214</td>\n      <td>0.055679</td>\n      <td>0.098071</td>\n      <td>0.053571</td>\n      <td>0.033107</td>\n      <td>0.042429</td>\n      <td>0.014750</td>\n    </tr>\n    <tr>\n      <th>8</th>\n      <td>0.069020</td>\n      <td>0.311275</td>\n      <td>0.004647</td>\n      <td>0.171118</td>\n      <td>0.015706</td>\n      <td>0.193275</td>\n      <td>0.063216</td>\n      <td>0.031549</td>\n      <td>0.031980</td>\n      <td>0.005608</td>\n    </tr>\n  </tbody>\n</table>\n</div>"
     },
     "metadata": {},
     "execution_count": 65
    }
   ],
   "source": [
    "play_type.groupby('CLUSTER').mean()"
   ]
  },
  {
   "cell_type": "code",
   "execution_count": null,
   "metadata": {},
   "outputs": [],
   "source": []
  }
 ]
}